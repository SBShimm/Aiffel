{
  "nbformat": 4,
  "nbformat_minor": 0,
  "metadata": {
    "colab": {
      "provenance": [],
      "machine_shape": "hm",
      "mount_file_id": "1bX2Dna6XCityJKOFrHVif-gzCro5-iUv",
      "authorship_tag": "ABX9TyP/fmF+sfGbnmVv2PW2R5o8",
      "include_colab_link": true
    },
    "kernelspec": {
      "name": "python3",
      "display_name": "Python 3"
    },
    "language_info": {
      "name": "python"
    },
    "accelerator": "GPU",
    "gpuClass": "standard"
  },
  "cells": [
    {
      "cell_type": "markdown",
      "metadata": {
        "id": "view-in-github",
        "colab_type": "text"
      },
      "source": [
        "<a href=\"https://colab.research.google.com/github/SBShimm/Aiffel/blob/master/%20exploration/Exploration12_SB.ipynb\" target=\"_parent\"><img src=\"https://colab.research.google.com/assets/colab-badge.svg\" alt=\"Open In Colab\"/></a>"
      ]
    },
    {
      "cell_type": "markdown",
      "source": [
        "# 뉴스기사 요약해보기"
      ],
      "metadata": {
        "id": "6awAykFTF_vM"
      }
    },
    {
      "cell_type": "markdown",
      "source": [
        "필요한 모듈 및 패키지를 설치하여 불러옵니다."
      ],
      "metadata": {
        "id": "2OJhTWvmdaSx"
      }
    },
    {
      "cell_type": "code",
      "source": [
        "!pip install summa"
      ],
      "metadata": {
        "colab": {
          "base_uri": "https://localhost:8080/"
        },
        "id": "WTLGMMIBMElS",
        "outputId": "99556c3b-08b8-40d0-d056-99235d9482f3"
      },
      "execution_count": 1,
      "outputs": [
        {
          "output_type": "stream",
          "name": "stdout",
          "text": [
            "Looking in indexes: https://pypi.org/simple, https://us-python.pkg.dev/colab-wheels/public/simple/\n",
            "Collecting summa\n",
            "  Downloading summa-1.2.0.tar.gz (54 kB)\n",
            "\u001b[K     |████████████████████████████████| 54 kB 2.7 MB/s \n",
            "\u001b[?25hRequirement already satisfied: scipy>=0.19 in /usr/local/lib/python3.7/dist-packages (from summa) (1.7.3)\n",
            "Requirement already satisfied: numpy<1.23.0,>=1.16.5 in /usr/local/lib/python3.7/dist-packages (from scipy>=0.19->summa) (1.21.6)\n",
            "Building wheels for collected packages: summa\n",
            "  Building wheel for summa (setup.py) ... \u001b[?25l\u001b[?25hdone\n",
            "  Created wheel for summa: filename=summa-1.2.0-py3-none-any.whl size=54412 sha256=ee61483db6f36ae130baa20df3e322c8f513fe92afa9524fe9abcc865b8c935f\n",
            "  Stored in directory: /root/.cache/pip/wheels/29/64/ac/7b443477588d365ef37ada30d456bdf5f07dc5be9f6324cb6e\n",
            "Successfully built summa\n",
            "Installing collected packages: summa\n",
            "Successfully installed summa-1.2.0\n"
          ]
        }
      ]
    },
    {
      "cell_type": "code",
      "execution_count": 2,
      "metadata": {
        "id": "pNDmw5AmF5sT"
      },
      "outputs": [],
      "source": [
        "import importlib_metadata as metadata\n",
        "import nltk\n",
        "import os\n",
        "import re\n",
        "import tensorflow as tf\n",
        "import summa\n",
        "import pandas as pd\n",
        "import numpy as np\n",
        "import matplotlib.pyplot as plt\n",
        "from nltk.corpus import stopwords\n",
        "from bs4 import BeautifulSoup \n",
        "from tensorflow.keras.preprocessing.text import Tokenizer \n",
        "from tensorflow.keras.preprocessing.sequence import pad_sequences\n",
        "import warnings\n",
        "warnings.filterwarnings(\"ignore\", category=UserWarning, module='bs4')"
      ]
    },
    {
      "cell_type": "markdown",
      "source": [
        "사용할 데이터는 뉴스 기사 데이터입니다. 아래 코드를 통해 다운로드하여 불러옵니다."
      ],
      "metadata": {
        "id": "LuvF87ZWdko0"
      }
    },
    {
      "cell_type": "code",
      "source": [
        "import urllib.request\n",
        "urllib.request.urlretrieve(\"https://raw.githubusercontent.com/sunnysai12345/News_Summary/master/news_summary_more.csv\", filename=\"news_summary_more.csv\")\n",
        "data = pd.read_csv('news_summary_more.csv', encoding='iso-8859-1')"
      ],
      "metadata": {
        "id": "XT_Zbnc0F9Ip"
      },
      "execution_count": 3,
      "outputs": []
    },
    {
      "cell_type": "code",
      "source": [
        "data.sample(10)"
      ],
      "metadata": {
        "colab": {
          "base_uri": "https://localhost:8080/",
          "height": 363
        },
        "id": "hYXxZG-XNA-8",
        "outputId": "a064e018-c4bf-4efb-ca32-e4e574a56b17"
      },
      "execution_count": 4,
      "outputs": [
        {
          "output_type": "execute_result",
          "data": {
            "text/plain": [
              "                                               headlines  \\\n",
              "3584   Maharashtra group demands action against virgi...   \n",
              "12164  Philippine Prez sacks all top customs official...   \n",
              "30908  BJP called me, said we'll give you a ministry:...   \n",
              "68437  Surgical strikes a message, could follow if re...   \n",
              "8424   Ex-footballer unaware of 'Wolf of Wall Street'...   \n",
              "42754  Kidnapped Nigerian schoolgirls freed by Boko H...   \n",
              "86784  Air India staff to hold surprise midnight chec...   \n",
              "89559  SoftBank posts Ã¢ÂÂ¹9,000 cr loss on Snapdeal...   \n",
              "58523  8 dead as Cyclone 'Ockhi' hits southern Kerala...   \n",
              "95149  Bangladeshi captain Mortaza announces retireme...   \n",
              "\n",
              "                                                    text  \n",
              "3584   The Maharashtra Andhashraddha Nirmoolan Samiti...  \n",
              "12164  Philippine President Rodrigo Duterte, whose wa...  \n",
              "30908  Congress leader Amaregouda Patil, who won from...  \n",
              "68437  Army Chief General Bipin Rawat on Monday said ...  \n",
              "8424   Former South African footballer Mike Mangena h...  \n",
              "42754  Boko Haram militants on Wednesday released ove...  \n",
              "86784  Air India Chief Ashwani Lohani has instructed ...  \n",
              "89559  Japanese investor SoftBank Group has reported ...  \n",
              "58523  At least four people in Tamil Nadu and four in...  \n",
              "95149  Bangladesh cricket team's limited overs captai...  "
            ],
            "text/html": [
              "\n",
              "  <div id=\"df-13a738f3-efef-4acd-8bc3-ed71809108e1\">\n",
              "    <div class=\"colab-df-container\">\n",
              "      <div>\n",
              "<style scoped>\n",
              "    .dataframe tbody tr th:only-of-type {\n",
              "        vertical-align: middle;\n",
              "    }\n",
              "\n",
              "    .dataframe tbody tr th {\n",
              "        vertical-align: top;\n",
              "    }\n",
              "\n",
              "    .dataframe thead th {\n",
              "        text-align: right;\n",
              "    }\n",
              "</style>\n",
              "<table border=\"1\" class=\"dataframe\">\n",
              "  <thead>\n",
              "    <tr style=\"text-align: right;\">\n",
              "      <th></th>\n",
              "      <th>headlines</th>\n",
              "      <th>text</th>\n",
              "    </tr>\n",
              "  </thead>\n",
              "  <tbody>\n",
              "    <tr>\n",
              "      <th>3584</th>\n",
              "      <td>Maharashtra group demands action against virgi...</td>\n",
              "      <td>The Maharashtra Andhashraddha Nirmoolan Samiti...</td>\n",
              "    </tr>\n",
              "    <tr>\n",
              "      <th>12164</th>\n",
              "      <td>Philippine Prez sacks all top customs official...</td>\n",
              "      <td>Philippine President Rodrigo Duterte, whose wa...</td>\n",
              "    </tr>\n",
              "    <tr>\n",
              "      <th>30908</th>\n",
              "      <td>BJP called me, said we'll give you a ministry:...</td>\n",
              "      <td>Congress leader Amaregouda Patil, who won from...</td>\n",
              "    </tr>\n",
              "    <tr>\n",
              "      <th>68437</th>\n",
              "      <td>Surgical strikes a message, could follow if re...</td>\n",
              "      <td>Army Chief General Bipin Rawat on Monday said ...</td>\n",
              "    </tr>\n",
              "    <tr>\n",
              "      <th>8424</th>\n",
              "      <td>Ex-footballer unaware of 'Wolf of Wall Street'...</td>\n",
              "      <td>Former South African footballer Mike Mangena h...</td>\n",
              "    </tr>\n",
              "    <tr>\n",
              "      <th>42754</th>\n",
              "      <td>Kidnapped Nigerian schoolgirls freed by Boko H...</td>\n",
              "      <td>Boko Haram militants on Wednesday released ove...</td>\n",
              "    </tr>\n",
              "    <tr>\n",
              "      <th>86784</th>\n",
              "      <td>Air India staff to hold surprise midnight chec...</td>\n",
              "      <td>Air India Chief Ashwani Lohani has instructed ...</td>\n",
              "    </tr>\n",
              "    <tr>\n",
              "      <th>89559</th>\n",
              "      <td>SoftBank posts Ã¢ÂÂ¹9,000 cr loss on Snapdeal...</td>\n",
              "      <td>Japanese investor SoftBank Group has reported ...</td>\n",
              "    </tr>\n",
              "    <tr>\n",
              "      <th>58523</th>\n",
              "      <td>8 dead as Cyclone 'Ockhi' hits southern Kerala...</td>\n",
              "      <td>At least four people in Tamil Nadu and four in...</td>\n",
              "    </tr>\n",
              "    <tr>\n",
              "      <th>95149</th>\n",
              "      <td>Bangladeshi captain Mortaza announces retireme...</td>\n",
              "      <td>Bangladesh cricket team's limited overs captai...</td>\n",
              "    </tr>\n",
              "  </tbody>\n",
              "</table>\n",
              "</div>\n",
              "      <button class=\"colab-df-convert\" onclick=\"convertToInteractive('df-13a738f3-efef-4acd-8bc3-ed71809108e1')\"\n",
              "              title=\"Convert this dataframe to an interactive table.\"\n",
              "              style=\"display:none;\">\n",
              "        \n",
              "  <svg xmlns=\"http://www.w3.org/2000/svg\" height=\"24px\"viewBox=\"0 0 24 24\"\n",
              "       width=\"24px\">\n",
              "    <path d=\"M0 0h24v24H0V0z\" fill=\"none\"/>\n",
              "    <path d=\"M18.56 5.44l.94 2.06.94-2.06 2.06-.94-2.06-.94-.94-2.06-.94 2.06-2.06.94zm-11 1L8.5 8.5l.94-2.06 2.06-.94-2.06-.94L8.5 2.5l-.94 2.06-2.06.94zm10 10l.94 2.06.94-2.06 2.06-.94-2.06-.94-.94-2.06-.94 2.06-2.06.94z\"/><path d=\"M17.41 7.96l-1.37-1.37c-.4-.4-.92-.59-1.43-.59-.52 0-1.04.2-1.43.59L10.3 9.45l-7.72 7.72c-.78.78-.78 2.05 0 2.83L4 21.41c.39.39.9.59 1.41.59.51 0 1.02-.2 1.41-.59l7.78-7.78 2.81-2.81c.8-.78.8-2.07 0-2.86zM5.41 20L4 18.59l7.72-7.72 1.47 1.35L5.41 20z\"/>\n",
              "  </svg>\n",
              "      </button>\n",
              "      \n",
              "  <style>\n",
              "    .colab-df-container {\n",
              "      display:flex;\n",
              "      flex-wrap:wrap;\n",
              "      gap: 12px;\n",
              "    }\n",
              "\n",
              "    .colab-df-convert {\n",
              "      background-color: #E8F0FE;\n",
              "      border: none;\n",
              "      border-radius: 50%;\n",
              "      cursor: pointer;\n",
              "      display: none;\n",
              "      fill: #1967D2;\n",
              "      height: 32px;\n",
              "      padding: 0 0 0 0;\n",
              "      width: 32px;\n",
              "    }\n",
              "\n",
              "    .colab-df-convert:hover {\n",
              "      background-color: #E2EBFA;\n",
              "      box-shadow: 0px 1px 2px rgba(60, 64, 67, 0.3), 0px 1px 3px 1px rgba(60, 64, 67, 0.15);\n",
              "      fill: #174EA6;\n",
              "    }\n",
              "\n",
              "    [theme=dark] .colab-df-convert {\n",
              "      background-color: #3B4455;\n",
              "      fill: #D2E3FC;\n",
              "    }\n",
              "\n",
              "    [theme=dark] .colab-df-convert:hover {\n",
              "      background-color: #434B5C;\n",
              "      box-shadow: 0px 1px 3px 1px rgba(0, 0, 0, 0.15);\n",
              "      filter: drop-shadow(0px 1px 2px rgba(0, 0, 0, 0.3));\n",
              "      fill: #FFFFFF;\n",
              "    }\n",
              "  </style>\n",
              "\n",
              "      <script>\n",
              "        const buttonEl =\n",
              "          document.querySelector('#df-13a738f3-efef-4acd-8bc3-ed71809108e1 button.colab-df-convert');\n",
              "        buttonEl.style.display =\n",
              "          google.colab.kernel.accessAllowed ? 'block' : 'none';\n",
              "\n",
              "        async function convertToInteractive(key) {\n",
              "          const element = document.querySelector('#df-13a738f3-efef-4acd-8bc3-ed71809108e1');\n",
              "          const dataTable =\n",
              "            await google.colab.kernel.invokeFunction('convertToInteractive',\n",
              "                                                     [key], {});\n",
              "          if (!dataTable) return;\n",
              "\n",
              "          const docLinkHtml = 'Like what you see? Visit the ' +\n",
              "            '<a target=\"_blank\" href=https://colab.research.google.com/notebooks/data_table.ipynb>data table notebook</a>'\n",
              "            + ' to learn more about interactive tables.';\n",
              "          element.innerHTML = '';\n",
              "          dataTable['output_type'] = 'display_data';\n",
              "          await google.colab.output.renderOutput(dataTable, element);\n",
              "          const docLink = document.createElement('div');\n",
              "          docLink.innerHTML = docLinkHtml;\n",
              "          element.appendChild(docLink);\n",
              "        }\n",
              "      </script>\n",
              "    </div>\n",
              "  </div>\n",
              "  "
            ]
          },
          "metadata": {},
          "execution_count": 4
        }
      ]
    },
    {
      "cell_type": "code",
      "source": [
        "len(data)"
      ],
      "metadata": {
        "colab": {
          "base_uri": "https://localhost:8080/"
        },
        "id": "zvQB7MM3XrTN",
        "outputId": "13807023-4e21-4055-f443-6ee97533c4f4"
      },
      "execution_count": 5,
      "outputs": [
        {
          "output_type": "execute_result",
          "data": {
            "text/plain": [
              "98401"
            ]
          },
          "metadata": {},
          "execution_count": 5
        }
      ]
    },
    {
      "cell_type": "markdown",
      "source": [
        "총 98401개의 데이터를 가집니다. 이 중에서 중복데이터가 있는지 확인해 봅니다."
      ],
      "metadata": {
        "id": "tqUoz6ExdsBt"
      }
    },
    {
      "cell_type": "code",
      "source": [
        "print('text 열에서 중복을 배제한 유일한 샘플의 수 :', data['text'].nunique())\n",
        "print('headlines 열에서 중복을 배제한 유일한 샘플의 수 :', data['headlines'].nunique())"
      ],
      "metadata": {
        "colab": {
          "base_uri": "https://localhost:8080/"
        },
        "id": "phEruOc3ZriE",
        "outputId": "c6c4fdc2-e696-4352-acfa-d37498dc65d5"
      },
      "execution_count": 6,
      "outputs": [
        {
          "output_type": "stream",
          "name": "stdout",
          "text": [
            "text 열에서 중복을 배제한 유일한 샘플의 수 : 98360\n",
            "headlines 열에서 중복을 배제한 유일한 샘플의 수 : 98280\n"
          ]
        }
      ]
    },
    {
      "cell_type": "markdown",
      "source": [
        "text가 달라도 headlines는 같을 수 있기 때문에 text를 기준으로 중복 데이터를 제거합니다."
      ],
      "metadata": {
        "id": "eBc-gtVYdviQ"
      }
    },
    {
      "cell_type": "code",
      "source": [
        "data.drop_duplicates(subset = ['text'], inplace=True)\n",
        "print('전체 샘플수 :', (len(data)))"
      ],
      "metadata": {
        "colab": {
          "base_uri": "https://localhost:8080/"
        },
        "id": "ZABmaB4DZ3Rb",
        "outputId": "e584264d-40f2-4e72-b42e-64e7556abfb7"
      },
      "execution_count": 7,
      "outputs": [
        {
          "output_type": "stream",
          "name": "stdout",
          "text": [
            "전체 샘플수 : 98360\n"
          ]
        }
      ]
    },
    {
      "cell_type": "markdown",
      "source": [
        "다음은 빈 값이 있는지 확인해 봅니다."
      ],
      "metadata": {
        "id": "Nz8X6RP4d1dZ"
      }
    },
    {
      "cell_type": "code",
      "source": [
        "print(data.isnull().sum())"
      ],
      "metadata": {
        "colab": {
          "base_uri": "https://localhost:8080/"
        },
        "id": "LK6PJyTeZ70g",
        "outputId": "431d80f0-5929-4099-b683-fc7f88d73609"
      },
      "execution_count": 8,
      "outputs": [
        {
          "output_type": "stream",
          "name": "stdout",
          "text": [
            "headlines    0\n",
            "text         0\n",
            "dtype: int64\n"
          ]
        }
      ]
    },
    {
      "cell_type": "markdown",
      "source": [
        "빈 값은 하나도 없습니다.  \n",
        "다음은 데이터 정규화를 위해 정규화 사전을 준비합니다."
      ],
      "metadata": {
        "id": "p627WRbXdWXC"
      }
    },
    {
      "cell_type": "code",
      "source": [
        "contractions = {\"ain't\": \"is not\", \"aren't\": \"are not\",\"can't\": \"cannot\", \"'cause\": \"because\", \"could've\": \"could have\", \"couldn't\": \"could not\",\n",
        "                           \"didn't\": \"did not\",  \"doesn't\": \"does not\", \"don't\": \"do not\", \"hadn't\": \"had not\", \"hasn't\": \"has not\", \"haven't\": \"have not\",\n",
        "                           \"he'd\": \"he would\",\"he'll\": \"he will\", \"he's\": \"he is\", \"how'd\": \"how did\", \"how'd'y\": \"how do you\", \"how'll\": \"how will\", \"how's\": \"how is\",\n",
        "                           \"I'd\": \"I would\", \"I'd've\": \"I would have\", \"I'll\": \"I will\", \"I'll've\": \"I will have\",\"I'm\": \"I am\", \"I've\": \"I have\", \"i'd\": \"i would\",\n",
        "                           \"i'd've\": \"i would have\", \"i'll\": \"i will\",  \"i'll've\": \"i will have\",\"i'm\": \"i am\", \"i've\": \"i have\", \"isn't\": \"is not\", \"it'd\": \"it would\",\n",
        "                           \"it'd've\": \"it would have\", \"it'll\": \"it will\", \"it'll've\": \"it will have\",\"it's\": \"it is\", \"let's\": \"let us\", \"ma'am\": \"madam\",\n",
        "                           \"mayn't\": \"may not\", \"might've\": \"might have\",\"mightn't\": \"might not\",\"mightn't've\": \"might not have\", \"must've\": \"must have\",\n",
        "                           \"mustn't\": \"must not\", \"mustn't've\": \"must not have\", \"needn't\": \"need not\", \"needn't've\": \"need not have\",\"o'clock\": \"of the clock\",\n",
        "                           \"oughtn't\": \"ought not\", \"oughtn't've\": \"ought not have\", \"shan't\": \"shall not\", \"sha'n't\": \"shall not\", \"shan't've\": \"shall not have\",\n",
        "                           \"she'd\": \"she would\", \"she'd've\": \"she would have\", \"she'll\": \"she will\", \"she'll've\": \"she will have\", \"she's\": \"she is\",\n",
        "                           \"should've\": \"should have\", \"shouldn't\": \"should not\", \"shouldn't've\": \"should not have\", \"so've\": \"so have\",\"so's\": \"so as\",\n",
        "                           \"this's\": \"this is\",\"that'd\": \"that would\", \"that'd've\": \"that would have\", \"that's\": \"that is\", \"there'd\": \"there would\",\n",
        "                           \"there'd've\": \"there would have\", \"there's\": \"there is\", \"here's\": \"here is\",\"they'd\": \"they would\", \"they'd've\": \"they would have\",\n",
        "                           \"they'll\": \"they will\", \"they'll've\": \"they will have\", \"they're\": \"they are\", \"they've\": \"they have\", \"to've\": \"to have\",\n",
        "                           \"wasn't\": \"was not\", \"we'd\": \"we would\", \"we'd've\": \"we would have\", \"we'll\": \"we will\", \"we'll've\": \"we will have\", \"we're\": \"we are\",\n",
        "                           \"we've\": \"we have\", \"weren't\": \"were not\", \"what'll\": \"what will\", \"what'll've\": \"what will have\", \"what're\": \"what are\",\n",
        "                           \"what's\": \"what is\", \"what've\": \"what have\", \"when's\": \"when is\", \"when've\": \"when have\", \"where'd\": \"where did\", \"where's\": \"where is\",\n",
        "                           \"where've\": \"where have\", \"who'll\": \"who will\", \"who'll've\": \"who will have\", \"who's\": \"who is\", \"who've\": \"who have\",\n",
        "                           \"why's\": \"why is\", \"why've\": \"why have\", \"will've\": \"will have\", \"won't\": \"will not\", \"won't've\": \"will not have\",\n",
        "                           \"would've\": \"would have\", \"wouldn't\": \"would not\", \"wouldn't've\": \"would not have\", \"y'all\": \"you all\",\n",
        "                           \"y'all'd\": \"you all would\",\"y'all'd've\": \"you all would have\",\"y'all're\": \"you all are\",\"y'all've\": \"you all have\",\n",
        "                           \"you'd\": \"you would\", \"you'd've\": \"you would have\", \"you'll\": \"you will\", \"you'll've\": \"you will have\",\n",
        "                           \"you're\": \"you are\", \"you've\": \"you have\"}\n",
        "\n",
        "print(\"정규화 사전의 수: \", len(contractions))"
      ],
      "metadata": {
        "colab": {
          "base_uri": "https://localhost:8080/"
        },
        "id": "aVQDCoTLdV0c",
        "outputId": "52171607-509e-4107-de2d-b1bc8ccde751"
      },
      "execution_count": 9,
      "outputs": [
        {
          "output_type": "stream",
          "name": "stdout",
          "text": [
            "정규화 사전의 수:  120\n"
          ]
        }
      ]
    },
    {
      "cell_type": "markdown",
      "source": [
        "다음은 불용어를 제거해 줍니다.  \n",
        "불용어는 텍스트에 자주 등장하지만 자연어 처리에 도움이 되지 않는 단어들을 말합니다.  \n",
        "NLTK에서 제공하는 불용어 리스트를 참조하도록 하겠습니다."
      ],
      "metadata": {
        "id": "vxCWSFWgeTBk"
      }
    },
    {
      "cell_type": "code",
      "source": [
        "nltk.download('stopwords')\n",
        "print('불용어 개수 :', len(stopwords.words('english') ))\n",
        "print(stopwords.words('english'))"
      ],
      "metadata": {
        "colab": {
          "base_uri": "https://localhost:8080/"
        },
        "id": "INPFc-2defG6",
        "outputId": "5cba3bcc-5fdc-4da3-9f70-40d4cba8dfc8"
      },
      "execution_count": 10,
      "outputs": [
        {
          "output_type": "stream",
          "name": "stdout",
          "text": [
            "불용어 개수 : 179\n",
            "['i', 'me', 'my', 'myself', 'we', 'our', 'ours', 'ourselves', 'you', \"you're\", \"you've\", \"you'll\", \"you'd\", 'your', 'yours', 'yourself', 'yourselves', 'he', 'him', 'his', 'himself', 'she', \"she's\", 'her', 'hers', 'herself', 'it', \"it's\", 'its', 'itself', 'they', 'them', 'their', 'theirs', 'themselves', 'what', 'which', 'who', 'whom', 'this', 'that', \"that'll\", 'these', 'those', 'am', 'is', 'are', 'was', 'were', 'be', 'been', 'being', 'have', 'has', 'had', 'having', 'do', 'does', 'did', 'doing', 'a', 'an', 'the', 'and', 'but', 'if', 'or', 'because', 'as', 'until', 'while', 'of', 'at', 'by', 'for', 'with', 'about', 'against', 'between', 'into', 'through', 'during', 'before', 'after', 'above', 'below', 'to', 'from', 'up', 'down', 'in', 'out', 'on', 'off', 'over', 'under', 'again', 'further', 'then', 'once', 'here', 'there', 'when', 'where', 'why', 'how', 'all', 'any', 'both', 'each', 'few', 'more', 'most', 'other', 'some', 'such', 'no', 'nor', 'not', 'only', 'own', 'same', 'so', 'than', 'too', 'very', 's', 't', 'can', 'will', 'just', 'don', \"don't\", 'should', \"should've\", 'now', 'd', 'll', 'm', 'o', 're', 've', 'y', 'ain', 'aren', \"aren't\", 'couldn', \"couldn't\", 'didn', \"didn't\", 'doesn', \"doesn't\", 'hadn', \"hadn't\", 'hasn', \"hasn't\", 'haven', \"haven't\", 'isn', \"isn't\", 'ma', 'mightn', \"mightn't\", 'mustn', \"mustn't\", 'needn', \"needn't\", 'shan', \"shan't\", 'shouldn', \"shouldn't\", 'wasn', \"wasn't\", 'weren', \"weren't\", 'won', \"won't\", 'wouldn', \"wouldn't\"]\n"
          ]
        },
        {
          "output_type": "stream",
          "name": "stderr",
          "text": [
            "[nltk_data] Downloading package stopwords to /root/nltk_data...\n",
            "[nltk_data]   Unzipping corpora/stopwords.zip.\n"
          ]
        }
      ]
    },
    {
      "cell_type": "markdown",
      "source": [
        "이 외에 추가적인 전처리로 소문자화, html 태그 제거, 정규 표현식을 통한 특수문자 제거를 해줍니다.  "
      ],
      "metadata": {
        "id": "3Vu5r22We4RK"
      }
    },
    {
      "cell_type": "code",
      "source": [
        "# 데이터 전처리 함수\n",
        "def preprocess_sentence(sentence, remove_stopwords=True):\n",
        "    sentence = sentence.lower() # 텍스트 소문자화\n",
        "    sentence = BeautifulSoup(sentence, \"lxml\").text # <br />, <a href = ...> 등의 html 태그 제거\n",
        "    sentence = re.sub(r'\\([^)]*\\)', '', sentence) # 괄호로 닫힌 문자열 (...) 제거 Ex) my husband (and myself!) for => my husband for\n",
        "    sentence = re.sub('\"','', sentence) # 쌍따옴표 \" 제거\n",
        "    sentence = ' '.join([contractions[t] if t in contractions else t for t in sentence.split(\" \")]) # 약어 정규화\n",
        "    sentence = re.sub(r\"'s\\b\",\"\", sentence) # 소유격 제거. Ex) roland's -> roland\n",
        "    sentence = re.sub(\"[^a-zA-Z]\", \" \", sentence) # 영어 외 문자(숫자, 특수문자 등) 공백으로 변환\n",
        "    sentence = re.sub('[m]{2,}', 'mm', sentence) # m이 3개 이상이면 2개로 변경. Ex) ummmmmmm yeah -> umm yeah\n",
        "    \n",
        "    # 불용어 제거 (text)\n",
        "    if remove_stopwords:\n",
        "        tokens = ' '.join(word for word in sentence.split() if not word in stopwords.words('english') if len(word) > 1)\n",
        "    # 불용어 미제거 (headlines)\n",
        "    else:\n",
        "        tokens = ' '.join(word for word in sentence.split() if len(word) > 1)\n",
        "    return tokens"
      ],
      "metadata": {
        "id": "3dwwpxaOfRrk"
      },
      "execution_count": 11,
      "outputs": []
    },
    {
      "cell_type": "markdown",
      "source": [
        "여기서 text만 불용어를 제거해 주고, headlines는 제거하지 않습니다. 이제 각각 text와 headlines에 대한 전처리를 해줍니다."
      ],
      "metadata": {
        "id": "xW4OQJ6efU50"
      }
    },
    {
      "cell_type": "code",
      "source": [
        "# clean_text = []\n",
        "# clean_headlines = []\n",
        "\n",
        "# for s in data['text']:\n",
        "#     clean_text.append(preprocess_sentence(s))"
      ],
      "metadata": {
        "id": "6VWDQms2fqOB"
      },
      "execution_count": 12,
      "outputs": []
    },
    {
      "cell_type": "code",
      "source": [
        "# for s in data['headlines']:\n",
        "#     clean_headlines.append(preprocess_sentence(s, False))"
      ],
      "metadata": {
        "id": "4dhqxY2hjvgq"
      },
      "execution_count": 13,
      "outputs": []
    },
    {
      "cell_type": "code",
      "source": [
        "# print(len(clean_text))\n",
        "# print(clean_text[:5])"
      ],
      "metadata": {
        "id": "0cnijd29kFfS"
      },
      "execution_count": 14,
      "outputs": []
    },
    {
      "cell_type": "code",
      "source": [
        "# print(len(clean_headlines))\n",
        "# print(clean_headlines[:5])"
      ],
      "metadata": {
        "id": "7YOkdhoIkO3P"
      },
      "execution_count": 15,
      "outputs": []
    },
    {
      "cell_type": "markdown",
      "source": [
        "전처리가 되었습니다. 전처리 과정이 오래걸리니까 csv파일로 저장해 두었다가 두고두고 사용합시다."
      ],
      "metadata": {
        "id": "LD8VomzPkRmU"
      }
    },
    {
      "cell_type": "code",
      "source": [
        "#data['text'] = clean_text\n",
        "#data['headlines'] = clean_headlines\n",
        "\n",
        "#data.replace('', np.nan, inplace=True)\n",
        "#data.to_csv('/content/drive/MyDrive/Colab/Datasets/news_headlines/news_summary_more.csv', mode='w')"
      ],
      "metadata": {
        "id": "Gem1B5mNkAyV"
      },
      "execution_count": 16,
      "outputs": []
    },
    {
      "cell_type": "code",
      "source": [
        "data = pd.read_csv('/content/drive/MyDrive/Colab/Datasets/news_headlines/news_summary_more.csv')"
      ],
      "metadata": {
        "id": "H6YnkoPhlC4l"
      },
      "execution_count": 17,
      "outputs": []
    },
    {
      "cell_type": "code",
      "source": [
        "data.sample(5)"
      ],
      "metadata": {
        "colab": {
          "base_uri": "https://localhost:8080/",
          "height": 206
        },
        "id": "WNyFXuNWlQTc",
        "outputId": "c568168d-a0e0-4288-f930-7bc8b840eb30"
      },
      "execution_count": 18,
      "outputs": [
        {
          "output_type": "execute_result",
          "data": {
            "text/plain": [
              "       Unnamed: 0                                          headlines  \\\n",
              "11775       11775  take evening walk to see delhi air pollution s...   \n",
              "5655         5655  ram temple should be built by mutual consent n...   \n",
              "6685         6685  bodies of friends who disappeared yrs ago in h...   \n",
              "20665       20665  indian swimmer misses asian games bronze by se...   \n",
              "32081       32082  dial for government help if stuck in thunderstorm   \n",
              "\n",
              "                                                    text  \n",
              "11775  worsening air quality delhi supreme court mond...  \n",
              "5655   union minister nitin gadkari tuesday said ram ...  \n",
              "6685   bodies two mountaineering friends kristinn nar...  \n",
              "20665  indian swimmer virdhawal khade finished fourth...  \n",
              "32081  indian meteorological department issued thunde...  "
            ],
            "text/html": [
              "\n",
              "  <div id=\"df-99ff5ac0-81ff-42ed-9b2c-b6f124a6f2e7\">\n",
              "    <div class=\"colab-df-container\">\n",
              "      <div>\n",
              "<style scoped>\n",
              "    .dataframe tbody tr th:only-of-type {\n",
              "        vertical-align: middle;\n",
              "    }\n",
              "\n",
              "    .dataframe tbody tr th {\n",
              "        vertical-align: top;\n",
              "    }\n",
              "\n",
              "    .dataframe thead th {\n",
              "        text-align: right;\n",
              "    }\n",
              "</style>\n",
              "<table border=\"1\" class=\"dataframe\">\n",
              "  <thead>\n",
              "    <tr style=\"text-align: right;\">\n",
              "      <th></th>\n",
              "      <th>Unnamed: 0</th>\n",
              "      <th>headlines</th>\n",
              "      <th>text</th>\n",
              "    </tr>\n",
              "  </thead>\n",
              "  <tbody>\n",
              "    <tr>\n",
              "      <th>11775</th>\n",
              "      <td>11775</td>\n",
              "      <td>take evening walk to see delhi air pollution s...</td>\n",
              "      <td>worsening air quality delhi supreme court mond...</td>\n",
              "    </tr>\n",
              "    <tr>\n",
              "      <th>5655</th>\n",
              "      <td>5655</td>\n",
              "      <td>ram temple should be built by mutual consent n...</td>\n",
              "      <td>union minister nitin gadkari tuesday said ram ...</td>\n",
              "    </tr>\n",
              "    <tr>\n",
              "      <th>6685</th>\n",
              "      <td>6685</td>\n",
              "      <td>bodies of friends who disappeared yrs ago in h...</td>\n",
              "      <td>bodies two mountaineering friends kristinn nar...</td>\n",
              "    </tr>\n",
              "    <tr>\n",
              "      <th>20665</th>\n",
              "      <td>20665</td>\n",
              "      <td>indian swimmer misses asian games bronze by se...</td>\n",
              "      <td>indian swimmer virdhawal khade finished fourth...</td>\n",
              "    </tr>\n",
              "    <tr>\n",
              "      <th>32081</th>\n",
              "      <td>32082</td>\n",
              "      <td>dial for government help if stuck in thunderstorm</td>\n",
              "      <td>indian meteorological department issued thunde...</td>\n",
              "    </tr>\n",
              "  </tbody>\n",
              "</table>\n",
              "</div>\n",
              "      <button class=\"colab-df-convert\" onclick=\"convertToInteractive('df-99ff5ac0-81ff-42ed-9b2c-b6f124a6f2e7')\"\n",
              "              title=\"Convert this dataframe to an interactive table.\"\n",
              "              style=\"display:none;\">\n",
              "        \n",
              "  <svg xmlns=\"http://www.w3.org/2000/svg\" height=\"24px\"viewBox=\"0 0 24 24\"\n",
              "       width=\"24px\">\n",
              "    <path d=\"M0 0h24v24H0V0z\" fill=\"none\"/>\n",
              "    <path d=\"M18.56 5.44l.94 2.06.94-2.06 2.06-.94-2.06-.94-.94-2.06-.94 2.06-2.06.94zm-11 1L8.5 8.5l.94-2.06 2.06-.94-2.06-.94L8.5 2.5l-.94 2.06-2.06.94zm10 10l.94 2.06.94-2.06 2.06-.94-2.06-.94-.94-2.06-.94 2.06-2.06.94z\"/><path d=\"M17.41 7.96l-1.37-1.37c-.4-.4-.92-.59-1.43-.59-.52 0-1.04.2-1.43.59L10.3 9.45l-7.72 7.72c-.78.78-.78 2.05 0 2.83L4 21.41c.39.39.9.59 1.41.59.51 0 1.02-.2 1.41-.59l7.78-7.78 2.81-2.81c.8-.78.8-2.07 0-2.86zM5.41 20L4 18.59l7.72-7.72 1.47 1.35L5.41 20z\"/>\n",
              "  </svg>\n",
              "      </button>\n",
              "      \n",
              "  <style>\n",
              "    .colab-df-container {\n",
              "      display:flex;\n",
              "      flex-wrap:wrap;\n",
              "      gap: 12px;\n",
              "    }\n",
              "\n",
              "    .colab-df-convert {\n",
              "      background-color: #E8F0FE;\n",
              "      border: none;\n",
              "      border-radius: 50%;\n",
              "      cursor: pointer;\n",
              "      display: none;\n",
              "      fill: #1967D2;\n",
              "      height: 32px;\n",
              "      padding: 0 0 0 0;\n",
              "      width: 32px;\n",
              "    }\n",
              "\n",
              "    .colab-df-convert:hover {\n",
              "      background-color: #E2EBFA;\n",
              "      box-shadow: 0px 1px 2px rgba(60, 64, 67, 0.3), 0px 1px 3px 1px rgba(60, 64, 67, 0.15);\n",
              "      fill: #174EA6;\n",
              "    }\n",
              "\n",
              "    [theme=dark] .colab-df-convert {\n",
              "      background-color: #3B4455;\n",
              "      fill: #D2E3FC;\n",
              "    }\n",
              "\n",
              "    [theme=dark] .colab-df-convert:hover {\n",
              "      background-color: #434B5C;\n",
              "      box-shadow: 0px 1px 3px 1px rgba(0, 0, 0, 0.15);\n",
              "      filter: drop-shadow(0px 1px 2px rgba(0, 0, 0, 0.3));\n",
              "      fill: #FFFFFF;\n",
              "    }\n",
              "  </style>\n",
              "\n",
              "      <script>\n",
              "        const buttonEl =\n",
              "          document.querySelector('#df-99ff5ac0-81ff-42ed-9b2c-b6f124a6f2e7 button.colab-df-convert');\n",
              "        buttonEl.style.display =\n",
              "          google.colab.kernel.accessAllowed ? 'block' : 'none';\n",
              "\n",
              "        async function convertToInteractive(key) {\n",
              "          const element = document.querySelector('#df-99ff5ac0-81ff-42ed-9b2c-b6f124a6f2e7');\n",
              "          const dataTable =\n",
              "            await google.colab.kernel.invokeFunction('convertToInteractive',\n",
              "                                                     [key], {});\n",
              "          if (!dataTable) return;\n",
              "\n",
              "          const docLinkHtml = 'Like what you see? Visit the ' +\n",
              "            '<a target=\"_blank\" href=https://colab.research.google.com/notebooks/data_table.ipynb>data table notebook</a>'\n",
              "            + ' to learn more about interactive tables.';\n",
              "          element.innerHTML = '';\n",
              "          dataTable['output_type'] = 'display_data';\n",
              "          await google.colab.output.renderOutput(dataTable, element);\n",
              "          const docLink = document.createElement('div');\n",
              "          docLink.innerHTML = docLinkHtml;\n",
              "          element.appendChild(docLink);\n",
              "        }\n",
              "      </script>\n",
              "    </div>\n",
              "  </div>\n",
              "  "
            ]
          },
          "metadata": {},
          "execution_count": 18
        }
      ]
    },
    {
      "cell_type": "markdown",
      "source": [
        "성공적으로 불러왔습니다. Unnamed:0은 중복 제거전 인덱스가 들어가는 것 같습니다.  \n",
        "text와 headlines만 사용하도록 합시다."
      ],
      "metadata": {
        "id": "iFj2XH-xlbU7"
      }
    },
    {
      "cell_type": "code",
      "source": [
        "data = data[['text','headlines']]"
      ],
      "metadata": {
        "id": "9IMT2uc-liZd"
      },
      "execution_count": 19,
      "outputs": []
    },
    {
      "cell_type": "code",
      "source": [
        "data.sample(5)"
      ],
      "metadata": {
        "colab": {
          "base_uri": "https://localhost:8080/",
          "height": 206
        },
        "id": "ayCokQT1lrVP",
        "outputId": "48abc191-71e8-43de-b66b-aabe944a90bf"
      },
      "execution_count": 20,
      "outputs": [
        {
          "output_type": "execute_result",
          "data": {
            "text/plain": [
              "                                                    text  \\\n",
              "43755  according us atmospheric weather agency noaa m...   \n",
              "10656  days rjd supremo lalu prasad yadav son tej pra...   \n",
              "65171  police conducted raids several market areas ar...   \n",
              "71639  nigerian national arrested greater noida alleg...   \n",
              "86138  rented air coolers first installed later remov...   \n",
              "\n",
              "                                               headlines  \n",
              "43755  minor solar flare expected today may disrupt p...  \n",
              "10656  think tej pratap is in varanasi wants solitude...  \n",
              "65171  two men arrested for selling firecrackers in g...  \n",
              "71639  nigerian man arrested for illegal stay in grea...  \n",
              "86138  rented coolers put in hospital for yogi visit ...  "
            ],
            "text/html": [
              "\n",
              "  <div id=\"df-4e4cf697-90cd-44af-9eb0-fdc400bc0c95\">\n",
              "    <div class=\"colab-df-container\">\n",
              "      <div>\n",
              "<style scoped>\n",
              "    .dataframe tbody tr th:only-of-type {\n",
              "        vertical-align: middle;\n",
              "    }\n",
              "\n",
              "    .dataframe tbody tr th {\n",
              "        vertical-align: top;\n",
              "    }\n",
              "\n",
              "    .dataframe thead th {\n",
              "        text-align: right;\n",
              "    }\n",
              "</style>\n",
              "<table border=\"1\" class=\"dataframe\">\n",
              "  <thead>\n",
              "    <tr style=\"text-align: right;\">\n",
              "      <th></th>\n",
              "      <th>text</th>\n",
              "      <th>headlines</th>\n",
              "    </tr>\n",
              "  </thead>\n",
              "  <tbody>\n",
              "    <tr>\n",
              "      <th>43755</th>\n",
              "      <td>according us atmospheric weather agency noaa m...</td>\n",
              "      <td>minor solar flare expected today may disrupt p...</td>\n",
              "    </tr>\n",
              "    <tr>\n",
              "      <th>10656</th>\n",
              "      <td>days rjd supremo lalu prasad yadav son tej pra...</td>\n",
              "      <td>think tej pratap is in varanasi wants solitude...</td>\n",
              "    </tr>\n",
              "    <tr>\n",
              "      <th>65171</th>\n",
              "      <td>police conducted raids several market areas ar...</td>\n",
              "      <td>two men arrested for selling firecrackers in g...</td>\n",
              "    </tr>\n",
              "    <tr>\n",
              "      <th>71639</th>\n",
              "      <td>nigerian national arrested greater noida alleg...</td>\n",
              "      <td>nigerian man arrested for illegal stay in grea...</td>\n",
              "    </tr>\n",
              "    <tr>\n",
              "      <th>86138</th>\n",
              "      <td>rented air coolers first installed later remov...</td>\n",
              "      <td>rented coolers put in hospital for yogi visit ...</td>\n",
              "    </tr>\n",
              "  </tbody>\n",
              "</table>\n",
              "</div>\n",
              "      <button class=\"colab-df-convert\" onclick=\"convertToInteractive('df-4e4cf697-90cd-44af-9eb0-fdc400bc0c95')\"\n",
              "              title=\"Convert this dataframe to an interactive table.\"\n",
              "              style=\"display:none;\">\n",
              "        \n",
              "  <svg xmlns=\"http://www.w3.org/2000/svg\" height=\"24px\"viewBox=\"0 0 24 24\"\n",
              "       width=\"24px\">\n",
              "    <path d=\"M0 0h24v24H0V0z\" fill=\"none\"/>\n",
              "    <path d=\"M18.56 5.44l.94 2.06.94-2.06 2.06-.94-2.06-.94-.94-2.06-.94 2.06-2.06.94zm-11 1L8.5 8.5l.94-2.06 2.06-.94-2.06-.94L8.5 2.5l-.94 2.06-2.06.94zm10 10l.94 2.06.94-2.06 2.06-.94-2.06-.94-.94-2.06-.94 2.06-2.06.94z\"/><path d=\"M17.41 7.96l-1.37-1.37c-.4-.4-.92-.59-1.43-.59-.52 0-1.04.2-1.43.59L10.3 9.45l-7.72 7.72c-.78.78-.78 2.05 0 2.83L4 21.41c.39.39.9.59 1.41.59.51 0 1.02-.2 1.41-.59l7.78-7.78 2.81-2.81c.8-.78.8-2.07 0-2.86zM5.41 20L4 18.59l7.72-7.72 1.47 1.35L5.41 20z\"/>\n",
              "  </svg>\n",
              "      </button>\n",
              "      \n",
              "  <style>\n",
              "    .colab-df-container {\n",
              "      display:flex;\n",
              "      flex-wrap:wrap;\n",
              "      gap: 12px;\n",
              "    }\n",
              "\n",
              "    .colab-df-convert {\n",
              "      background-color: #E8F0FE;\n",
              "      border: none;\n",
              "      border-radius: 50%;\n",
              "      cursor: pointer;\n",
              "      display: none;\n",
              "      fill: #1967D2;\n",
              "      height: 32px;\n",
              "      padding: 0 0 0 0;\n",
              "      width: 32px;\n",
              "    }\n",
              "\n",
              "    .colab-df-convert:hover {\n",
              "      background-color: #E2EBFA;\n",
              "      box-shadow: 0px 1px 2px rgba(60, 64, 67, 0.3), 0px 1px 3px 1px rgba(60, 64, 67, 0.15);\n",
              "      fill: #174EA6;\n",
              "    }\n",
              "\n",
              "    [theme=dark] .colab-df-convert {\n",
              "      background-color: #3B4455;\n",
              "      fill: #D2E3FC;\n",
              "    }\n",
              "\n",
              "    [theme=dark] .colab-df-convert:hover {\n",
              "      background-color: #434B5C;\n",
              "      box-shadow: 0px 1px 3px 1px rgba(0, 0, 0, 0.15);\n",
              "      filter: drop-shadow(0px 1px 2px rgba(0, 0, 0, 0.3));\n",
              "      fill: #FFFFFF;\n",
              "    }\n",
              "  </style>\n",
              "\n",
              "      <script>\n",
              "        const buttonEl =\n",
              "          document.querySelector('#df-4e4cf697-90cd-44af-9eb0-fdc400bc0c95 button.colab-df-convert');\n",
              "        buttonEl.style.display =\n",
              "          google.colab.kernel.accessAllowed ? 'block' : 'none';\n",
              "\n",
              "        async function convertToInteractive(key) {\n",
              "          const element = document.querySelector('#df-4e4cf697-90cd-44af-9eb0-fdc400bc0c95');\n",
              "          const dataTable =\n",
              "            await google.colab.kernel.invokeFunction('convertToInteractive',\n",
              "                                                     [key], {});\n",
              "          if (!dataTable) return;\n",
              "\n",
              "          const docLinkHtml = 'Like what you see? Visit the ' +\n",
              "            '<a target=\"_blank\" href=https://colab.research.google.com/notebooks/data_table.ipynb>data table notebook</a>'\n",
              "            + ' to learn more about interactive tables.';\n",
              "          element.innerHTML = '';\n",
              "          dataTable['output_type'] = 'display_data';\n",
              "          await google.colab.output.renderOutput(dataTable, element);\n",
              "          const docLink = document.createElement('div');\n",
              "          docLink.innerHTML = docLinkHtml;\n",
              "          element.appendChild(docLink);\n",
              "        }\n",
              "      </script>\n",
              "    </div>\n",
              "  </div>\n",
              "  "
            ]
          },
          "metadata": {},
          "execution_count": 20
        }
      ]
    },
    {
      "cell_type": "code",
      "source": [
        "data.isnull().sum()"
      ],
      "metadata": {
        "colab": {
          "base_uri": "https://localhost:8080/"
        },
        "id": "RAXKS9kopfIv",
        "outputId": "e231525b-ac7e-4fb7-84aa-9003d5e7052d"
      },
      "execution_count": 21,
      "outputs": [
        {
          "output_type": "execute_result",
          "data": {
            "text/plain": [
              "text         0\n",
              "headlines    0\n",
              "dtype: int64"
            ]
          },
          "metadata": {},
          "execution_count": 21
        }
      ]
    },
    {
      "cell_type": "code",
      "source": [
        "# 길이 분포 출력\n",
        "import matplotlib.pyplot as plt\n",
        "\n",
        "text_len = [len(s.split()) for s in data['text']]\n",
        "summary_len = [len(s.split()) for s in data['headlines']]\n",
        "\n",
        "print('텍스트의 최소 길이 : {}'.format(np.min(text_len)))\n",
        "print('텍스트의 최대 길이 : {}'.format(np.max(text_len)))\n",
        "print('텍스트의 평균 길이 : {}'.format(np.mean(text_len)))\n",
        "print('요약의 최소 길이 : {}'.format(np.min(summary_len)))\n",
        "print('요약의 최대 길이 : {}'.format(np.max(summary_len)))\n",
        "print('요약의 평균 길이 : {}'.format(np.mean(summary_len)))\n",
        "\n",
        "plt.subplot(1,2,1)\n",
        "plt.boxplot(text_len)\n",
        "plt.title('text')\n",
        "plt.subplot(1,2,2)\n",
        "plt.boxplot(summary_len)\n",
        "plt.title('headlines')\n",
        "plt.tight_layout()\n",
        "plt.show()\n",
        "\n",
        "plt.title('text')\n",
        "plt.hist(text_len, bins = 40)\n",
        "plt.xlabel('length of samples')\n",
        "plt.ylabel('number of samples')\n",
        "plt.show()\n",
        "\n",
        "plt.title('headlines')\n",
        "plt.hist(summary_len, bins = 40)\n",
        "plt.xlabel('length of samples')\n",
        "plt.ylabel('number of samples')\n",
        "plt.show()"
      ],
      "metadata": {
        "colab": {
          "base_uri": "https://localhost:8080/",
          "height": 963
        },
        "id": "-lrEWUgkpir9",
        "outputId": "44d946ed-1a9a-45c6-e52e-405513c7153d"
      },
      "execution_count": 22,
      "outputs": [
        {
          "output_type": "stream",
          "name": "stdout",
          "text": [
            "텍스트의 최소 길이 : 1\n",
            "텍스트의 최대 길이 : 60\n",
            "텍스트의 평균 길이 : 35.09968483123221\n",
            "요약의 최소 길이 : 1\n",
            "요약의 최대 길이 : 16\n",
            "요약의 평균 길이 : 9.299532330215534\n"
          ]
        },
        {
          "output_type": "display_data",
          "data": {
            "text/plain": [
              "<Figure size 432x288 with 2 Axes>"
            ],
            "image/png": "[encoded data removed]"
          },
          "metadata": {
            "needs_background": "light"
          }
        },
        {
          "output_type": "display_data",
          "data": {
            "text/plain": [
              "<Figure size 432x288 with 1 Axes>"
            ],
            "image/png": "[encoded data removed]"
          },
          "metadata": {
            "needs_background": "light"
          }
        },
        {
          "output_type": "display_data",
          "data": {
            "text/plain": [
              "<Figure size 432x288 with 1 Axes>"
            ],
            "image/png": "[encoded data removed]"
          },
          "metadata": {
            "needs_background": "light"
          }
        }
      ]
    },
    {
      "cell_type": "markdown",
      "source": [
        "text의 경우 30\\~40의 데이터가 대부분이고 최대가 60정도로 보이네요. headlines는 최대 16의 값이지만 대부분 8~11에 데이터가 몰려있습니다.  \n",
        "이에 따라 임의로 길이를 지정합니다."
      ],
      "metadata": {
        "id": "wkA_LRonp9Kr"
      }
    },
    {
      "cell_type": "code",
      "source": [
        "text_max_len = 45\n",
        "headlines_max_len = 12"
      ],
      "metadata": {
        "id": "tKwi6aC4qUGO"
      },
      "execution_count": 23,
      "outputs": []
    },
    {
      "cell_type": "markdown",
      "source": [
        "아래 함수로 설정한 길이 기준 몇%의 데이터를 포함하는지 확인할 수 있습니다."
      ],
      "metadata": {
        "id": "bEF4gjQ2q-2F"
      }
    },
    {
      "cell_type": "code",
      "source": [
        "def below_threshold_len(max_len, nested_list):\n",
        "  cnt = 0\n",
        "  for s in nested_list:\n",
        "    if(len(s.split()) <= max_len):\n",
        "        cnt = cnt + 1\n",
        "  print('전체 샘플 중 길이가 %s 이하인 샘플의 비율: %s'%(max_len, (cnt / len(nested_list))))"
      ],
      "metadata": {
        "id": "7fBwU5hjq-HF"
      },
      "execution_count": 24,
      "outputs": []
    },
    {
      "cell_type": "code",
      "source": [
        "below_threshold_len(text_max_len, data['text'])\n",
        "below_threshold_len(headlines_max_len,  data['headlines'])"
      ],
      "metadata": {
        "colab": {
          "base_uri": "https://localhost:8080/"
        },
        "id": "UaKV4-zPrCkv",
        "outputId": "3d758975-6414-4efc-a075-0880f38d1571"
      },
      "execution_count": 25,
      "outputs": [
        {
          "output_type": "stream",
          "name": "stdout",
          "text": [
            "전체 샘플 중 길이가 45 이하인 샘플의 비율: 0.9967771451809678\n",
            "전체 샘플 중 길이가 12 이하인 샘플의 비율: 0.9880337535583571\n"
          ]
        }
      ]
    },
    {
      "cell_type": "markdown",
      "source": [
        "대부분의 데이터를 포함하는 것으로 보입니다.  이제 이 길이를 기준으로 데이터를 제외하겠습니다."
      ],
      "metadata": {
        "id": "43bAzcFrrO0G"
      }
    },
    {
      "cell_type": "code",
      "source": [
        "data = data[data['text'].apply(lambda x: len(x.split()) <= text_max_len)]\n",
        "data = data[data['headlines'].apply(lambda x: len(x.split()) <= headlines_max_len)]\n",
        "print('전체 샘플수 :', (len(data)))"
      ],
      "metadata": {
        "colab": {
          "base_uri": "https://localhost:8080/"
        },
        "id": "xJLJPO-OrTMl",
        "outputId": "4f1176e5-f3ec-4abb-edd4-09257f5756c6"
      },
      "execution_count": 26,
      "outputs": [
        {
          "output_type": "stream",
          "name": "stdout",
          "text": [
            "전체 샘플수 : 96871\n"
          ]
        }
      ]
    },
    {
      "cell_type": "markdown",
      "source": [
        "이제 학습시킬 데이터인 headlines에 start와 end token을 추가합니다."
      ],
      "metadata": {
        "id": "cHSuRqhXwAjs"
      }
    },
    {
      "cell_type": "code",
      "source": [
        "data['decoder_input'] = data['headlines'].apply(lambda x : 'sostoken '+ x)\n",
        "data['decoder_target'] = data['headlines'].apply(lambda x : x + ' eostoken')\n",
        "data.head()"
      ],
      "metadata": {
        "colab": {
          "base_uri": "https://localhost:8080/",
          "height": 206
        },
        "id": "45tsnM1PwDvY",
        "outputId": "ab6d3f53-b6d1-4146-9938-fc4638bef1d3"
      },
      "execution_count": 27,
      "outputs": [
        {
          "output_type": "execute_result",
          "data": {
            "text/plain": [
              "                                                text  \\\n",
              "0  saurav kant alumnus upgrad iiit pg program mac...   \n",
              "1  kunal shah credit card bill payment platform c...   \n",
              "2  new zealand defeated india wickets fourth odi ...   \n",
              "3  aegon life iterm insurance plan customers enjo...   \n",
              "5  pakistani singer rahat fateh ali khan denied r...   \n",
              "\n",
              "                                           headlines  \\\n",
              "0  upgrad learner switches to career in ml al wit...   \n",
              "1  delhi techie wins free food from swiggy for on...   \n",
              "2  new zealand end rohit sharma led india match w...   \n",
              "3  aegon life iterm insurance plan helps customer...   \n",
              "5  rahat fateh ali khan denies getting notice for...   \n",
              "\n",
              "                                       decoder_input  \\\n",
              "0  sostoken upgrad learner switches to career in ...   \n",
              "1  sostoken delhi techie wins free food from swig...   \n",
              "2  sostoken new zealand end rohit sharma led indi...   \n",
              "3  sostoken aegon life iterm insurance plan helps...   \n",
              "5  sostoken rahat fateh ali khan denies getting n...   \n",
              "\n",
              "                                      decoder_target  \n",
              "0  upgrad learner switches to career in ml al wit...  \n",
              "1  delhi techie wins free food from swiggy for on...  \n",
              "2  new zealand end rohit sharma led india match w...  \n",
              "3  aegon life iterm insurance plan helps customer...  \n",
              "5  rahat fateh ali khan denies getting notice for...  "
            ],
            "text/html": [
              "\n",
              "  <div id=\"df-9b99c071-502f-4e6f-be81-8bca979b366a\">\n",
              "    <div class=\"colab-df-container\">\n",
              "      <div>\n",
              "<style scoped>\n",
              "    .dataframe tbody tr th:only-of-type {\n",
              "        vertical-align: middle;\n",
              "    }\n",
              "\n",
              "    .dataframe tbody tr th {\n",
              "        vertical-align: top;\n",
              "    }\n",
              "\n",
              "    .dataframe thead th {\n",
              "        text-align: right;\n",
              "    }\n",
              "</style>\n",
              "<table border=\"1\" class=\"dataframe\">\n",
              "  <thead>\n",
              "    <tr style=\"text-align: right;\">\n",
              "      <th></th>\n",
              "      <th>text</th>\n",
              "      <th>headlines</th>\n",
              "      <th>decoder_input</th>\n",
              "      <th>decoder_target</th>\n",
              "    </tr>\n",
              "  </thead>\n",
              "  <tbody>\n",
              "    <tr>\n",
              "      <th>0</th>\n",
              "      <td>saurav kant alumnus upgrad iiit pg program mac...</td>\n",
              "      <td>upgrad learner switches to career in ml al wit...</td>\n",
              "      <td>sostoken upgrad learner switches to career in ...</td>\n",
              "      <td>upgrad learner switches to career in ml al wit...</td>\n",
              "    </tr>\n",
              "    <tr>\n",
              "      <th>1</th>\n",
              "      <td>kunal shah credit card bill payment platform c...</td>\n",
              "      <td>delhi techie wins free food from swiggy for on...</td>\n",
              "      <td>sostoken delhi techie wins free food from swig...</td>\n",
              "      <td>delhi techie wins free food from swiggy for on...</td>\n",
              "    </tr>\n",
              "    <tr>\n",
              "      <th>2</th>\n",
              "      <td>new zealand defeated india wickets fourth odi ...</td>\n",
              "      <td>new zealand end rohit sharma led india match w...</td>\n",
              "      <td>sostoken new zealand end rohit sharma led indi...</td>\n",
              "      <td>new zealand end rohit sharma led india match w...</td>\n",
              "    </tr>\n",
              "    <tr>\n",
              "      <th>3</th>\n",
              "      <td>aegon life iterm insurance plan customers enjo...</td>\n",
              "      <td>aegon life iterm insurance plan helps customer...</td>\n",
              "      <td>sostoken aegon life iterm insurance plan helps...</td>\n",
              "      <td>aegon life iterm insurance plan helps customer...</td>\n",
              "    </tr>\n",
              "    <tr>\n",
              "      <th>5</th>\n",
              "      <td>pakistani singer rahat fateh ali khan denied r...</td>\n",
              "      <td>rahat fateh ali khan denies getting notice for...</td>\n",
              "      <td>sostoken rahat fateh ali khan denies getting n...</td>\n",
              "      <td>rahat fateh ali khan denies getting notice for...</td>\n",
              "    </tr>\n",
              "  </tbody>\n",
              "</table>\n",
              "</div>\n",
              "      <button class=\"colab-df-convert\" onclick=\"convertToInteractive('df-9b99c071-502f-4e6f-be81-8bca979b366a')\"\n",
              "              title=\"Convert this dataframe to an interactive table.\"\n",
              "              style=\"display:none;\">\n",
              "        \n",
              "  <svg xmlns=\"http://www.w3.org/2000/svg\" height=\"24px\"viewBox=\"0 0 24 24\"\n",
              "       width=\"24px\">\n",
              "    <path d=\"M0 0h24v24H0V0z\" fill=\"none\"/>\n",
              "    <path d=\"M18.56 5.44l.94 2.06.94-2.06 2.06-.94-2.06-.94-.94-2.06-.94 2.06-2.06.94zm-11 1L8.5 8.5l.94-2.06 2.06-.94-2.06-.94L8.5 2.5l-.94 2.06-2.06.94zm10 10l.94 2.06.94-2.06 2.06-.94-2.06-.94-.94-2.06-.94 2.06-2.06.94z\"/><path d=\"M17.41 7.96l-1.37-1.37c-.4-.4-.92-.59-1.43-.59-.52 0-1.04.2-1.43.59L10.3 9.45l-7.72 7.72c-.78.78-.78 2.05 0 2.83L4 21.41c.39.39.9.59 1.41.59.51 0 1.02-.2 1.41-.59l7.78-7.78 2.81-2.81c.8-.78.8-2.07 0-2.86zM5.41 20L4 18.59l7.72-7.72 1.47 1.35L5.41 20z\"/>\n",
              "  </svg>\n",
              "      </button>\n",
              "      \n",
              "  <style>\n",
              "    .colab-df-container {\n",
              "      display:flex;\n",
              "      flex-wrap:wrap;\n",
              "      gap: 12px;\n",
              "    }\n",
              "\n",
              "    .colab-df-convert {\n",
              "      background-color: #E8F0FE;\n",
              "      border: none;\n",
              "      border-radius: 50%;\n",
              "      cursor: pointer;\n",
              "      display: none;\n",
              "      fill: #1967D2;\n",
              "      height: 32px;\n",
              "      padding: 0 0 0 0;\n",
              "      width: 32px;\n",
              "    }\n",
              "\n",
              "    .colab-df-convert:hover {\n",
              "      background-color: #E2EBFA;\n",
              "      box-shadow: 0px 1px 2px rgba(60, 64, 67, 0.3), 0px 1px 3px 1px rgba(60, 64, 67, 0.15);\n",
              "      fill: #174EA6;\n",
              "    }\n",
              "\n",
              "    [theme=dark] .colab-df-convert {\n",
              "      background-color: #3B4455;\n",
              "      fill: #D2E3FC;\n",
              "    }\n",
              "\n",
              "    [theme=dark] .colab-df-convert:hover {\n",
              "      background-color: #434B5C;\n",
              "      box-shadow: 0px 1px 3px 1px rgba(0, 0, 0, 0.15);\n",
              "      filter: drop-shadow(0px 1px 2px rgba(0, 0, 0, 0.3));\n",
              "      fill: #FFFFFF;\n",
              "    }\n",
              "  </style>\n",
              "\n",
              "      <script>\n",
              "        const buttonEl =\n",
              "          document.querySelector('#df-9b99c071-502f-4e6f-be81-8bca979b366a button.colab-df-convert');\n",
              "        buttonEl.style.display =\n",
              "          google.colab.kernel.accessAllowed ? 'block' : 'none';\n",
              "\n",
              "        async function convertToInteractive(key) {\n",
              "          const element = document.querySelector('#df-9b99c071-502f-4e6f-be81-8bca979b366a');\n",
              "          const dataTable =\n",
              "            await google.colab.kernel.invokeFunction('convertToInteractive',\n",
              "                                                     [key], {});\n",
              "          if (!dataTable) return;\n",
              "\n",
              "          const docLinkHtml = 'Like what you see? Visit the ' +\n",
              "            '<a target=\"_blank\" href=https://colab.research.google.com/notebooks/data_table.ipynb>data table notebook</a>'\n",
              "            + ' to learn more about interactive tables.';\n",
              "          element.innerHTML = '';\n",
              "          dataTable['output_type'] = 'display_data';\n",
              "          await google.colab.output.renderOutput(dataTable, element);\n",
              "          const docLink = document.createElement('div');\n",
              "          docLink.innerHTML = docLinkHtml;\n",
              "          element.appendChild(docLink);\n",
              "        }\n",
              "      </script>\n",
              "    </div>\n",
              "  </div>\n",
              "  "
            ]
          },
          "metadata": {},
          "execution_count": 27
        }
      ]
    },
    {
      "cell_type": "code",
      "source": [
        "encoder_input = np.array(data['text']) # 인코더의 입력\n",
        "decoder_input = np.array(data['decoder_input']) # 디코더의 입력\n",
        "decoder_target = np.array(data['decoder_target']) # 디코더의 레이블"
      ],
      "metadata": {
        "id": "7L7JXcBUwM3v"
      },
      "execution_count": 28,
      "outputs": []
    },
    {
      "cell_type": "markdown",
      "source": [
        "이제 트레인, 테스트 데이터를 직접 분리합시다. encoder_input과 형태가 같은 정수 시퀀스를 만들어 주고 이 시퀀스를 이용해 데이터의 샘플 순서를 정의하여 샘플을 섞어줍니다. "
      ],
      "metadata": {
        "id": "HW5w5dEOwg79"
      }
    },
    {
      "cell_type": "code",
      "source": [
        "indices = np.arange(encoder_input.shape[0])\n",
        "np.random.shuffle(indices)\n",
        "print(indices)"
      ],
      "metadata": {
        "colab": {
          "base_uri": "https://localhost:8080/"
        },
        "id": "xXFvMGT9wrZd",
        "outputId": "400db199-9b13-45e0-b791-3c89afe301ee"
      },
      "execution_count": 29,
      "outputs": [
        {
          "output_type": "stream",
          "name": "stdout",
          "text": [
            "[41580 55487 18727 ... 23297 79357 91168]\n"
          ]
        }
      ]
    },
    {
      "cell_type": "code",
      "source": [
        "encoder_input = encoder_input[indices]\n",
        "decoder_input = decoder_input[indices]\n",
        "decoder_target = decoder_target[indices]"
      ],
      "metadata": {
        "id": "2IZGdO3ewydS"
      },
      "execution_count": 30,
      "outputs": []
    },
    {
      "cell_type": "markdown",
      "source": [
        "다음은 0.2의 비율로 validation set의 크기를 지정합니다."
      ],
      "metadata": {
        "id": "iREDvWhsw22e"
      }
    },
    {
      "cell_type": "code",
      "source": [
        "n_of_val = int(len(encoder_input)*0.2)\n",
        "print('테스트 데이터의 수 :', n_of_val)"
      ],
      "metadata": {
        "colab": {
          "base_uri": "https://localhost:8080/"
        },
        "id": "PHkuSPYCw2fd",
        "outputId": "a987ffca-98ed-4b6a-d191-a7d9ed6d0a39"
      },
      "execution_count": 31,
      "outputs": [
        {
          "output_type": "stream",
          "name": "stdout",
          "text": [
            "테스트 데이터의 수 : 19374\n"
          ]
        }
      ]
    },
    {
      "cell_type": "code",
      "source": [
        "encoder_input_train = encoder_input[:-n_of_val]\n",
        "decoder_input_train = decoder_input[:-n_of_val]\n",
        "decoder_target_train = decoder_target[:-n_of_val]\n",
        "\n",
        "encoder_input_test = encoder_input[-n_of_val:]\n",
        "decoder_input_test = decoder_input[-n_of_val:]\n",
        "decoder_target_test = decoder_target[-n_of_val:]\n",
        "\n",
        "print('훈련 데이터의 개수 :', len(encoder_input_train))\n",
        "print('훈련 레이블의 개수 :', len(decoder_input_train))\n",
        "print('테스트 데이터의 개수 :', len(encoder_input_test))\n",
        "print('테스트 레이블의 개수 :', len(decoder_input_test))"
      ],
      "metadata": {
        "colab": {
          "base_uri": "https://localhost:8080/"
        },
        "id": "vPo79tZ_w768",
        "outputId": "43b9ed66-d251-4393-cf69-904ed494c401"
      },
      "execution_count": 32,
      "outputs": [
        {
          "output_type": "stream",
          "name": "stdout",
          "text": [
            "훈련 데이터의 개수 : 77497\n",
            "훈련 레이블의 개수 : 77497\n",
            "테스트 데이터의 개수 : 19374\n",
            "테스트 레이블의 개수 : 19374\n"
          ]
        }
      ]
    },
    {
      "cell_type": "markdown",
      "source": [
        "성공적으로 훈련 데이터와 테스트 데이터를 분리하였습니다."
      ],
      "metadata": {
        "id": "ZwtKInLxw9rb"
      }
    },
    {
      "cell_type": "markdown",
      "source": [
        "이제 각 데이터들을 단어 집합으로 만들어 줍니다. 학습하기 쉽도록 단어를 정수로 매핑해야 합니다."
      ],
      "metadata": {
        "id": "yJDnnt0mxCqY"
      }
    },
    {
      "cell_type": "code",
      "source": [
        "src_tokenizer = Tokenizer() # 토크나이저 정의\n",
        "src_tokenizer.fit_on_texts(encoder_input_train) # 입력된 데이터로부터 단어 집합 생성"
      ],
      "metadata": {
        "id": "WTCoZ3zTxN2_"
      },
      "execution_count": 33,
      "outputs": []
    },
    {
      "cell_type": "code",
      "source": [
        "threshold = 7\n",
        "total_cnt = len(src_tokenizer.word_index) # 단어의 수\n",
        "rare_cnt = 0 # 등장 빈도수가 threshold보다 작은 단어의 개수를 카운트\n",
        "total_freq = 0 # 훈련 데이터의 전체 단어 빈도수 총 합\n",
        "rare_freq = 0 # 등장 빈도수가 threshold보다 작은 단어의 등장 빈도수의 총 합\n",
        "\n",
        "# 단어와 빈도수의 쌍(pair)을 key와 value로 받는다.\n",
        "for key, value in src_tokenizer.word_counts.items():\n",
        "    total_freq = total_freq + value\n",
        "\n",
        "    # 단어의 등장 빈도수가 threshold보다 작으면\n",
        "    if(value < threshold):\n",
        "        rare_cnt = rare_cnt + 1\n",
        "        rare_freq = rare_freq + value\n",
        "\n",
        "print('단어 집합(vocabulary)의 크기 :', total_cnt)\n",
        "print('등장 빈도가 %s번 이하인 희귀 단어의 수: %s'%(threshold - 1, rare_cnt))\n",
        "print('단어 집합에서 희귀 단어를 제외시킬 경우의 단어 집합의 크기 %s'%(total_cnt - rare_cnt))\n",
        "print(\"단어 집합에서 희귀 단어의 비율:\", (rare_cnt / total_cnt)*100)\n",
        "print(\"전체 등장 빈도에서 희귀 단어 등장 빈도 비율:\", (rare_freq / total_freq)*100)"
      ],
      "metadata": {
        "colab": {
          "base_uri": "https://localhost:8080/"
        },
        "id": "doXK3NQcxSok",
        "outputId": "d0c70b54-d1a7-471e-ef6d-f375dd67a1a4"
      },
      "execution_count": 34,
      "outputs": [
        {
          "output_type": "stream",
          "name": "stdout",
          "text": [
            "단어 집합(vocabulary)의 크기 : 68906\n",
            "등장 빈도가 6번 이하인 희귀 단어의 수: 46962\n",
            "단어 집합에서 희귀 단어를 제외시킬 경우의 단어 집합의 크기 21944\n",
            "단어 집합에서 희귀 단어의 비율: 68.1537166574754\n",
            "전체 등장 빈도에서 희귀 단어 등장 빈도 비율: 3.5170117268070165\n"
          ]
        }
      ]
    },
    {
      "cell_type": "markdown",
      "source": [
        "encoder_input에는 총 6만9천개의 단어가 있고 6번 이하로 등장하는 단어가 68%나 되지만, 전체 등장 빈도로 따지면 3.5%밖에 되지 않습니다.  \n",
        "등장 빈도가 6회 이하인 단어들은 훈련 데이터에서 제거해 주도록 합니다.  \n",
        "전체에서 희귀 단어 수를 빼면 22000이니 토큰화 단어 집합 크기를 22000으로 제한합니다."
      ],
      "metadata": {
        "id": "8JG-L2Rgxgnk"
      }
    },
    {
      "cell_type": "code",
      "source": [
        "src_vocab = 22000\n",
        "src_tokenizer = Tokenizer(num_words=src_vocab) # 단어 집합의 크기를 8,000으로 제한\n",
        "src_tokenizer.fit_on_texts(encoder_input_train) # 단어 집합 재생성"
      ],
      "metadata": {
        "id": "e_9BYIspycET"
      },
      "execution_count": 35,
      "outputs": []
    },
    {
      "cell_type": "code",
      "source": [
        "# 텍스트 시퀀스를 정수 시퀀스로 변환\n",
        "encoder_input_train = src_tokenizer.texts_to_sequences(encoder_input_train) \n",
        "encoder_input_test = src_tokenizer.texts_to_sequences(encoder_input_test)\n",
        "\n",
        "# 잘 진행되었는지 샘플 출력\n",
        "print(encoder_input_train[:3])"
      ],
      "metadata": {
        "colab": {
          "base_uri": "https://localhost:8080/"
        },
        "id": "RkuZOC2Hyjum",
        "outputId": "33351ec0-8ff0-4bc2-bf10-5007c49fa66b"
      },
      "execution_count": 36,
      "outputs": [
        {
          "output_type": "stream",
          "name": "stdout",
          "text": [
            "[[1618, 2, 59, 686, 7609, 5556, 28, 968, 257, 956, 315, 1681, 7204, 968, 546, 16, 47, 2854, 4838, 318, 499, 443, 209, 829, 4445, 2854, 4375, 32, 5556, 2517, 2591, 396, 145, 11178, 5766, 16, 121, 1618, 2], [11, 1676, 868, 233, 369, 1159, 306, 765, 59, 8083, 518, 857, 1193, 2091, 199, 4376, 306, 110, 868, 407, 414, 709, 10914, 199, 193, 1222, 2855, 3858, 233, 226, 1643, 644, 11, 100, 306], [2, 1159, 1288, 883, 558, 354, 910, 53, 7952, 254, 69, 7952, 40, 953, 7721, 3710, 7952, 1473, 1546, 9393, 2561, 392, 6917, 1318, 2, 2450, 354, 910, 5598, 119, 2008, 1177, 883, 558]]\n"
          ]
        }
      ]
    },
    {
      "cell_type": "code",
      "source": [
        "tar_tokenizer = Tokenizer()\n",
        "tar_tokenizer.fit_on_texts(decoder_input_train)"
      ],
      "metadata": {
        "id": "liobAB7Gy1wd"
      },
      "execution_count": 37,
      "outputs": []
    },
    {
      "cell_type": "code",
      "source": [
        "threshold = 6\n",
        "total_cnt = len(tar_tokenizer.word_index) # 단어의 수\n",
        "rare_cnt = 0 # 등장 빈도수가 threshold보다 작은 단어의 개수를 카운트\n",
        "total_freq = 0 # 훈련 데이터의 전체 단어 빈도수 총 합\n",
        "rare_freq = 0 # 등장 빈도수가 threshold보다 작은 단어의 등장 빈도수의 총 합\n",
        "\n",
        "# 단어와 빈도수의 쌍(pair)을 key와 value로 받는다.\n",
        "for key, value in tar_tokenizer.word_counts.items():\n",
        "    total_freq = total_freq + value\n",
        "\n",
        "    # 단어의 등장 빈도수가 threshold보다 작으면\n",
        "    if(value < threshold):\n",
        "        rare_cnt = rare_cnt + 1\n",
        "        rare_freq = rare_freq + value\n",
        "\n",
        "print('단어 집합(vocabulary)의 크기 :', total_cnt)\n",
        "print('등장 빈도가 %s번 이하인 희귀 단어의 수: %s'%(threshold - 1, rare_cnt))\n",
        "print('단어 집합에서 희귀 단어를 제외시킬 경우의 단어 집합의 크기 %s'%(total_cnt - rare_cnt))\n",
        "print(\"단어 집합에서 희귀 단어의 비율:\", (rare_cnt / total_cnt)*100)\n",
        "print(\"전체 등장 빈도에서 희귀 단어 등장 빈도 비율:\", (rare_freq / total_freq)*100)"
      ],
      "metadata": {
        "colab": {
          "base_uri": "https://localhost:8080/"
        },
        "id": "1i5q6Hyoy3tq",
        "outputId": "0a31a52e-fa39-4fa6-9f4b-9378ded17964"
      },
      "execution_count": 38,
      "outputs": [
        {
          "output_type": "stream",
          "name": "stdout",
          "text": [
            "단어 집합(vocabulary)의 크기 : 29911\n",
            "등장 빈도가 5번 이하인 희귀 단어의 수: 19581\n",
            "단어 집합에서 희귀 단어를 제외시킬 경우의 단어 집합의 크기 10330\n",
            "단어 집합에서 희귀 단어의 비율: 65.46421049112367\n",
            "전체 등장 빈도에서 희귀 단어 등장 빈도 비율: 4.7194643443845665\n"
          ]
        }
      ]
    },
    {
      "cell_type": "markdown",
      "source": [
        "여기도 마찬가지로 등장 빈도 5번 이하의 단어는 65%이지만 전체 기준 4.7%입니다. 단어를 10000개로 제한하여 다시 토큰화 해줍니다."
      ],
      "metadata": {
        "id": "JkDhhVUhy8gR"
      }
    },
    {
      "cell_type": "code",
      "source": [
        "tar_vocab = 10000\n",
        "tar_tokenizer = Tokenizer(num_words=tar_vocab) \n",
        "tar_tokenizer.fit_on_texts(decoder_input_train)\n",
        "tar_tokenizer.fit_on_texts(decoder_target_train)\n",
        "\n",
        "# 텍스트 시퀀스를 정수 시퀀스로 변환\n",
        "decoder_input_train = tar_tokenizer.texts_to_sequences(decoder_input_train) \n",
        "decoder_target_train = tar_tokenizer.texts_to_sequences(decoder_target_train)\n",
        "decoder_input_test = tar_tokenizer.texts_to_sequences(decoder_input_test)\n",
        "decoder_target_test = tar_tokenizer.texts_to_sequences(decoder_target_test)\n",
        "\n",
        "# 잘 변환되었는지 확인\n",
        "print('input')\n",
        "print('input ',decoder_input_train[:5])\n",
        "print('target')\n",
        "print('decoder ',decoder_target_train[:5])"
      ],
      "metadata": {
        "colab": {
          "base_uri": "https://localhost:8080/"
        },
        "id": "9HZ7GJbuzNml",
        "outputId": "767ec040-b167-4de8-96d1-097dc256d947"
      },
      "execution_count": 39,
      "outputs": [
        {
          "output_type": "stream",
          "name": "stdout",
          "text": [
            "input\n",
            "input  [[1, 992, 9, 1341, 4111, 1991, 17, 4970, 289], [1, 493, 513, 2490, 106, 6, 113, 686, 4, 1356], [1, 9, 166, 86, 3358, 1281, 269, 4, 66, 5858], [1, 527, 400, 16, 10, 2235, 106, 336, 6], [1, 42, 79, 5373, 2760]]\n",
            "target\n",
            "decoder  [[992, 9, 1341, 4111, 1991, 17, 4970, 289, 2], [493, 513, 2490, 106, 6, 113, 686, 4, 1356, 2], [9, 166, 86, 3358, 1281, 269, 4, 66, 5858, 2], [527, 400, 16, 10, 2235, 106, 336, 6, 2], [42, 79, 5373, 2760, 2]]\n"
          ]
        }
      ]
    },
    {
      "cell_type": "markdown",
      "source": [
        "이제 토큰화를 하면서 잘린 단어들로 인해 빈 샘플이 되었을 가능성이 있는 데이터들을 제거해 주도록 합니다."
      ],
      "metadata": {
        "id": "FVwAIJDMzXuj"
      }
    },
    {
      "cell_type": "code",
      "source": [
        "drop_train = [index for index, sentence in enumerate(decoder_input_train) if len(sentence) == 1]\n",
        "drop_test = [index for index, sentence in enumerate(decoder_input_test) if len(sentence) == 1]\n",
        "\n",
        "print('삭제할 훈련 데이터의 개수 :', len(drop_train))\n",
        "print('삭제할 테스트 데이터의 개수 :', len(drop_test))\n",
        "\n",
        "encoder_input_train = [sentence for index, sentence in enumerate(encoder_input_train) if index not in drop_train]\n",
        "decoder_input_train = [sentence for index, sentence in enumerate(decoder_input_train) if index not in drop_train]\n",
        "decoder_target_train = [sentence for index, sentence in enumerate(decoder_target_train) if index not in drop_train]\n",
        "\n",
        "encoder_input_test = [sentence for index, sentence in enumerate(encoder_input_test) if index not in drop_test]\n",
        "decoder_input_test = [sentence for index, sentence in enumerate(decoder_input_test) if index not in drop_test]\n",
        "decoder_target_test = [sentence for index, sentence in enumerate(decoder_target_test) if index not in drop_test]\n",
        "\n",
        "print('훈련 데이터의 개수 :', len(encoder_input_train))\n",
        "print('훈련 레이블의 개수 :', len(decoder_input_train))\n",
        "print('테스트 데이터의 개수 :', len(encoder_input_test))\n",
        "print('테스트 레이블의 개수 :', len(decoder_input_test))"
      ],
      "metadata": {
        "colab": {
          "base_uri": "https://localhost:8080/"
        },
        "id": "okkeR1IRzXId",
        "outputId": "4d26f333-9e78-4f8a-fbb2-c61b5e186324"
      },
      "execution_count": 40,
      "outputs": [
        {
          "output_type": "stream",
          "name": "stdout",
          "text": [
            "삭제할 훈련 데이터의 개수 : 0\n",
            "삭제할 테스트 데이터의 개수 : 0\n",
            "훈련 데이터의 개수 : 77497\n",
            "훈련 레이블의 개수 : 77497\n",
            "테스트 데이터의 개수 : 19374\n",
            "테스트 레이블의 개수 : 19374\n"
          ]
        }
      ]
    },
    {
      "cell_type": "markdown",
      "source": [
        "삭제할 게 없네요?  \n",
        "다음은 모든 샘플의 병렬 처리를 위한 길이 맞추기 작업입니다.  \n",
        "zero-padding을 해줍니다."
      ],
      "metadata": {
        "id": "_zMymRzUzkEK"
      }
    },
    {
      "cell_type": "code",
      "source": [
        "encoder_input_train = pad_sequences(encoder_input_train, maxlen=text_max_len, padding='post')\n",
        "encoder_input_test = pad_sequences(encoder_input_test, maxlen=text_max_len, padding='post')\n",
        "decoder_input_train = pad_sequences(decoder_input_train, maxlen= headlines_max_len, padding='post')\n",
        "decoder_target_train = pad_sequences(decoder_target_train, maxlen=headlines_max_len, padding='post')\n",
        "decoder_input_test = pad_sequences(decoder_input_test, maxlen=headlines_max_len, padding='post')\n",
        "decoder_target_test = pad_sequences(decoder_target_test, maxlen=headlines_max_len, padding='post')"
      ],
      "metadata": {
        "id": "paTAbcZmztID"
      },
      "execution_count": 41,
      "outputs": []
    },
    {
      "cell_type": "markdown",
      "source": [
        "## 2. 모델 설계하기\n",
        "길고 긴 전처리가 끝났습니다. 다음은 모델을 설계하도록 합시다. "
      ],
      "metadata": {
        "id": "TIVfScJfz4cY"
      }
    },
    {
      "cell_type": "code",
      "source": [
        "from tensorflow.keras.layers import Input, LSTM, Embedding, Dense, Concatenate, TimeDistributed\n",
        "from tensorflow.keras.models import Model\n",
        "from tensorflow.keras.callbacks import EarlyStopping, ModelCheckpoint\n",
        "\n",
        "\n",
        "# 인코더 설계 시작\n",
        "embedding_dim = 128\n",
        "hidden_size = 256\n",
        "\n",
        "# 인코더\n",
        "encoder_inputs = Input(shape=(text_max_len,))\n",
        "\n",
        "# 인코더의 임베딩 층\n",
        "enc_emb = Embedding(src_vocab, embedding_dim)(encoder_inputs)\n",
        "\n",
        "# 인코더의 LSTM 1\n",
        "# encoder_lstm1 = LSTM(hidden_size, return_sequences=True, return_state=True ,dropout = 0.4, recurrent_dropout = 0.4)\n",
        "encoder_lstm1 = LSTM(hidden_size, return_sequences=True, return_state=True ,dropout = 0.4)\n",
        "encoder_output1, state_h1, state_c1 = encoder_lstm1(enc_emb)\n",
        "\n",
        "# 인코더의 LSTM 2\n",
        "# encoder_lstm2 = LSTM(hidden_size, return_sequences=True, return_state=True, dropout=0.4, recurrent_dropout=0.4)\n",
        "encoder_lstm2 = LSTM(hidden_size, return_sequences=True, return_state=True, dropout=0.4)\n",
        "encoder_output2, state_h2, state_c2 = encoder_lstm2(encoder_output1)\n",
        "\n",
        "# 인코더의 LSTM 3\n",
        "# encoder_lstm3 = LSTM(hidden_size, return_state=True, return_sequences=True, dropout=0.4, recurrent_dropout=0.4)\n",
        "encoder_lstm3 = LSTM(hidden_size, return_state=True, return_sequences=True, dropout=0.4)\n",
        "encoder_outputs, state_h, state_c= encoder_lstm3(encoder_output2)"
      ],
      "metadata": {
        "id": "n3GcIFU-z-gz"
      },
      "execution_count": 42,
      "outputs": []
    },
    {
      "cell_type": "markdown",
      "source": [
        "먼저 인코더입니다. 인코더에서는 LSTM을 3개 사용합니다."
      ],
      "metadata": {
        "id": "vF-0jXG90DRZ"
      }
    },
    {
      "cell_type": "code",
      "source": [
        "# 디코더 설계\n",
        "decoder_inputs = Input(shape=(None,))\n",
        "\n",
        "# 디코더의 임베딩 층\n",
        "dec_emb_layer = Embedding(tar_vocab, embedding_dim)\n",
        "dec_emb = dec_emb_layer(decoder_inputs)\n",
        "\n",
        "# 디코더의 LSTM\n",
        "# decoder_lstm = LSTM(hidden_size, return_sequences=True, return_state=True, dropout=0.4, recurrent_dropout=0.2)\n",
        "decoder_lstm = LSTM(hidden_size, return_sequences=True, return_state=True, dropout=0.4)\n",
        "decoder_outputs, _, _ = decoder_lstm(dec_emb, initial_state=[state_h, state_c])"
      ],
      "metadata": {
        "id": "SMd4ksxS0JYm"
      },
      "execution_count": 43,
      "outputs": []
    },
    {
      "cell_type": "code",
      "source": [
        "# 디코더의 출력층\n",
        "decoder_softmax_layer = Dense(tar_vocab, activation='softmax')\n",
        "decoder_softmax_outputs = decoder_softmax_layer(decoder_outputs) \n",
        "\n",
        "# 모델 정의\n",
        "model = Model([encoder_inputs, decoder_inputs], decoder_softmax_outputs)\n",
        "model.summary()"
      ],
      "metadata": {
        "colab": {
          "base_uri": "https://localhost:8080/"
        },
        "id": "imeLcsHl0SEk",
        "outputId": "54d059cd-aa6b-4eed-acaf-fad3e873bf87"
      },
      "execution_count": 44,
      "outputs": [
        {
          "output_type": "stream",
          "name": "stdout",
          "text": [
            "Model: \"model\"\n",
            "__________________________________________________________________________________________________\n",
            " Layer (type)                   Output Shape         Param #     Connected to                     \n",
            "==================================================================================================\n",
            " input_1 (InputLayer)           [(None, 45)]         0           []                               \n",
            "                                                                                                  \n",
            " embedding (Embedding)          (None, 45, 128)      2816000     ['input_1[0][0]']                \n",
            "                                                                                                  \n",
            " lstm (LSTM)                    [(None, 45, 256),    394240      ['embedding[0][0]']              \n",
            "                                 (None, 256),                                                     \n",
            "                                 (None, 256)]                                                     \n",
            "                                                                                                  \n",
            " input_2 (InputLayer)           [(None, None)]       0           []                               \n",
            "                                                                                                  \n",
            " lstm_1 (LSTM)                  [(None, 45, 256),    525312      ['lstm[0][0]']                   \n",
            "                                 (None, 256),                                                     \n",
            "                                 (None, 256)]                                                     \n",
            "                                                                                                  \n",
            " embedding_1 (Embedding)        (None, None, 128)    1280000     ['input_2[0][0]']                \n",
            "                                                                                                  \n",
            " lstm_2 (LSTM)                  [(None, 45, 256),    525312      ['lstm_1[0][0]']                 \n",
            "                                 (None, 256),                                                     \n",
            "                                 (None, 256)]                                                     \n",
            "                                                                                                  \n",
            " lstm_3 (LSTM)                  [(None, None, 256),  394240      ['embedding_1[0][0]',            \n",
            "                                 (None, 256),                     'lstm_2[0][1]',                 \n",
            "                                 (None, 256)]                     'lstm_2[0][2]']                 \n",
            "                                                                                                  \n",
            " dense (Dense)                  (None, None, 10000)  2570000     ['lstm_3[0][0]']                 \n",
            "                                                                                                  \n",
            "==================================================================================================\n",
            "Total params: 8,505,104\n",
            "Trainable params: 8,505,104\n",
            "Non-trainable params: 0\n",
            "__________________________________________________________________________________________________\n"
          ]
        }
      ]
    },
    {
      "cell_type": "markdown",
      "source": [
        "어텐션 매커니즘을 추가합니다. TensorFlow에서 구현된 어텐션 함수를 가져와서 디코더 출력층에 결합하여 줍니다."
      ],
      "metadata": {
        "id": "rlh5LpjL0Urt"
      }
    },
    {
      "cell_type": "code",
      "source": [
        "from tensorflow.keras.layers import AdditiveAttention\n",
        "\n",
        "# 어텐션 층(어텐션 함수)\n",
        "attn_layer = AdditiveAttention(name='attention_layer')\n",
        "\n",
        "# 인코더와 디코더의 모든 time step의 hidden state를 어텐션 층에 전달하고 결과를 리턴\n",
        "attn_out = attn_layer([decoder_outputs, encoder_outputs])\n",
        "\n",
        "\n",
        "# 어텐션의 결과와 디코더의 hidden state들을 연결\n",
        "decoder_concat_input = Concatenate(axis=-1, name='concat_layer')([decoder_outputs, attn_out])\n",
        "\n",
        "# 디코더의 출력층\n",
        "decoder_softmax_layer = Dense(tar_vocab, activation='softmax')\n",
        "decoder_softmax_outputs = decoder_softmax_layer(decoder_concat_input)\n",
        "\n",
        "# 모델 정의\n",
        "model = Model([encoder_inputs, decoder_inputs], decoder_softmax_outputs)\n",
        "model.summary()"
      ],
      "metadata": {
        "colab": {
          "base_uri": "https://localhost:8080/"
        },
        "id": "9TWQc4xu0i9L",
        "outputId": "c698aec1-8175-4ae8-faba-0c579e29b1bd"
      },
      "execution_count": 45,
      "outputs": [
        {
          "output_type": "stream",
          "name": "stdout",
          "text": [
            "Model: \"model_1\"\n",
            "__________________________________________________________________________________________________\n",
            " Layer (type)                   Output Shape         Param #     Connected to                     \n",
            "==================================================================================================\n",
            " input_1 (InputLayer)           [(None, 45)]         0           []                               \n",
            "                                                                                                  \n",
            " embedding (Embedding)          (None, 45, 128)      2816000     ['input_1[0][0]']                \n",
            "                                                                                                  \n",
            " lstm (LSTM)                    [(None, 45, 256),    394240      ['embedding[0][0]']              \n",
            "                                 (None, 256),                                                     \n",
            "                                 (None, 256)]                                                     \n",
            "                                                                                                  \n",
            " input_2 (InputLayer)           [(None, None)]       0           []                               \n",
            "                                                                                                  \n",
            " lstm_1 (LSTM)                  [(None, 45, 256),    525312      ['lstm[0][0]']                   \n",
            "                                 (None, 256),                                                     \n",
            "                                 (None, 256)]                                                     \n",
            "                                                                                                  \n",
            " embedding_1 (Embedding)        (None, None, 128)    1280000     ['input_2[0][0]']                \n",
            "                                                                                                  \n",
            " lstm_2 (LSTM)                  [(None, 45, 256),    525312      ['lstm_1[0][0]']                 \n",
            "                                 (None, 256),                                                     \n",
            "                                 (None, 256)]                                                     \n",
            "                                                                                                  \n",
            " lstm_3 (LSTM)                  [(None, None, 256),  394240      ['embedding_1[0][0]',            \n",
            "                                 (None, 256),                     'lstm_2[0][1]',                 \n",
            "                                 (None, 256)]                     'lstm_2[0][2]']                 \n",
            "                                                                                                  \n",
            " attention_layer (AdditiveAtten  (None, None, 256)   256         ['lstm_3[0][0]',                 \n",
            " tion)                                                            'lstm_2[0][0]']                 \n",
            "                                                                                                  \n",
            " concat_layer (Concatenate)     (None, None, 512)    0           ['lstm_3[0][0]',                 \n",
            "                                                                  'attention_layer[0][0]']        \n",
            "                                                                                                  \n",
            " dense_1 (Dense)                (None, None, 10000)  5130000     ['concat_layer[0][0]']           \n",
            "                                                                                                  \n",
            "==================================================================================================\n",
            "Total params: 11,065,360\n",
            "Trainable params: 11,065,360\n",
            "Non-trainable params: 0\n",
            "__________________________________________________________________________________________________\n"
          ]
        }
      ]
    },
    {
      "cell_type": "markdown",
      "source": [
        "이제 데이터를 학습시켜 줍니다."
      ],
      "metadata": {
        "id": "GoGlAZhX0No8"
      }
    },
    {
      "cell_type": "code",
      "source": [
        "model.compile(optimizer='rmsprop', loss='sparse_categorical_crossentropy')\n",
        "es = EarlyStopping(monitor='val_loss', patience=2, verbose=1)\n",
        "history = model.fit(x=[encoder_input_train, decoder_input_train], y=decoder_target_train, \\\n",
        "          validation_data=([encoder_input_test, decoder_input_test], decoder_target_test), \\\n",
        "          batch_size=256, callbacks=[es], epochs=30)"
      ],
      "metadata": {
        "colab": {
          "base_uri": "https://localhost:8080/"
        },
        "id": "4WMjr2xI0pBU",
        "outputId": "a3fbb10d-30d8-4dff-c8df-20b66f3609ee"
      },
      "execution_count": 46,
      "outputs": [
        {
          "output_type": "stream",
          "name": "stdout",
          "text": [
            "Epoch 1/30\n",
            "303/303 [==============================] - 36s 78ms/step - loss: 5.6136 - val_loss: 5.1749\n",
            "Epoch 2/30\n",
            "303/303 [==============================] - 22s 73ms/step - loss: 5.0299 - val_loss: 4.8032\n",
            "Epoch 3/30\n",
            "303/303 [==============================] - 22s 73ms/step - loss: 4.6942 - val_loss: 4.5383\n",
            "Epoch 4/30\n",
            "303/303 [==============================] - 22s 73ms/step - loss: 4.4239 - val_loss: 4.3452\n",
            "Epoch 5/30\n",
            "303/303 [==============================] - 22s 73ms/step - loss: 4.2120 - val_loss: 4.2031\n",
            "Epoch 6/30\n",
            "303/303 [==============================] - 22s 73ms/step - loss: 4.0438 - val_loss: 4.0890\n",
            "Epoch 7/30\n",
            "303/303 [==============================] - 22s 73ms/step - loss: 3.8982 - val_loss: 4.0100\n",
            "Epoch 8/30\n",
            "303/303 [==============================] - 22s 73ms/step - loss: 3.7687 - val_loss: 3.9380\n",
            "Epoch 9/30\n",
            "303/303 [==============================] - 22s 73ms/step - loss: 3.6573 - val_loss: 3.8733\n",
            "Epoch 10/30\n",
            "303/303 [==============================] - 22s 73ms/step - loss: 3.5524 - val_loss: 3.8308\n",
            "Epoch 11/30\n",
            "303/303 [==============================] - 22s 73ms/step - loss: 3.4611 - val_loss: 3.7916\n",
            "Epoch 12/30\n",
            "303/303 [==============================] - 22s 73ms/step - loss: 3.3826 - val_loss: 3.7649\n",
            "Epoch 13/30\n",
            "303/303 [==============================] - 22s 73ms/step - loss: 3.3093 - val_loss: 3.7381\n",
            "Epoch 14/30\n",
            "303/303 [==============================] - 22s 73ms/step - loss: 3.2407 - val_loss: 3.7201\n",
            "Epoch 15/30\n",
            "303/303 [==============================] - 22s 73ms/step - loss: 3.1757 - val_loss: 3.7036\n",
            "Epoch 16/30\n",
            "303/303 [==============================] - 22s 73ms/step - loss: 3.1159 - val_loss: 3.6874\n",
            "Epoch 17/30\n",
            "303/303 [==============================] - 22s 73ms/step - loss: 3.0610 - val_loss: 3.6749\n",
            "Epoch 18/30\n",
            "303/303 [==============================] - 22s 73ms/step - loss: 3.0134 - val_loss: 3.6654\n",
            "Epoch 19/30\n",
            "303/303 [==============================] - 22s 73ms/step - loss: 2.9653 - val_loss: 3.6614\n",
            "Epoch 20/30\n",
            "303/303 [==============================] - 22s 73ms/step - loss: 2.9183 - val_loss: 3.6552\n",
            "Epoch 21/30\n",
            "303/303 [==============================] - 22s 73ms/step - loss: 2.8740 - val_loss: 3.6471\n",
            "Epoch 22/30\n",
            "303/303 [==============================] - 22s 73ms/step - loss: 2.8308 - val_loss: 3.6485\n",
            "Epoch 23/30\n",
            "303/303 [==============================] - 22s 73ms/step - loss: 2.7923 - val_loss: 3.6423\n",
            "Epoch 24/30\n",
            "303/303 [==============================] - 22s 73ms/step - loss: 2.7565 - val_loss: 3.6461\n",
            "Epoch 25/30\n",
            "303/303 [==============================] - 22s 73ms/step - loss: 2.7182 - val_loss: 3.6384\n",
            "Epoch 26/30\n",
            "303/303 [==============================] - 22s 73ms/step - loss: 2.6860 - val_loss: 3.6421\n",
            "Epoch 27/30\n",
            "303/303 [==============================] - 22s 73ms/step - loss: 2.6532 - val_loss: 3.6436\n",
            "Epoch 27: early stopping\n"
          ]
        }
      ]
    },
    {
      "cell_type": "markdown",
      "source": [
        "이전에 지정해준 Early Stopping 조건에 의해 val_loss가 연속으로 줄어들지 않아서 학습을 종료하였습니다.  \n",
        "이제 loss의 변화를 시각화 해보겠습니다."
      ],
      "metadata": {
        "id": "MSkUtozp0T1T"
      }
    },
    {
      "cell_type": "code",
      "source": [
        "plt.plot(history.history['loss'], label='train')\n",
        "plt.plot(history.history['val_loss'], label='test')\n",
        "plt.legend()\n",
        "plt.show()"
      ],
      "metadata": {
        "colab": {
          "base_uri": "https://localhost:8080/",
          "height": 265
        },
        "id": "68MVXG0g3tHG",
        "outputId": "34043a51-d8a1-4b3b-d94e-f41c36b4a940"
      },
      "execution_count": 47,
      "outputs": [
        {
          "output_type": "display_data",
          "data": {
            "text/plain": [
              "<Figure size 432x288 with 1 Axes>"
            ],
            "image/png": "[encoded data removed]"
          },
          "metadata": {
            "needs_background": "light"
          }
        }
      ]
    },
    {
      "cell_type": "markdown",
      "source": [
        "다음은 정수 <->단어간의 변환을 쉽게 해줄 사전을 생성해 줍니다."
      ],
      "metadata": {
        "id": "zSFKtR9o0h0Z"
      }
    },
    {
      "cell_type": "code",
      "source": [
        "src_index_to_word = src_tokenizer.index_word # 원문 단어 집합에서 정수 -> 단어를 얻음\n",
        "tar_word_to_index = tar_tokenizer.word_index # 요약 단어 집합에서 단어 -> 정수를 얻음\n",
        "tar_index_to_word = tar_tokenizer.index_word # 요약 단어 집합에서 정수 -> 단어를 얻음"
      ],
      "metadata": {
        "id": "dCbPMQh530iB"
      },
      "execution_count": 48,
      "outputs": []
    },
    {
      "cell_type": "markdown",
      "source": [
        "이제 모델을 테스트하기 위한 준비들을 할 차례입니다.  \n",
        "인퍼런스 모델 구현"
      ],
      "metadata": {
        "id": "UsXDcbQ635fe"
      }
    },
    {
      "cell_type": "code",
      "source": [
        "# 인코더 설계\n",
        "encoder_model = Model(inputs=encoder_inputs, outputs=[encoder_outputs, state_h, state_c])\n",
        "\n",
        "# 이전 시점의 상태들을 저장하는 텐서\n",
        "decoder_state_input_h = Input(shape=(hidden_size,))\n",
        "decoder_state_input_c = Input(shape=(hidden_size,))\n",
        "\n",
        "dec_emb2 = dec_emb_layer(decoder_inputs)\n",
        "\n",
        "# 문장의 다음 단어를 예측하기 위해서 초기 상태(initial_state)를 이전 시점의 상태로 사용. 이는 뒤의 함수 decode_sequence()에 구현\n",
        "# 훈련 과정에서와 달리 LSTM의 리턴하는 은닉 상태와 셀 상태인 state_h와 state_c를 버리지 않음.\n",
        "decoder_outputs2, state_h2, state_c2 = decoder_lstm(dec_emb2, initial_state=[decoder_state_input_h, decoder_state_input_c])"
      ],
      "metadata": {
        "id": "L__mwRa836l0"
      },
      "execution_count": 49,
      "outputs": []
    },
    {
      "cell_type": "markdown",
      "source": [
        "어텐션 매커니즘 사용하는 출력층"
      ],
      "metadata": {
        "id": "3D7Oekg94JTB"
      }
    },
    {
      "cell_type": "code",
      "source": [
        "# 어텐션 함수\n",
        "decoder_hidden_state_input = Input(shape=(text_max_len, hidden_size))\n",
        "attn_out_inf = attn_layer([decoder_outputs2, decoder_hidden_state_input])\n",
        "decoder_inf_concat = Concatenate(axis=-1, name='concat')([decoder_outputs2, attn_out_inf])\n",
        "\n",
        "# 디코더의 출력층\n",
        "decoder_outputs2 = decoder_softmax_layer(decoder_inf_concat) \n",
        "\n",
        "# 최종 디코더 모델\n",
        "decoder_model = Model(\n",
        "    [decoder_inputs] + [decoder_hidden_state_input,decoder_state_input_h, decoder_state_input_c],\n",
        "    [decoder_outputs2] + [state_h2, state_c2])"
      ],
      "metadata": {
        "id": "jLUFEPKp4Ll4"
      },
      "execution_count": 50,
      "outputs": []
    },
    {
      "cell_type": "code",
      "source": [
        "def decode_sequence(input_seq):\n",
        "    # 입력으로부터 인코더의 상태를 얻음\n",
        "    e_out, e_h, e_c = encoder_model.predict(input_seq)\n",
        "\n",
        "     # <SOS>에 해당하는 토큰 생성\n",
        "    target_seq = np.zeros((1,1))\n",
        "    target_seq[0, 0] = tar_word_to_index['sostoken']\n",
        "\n",
        "    stop_condition = False\n",
        "    decoded_sentence = ''\n",
        "    while not stop_condition: # stop_condition이 True가 될 때까지 루프 반복\n",
        "\n",
        "        output_tokens, h, c = decoder_model.predict([target_seq] + [e_out, e_h, e_c])\n",
        "        sampled_token_index = np.argmax(output_tokens[0, -1, :])\n",
        "        sampled_token = tar_index_to_word[sampled_token_index]\n",
        "\n",
        "        if (sampled_token!='eostoken'):\n",
        "            decoded_sentence += ' '+sampled_token\n",
        "\n",
        "        #  <eos>에 도달하거나 최대 길이를 넘으면 중단.\n",
        "        if (sampled_token == 'eostoken'  or len(decoded_sentence.split()) >= (headlines_max_len-1)):\n",
        "            stop_condition = True\n",
        "\n",
        "        # 길이가 1인 타겟 시퀀스를 업데이트\n",
        "        target_seq = np.zeros((1,1))\n",
        "        target_seq[0, 0] = sampled_token_index\n",
        "\n",
        "        # 상태를 업데이트 합니다.\n",
        "        e_h, e_c = h, c\n",
        "\n",
        "    return decoded_sentence"
      ],
      "metadata": {
        "id": "_ygICxGh4Ob3"
      },
      "execution_count": 51,
      "outputs": []
    },
    {
      "cell_type": "markdown",
      "source": [
        "## 3. 모델 테스트하기  \n",
        "이전에 준비했던 작업을 바탕으로 원문을 요약해봅시다."
      ],
      "metadata": {
        "id": "MkWeH_pY4S-D"
      }
    },
    {
      "cell_type": "code",
      "source": [
        "# 원문의 정수 시퀀스를 텍스트 시퀀스로 변환\n",
        "def seq2text(input_seq):\n",
        "    temp=''\n",
        "    for i in input_seq:\n",
        "        if (i!=0):\n",
        "            temp = temp + src_index_to_word[i]+' '\n",
        "    return temp\n",
        "\n",
        "# 요약문의 정수 시퀀스를 텍스트 시퀀스로 변환\n",
        "def seq2summary(input_seq):\n",
        "    temp=''\n",
        "    for i in input_seq:\n",
        "        if ((i!=0 and i!=tar_word_to_index['sostoken']) and i!=tar_word_to_index['eostoken']):\n",
        "            temp = temp + tar_index_to_word[i] + ' '\n",
        "    return temp"
      ],
      "metadata": {
        "id": "iI6maGxZ4UJ7"
      },
      "execution_count": 52,
      "outputs": []
    },
    {
      "cell_type": "code",
      "source": [
        "for i in range(50, 100):\n",
        "    print(\"원문 :\", seq2text(encoder_input_test[i]))\n",
        "    print(\"실제 요약 :\", seq2summary(decoder_input_test[i]))\n",
        "    print(\"예측 요약 :\", decode_sequence(encoder_input_test[i].reshape(1, text_max_len)))\n",
        "    print(\"\\n\")"
      ],
      "metadata": {
        "colab": {
          "base_uri": "https://localhost:8080/"
        },
        "id": "lUOIuxsD4Vpc",
        "outputId": "b3b289e8-ef67-40b8-f669-624969c74eb1"
      },
      "execution_count": 53,
      "outputs": [
        {
          "output_type": "stream",
          "name": "stdout",
          "text": [
            "원문 : nasa juno spacecraft successfully completed flyby km jupiter great red spot marking closest approach man made object storm large enough fit three earths raw images spacecraft latest flyby posted coming days nasa said juno launched august orbiting jupiter year \n",
            "실제 요약 : closest ever over jupiter great red spot completed \n",
            "예측 요약 :  nasa spacecraft completes jupiter on jupiter jupiter\n",
            "\n",
            "\n",
            "원문 : swiss researchers created prototype ultra thin concrete roof also generate solar power self supporting curved roof heating cooling inner concrete layer second exterior layer concrete structure roof thin film cells would installed solar power generation \n",
            "실제 요약 : thin concrete roof can generate solar power \n",
            "예측 요약 :  solar wind hai to be made by solar\n",
            "\n",
            "\n",
            "원문 : men gujarat started social media campaign posting selfies protest anti dalit violence state users posted selfies social media sites like instagram twitter using comes two dalit men allegedly beaten two separate incidents members rajput community sporting \n",
            "실제 요약 : gujarat men share selfies with moustache as sign of protest \n",
            "예측 요약 :  youtube page page page page over anti muslim squads\n",
            "\n",
            "\n",
            "원문 : kerala mla na along around indian union muslim league workers staged protest pulling chain express near railway station friday protestors demanding permanent stop train station railway protection force booked train delayed minutes \n",
            "실제 요약 : kerala mla demanding more stations pulls chain to stop train \n",
            "예측 요약 :  kerala mla to stop pilgrims from sabarimala\n",
            "\n",
            "\n",
            "원문 : cbi moved supreme court challenge allahabad high court verdict acquitting nupur rajesh talwar alleged murder daughter aarushi domestic help hemraj hc acquitted october stating direct evidence couple spent four years noida jail released \n",
            "실제 요약 : cbi challenges clean chit to aarushi talwar parents \n",
            "예측 요약 :  sc dismisses plea seeking sit on mahatma gandhi murder case\n",
            "\n",
            "\n",
            "원문 : mumbai metro rail corporation western railway collaborated trees uprooted mumbai metro construction railway land trees also transplanted residential complexes railway officials received criticism large scale trees colaba bandra metro project \n",
            "실제 요약 : trees for mumbai metro to be \n",
            "예측 요약 :  mumbai metro line to be built by mumbai due to delay\n",
            "\n",
            "\n",
            "원문 : air india planning warn comedian kapil unruly behaviour recent melbourne delhi flight air india chief ashwani lohani sought report incident wherein reportedly drunk sharma slapped hit comedian sunil grover shoe verbally abused colleagues including ali asgar pilot forced intervene \n",
            "실제 요약 : air india to warn kapil sharma over unruly behaviour \n",
            "예측 요약 :  air india ceo asks indigo to prove air india\n",
            "\n",
            "\n",
            "원문 : japanese champion recently set guinness world records consecutive one hand elbow elbow times break previous record broke record one hand performing earlier record \n",
            "실제 요약 : sets record for on his \n",
            "예측 요약 :  man holds record for most\n",
            "\n",
            "\n",
            "원문 : us based physicists created floating images viewers see angle researchers said hologram gave round view shown star wars film princess called help millimetre sized images created lasers guiding particle air projecting colour onto using display technique \n",
            "실제 요약 : scientists make images move in air like star wars \n",
            "예측 요약 :  scientists develop artificial intelligence that\n",
            "\n",
            "\n",
            "원문 : meeting united states president donald trump first lady melania wednesday pope francis asked melania feeding give eat melania appeared answer pizza yes meanwhile vatican spokesperson said pope loves cake always mentions meets \n",
            "실제 요약 : what are you feeding trump pope francis asks melania \n",
            "예측 요약 :  trump defends his own dog for wearing\n",
            "\n",
            "\n",
            "원문 : hotel hayat jaipur sealed nearly cow vigilantes protested outside hotel sunday night alleging beef served inside also alleged hotel staff threw remnants non vegetarian food nearby park jaipur municipal corporation claims sealed hotel garbage properly \n",
            "실제 요약 : jaipur hotel sealed after complain of beef being served \n",
            "예측 요약 :  men protest after eating beef in pune\n",
            "\n",
            "\n",
            "원문 : veteran actor dilip kumar made account facebook among first posts video along wife saira banu video saira asking dilip biscuit tastes video captioned pain lower back refreshing cup tea always welcome \n",
            "실제 요약 : dilip kumar joins facebook shares video with saira \n",
            "예측 요약 :  farhan akhtar shares his first birthday\n",
            "\n",
            "\n",
            "원문 : anil ambani led reliance group sent crore defamation notice mumbai congress president sanjay nirupam making false baseless allegations company nirupam alleged takeover debt ridden reliance infrastructure integrated mumbai power business adani transmission deal executed behest prime minister office bail ambani \n",
            "실제 요약 : anil ambani sends cr defamation notice to cong leader \n",
            "예측 요약 :  reliance jio files defamation suit against cong\n",
            "\n",
            "\n",
            "원문 : seventy year old thai street food seller jay restaurant jay awarded michelin star first michelin guide bangkok called street food seller known dishes like restaurant among restaurants eateries bangkok awarded michelin stars \n",
            "실제 요약 : yr old street food seller eatery awarded michelin star \n",
            "예측 요약 :  man wins year old burger for king in canada\n",
            "\n",
            "\n",
            "원문 : year old indian man mistakenly entered pakistan year ago handed indian authorities wagah border man entered village near pakistan pakistani authorities revealed man arrested amount time spent custody security agencies \n",
            "실제 요약 : pak hands over indian who mistakenly crossed border year ago \n",
            "예측 요약 :  indian man who was pakistan released from pak\n",
            "\n",
            "\n",
            "원문 : saudi arabia education ministry apologised recalled textbook featuring picture depicting star wars near late king faisal signed united nations charter artist created picture part series inserting pop culture characters historical photos said one put book \n",
            "실제 요약 : saudi recalls book over star wars in late king pic \n",
            "예측 요약 :  saudi arabia releases tv show in show\n",
            "\n",
            "\n",
            "원문 : uttar pradesh government announced ex gratia lakh state two crpf jawans martyred sukma naxalite attack meanwhile haryana government also announced lakh families two martyrs state earlier punjab bihar west bengal also announced similar compensation lakh \n",
            "실제 요약 : up announces for kin of sukma martyrs from state \n",
            "예측 요약 :  up govt announces lakh reward for martyred victims\n",
            "\n",
            "\n",
            "원문 : finance minister arun jaitley monday introduced banking regulation bill lok sabha bill empowers rbi ask bank initiate insolvency proceedings give directions resolution stressed assets rbi already identified large bad loan accounts national company law tribunal admitted bankruptcy proceedings five \n",
            "실제 요약 : jaitley introduces bill rbi to resolve bad loans \n",
            "예측 요약 :  rbi jaitley panel panel to remain rbi panel\n",
            "\n",
            "\n",
            "원문 : gautam gambhir posted series tweets response video crpf jawans kicked tortured islamists gambhir also tweeted kulbhushan jadhav indian naval officer sentenced death pakistani military court stand countrymen especially devote life country safety wrote gambhir \n",
            "실제 요약 : for each slap on my jawan lay down jihadi lives gambhir \n",
            "예측 요약 :  twitter users troll who troll who died in srinagar\n",
            "\n",
            "\n",
            "원문 : dj former australian prime minister tony abbott sentenced maximum six month jail term today assault occurred september grabbed abbott hand saying cking deserved time abbott claimed assaulted opposing sex marriage \n",
            "실제 요약 : dj who former australian pm gets months in jail \n",
            "예측 요약 :  former australia pm jailed for assaulting australia\n",
            "\n",
            "\n",
            "원문 : indian cricket team coach ravi shastri said indian team try play close go world cup chopping changing rest period time really get focused play unit shastri told reporters indian cricket team departure australia tour \n",
            "실제 요약 : no more changing in odi team till wc shastri \n",
            "예측 요약 :  india to play in india in ipl report\n",
            "\n",
            "\n",
            "원문 : american rapper songwriter kendrick lamar monday six awards mtv video music awards included video year award track humble ed sheeran named artist year zayn malik taylor swift best collaboration pink honoured michael jackson video vanguard award \n",
            "실제 요약 : wins awards for humble at mtv \n",
            "예측 요약 :  singer wins oscar award after winning win\n",
            "\n",
            "\n",
            "원문 : group boys playing cricket discovered woman decomposed body drain thane nagar maharashtra thursday one boys ran fetch ball near drain smelled something foul alerted friends children discovered woman body informed locals police \n",
            "실제 요약 : boys playing cricket in thane discover woman dead body \n",
            "예측 요약 :  pregnant woman found inside in maharashtra\n",
            "\n",
            "\n",
            "원문 : us air force unmanned space plane completed days earth orbit part fifth secretive mission aircraft orbiting height around km powered solar cells lithium ion batteries launched aboard one elon musk spacex falcon rocket nasa space centre florida \n",
            "실제 요약 : unmanned us air force plane completes days in earth orbit \n",
            "예측 요약 :  us space station completes its first ever plane\n",
            "\n",
            "\n",
            "원문 : actress sunny leone husband daniel weber took twitter friday complain delays experienced four jet airways flights sunny tweeted seriously crazy amount delays everyday ruined week sleep daniel later tweeted jet airways called blamed delays airport instead airline \n",
            "실제 요약 : sunny leone says jet airways delays ruined week of sleep \n",
            "예측 요약 :  time airline trolls sunny on pregnancy\n",
            "\n",
            "\n",
            "원문 : one third united nations employees sexually harassed work past two years according findings first survey misconduct respondents said touched ways made feel uncomfortable one three people said took action experiencing sexual harassment \n",
            "실제 요약 : in un employees sexually harassed in past two years \n",
            "예측 요약 :  sexual harassment cases against sexual harassment report\n",
            "\n",
            "\n",
            "원문 : us president donald trump deputy assistant lisa said country seeking new relationship pakistan based shared commitment defeat terror comes amid rising tensions two countries us pressed member states paris based financial action task force place pakistan global terrorist financing watchlist \n",
            "실제 요약 : us seeking new relationship with pakistan trump aide \n",
            "예측 요약 :  trump blames us for talks with pakistan\n",
            "\n",
            "\n",
            "원문 : karnataka government allowed private companies use compound walls government schools advertise products price education minister tanveer sait said move aimed raising funds developing infrastructure schools asserting schools places marketing several teachers said decision mandate education \n",
            "실제 요약 : taka allows govt schools to have on walls \n",
            "예측 요약 :  karnataka govt to set up to set up taka govt\n",
            "\n",
            "\n",
            "원문 : bench supreme court commenced hearing pleas challenging constitutional validity triple talaq thursday comprises five judges belonging five different religions constitutional bench led cji js khehar sikh judges kurian joseph nariman lalit abdul \n",
            "실제 요약 : judges of religions hearing pleas on triple talaq in sc \n",
            "예측 요약 :  sc to hear plea against triple talaq at triple talaq\n",
            "\n",
            "\n",
            "원문 : test result national institute pune confirmed year old jawan kerala recently passed away kolkata die due nipah virus infection soldier health begun failing gone kerala one month leave prompted suspicion death caused virus \n",
            "실제 요약 : test confirms jawan from kerala did not die of nipah virus \n",
            "예측 요약 :  crpf jawan who was the crpf to death in kerala\n",
            "\n",
            "\n",
            "원문 : actress priyanka chopra talking revealed posted picture dog diana got comments like going nowhere like dog told look like tomato selfie added priyanka said hateful comments affect even strongest people affect \n",
            "실제 요약 : troll once am going just like my dog priyanka \n",
            "예측 요약 :  priyanka chopra is like dog dog\n",
            "\n",
            "\n",
            "원문 : conjuring film franchise sued author lawsuit crore said franchise book tells stories investigators ed warren claimed agreement couple agreed competing work provision still effect \n",
            "실제 요약 : the franchise sued in crore lawsuit \n",
            "예측 요약 :  singer sues crore for crore\n",
            "\n",
            "\n",
            "원문 : virender sehwag welcomed uzma ahmed back india tweeting country safe india desh ki ki baat hi hai best wishes uzma welcome back incredible country uzma alleged forced marry pakistani man gunpoint returned india via wagah border thursday \n",
            "실제 요약 : sehwag welcomes back ahmed to most incredible country \n",
            "예측 요약 :  rohit slams troll for calling india tweet on india day\n",
            "\n",
            "\n",
            "원문 : calcutta high court judge justice cs karnan ordered five year jail sentence supreme court judges including chief justice india jagdish singh khehar karnan earlier accused seven judge bench discriminating dalit said judges guilty scheduled castes scheduled tribes act \n",
            "실제 요약 : karnan sentences chief justice of india to yrs in jail \n",
            "예측 요약 :  hc dismisses plea to review blast case rejected\n",
            "\n",
            "\n",
            "원문 : england limited overs captain eoin morgan tweeted support victims floods kerala morgan tweeted thoughts prayers everyone kerala horrific floods earlier indian cricketer sanju samson hails state donated lakh help relief efforts urged people stay united \n",
            "실제 요약 : prayers with everyone in kerala eng limited overs captain \n",
            "예측 요약 :  fans donate kerala flood victims to flood victims\n",
            "\n",
            "\n",
            "원문 : microsoft founded april invested million apple save bankruptcy time microsoft market capitalisation billion whereas apple valued billion per deal microsoft promised support microsoft office mac apple agreed make internet explorer default web browser \n",
            "실제 요약 : microsoft once invested mn to save apple from bankruptcy \n",
            "예측 요약 :  microsoft to buy microsoft billion for billion\n",
            "\n",
            "\n",
            "원문 : india israel launched million technology fund pm modi visit country israel india innovation initiative fund receive million year government five years fund aimed encouraging indians invest israel technology ecosystem open development centres israel \n",
            "실제 요약 : india israel launch cr tech fund during pm modi visit \n",
            "예측 요약 :  israel to build mn in israel military project\n",
            "\n",
            "\n",
            "원문 : brazil former president da silva convicted corruption charges wednesday sentenced nine half years prison found guilty accepting bribes engineering firm return contracts state oil company comes current brazilian president michel temer formally charged corruption \n",
            "실제 요약 : ex brazil prez sentenced to years in jail over corruption \n",
            "예측 요약 :  ex brazil prez charged with corruption charges\n",
            "\n",
            "\n",
            "원문 : year old suspected modern slavery victim rescued living six foot wooden shed years residential site united kingdom according labour abuse authority wooden structure contained chair found like rabbit confused officials said \n",
            "실제 요약 : yr old uk man rescued after living in foot shed for years \n",
            "예측 요약 :  year old dies after yrs of child\n",
            "\n",
            "\n",
            "원문 : another fire broke government run hospital mumbai wednesday two days level fire hospital killed least eight people reportedly electric box hospital premises caught fire fire tenders rushed spot control situation casualties reported yet \n",
            "실제 요약 : another fire at mumbai hospital days after fire that killed \n",
            "예측 요약 :  fire breaks out at mumbai hospital hospital in mumbai\n",
            "\n",
            "\n",
            "원문 : villa modelled bird opened retreat safari location kenya bird villa constructed using tree branches wood offers guests degree view nearby river features fully equipped bathroom host two guests per night \n",
            "실제 요약 : after bird opens in kenya \n",
            "예측 요약 :  foot tree to get out of food in gurugram\n",
            "\n",
            "\n",
            "원문 : uk princess granddaughter queen elizabeth ii got married jack st george chapel friday year second royal wedding daughter queen third child prince andrew ex wife sarah ninth line throne cousin prince harry married meghan markle may \n",
            "실제 요약 : queen granddaughter gets married in uk royal wedding \n",
            "예측 요약 :  uk prince charles to be first queen of royal wedding\n",
            "\n",
            "\n",
            "원문 : pakistani actor fawad khan wife khan featured cover october edition hello pakistan magazine cover story also feature couple children fawad got married two children together khan khan \n",
            "실제 요약 : fawad khan wife feature on cover of hello magazine \n",
            "예측 요약 :  pakistani actress wife to be india on magazine cover\n",
            "\n",
            "\n",
            "원문 : nearly years tragedy nuclear disaster site ukraine transformed million solar plant nearly solar panels capable generating power around homes installed site notably ukrainian authorities said would take years people safely area \n",
            "실제 요약 : nuclear disaster site transformed into solar plant \n",
            "예측 요약 :  solar wind found in solar power in tn\n",
            "\n",
            "\n",
            "원문 : uttar pradesh police wednesday asked local vendors restaurant owners greater noida prepare serve non vegetarian food week period kanwar yatra reportedly police taken decision number pilgrims returning haridwar increased year prefer vegetarian food \n",
            "실제 요약 : non veg food to be in greater noida for week \n",
            "예측 요약 :  up police to get up to file complaint against cops\n",
            "\n",
            "\n",
            "원문 : pm narendra modi launched bhim rupay sbi mobile payment applications singapore business event focussed digital platforms rupay linked singapore year old network electronic transfers allow singapore nets users make online purchases commerce merchant website india using rupay point sale terminals \n",
            "실제 요약 : pm modi launches bhim and sbi apps in singapore \n",
            "예측 요약 :  modi launches app to pm modi for india\n",
            "\n",
            "\n",
            "원문 : supreme court rejected plea opposition parties hold election seats trinamool congress panchayat elections held may opposition parties alleged tmc workers intimidated candidates prevented filing nominations around people killed violence elections reports said \n",
            "실제 요약 : no re election for wb rural seats won sc \n",
            "예측 요약 :  sc refuses to stop polls from wb polls over polls\n",
            "\n",
            "\n",
            "원문 : digital payments startup paytm launching credit scoring product called paytm score according reports vijay shekhar sharma led startup give credit score users based digital transactions across company multiple offerings including commerce bookings platforms reports added score shared paytm lending partners \n",
            "실제 요약 : paytm to give users its own credit rating reports \n",
            "예측 요약 :  paytm payments paytm mall to get mn users\n",
            "\n",
            "\n",
            "원문 : talking actress priyanka chopra visit rohingya refugee camps bangladesh bjp leader vinay katiyar thursday said gone meet added vips visit sends wrong message people avoid going rohingya muslims live \n",
            "실제 요약 : priyanka chopra should not have met rohingyas bjp leader \n",
            "예측 요약 :  priyanka slams bjp leader for calling him on his\n",
            "\n",
            "\n",
            "원문 : actress rakhi sawant hospitalised sunday knocked woman wrestler challenged bout continental wrestling entertainment match haryana panchkula getting knocked actress complained stomach back ache escorted ring woman police officer organisers \n",
            "실제 요약 : rakhi sawant challenges woman wrestler for bout lands in hospital \n",
            "예측 요약 :  tamil nadu woman takes oath as stage while on\n",
            "\n",
            "\n"
          ]
        }
      ]
    },
    {
      "cell_type": "markdown",
      "source": [
        "처음엔 원문에 있던 단어들이 나오지만 뒤로 갈수록 이상한 단어를 가지고 오는것 같다."
      ],
      "metadata": {
        "id": "M3IkHeRqR__T"
      }
    },
    {
      "cell_type": "markdown",
      "source": [
        "## 4. 추출적 요약  \n",
        "추출적 요약은 원문에서 문장들을 추출해서 요약하는 방식입니다.  \n",
        "Summa의 summarize 함수를 통해 쉽게 할 수 있습니다.  \n",
        "지금까지 사용했던 전처리가 된 text는 문장을 구분하는 기호 같은 것들이 모두 사라져서 사용할 수 없으니 원본 데이터를 다시 불러와서 사용합시다."
      ],
      "metadata": {
        "id": "Iu4Bkca_4tyi"
      }
    },
    {
      "cell_type": "code",
      "source": [
        "import requests\n",
        "from summa.summarizer import summarize"
      ],
      "metadata": {
        "id": "edDIzgFu4zb5"
      },
      "execution_count": 54,
      "outputs": []
    },
    {
      "cell_type": "code",
      "source": [
        "data_one = pd.read_csv('/content/news_summary_more.csv', encoding='iso-8859-1')"
      ],
      "metadata": {
        "id": "LHoC7yr3Kkwd"
      },
      "execution_count": 55,
      "outputs": []
    },
    {
      "cell_type": "markdown",
      "source": [
        "각 문장의 길이가 그렇게 길지 않기 때문에 ratio는 0.4로 하겠습니다. 이렇게 크게 해도 문장이 많지 않은 원문은 요약하지 못하는 경우가 몇가지 보입니다. "
      ],
      "metadata": {
        "id": "l15clmjpPlcY"
      }
    },
    {
      "cell_type": "code",
      "source": [
        "for i in range(50, 100):\n",
        "  print('{}번 째 문장'.format(i-49), data_one['text'][i])\n",
        "  print('추출적 요약 :',summarize(data_one['text'][i], ratio=0.4))\n",
        "  print()"
      ],
      "metadata": {
        "colab": {
          "base_uri": "https://localhost:8080/"
        },
        "id": "XAyDiVFXKtmI",
        "outputId": "4a646aa8-8f5d-434b-c736-18dda73183fc"
      },
      "execution_count": 56,
      "outputs": [
        {
          "output_type": "stream",
          "name": "stdout",
          "text": [
            "1번 째 문장 Former Finance Minister Yashwant Sinha on Tuesday demanded a probe into the alleged diversion of loans worth Ã¢ÂÂ¹31,000 crore by Dewan Housing Finance (DHFL). All agencies including regulators of the government have failed to track nefarious deals, he said. This comes after a media report on Tuesday accused DHFL's controlling shareholders of diverting funds to shell companies to buy assets.\n",
            "추출적 요약 : Former Finance Minister Yashwant Sinha on Tuesday demanded a probe into the alleged diversion of loans worth Ã¢ÂÂ¹31,000 crore by Dewan Housing Finance (DHFL).\n",
            "\n",
            "2번 째 문장 US-based Boeing on Wednesday reported annual sales worth $101.12 billion in 2018, the first time the planemaker's sales crossed the $100-billion mark in its 102-year history. The company said it expects to deliver between 895 and 905 commercial aircraft in 2019. Boeing retained its position as the world's largest planemaker for the seventh straight year, delivering 806 aircraft in 2018. \n",
            "추출적 요약 : Boeing retained its position as the world's largest planemaker for the seventh straight year, delivering 806 aircraft in 2018.\n",
            "\n",
            "3번 째 문장 text\n",
            "추출적 요약 : \n",
            "\n",
            "4번 째 문장 OnePlus has emerged as India's best-selling premium smartphone brand of 2018, as per a report by Counterpoint. It captured 36% of the market share in the premium segment, in Q4 2018. Further, its OnePlus 6 emerged as the highest selling premium smartphone of 2018 followed by OnePlus 6T.\n",
            "추출적 요약 : Further, its OnePlus 6 emerged as the highest selling premium smartphone of 2018 followed by OnePlus 6T.\n",
            "\n",
            "5번 째 문장 Filmmaker Pooja Bhatt, while talking about the presentation of women in her films, said, \"I can never look at a female body, even if it's naked, in a vulgar manner.\" \"Our audience can say...the women in my films are bold or sensual, but never ever vulgar,\" she added. Pooja further said her censor board is her \"own heart and mind\".\n",
            "추출적 요약 : \n",
            "\n",
            "6번 째 문장 Actress Mishti, who has featured in 'Manikarnika: The Queen of Jhansi', has said the film's co-director Kangana Ranaut made false promises to the cast. \"Kangana had said, 'I want dates because all characters look jumbled up...I'm trying my best to give everybody a prominent space on screen.' After watching the movie, there is no scope for other characters,\" Mishti added. \n",
            "추출적 요약 : \n",
            "\n",
            "7번 째 문장 The high-powered committee led by PM Narendra Modi to select the next CBI Director will meet again on February 1, Congress leader Mallikarjun Kharge has said. The panel consisting of Kharge and Chief Justice of India Ranjan Gogoi met on January 24, but the meeting ended \"inconclusively\" after Kharge cited lack of details in the list of 80 IPS officers. \n",
            "추출적 요약 : \n",
            "\n",
            "8번 째 문장 Nevada State Athletic Commission has banned MMA fighters Conor McGregor and Khabib Nurmagomedov for six months and nine months respectively over their roles in the mass brawl that occurred after their fight at UFC 229 last October. McGregor and Khabib have been fined $50,000 (Ã¢ÂÂ¹35 lakh) and $500,000 (Ã¢ÂÂ¹3.5 crore) respectively. The brawl occurred after Nurmagomedov confronted McGregor's teammate.\n",
            "추출적 요약 : Nevada State Athletic Commission has banned MMA fighters Conor McGregor and Khabib Nurmagomedov for six months and nine months respectively over their roles in the mass brawl that occurred after their fight at UFC 229 last October.\n",
            "\n",
            "9번 째 문장 Pakistan captain Sarfaraz Ahmed, who has been banned for four matches over racist remarks, took an apparent dig at his critics by sharing a video of a child reciting 'log hai na' poem on Twitter. \"Pyaar karna hai to khud se kar...dushmani karne ke liye log hai na,\" the poem read. \"This is how the world is,\" Sarfaraz wrote.\n",
            "추출적 요약 : Pakistan captain Sarfaraz Ahmed, who has been banned for four matches over racist remarks, took an apparent dig at his critics by sharing a video of a child reciting 'log hai na' poem on Twitter.\n",
            "\n",
            "10번 째 문장 Banned cricketer Sreesanth has told Supreme Court he initially confessed to Delhi Police about his alleged involvement in 2013 IPL spot-fixing scandal to escape continuous police torture. Sreesanth further said the bookie tried dragging him into spot-fixing but he didn't fall for it. Citing Sreesanth not informing BCCI about fixing approach, the apex court said Sreesanth's conduct \"wasn't good\".\n",
            "추출적 요약 : Sreesanth further said the bookie tried dragging him into spot-fixing but he didn't fall for it.\n",
            "\n",
            "11번 째 문장 The Finance Ministry on Wednesday said the government will present an Interim Budget on February 1. The clarification came amid speculations that a full Budget may be presented during the session. The government recently assigned Piyush Goyal temporary additional charge of the Finance and Corporate Affairs ministries in the absence of Arun Jaitley, who is in the US for treatment.\n",
            "추출적 요약 : The Finance Ministry on Wednesday said the government will present an Interim Budget on February 1.\n",
            "\n",
            "12번 째 문장 US President Donald Trump on Wednesday called his country's top intelligence chiefs \"naive\" and \"wrong\" on Iran and added that they should perhaps \"go back to school\". Trump claimed Iran is testing rockets, calling the country \"a source of potential danger and conflict\". Top US intelligence officials on Tuesday said that Iran isn't currently taking steps towards building nuclear weapons.\n",
            "추출적 요약 : US President Donald Trump on Wednesday called his country's top intelligence chiefs \"naive\" and \"wrong\" on Iran and added that they should perhaps \"go back to school\".\n",
            "\n",
            "13번 째 문장 A senior priest at the Vatican who handled cases of sexual abuse has quit after being accused of sexual abuse by a former nun. The accused priest claimed he is innocent and said he would consider taking legal action. The Vatican said in a statement that a Church investigation of the case was underway.\n",
            "추출적 요약 : A senior priest at the Vatican who handled cases of sexual abuse has quit after being accused of sexual abuse by a former nun.\n",
            "\n",
            "14번 째 문장 A 22-year-old writer turned down a job offer, claiming she was bullied to the point of tears during her two-hour interview by a UK company's CEO. Olivia Bland added the \"brutal\" interview brought back painful memories of her abusive relationship. \"I am so sorry that anyone has been hurt, it is never my intent,\" Web Applications CEO Craig Dean replied. \n",
            "추출적 요약 : A 22-year-old writer turned down a job offer, claiming she was bullied to the point of tears during her two-hour interview by a UK company's CEO.\n",
            "\n",
            "15번 째 문장 Noida Police has arrested Sector 20 station in-charge Manoj Pant and three journalists for allegedly extorting money from a call centre owner for removing his name from an FIR. The four were caught while taking bribe money of Ã¢ÂÂ¹8 lakh, police said. Pant was the lead investigator in the Paytm extortion case involving Founder Vijay Shekhar Sharma's secretary Sonia Dhawan.\n",
            "추출적 요약 : Noida Police has arrested Sector 20 station in-charge Manoj Pant and three journalists for allegedly extorting money from a call centre owner for removing his name from an FIR.\n",
            "\n",
            "16번 째 문장 Airtel on Wednesday said that Qatar's sovereign wealth fund Qatar Investment Authority will invest $200 million through a primary equity issuance in Airtel Africa. India's second-largest telecom operator's Africa unit recently raised $1.25 billion from six investors. Airtel Africa, the holding company for Airtel's operations in 14 African countries, is preparing for an initial public offering.\n",
            "추출적 요약 : Airtel Africa, the holding company for Airtel's operations in 14 African countries, is preparing for an initial public offering.\n",
            "\n",
            "17번 째 문장 Actor Shreyas Talpade said that 'Golmaal' filmmaker Rohit Shetty is still working on the script for the fifth instalment of the 'Golmaal' film franchise. \"He was telling us the other day that he...cracked some story. Once he's done with the...scripting, he'll take a call,Ã¢ÂÂ the actor added. The series features Shreyas along with Ajay Devgn, Arshad Warsi and Tusshar Kapoor.\n",
            "추출적 요약 : Actor Shreyas Talpade said that 'Golmaal' filmmaker Rohit Shetty is still working on the script for the fifth instalment of the 'Golmaal' film franchise.\n",
            "\n",
            "18번 째 문장 A 72-year-old man named Terry Sanderson has sued 'Avengers' actress Gwyneth Paltrow for allegedly crashing into him while skiing, and is seeking $3.1 million (over Ã¢ÂÂ¹22 crore) in damages. The lawsuit states the actress got up and skied away after knocking the man down, leaving him with broken ribs. The incident reportedly took place in 2016 in Utah, US. \n",
            "추출적 요약 : A 72-year-old man named Terry Sanderson has sued 'Avengers' actress Gwyneth Paltrow for allegedly crashing into him while skiing, and is seeking $3.1 million (over Ã¢ÂÂ¹22 crore) in damages.\n",
            "\n",
            "19번 째 문장 Yami Gautam was felicitated by Border Security Force (BSF) in Amritsar for her performance in 'Uri: The Surgical Strike'. \"BSF is the first line of defence of our country and it gives me...pride to have met them,\" Yami said. The film, which also stars Vicky Kaushal, is based on the Indian Army's surgical strike operation which took place in 2016.\n",
            "추출적 요약 : Yami Gautam was felicitated by Border Security Force (BSF) in Amritsar for her performance in 'Uri: The Surgical Strike'.\n",
            "\n",
            "20번 째 문장 Social media giant Facebook has hired privacy critic Nate Cardozo, formerly the top legal counsel for US privacy watchdog EFF, as a privacy policy manager for WhatsApp. Cardozo had called Facebook a \"faceless corporation\" whose business model depends on user's confusion and indifference about privacy, in October 2015. Facebook has also hired attorney Robyn Greene as its privacy policy manager.\n",
            "추출적 요약 : \n",
            "\n",
            "21번 째 문장 Apple CEO Tim Cook said the company plans to lower some iPhones' prices in markets with currencies that weakened against the US dollar in the past year. \"WeÃ¢ÂÂve decided to go back to (iPhone prices) more commensurate with...local prices...a year ago,\" Cook added. The price cuts, in hopes of increasing sales, are reportedly occurring for second time in 12 years.\n",
            "추출적 요약 : \"WeÃ¢ÂÂve decided to go back to (iPhone prices) more commensurate with...local prices...a year ago,\" Cook added.\n",
            "\n",
            "22번 째 문장 Scientists in Australia's Flinders University are testing a wetsuit prototype that could protect its wearer after a shark attack. The suit, made of synthetic material similar to the material used in bulletproof vests, could help reduce blood loss after a shark attack. \"The majority of fatalities from shark bites is due to blood loss...shock from blood loss,\" a scientist said.\n",
            "추출적 요약 : \"The majority of fatalities from shark bites is due to blood loss...shock from blood loss,\" a scientist said.\n",
            "\n",
            "23번 째 문장 BJP National Secretary Rahul Sinha on Wednesday asked the party workers in West Bengal to come armed with sticks to PM Narendra Modi's rally in the state on February 2. His statement came a day after clashes broke out following BJP chief Amit Shah's WB rally. Sinha added the TMC is indulged in violence as they're afraid of BJP's strength.\n",
            "추출적 요약 : BJP National Secretary Rahul Sinha on Wednesday asked the party workers in West Bengal to come armed with sticks to PM Narendra Modi's rally in the state on February 2.\n",
            "\n",
            "24번 째 문장 BJP President Amit Shah on Wednesday took a dig at the Opposition parties saying that the 'mahagathbandhan' for the Opposition is 4B - \"Bua-Bhatija-Bhai-Behen\". He added that 4B for the BJP meant \"Badhta Bharat, Banta Bharat\". He said Opposition's government cannot take the country ahead and \"only Modiji can provide a 'mazboot' (strong) government\".\n",
            "추출적 요약 : BJP President Amit Shah on Wednesday took a dig at the Opposition parties saying that the 'mahagathbandhan' for the Opposition is 4B - \"Bua-Bhatija-Bhai-Behen\".\n",
            "\n",
            "25번 째 문장 German automaker Volkswagen Group has retained the car industry's top spot in global sales, beating its Japanese rival Toyota. Volkswagen's sales, including its MAN and Scania heavy trucks and buses, rose 0.9% to 10.83 million in 2018, the company had said. Toyota came second with around 10.6 million deliveries, including its affiliated brands Daihatsu and Hino, in 2018.\n",
            "추출적 요약 : Volkswagen's sales, including its MAN and Scania heavy trucks and buses, rose 0.9% to 10.83 million in 2018, the company had said.\n",
            "\n",
            "26번 째 문장 Ousted Nissan Chairman Carlos Ghosn has said his arrest over alleged financial misconduct was led by \"plot and treason\" by the Japanese carmaker's executives who opposed its deeper integration with Renault and Mitsubishi. Ghosn added he had discussed the integration plans with Nissan's CEO in September, a month before his arrest. He further said he wouldn't flee if granted bail.\n",
            "추출적 요약 : Ousted Nissan Chairman Carlos Ghosn has said his arrest over alleged financial misconduct was led by \"plot and treason\" by the Japanese carmaker's executives who opposed its deeper integration with Renault and Mitsubishi.\n",
            "\n",
            "27번 째 문장 The government has cut down customs duty on import of parts and components for electric vehicles to 10-15%, down from the previous 15-30%. The Central Board of Indirect Taxes and Customs said disassembled parts will attract 10% duty, whereas 15% will be levied on pre-assembled packs. However, fully built electric vehicles will continue to attract 25% import duty.\n",
            "추출적 요약 : The government has cut down customs duty on import of parts and components for electric vehicles to 10-15%, down from the previous 15-30%.\n",
            "\n",
            "28번 째 문장 Government officials on Wednesday said that a swine flu outbreak has killed 76 people this year in Rajasthan. Colder weather has worsened the seasonal outbreak of the H1N1 virus in the country, officials added. Rajasthan recorded more than a third of all swine flu deaths in India with Jodhpur being the worst affected area in the state, officials said.\n",
            "추출적 요약 : Government officials on Wednesday said that a swine flu outbreak has killed 76 people this year in Rajasthan.\n",
            "\n",
            "29번 째 문장 North Korea is \"unlikely to completely give up its nuclear weapons and production capabilities\", Director of US' National Intelligence, Daniel Coats, said. \"North Korean leaders view nuclear arms as critical to regime survival,\" he added. His statements come despite North Korea's agreement with the US at the Singapore summit last year to denuclearise the Korean Peninsula. \n",
            "추출적 요약 : \"North Korean leaders view nuclear arms as critical to regime survival,\" he added.\n",
            "\n",
            "30번 째 문장 Jet Airways on Wednesday denied it was directed by GE Capital Aviation Services to ground its aircraft due to non-payment of dues. The airline said it's in the process of delivering three aircraft to lessors due to the expiry of lease terms. Further, three aircraft have been temporarily grounded to carry out an engine normalisation exercise, it added.\n",
            "추출적 요약 : Further, three aircraft have been temporarily grounded to carry out an engine normalisation exercise, it added.\n",
            "\n",
            "31번 째 문장 Retired Justice Srikrishna's enquiry panel has found that ex-CEO Chanda Kochhar violated ICICI Bank's code of conduct. The bank said it'll treat Kochhar's exit as termination and will take back all bonuses paid to her from April 2009 until March 2018. The CBI recently filed a case against Kochhar, her husband, and Videocon MD in the ICICI-Videocon loan case.\n",
            "추출적 요약 : Retired Justice Srikrishna's enquiry panel has found that ex-CEO Chanda Kochhar violated ICICI Bank's code of conduct.\n",
            "\n",
            "32번 째 문장 Ex-India cricketer Jacob Martin has been shifted to general ward from the ICU after being on a ventilator for nearly a month following a road accident, wherein he severely injured his lungs. Martin's wife Khyati mentioned there are chances that Jacob will be in hospital for two more months. BCCI, CSK and various cricketers provided financial assistance for Martin's treatment.\n",
            "추출적 요약 : Ex-India cricketer Jacob Martin has been shifted to general ward from the ICU after being on a ventilator for nearly a month following a road accident, wherein he severely injured his lungs.\n",
            "\n",
            "33번 째 문장 Sri Lanka all-rounder Thisara Perera has written to Sri Lanka Cricket CEO Ashley de Silva, asking the board to intervene after ODI captain Lasith Malinga's wife Tanya targeted him on Facebook. Tanya accused Perera of meeting country's Sports Minister to secure his place in the team. \"We've become laughing stock of whole country...because of one person's personal vendetta,\" Perera wrote.\n",
            "추출적 요약 : Tanya accused Perera of meeting country's Sports Minister to secure his place in the team.\n",
            "\n",
            "34번 째 문장 Goa CM and ex-Defence Minister Manohar Parrikar has written a letter to Congress President Rahul Gandhi over his claim that Parrikar told him he has nothing to do with new Rafale deal. Parrikar wrote, \"Kindly do not use your visit to an ailing person to feed political opportunism.\" In their five-minute meeting, they didn't discuss anything about Rafale, he added.\n",
            "추출적 요약 : \n",
            "\n",
            "35번 째 문장 Prime Minister Narendra Modi stopped his speech at the inauguration of the new terminal building at Surat airport after observing that a cameraman had fainted. PM Modi then asked his officers to urgently arrange for an ambulance for the cameraman. \"It's good that PM was paying attention to his surroundings during his speech,\" the cameraman later said from a hospital. \n",
            "추출적 요약 : PM Modi then asked his officers to urgently arrange for an ambulance for the cameraman.\n",
            "\n",
            "36번 째 문장 A couple got divorced minutes after their wedding ceremony got over in Gujarat's Gondal as a disagreement broke out and relatives from both sides started throwing dishes at each other during lunch. The advocates representing both sides arrived at the marriage hall and got the couple divorced within minutes. The couple even reportedly returned the gifts exchanged during the ceremony.\n",
            "추출적 요약 : A couple got divorced minutes after their wedding ceremony got over in Gujarat's Gondal as a disagreement broke out and relatives from both sides started throwing dishes at each other during lunch.\n",
            "\n",
            "37번 째 문장 Gujarat Education Minister Bhupendrasinh Chudasma has written a congratulatory message to a yoga ashram run by rape-convict Asaram's organisation for observing February 14 as \"Matru-Pitru Pujan Divas\" (Mother-Father worship day). After the Congress termed the letter as \"unfortunate\", saying it \"shows the nexus between BJP and godman\", Chudasma clarified, \"All I have done is sent best wishes.\" \n",
            "추출적 요약 : \n",
            "\n",
            "38번 째 문장 Venezuelan President NicolÃÂ¡s Maduro has claimed that his American counterpart Donald Trump ordered the Colombian government and the Colombian mafia to kill him. \"If something happens to me, Trump and Colombian President IvÃÂ¡n MÃÂ¡rquez will bear responsibility,\" he added. The US has blamed Maduro for the economic crisis in Venezuela and recognised opposition leader Juan GuaidÃÂ³ as interim President.\n",
            "추출적 요약 : Venezuelan President NicolÃÂ¡s Maduro has claimed that his American counterpart Donald Trump ordered the Colombian government and the Colombian mafia to kill him.\n",
            "\n",
            "39번 째 문장 Eight Asian billionaires aged 90 or above on the Bloomberg Billionaires Index of world's 500 richest people have a combined net worth of $125 billion. The richest among them is Hong Kong's Li Ka Shing with a net worth of $30.5 billion. India's 90-year-old Pallonji Mistry, who controls 18.3% of Tata Sons through Shapoorji Pallonji Group, is worth $20.1 billion.\n",
            "추출적 요약 : The richest among them is Hong Kong's Li Ka Shing with a net worth of $30.5 billion.\n",
            "\n",
            "40번 째 문장 Tamil Nadu food safety officials on Wednesday raided and seized 1,000 kgs of banned plastic items from Hotel Saravana Bhavan in Chennai's Vadapalani. Officials began a surprise check in the branch at 8 am. The state government had banned single-use plastics from January 1 and said the banned items should be handed over at the offices of the city corporation.\n",
            "추출적 요약 : Tamil Nadu food safety officials on Wednesday raided and seized 1,000 kgs of banned plastic items from Hotel Saravana Bhavan in Chennai's Vadapalani.\n",
            "\n",
            "41번 째 문장 Actress Shamita Shetty was verbally abused and her driver was slapped in an incident of road rage in Mumbai on Tuesday, as per reports. The incident reportedly took place after a motorist who was accompanied by two friends, rammed his vehicle into Shamita's car. The men allegedly manhandled and threatened Shamita's driver when he stepped out to inspect the damage. \n",
            "추출적 요약 : Actress Shamita Shetty was verbally abused and her driver was slapped in an incident of road rage in Mumbai on Tuesday, as per reports.\n",
            "\n",
            "42번 째 문장 Actress Vaani Kapoor said that trolling has become a norm on social media, adding, \"There's no one who hasn't got trolled on social media.\" \"Everybody is out there to pull the other person down but it'll only bother [you] if you let it bother you,\" Vaani added. She further said, social media offers a platform \"where people enjoy belittling everybody\". \n",
            "추출적 요약 : \n",
            "\n",
            "43번 째 문장 Actress Sushmita Sen took to Instagram to share a joke on the subject of marriage. \"Whoever invented marriage was creepy as hell. Like I love you so much IÃ¢ÂÂm gonna get the government involved so you canÃ¢ÂÂt leave,\" Sushmita's post read. \"This is an insult to [the] beauty of marriage,\" an Instagram user commented on her post.\n",
            "추출적 요약 : \"This is an insult to [the] beauty of marriage,\" an Instagram user commented on her post.\n",
            "\n",
            "44번 째 문장 Television actor Karanvir Bohra, who flew to Russia on Tuesday to attend a film festival, has been detained in Moscow due to passport damage. \"They [are] contemplating to deport me back to India,\" the actor wrote on Twitter. The Indian embassy in Russia's capital responded to his tweet and said that they were looking into the issue. \n",
            "추출적 요약 : Television actor Karanvir Bohra, who flew to Russia on Tuesday to attend a film festival, has been detained in Moscow due to passport damage.\n",
            "\n",
            "45번 째 문장 While speaking about winning awards for his films, Shah Rukh Khan said, \"If I don't get an award, that award is at a loss.\" \"Sometimes, the prestige of an award increases when I receive it,\" the actor jokingly added. Shah Rukh further said that he was \"extremely ambitious\" but in a \"fair manner\". \n",
            "추출적 요약 : \n",
            "\n",
            "46번 째 문장 Actress Patralekhaa will make her debut in the Kannada film industry with the action-comedy film 'Where is my Kannadaka?' \"I can definitely say that itÃ¢ÂÂs a kind of role that I havenÃ¢ÂÂt portrayed on screen so far and that makes it special for me,\" the actress said in a statement. Shooting for the film will reportedly begin in April.\n",
            "추출적 요약 : \n",
            "\n",
            "47번 째 문장 Gmail on Tuesday faced a global outage, which also affected India, wherein certain users complained they faced a '404 error' message while trying to sign-in to their accounts. The error message read: \"The requested URL was not found on this server. That's all we know.\" Google responded saying \"problem with Gmail should be resolved (now). We apologise for the inconvenience\".\n",
            "추출적 요약 : Gmail on Tuesday faced a global outage, which also affected India, wherein certain users complained they faced a '404 error' message while trying to sign-in to their accounts.\n",
            "\n",
            "48번 째 문장 Shiv Sena chief Uddhav Thackeray has asked the BJP to decide about the alliance with the Sena within 15 days and said the BJP should make a concrete proposal on the alliance. Thackeray added that only if the BJP agrees to Sena's terms and conditions, the party will agree for an alliance. Sena is free to fight independently, he said. \n",
            "추출적 요약 : Shiv Sena chief Uddhav Thackeray has asked the BJP to decide about the alliance with the Sena within 15 days and said the BJP should make a concrete proposal on the alliance.\n",
            "\n",
            "49번 째 문장 BJP President Amit Shah on Wednesday took a dig at the Opposition's proposed grand alliance saying if the \"mahagathbandhan comes to power, each opposition leader will be a Prime Minister every day of the week\". He added, \"[The] country will go on...holiday on Sunday\". He said the Opposition is thinking about leading the country but does not have a leader.\n",
            "추출적 요약 : He said the Opposition is thinking about leading the country but does not have a leader.\n",
            "\n",
            "50번 째 문장 Prime Minister Narendra Modi on Wednesday said his government's demonetisation decision made houses affordable for the aspiring youth. He added decisions like demonetisation and RERA have put a check on black money that used to be \"parked in the real estate sector\". He said 'UDAN' (Ude Desh ka Aam Nagrik) scheme has boosted the development of the country's aviation sector.\n",
            "추출적 요약 : He added decisions like demonetisation and RERA have put a check on black money that used to be \"parked in the real estate sector\".\n",
            "\n"
          ]
        }
      ]
    },
    {
      "cell_type": "markdown",
      "source": [
        "문장을 몇가지만 뽑아오니 요약은 되겠지만 핵심 내용이 포함되지 않는 경우가 있을 수 있습니다.  \n",
        "모델을 이용한 요약과 비교해 보려고 했는데 전처리 데이터는 indices를 통해 순서를 섞어주는 과정을 거쳤기 때문에 원본 데이터와 순서가 달라서 비교할 수가 없었다."
      ],
      "metadata": {
        "id": "9oX-gX60P6Me"
      }
    },
    {
      "cell_type": "markdown",
      "source": [
        "5. 회고\n",
        "- 전처리 한 원문으로 계속 추출적 요약에 넣어봤는데 동작을 안해서 왜 그런가 했더니 추출적 요약은 문장 전체 원문에서 문장을 뽑아서 요약하는 거니까 전처리 된 원문에선 문장을 구분할 수 없으니 동작을 안 할 수 밖에 없는 거였다는 생각이 들었다.\n",
        "- NLP는 역시 어려운 것 같다.. \n",
        "- 전처리한걸 저장해뒀다 사용하니 시간도 절약되고 편안하다. 애용해야겠다"
      ],
      "metadata": {
        "id": "zQ13Xlej2jzM"
      }
    }
  ]
}
