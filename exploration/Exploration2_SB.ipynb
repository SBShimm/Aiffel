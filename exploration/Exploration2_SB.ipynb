{
  "nbformat": 4,
  "nbformat_minor": 0,
  "metadata": {
    "colab": {
      "name": "Exploration2-SB.ipynb",
      "provenance": []
    },
    "kernelspec": {
      "name": "python3",
      "display_name": "Python 3"
    },
    "language_info": {
      "name": "python"
    }
  },
  "cells": [
    {
      "cell_type": "markdown",
      "source": [
        "# 프로젝트 1 : 손수 설계하는 선형회귀, 당뇨병 수치를 맞춰보자!"
      ],
      "metadata": {
        "id": "2HifA_7S3KzK"
      }
    },
    {
      "cell_type": "markdown",
      "source": [
        "이번에 사용할 데이터는 머신러닝 라이브러리인 사이킷런 에서 제공하는 당뇨병 환자 데이터이다.  \n",
        "일단 필요한 패키지 및 모듈을 가져오자."
      ],
      "metadata": {
        "id": "Egz-Y0wE3vj1"
      }
    },
    {
      "cell_type": "code",
      "execution_count": 1,
      "metadata": {
        "id": "K_ikD1P327IB"
      },
      "outputs": [],
      "source": [
        "from sklearn.datasets import load_diabetes\n",
        "from sklearn.model_selection import train_test_split\n",
        "import matplotlib.pyplot as plt\n",
        "import numpy as np\n",
        "import pandas as pd\n",
        "import seaborn as sns"
      ]
    },
    {
      "cell_type": "markdown",
      "source": [
        "## (1) 데이터 가져오기  \n",
        "아까 import한 sklearn.datasets의 load_diabetes 함수를 사용해서 데이터를 가져올 수 있다."
      ],
      "metadata": {
        "id": "XV_Fbm-F807q"
      }
    },
    {
      "cell_type": "code",
      "source": [
        "diabetes = load_diabetes()\n",
        "dir(diabetes)"
      ],
      "metadata": {
        "colab": {
          "base_uri": "https://localhost:8080/"
        },
        "id": "vVNv_4ei9GfI",
        "outputId": "113b270f-7851-4f7d-f2e6-5693742de6a3"
      },
      "execution_count": 2,
      "outputs": [
        {
          "output_type": "execute_result",
          "data": {
            "text/plain": [
              "['DESCR',\n",
              " 'data',\n",
              " 'data_filename',\n",
              " 'data_module',\n",
              " 'feature_names',\n",
              " 'frame',\n",
              " 'target',\n",
              " 'target_filename']"
            ]
          },
          "metadata": {},
          "execution_count": 2
        }
      ]
    },
    {
      "cell_type": "code",
      "source": [
        "print(diabetes.feature_names)\n",
        "print(diabetes.target)"
      ],
      "metadata": {
        "colab": {
          "base_uri": "https://localhost:8080/"
        },
        "id": "aV4VbUPM9hRB",
        "outputId": "d64d191f-0c31-4154-825f-140380797c70"
      },
      "execution_count": 3,
      "outputs": [
        {
          "output_type": "stream",
          "name": "stdout",
          "text": [
            "['age', 'sex', 'bmi', 'bp', 's1', 's2', 's3', 's4', 's5', 's6']\n",
            "[151.  75. 141. 206. 135.  97. 138.  63. 110. 310. 101.  69. 179. 185.\n",
            " 118. 171. 166. 144.  97. 168.  68.  49.  68. 245. 184. 202. 137.  85.\n",
            " 131. 283. 129.  59. 341.  87.  65. 102. 265. 276. 252.  90. 100.  55.\n",
            "  61.  92. 259.  53. 190. 142.  75. 142. 155. 225.  59. 104. 182. 128.\n",
            "  52.  37. 170. 170.  61. 144.  52. 128.  71. 163. 150.  97. 160. 178.\n",
            "  48. 270. 202. 111.  85.  42. 170. 200. 252. 113. 143.  51.  52. 210.\n",
            "  65. 141.  55. 134.  42. 111.  98. 164.  48.  96.  90. 162. 150. 279.\n",
            "  92.  83. 128. 102. 302. 198.  95.  53. 134. 144. 232.  81. 104.  59.\n",
            " 246. 297. 258. 229. 275. 281. 179. 200. 200. 173. 180.  84. 121. 161.\n",
            "  99. 109. 115. 268. 274. 158. 107.  83. 103. 272.  85. 280. 336. 281.\n",
            " 118. 317. 235.  60. 174. 259. 178. 128.  96. 126. 288.  88. 292.  71.\n",
            " 197. 186.  25.  84.  96. 195.  53. 217. 172. 131. 214.  59.  70. 220.\n",
            " 268. 152.  47.  74. 295. 101. 151. 127. 237. 225.  81. 151. 107.  64.\n",
            " 138. 185. 265. 101. 137. 143. 141.  79. 292. 178.  91. 116.  86. 122.\n",
            "  72. 129. 142.  90. 158.  39. 196. 222. 277.  99. 196. 202. 155.  77.\n",
            " 191.  70.  73.  49.  65. 263. 248. 296. 214. 185.  78.  93. 252. 150.\n",
            "  77. 208.  77. 108. 160.  53. 220. 154. 259.  90. 246. 124.  67.  72.\n",
            " 257. 262. 275. 177.  71.  47. 187. 125.  78.  51. 258. 215. 303. 243.\n",
            "  91. 150. 310. 153. 346.  63.  89.  50.  39. 103. 308. 116. 145.  74.\n",
            "  45. 115. 264.  87. 202. 127. 182. 241.  66.  94. 283.  64. 102. 200.\n",
            " 265.  94. 230. 181. 156. 233.  60. 219.  80.  68. 332. 248.  84. 200.\n",
            "  55.  85.  89.  31. 129.  83. 275.  65. 198. 236. 253. 124.  44. 172.\n",
            " 114. 142. 109. 180. 144. 163. 147.  97. 220. 190. 109. 191. 122. 230.\n",
            " 242. 248. 249. 192. 131. 237.  78. 135. 244. 199. 270. 164.  72.  96.\n",
            " 306.  91. 214.  95. 216. 263. 178. 113. 200. 139. 139.  88. 148.  88.\n",
            " 243.  71.  77. 109. 272.  60.  54. 221.  90. 311. 281. 182. 321.  58.\n",
            " 262. 206. 233. 242. 123. 167.  63. 197.  71. 168. 140. 217. 121. 235.\n",
            " 245.  40.  52. 104. 132.  88.  69. 219.  72. 201. 110.  51. 277.  63.\n",
            " 118.  69. 273. 258.  43. 198. 242. 232. 175.  93. 168. 275. 293. 281.\n",
            "  72. 140. 189. 181. 209. 136. 261. 113. 131. 174. 257.  55.  84.  42.\n",
            " 146. 212. 233.  91. 111. 152. 120.  67. 310.  94. 183.  66. 173.  72.\n",
            "  49.  64.  48. 178. 104. 132. 220.  57.]\n"
          ]
        }
      ]
    },
    {
      "cell_type": "markdown",
      "source": [
        "10개의 feature와 target 데이터에는 당뇨병 수치가 저장되어 있다.  \n",
        "이 데이터를 학습하기 위해 data와 target을 따로 변수에 담아준다."
      ],
      "metadata": {
        "id": "WpBDTLgO9GCN"
      }
    },
    {
      "cell_type": "code",
      "source": [
        "df_X = diabetes.data\n",
        "df_y = diabetes.target\n",
        "print(type(df_X), type(df_y))"
      ],
      "metadata": {
        "colab": {
          "base_uri": "https://localhost:8080/"
        },
        "id": "trEa-lDZ9-oB",
        "outputId": "db9ade6e-ebf8-4de0-dd09-90213903f4d2"
      },
      "execution_count": 4,
      "outputs": [
        {
          "output_type": "stream",
          "name": "stdout",
          "text": [
            "<class 'numpy.ndarray'> <class 'numpy.ndarray'>\n"
          ]
        }
      ]
    },
    {
      "cell_type": "markdown",
      "source": [
        "사이킷런에서 제공해주는 데이터가 기본적으로 numpy array로 되어 있어서 따로 변환해줄 필요는 없다."
      ],
      "metadata": {
        "id": "qVOsb-XX_UUo"
      }
    },
    {
      "cell_type": "markdown",
      "source": [
        "## (2) train 데이터와 test 데이터로 분리하기  \n",
        "이제 train_test_split 함수를 이용해 학습용 데이터와 테스트용 데이터를 분리해주자."
      ],
      "metadata": {
        "id": "ypcazHlwAFGh"
      }
    },
    {
      "cell_type": "code",
      "source": [
        "train_X, test_X, train_y, test_y = train_test_split(df_X, df_y, test_size = 0.3, random_state=1)"
      ],
      "metadata": {
        "id": "LiLZGBoBXZYr"
      },
      "execution_count": 5,
      "outputs": []
    },
    {
      "cell_type": "markdown",
      "source": [
        "## (3) 모델 준비하기  \n",
        "이제 훈련용 데이터와 테스트용 데이터는 준비가 되었고, 데이터를 학습할 때 사용할 가중치와 편향값을 설정해주자.  \n",
        "해당 데이터셋은 10개의 칼럼을 가지고 있기 떄문에 가중치를 10개로 설정해야 한다. 일단 그 값은 랜덤하게 설정해 주도록 하자."
      ],
      "metadata": {
        "id": "5COAp-TnXqR2"
      }
    },
    {
      "cell_type": "code",
      "source": [
        "W = np.random.rand(10)\n",
        "b = np.random.rand()\n",
        "print(W, '\\n', b)"
      ],
      "metadata": {
        "colab": {
          "base_uri": "https://localhost:8080/"
        },
        "id": "9Y2m6qzZYeuI",
        "outputId": "a2fcf14c-e7be-4372-93d7-4e4fec50c740"
      },
      "execution_count": 6,
      "outputs": [
        {
          "output_type": "stream",
          "name": "stdout",
          "text": [
            "[0.95441264 0.00748603 0.33826393 0.84494274 0.47477139 0.60837151\n",
            " 0.92166063 0.39810356 0.65230502 0.04865568] \n",
            " 0.43232587755889773\n"
          ]
        }
      ]
    },
    {
      "cell_type": "markdown",
      "source": [
        "이제 준비된 가중치를 각 feature와 곱한 후 b와 함께 모두 더해준다.  \n",
        "구분하기 쉽게 함수로 구현해 보자."
      ],
      "metadata": {
        "id": "bxC2LPIsY6oN"
      }
    },
    {
      "cell_type": "code",
      "source": [
        "def model(X, W, b): # X는 학습할 데이터, W는 가중치, b는 상수값(편향)\n",
        "  predictions = 0\n",
        "  for i in range(10):\n",
        "    predictions += X[:, i] * W[i]\n",
        "  predictions += b\n",
        "  return predictions"
      ],
      "metadata": {
        "id": "aqRDNML5ZKBM"
      },
      "execution_count": 7,
      "outputs": []
    },
    {
      "cell_type": "markdown",
      "source": [
        "각 입력 데이터에 지금은 랜덤으로 설정되어 있는 가중치를 곱하여 예상 당뇨병 수치를 반환하게 된다."
      ],
      "metadata": {
        "id": "WhN5ccInaCN1"
      }
    },
    {
      "cell_type": "markdown",
      "source": [
        "위에서 데이터에 적용한 모델이 예측한 값을 더 나은 예측을 할 수 있게 하기 위해서는 최적의 가중치 값을 찾아야 한다. 우리는 가중치를 데이터에 적용하고 예측한 값과 실제 값을 비교하여 그 차이만큼 가중치를 조정해 나가야 한다.  \n",
        "그 과정에서 우리는 손실함수를 사용한다. 예측값과 실제 값의 차이에서 어떻게 가중치를 조정할 것이냐는 여러가지가 있는데 여기서는 오차의 제곱의 평균을 이용하는 MSE를 사용해 보자."
      ],
      "metadata": {
        "id": "v__0X-Dsaa7q"
      }
    },
    {
      "cell_type": "code",
      "source": [
        "def MSE(a, b):\n",
        "  return ((a - b) ** 2).mean() # a-b는 오차, 오차를 제곱하여 평균값을 리턴"
      ],
      "metadata": {
        "id": "gvD6KsT-buAc"
      },
      "execution_count": 8,
      "outputs": []
    },
    {
      "cell_type": "markdown",
      "source": [
        "이제 MSE함수를 사용하여 가중치의 값을 조정하기 위한 손실값을 계산하는 함수를 만들어보자."
      ],
      "metadata": {
        "id": "sSC4XlLbcFiN"
      }
    },
    {
      "cell_type": "code",
      "source": [
        "def loss(X, W, b, y):\n",
        "  predictions = model(X, W, b) # 모델을 이용해 값을 예측\n",
        "  L = MSE(predictions, y) # 실제 값과 예측값을 비교하여 MSE 값을 구함\n",
        "  return L"
      ],
      "metadata": {
        "id": "Film97i1cNdK"
      },
      "execution_count": 9,
      "outputs": []
    },
    {
      "cell_type": "markdown",
      "source": [
        "loss함수를 통해 MSE를 구했다. 이 때, MSE값이 0에 가까울 수록 좋은 예측을 했다고 볼 수 있을것이다. 현재의 가중치가 최적의 가중치보다 낮다면 음의 기울기를 가질 것이고 높다면 양의 기울기를 가질테니 현재의 기울기를 안다면 가중치를 어떻게 조정해야 할지 알 수 있다.  \n",
        "기울기를 구하는 공식을 함수를 통해 구현해 주도록 하자."
      ],
      "metadata": {
        "id": "0HhxBXcfcvVv"
      }
    },
    {
      "cell_type": "code",
      "source": [
        "def gradient(X, W, b, y):\n",
        "  N = len(W) # 가중치의 수\n",
        "\n",
        "  y_pred = model(X, W, b) # 값을 예측\n",
        "\n",
        "  dW = 1/N * 2 * X.T.dot(y_pred - y)\n",
        "\n",
        "  db = 2 * (y_pred - y).mean()\n",
        "\n",
        "  return dW, db"
      ],
      "metadata": {
        "id": "E_Vir8OikEHq"
      },
      "execution_count": 10,
      "outputs": []
    },
    {
      "cell_type": "markdown",
      "source": [
        "머신러닝에서는 학습의 정도에 영향을 미치는 여러 값 중에서 모델이 스스로 학습하는 것이 아닌 사람이 직접 사전에 정의해 주는 파라미터를 하이퍼 파라미터 라고 한다. 여기서 설정할 하이퍼 파라미터는 Learning rate 학습률이다.\n",
        "학습률은 다음 가중치 변경을 얼마나 할 것인지를 정한다.  \n",
        "최적의 학습률은 문제마다 다르고 보통 0.1, 0.01을 먼저 사용해 본다고 하니 0.01로 설정한다."
      ],
      "metadata": {
        "id": "ZqXmIioxl8p2"
      }
    },
    {
      "cell_type": "code",
      "source": [
        "LEARNING_RATE = 0.01"
      ],
      "metadata": {
        "id": "4LBkCWplm4oe"
      },
      "execution_count": 11,
      "outputs": []
    },
    {
      "cell_type": "markdown",
      "source": [
        "자 이제 여태 만든 함수들을 이용해 모델을 학습시켜 보자."
      ],
      "metadata": {
        "id": "DnHHD9XmnM6G"
      }
    },
    {
      "cell_type": "code",
      "source": [
        "losses = []\n",
        "\n",
        "for i in range(1, 2001):\n",
        "  dW, db = gradient(train_X, W, b, train_y)\n",
        "  W -= (LEARNING_RATE * dW)\n",
        "  b -= (LEARNING_RATE * db)\n",
        "  L = loss(train_X, W, b, train_y)\n",
        "  losses.append(L)\n",
        "  if i % 10 == 0:\n",
        "    print('Iteration %d : Loss %0.4f' % (i, L))"
      ],
      "metadata": {
        "colab": {
          "base_uri": "https://localhost:8080/"
        },
        "id": "BB3SqizLnK3j",
        "outputId": "96e8ba9b-2c1b-4449-bc9e-d160cc47f346"
      },
      "execution_count": 12,
      "outputs": [
        {
          "output_type": "stream",
          "name": "stdout",
          "text": [
            "Iteration 10 : Loss 21728.5388\n",
            "Iteration 20 : Loss 16221.8672\n",
            "Iteration 30 : Loss 12495.3151\n",
            "Iteration 40 : Loss 9961.3613\n",
            "Iteration 50 : Loss 8227.4607\n",
            "Iteration 60 : Loss 7031.2321\n",
            "Iteration 70 : Loss 6197.2019\n",
            "Iteration 80 : Loss 5607.9324\n",
            "Iteration 90 : Loss 5184.7507\n",
            "Iteration 100 : Loss 4874.8847\n",
            "Iteration 110 : Loss 4642.8751\n",
            "Iteration 120 : Loss 4464.8412\n",
            "Iteration 130 : Loss 4324.6519\n",
            "Iteration 140 : Loss 4211.3676\n",
            "Iteration 150 : Loss 4117.5313\n",
            "Iteration 160 : Loss 4038.0264\n",
            "Iteration 170 : Loss 3969.3122\n",
            "Iteration 180 : Loss 3908.9129\n",
            "Iteration 190 : Loss 3855.0744\n",
            "Iteration 200 : Loss 3806.5352\n",
            "Iteration 210 : Loss 3762.3711\n",
            "Iteration 220 : Loss 3721.8916\n",
            "Iteration 230 : Loss 3684.5695\n",
            "Iteration 240 : Loss 3649.9931\n",
            "Iteration 250 : Loss 3617.8338\n",
            "Iteration 260 : Loss 3587.8236\n",
            "Iteration 270 : Loss 3559.7400\n",
            "Iteration 280 : Loss 3533.3946\n",
            "Iteration 290 : Loss 3508.6262\n",
            "Iteration 300 : Loss 3485.2947\n",
            "Iteration 310 : Loss 3463.2774\n",
            "Iteration 320 : Loss 3442.4656\n",
            "Iteration 330 : Loss 3422.7630\n",
            "Iteration 340 : Loss 3404.0834\n",
            "Iteration 350 : Loss 3386.3492\n",
            "Iteration 360 : Loss 3369.4907\n",
            "Iteration 370 : Loss 3353.4449\n",
            "Iteration 380 : Loss 3338.1548\n",
            "Iteration 390 : Loss 3323.5684\n",
            "Iteration 400 : Loss 3309.6388\n",
            "Iteration 410 : Loss 3296.3228\n",
            "Iteration 420 : Loss 3283.5815\n",
            "Iteration 430 : Loss 3271.3789\n",
            "Iteration 440 : Loss 3259.6822\n",
            "Iteration 450 : Loss 3248.4614\n",
            "Iteration 460 : Loss 3237.6889\n",
            "Iteration 470 : Loss 3227.3392\n",
            "Iteration 480 : Loss 3217.3890\n",
            "Iteration 490 : Loss 3207.8166\n",
            "Iteration 500 : Loss 3198.6021\n",
            "Iteration 510 : Loss 3189.7270\n",
            "Iteration 520 : Loss 3181.1742\n",
            "Iteration 530 : Loss 3172.9278\n",
            "Iteration 540 : Loss 3164.9730\n",
            "Iteration 550 : Loss 3157.2960\n",
            "Iteration 560 : Loss 3149.8839\n",
            "Iteration 570 : Loss 3142.7249\n",
            "Iteration 580 : Loss 3135.8075\n",
            "Iteration 590 : Loss 3129.1214\n",
            "Iteration 600 : Loss 3122.6566\n",
            "Iteration 610 : Loss 3116.4038\n",
            "Iteration 620 : Loss 3110.3542\n",
            "Iteration 630 : Loss 3104.4997\n",
            "Iteration 640 : Loss 3098.8325\n",
            "Iteration 650 : Loss 3093.3451\n",
            "Iteration 660 : Loss 3088.0307\n",
            "Iteration 670 : Loss 3082.8826\n",
            "Iteration 680 : Loss 3077.8946\n",
            "Iteration 690 : Loss 3073.0608\n",
            "Iteration 700 : Loss 3068.3754\n",
            "Iteration 710 : Loss 3063.8332\n",
            "Iteration 720 : Loss 3059.4289\n",
            "Iteration 730 : Loss 3055.1578\n",
            "Iteration 740 : Loss 3051.0151\n",
            "Iteration 750 : Loss 3046.9964\n",
            "Iteration 760 : Loss 3043.0974\n",
            "Iteration 770 : Loss 3039.3141\n",
            "Iteration 780 : Loss 3035.6425\n",
            "Iteration 790 : Loss 3032.0789\n",
            "Iteration 800 : Loss 3028.6197\n",
            "Iteration 810 : Loss 3025.2615\n",
            "Iteration 820 : Loss 3022.0010\n",
            "Iteration 830 : Loss 3018.8349\n",
            "Iteration 840 : Loss 3015.7603\n",
            "Iteration 850 : Loss 3012.7742\n",
            "Iteration 860 : Loss 3009.8738\n",
            "Iteration 870 : Loss 3007.0563\n",
            "Iteration 880 : Loss 3004.3191\n",
            "Iteration 890 : Loss 3001.6598\n",
            "Iteration 900 : Loss 2999.0758\n",
            "Iteration 910 : Loss 2996.5648\n",
            "Iteration 920 : Loss 2994.1246\n",
            "Iteration 930 : Loss 2991.7530\n",
            "Iteration 940 : Loss 2989.4478\n",
            "Iteration 950 : Loss 2987.2071\n",
            "Iteration 960 : Loss 2985.0289\n",
            "Iteration 970 : Loss 2982.9112\n",
            "Iteration 980 : Loss 2980.8523\n",
            "Iteration 990 : Loss 2978.8504\n",
            "Iteration 1000 : Loss 2976.9037\n",
            "Iteration 1010 : Loss 2975.0106\n",
            "Iteration 1020 : Loss 2973.1695\n",
            "Iteration 1030 : Loss 2971.3789\n",
            "Iteration 1040 : Loss 2969.6372\n",
            "Iteration 1050 : Loss 2967.9431\n",
            "Iteration 1060 : Loss 2966.2950\n",
            "Iteration 1070 : Loss 2964.6917\n",
            "Iteration 1080 : Loss 2963.1319\n",
            "Iteration 1090 : Loss 2961.6142\n",
            "Iteration 1100 : Loss 2960.1374\n",
            "Iteration 1110 : Loss 2958.7004\n",
            "Iteration 1120 : Loss 2957.3020\n",
            "Iteration 1130 : Loss 2955.9410\n",
            "Iteration 1140 : Loss 2954.6165\n",
            "Iteration 1150 : Loss 2953.3272\n",
            "Iteration 1160 : Loss 2952.0723\n",
            "Iteration 1170 : Loss 2950.8508\n",
            "Iteration 1180 : Loss 2949.6616\n",
            "Iteration 1190 : Loss 2948.5038\n",
            "Iteration 1200 : Loss 2947.3767\n",
            "Iteration 1210 : Loss 2946.2792\n",
            "Iteration 1220 : Loss 2945.2106\n",
            "Iteration 1230 : Loss 2944.1700\n",
            "Iteration 1240 : Loss 2943.1566\n",
            "Iteration 1250 : Loss 2942.1697\n",
            "Iteration 1260 : Loss 2941.2085\n",
            "Iteration 1270 : Loss 2940.2724\n",
            "Iteration 1280 : Loss 2939.3605\n",
            "Iteration 1290 : Loss 2938.4723\n",
            "Iteration 1300 : Loss 2937.6070\n",
            "Iteration 1310 : Loss 2936.7641\n",
            "Iteration 1320 : Loss 2935.9428\n",
            "Iteration 1330 : Loss 2935.1427\n",
            "Iteration 1340 : Loss 2934.3631\n",
            "Iteration 1350 : Loss 2933.6034\n",
            "Iteration 1360 : Loss 2932.8631\n",
            "Iteration 1370 : Loss 2932.1417\n",
            "Iteration 1380 : Loss 2931.4386\n",
            "Iteration 1390 : Loss 2930.7534\n",
            "Iteration 1400 : Loss 2930.0856\n",
            "Iteration 1410 : Loss 2929.4346\n",
            "Iteration 1420 : Loss 2928.8000\n",
            "Iteration 1430 : Loss 2928.1814\n",
            "Iteration 1440 : Loss 2927.5784\n",
            "Iteration 1450 : Loss 2926.9905\n",
            "Iteration 1460 : Loss 2926.4172\n",
            "Iteration 1470 : Loss 2925.8583\n",
            "Iteration 1480 : Loss 2925.3134\n",
            "Iteration 1490 : Loss 2924.7819\n",
            "Iteration 1500 : Loss 2924.2637\n",
            "Iteration 1510 : Loss 2923.7583\n",
            "Iteration 1520 : Loss 2923.2654\n",
            "Iteration 1530 : Loss 2922.7846\n",
            "Iteration 1540 : Loss 2922.3157\n",
            "Iteration 1550 : Loss 2921.8583\n",
            "Iteration 1560 : Loss 2921.4121\n",
            "Iteration 1570 : Loss 2920.9768\n",
            "Iteration 1580 : Loss 2920.5521\n",
            "Iteration 1590 : Loss 2920.1378\n",
            "Iteration 1600 : Loss 2919.7335\n",
            "Iteration 1610 : Loss 2919.3391\n",
            "Iteration 1620 : Loss 2918.9542\n",
            "Iteration 1630 : Loss 2918.5786\n",
            "Iteration 1640 : Loss 2918.2121\n",
            "Iteration 1650 : Loss 2917.8543\n",
            "Iteration 1660 : Loss 2917.5052\n",
            "Iteration 1670 : Loss 2917.1644\n",
            "Iteration 1680 : Loss 2916.8318\n",
            "Iteration 1690 : Loss 2916.5071\n",
            "Iteration 1700 : Loss 2916.1901\n",
            "Iteration 1710 : Loss 2915.8807\n",
            "Iteration 1720 : Loss 2915.5786\n",
            "Iteration 1730 : Loss 2915.2836\n",
            "Iteration 1740 : Loss 2914.9956\n",
            "Iteration 1750 : Loss 2914.7144\n",
            "Iteration 1760 : Loss 2914.4398\n",
            "Iteration 1770 : Loss 2914.1716\n",
            "Iteration 1780 : Loss 2913.9097\n",
            "Iteration 1790 : Loss 2913.6539\n",
            "Iteration 1800 : Loss 2913.4041\n",
            "Iteration 1810 : Loss 2913.1600\n",
            "Iteration 1820 : Loss 2912.9217\n",
            "Iteration 1830 : Loss 2912.6888\n",
            "Iteration 1840 : Loss 2912.4614\n",
            "Iteration 1850 : Loss 2912.2391\n",
            "Iteration 1860 : Loss 2912.0220\n",
            "Iteration 1870 : Loss 2911.8099\n",
            "Iteration 1880 : Loss 2911.6026\n",
            "Iteration 1890 : Loss 2911.4000\n",
            "Iteration 1900 : Loss 2911.2021\n",
            "Iteration 1910 : Loss 2911.0087\n",
            "Iteration 1920 : Loss 2910.8196\n",
            "Iteration 1930 : Loss 2910.6348\n",
            "Iteration 1940 : Loss 2910.4542\n",
            "Iteration 1950 : Loss 2910.2777\n",
            "Iteration 1960 : Loss 2910.1051\n",
            "Iteration 1970 : Loss 2909.9365\n",
            "Iteration 1980 : Loss 2909.7715\n",
            "Iteration 1990 : Loss 2909.6103\n",
            "Iteration 2000 : Loss 2909.4526\n"
          ]
        }
      ]
    },
    {
      "cell_type": "markdown",
      "source": [
        "2000번 학습시켜 준 결과 Loss가 거의 2900에 수렴하는 것을 확인할 수 있다.  \n",
        "이제 테스트 데이터를 이용해 값을 예측해보고 손실함수를 통해 실제 값과의 Loss를 측정해 보자."
      ],
      "metadata": {
        "id": "J6mFE-hdoIqq"
      }
    },
    {
      "cell_type": "code",
      "source": [
        ""
      ],
      "metadata": {
        "id": "Q-uBlSt2LItU"
      },
      "execution_count": 12,
      "outputs": []
    },
    {
      "cell_type": "code",
      "source": [
        "pred = model(test_X, W, b)\n",
        "mse = loss(test_X, W, b, test_y)\n",
        "print(mse)"
      ],
      "metadata": {
        "colab": {
          "base_uri": "https://localhost:8080/"
        },
        "id": "FPpaFnxHo43L",
        "outputId": "aec2a7c9-dad0-4bb2-e61f-67677710e3ff"
      },
      "execution_count": 13,
      "outputs": [
        {
          "output_type": "stream",
          "name": "stdout",
          "text": [
            "2844.9264798996473\n"
          ]
        }
      ]
    },
    {
      "cell_type": "markdown",
      "source": [
        "예측에 대한 손실함수 계산 결과도 2844로 2900과 비슷한 값이 나온다.  \n",
        "학습이 잘 되었는지 시각화를 한번 해보고 싶은데 입력 데이터가 너무 많아서 모든 항목을 그래프로 표현하기가 힘들다. 아쉬운대로 칼럼을 하나씩 이용해서 시각화 해보자."
      ],
      "metadata": {
        "id": "V19MrbXgpIKx"
      }
    },
    {
      "cell_type": "code",
      "source": [
        "plt.scatter(test_X[:, 0], pred)\n",
        "plt.scatter(test_X[:, 0], test_y)\n",
        "plt.show()"
      ],
      "metadata": {
        "colab": {
          "base_uri": "https://localhost:8080/",
          "height": 265
        },
        "id": "7wn2bfscpgJe",
        "outputId": "45820cc9-9bd1-4ddf-97a8-ef4ff88be724"
      },
      "execution_count": 14,
      "outputs": [
        {
          "output_type": "display_data",
          "data": {
            "text/plain": [
              "<Figure size 432x288 with 1 Axes>"
            ],
            "image/png": "[encoded data removed]"
          },
          "metadata": {
            "needs_background": "light"
          }
        }
      ]
    },
    {
      "cell_type": "markdown",
      "source": [
        "다른 칼럼들도 한번 보자."
      ],
      "metadata": {
        "id": "ro3v-Kjosv3m"
      }
    },
    {
      "cell_type": "code",
      "source": [
        "plt.scatter(test_X[:, 1], pred)\n",
        "plt.scatter(test_X[:, 1], test_y)\n",
        "plt.show()"
      ],
      "metadata": {
        "colab": {
          "base_uri": "https://localhost:8080/",
          "height": 265
        },
        "id": "8lcY6Kvysxux",
        "outputId": "a2980a05-b54d-4d14-cd14-c8994e7bccae"
      },
      "execution_count": 15,
      "outputs": [
        {
          "output_type": "display_data",
          "data": {
            "text/plain": [
              "<Figure size 432x288 with 1 Axes>"
            ],
            "image/png": "[encoded data removed]"
          },
          "metadata": {
            "needs_background": "light"
          }
        }
      ]
    },
    {
      "cell_type": "code",
      "source": [
        "plt.scatter(test_X[:, 2], pred)\n",
        "plt.scatter(test_X[:, 2], test_y)\n",
        "plt.show()"
      ],
      "metadata": {
        "colab": {
          "base_uri": "https://localhost:8080/",
          "height": 265
        },
        "id": "6oGahom6sZmA",
        "outputId": "f7908665-e5b8-4901-9c12-eef09c99bbc4"
      },
      "execution_count": 16,
      "outputs": [
        {
          "output_type": "display_data",
          "data": {
            "text/plain": [
              "<Figure size 432x288 with 1 Axes>"
            ],
            "image/png": "[encoded data removed]"
          },
          "metadata": {
            "needs_background": "light"
          }
        }
      ]
    },
    {
      "cell_type": "markdown",
      "source": [
        "성별 칼럼은 두가지로 밖에 분류되지 않아서 구분이 잘 안되지만 다른 그래프는 예측값과 실제 데이터가 비슷하게 분포되어 있는 것 같다.\n"
      ],
      "metadata": {
        "id": "HRfO2RhEsWCd"
      }
    },
    {
      "cell_type": "markdown",
      "source": [
        "# 프로젝트 2 : 날씨 좋은 월요일 오후 세 시, 자전거 타는 사람은 몇 명?"
      ],
      "metadata": {
        "id": "xwK8vk0FtbDX"
      }
    },
    {
      "cell_type": "markdown",
      "source": [
        "이번에는 캐글 경진대회에서 제공되는 데이터셋을 이용해서 시간, 온도, 습도, 계절 등의 정보가 담긴 데이터를 통해 자전거 대여량을 예측하는 모델을 만들어 보자.  \n",
        "LMS 주피터 노트북의 데이터를 받아서 코랩에 직접 업로드하여 진행할 것이다."
      ],
      "metadata": {
        "id": "5FfVTGAJuzDd"
      }
    },
    {
      "cell_type": "code",
      "source": [
        "bicycle = pd.read_csv('./bicycle/train.csv')"
      ],
      "metadata": {
        "id": "FkMDnlhB31fd"
      },
      "execution_count": 17,
      "outputs": []
    },
    {
      "cell_type": "code",
      "source": [
        "print(bicycle)"
      ],
      "metadata": {
        "colab": {
          "base_uri": "https://localhost:8080/"
        },
        "id": "pqBIMLwdxKbm",
        "outputId": "8d291da7-0f67-4aa3-9593-b9c301209364"
      },
      "execution_count": 18,
      "outputs": [
        {
          "output_type": "stream",
          "name": "stdout",
          "text": [
            "                  datetime  season  holiday  workingday  weather   temp  \\\n",
            "0      2011-01-01 00:00:00       1        0           0        1   9.84   \n",
            "1      2011-01-01 01:00:00       1        0           0        1   9.02   \n",
            "2      2011-01-01 02:00:00       1        0           0        1   9.02   \n",
            "3      2011-01-01 03:00:00       1        0           0        1   9.84   \n",
            "4      2011-01-01 04:00:00       1        0           0        1   9.84   \n",
            "...                    ...     ...      ...         ...      ...    ...   \n",
            "10881  2012-12-19 19:00:00       4        0           1        1  15.58   \n",
            "10882  2012-12-19 20:00:00       4        0           1        1  14.76   \n",
            "10883  2012-12-19 21:00:00       4        0           1        1  13.94   \n",
            "10884  2012-12-19 22:00:00       4        0           1        1  13.94   \n",
            "10885  2012-12-19 23:00:00       4        0           1        1  13.12   \n",
            "\n",
            "        atemp  humidity  windspeed  casual  registered  count  \n",
            "0      14.395        81     0.0000       3          13     16  \n",
            "1      13.635        80     0.0000       8          32     40  \n",
            "2      13.635        80     0.0000       5          27     32  \n",
            "3      14.395        75     0.0000       3          10     13  \n",
            "4      14.395        75     0.0000       0           1      1  \n",
            "...       ...       ...        ...     ...         ...    ...  \n",
            "10881  19.695        50    26.0027       7         329    336  \n",
            "10882  17.425        57    15.0013      10         231    241  \n",
            "10883  15.910        61    15.0013       4         164    168  \n",
            "10884  17.425        61     6.0032      12         117    129  \n",
            "10885  16.665        66     8.9981       4          84     88  \n",
            "\n",
            "[10886 rows x 12 columns]\n"
          ]
        }
      ]
    },
    {
      "cell_type": "markdown",
      "source": [
        "pandas의 read_csv()함수를 통해 바로 dataFrame 형식의 자전거 대여 데이터세트를 불러왔다. 여기서 우리가 학습할 target은 count이다.  \n",
        "특징중에 datetime은 문자열 데이터라 학습시키려면 년,월,일 등의 항목을 나눠주는 것이 좋을것 같다. "
      ],
      "metadata": {
        "id": "BOW3rRPyx9Lf"
      }
    },
    {
      "cell_type": "code",
      "source": [
        "print(type(bicycle['datetime'][0]))\n",
        "\n",
        "bicycle['datetime'] = pd.to_datetime(bicycle['datetime'])\n",
        "\n",
        "print(type(bicycle['datetime'][0]))"
      ],
      "metadata": {
        "colab": {
          "base_uri": "https://localhost:8080/"
        },
        "id": "4YXATWQB1pfy",
        "outputId": "8155d660-9ce0-46e9-f372-d1a80be4de10"
      },
      "execution_count": 19,
      "outputs": [
        {
          "output_type": "stream",
          "name": "stdout",
          "text": [
            "<class 'str'>\n",
            "<class 'pandas._libs.tslibs.timestamps.Timestamp'>\n"
          ]
        }
      ]
    },
    {
      "cell_type": "markdown",
      "source": [
        "일단 문자열을 to_datetime()을 이용해 날짜 형식의 데이터로 변경하고 날짜 형식의 데이터에서는 쉽게 연, 월, 일 등을 불러올 수 있다. 이제 날짜 데이터를 이용해서 각 칼럼을 추가해 주자."
      ],
      "metadata": {
        "id": "pcMOHJ3s2n5e"
      }
    },
    {
      "cell_type": "code",
      "source": [
        "bicycle['year'] = bicycle['datetime'].dt.year\n",
        "bicycle['month'] = bicycle['datetime'].dt.month\n",
        "bicycle['day'] = bicycle['datetime'].dt.day\n",
        "bicycle['hour'] = bicycle['datetime'].dt.hour\n",
        "bicycle['minute'] = bicycle['datetime'].dt.minute\n",
        "bicycle['second'] = bicycle['datetime'].dt.second"
      ],
      "metadata": {
        "id": "19WJDdDh29cj"
      },
      "execution_count": 20,
      "outputs": []
    },
    {
      "cell_type": "code",
      "source": [
        "bicycle.head()"
      ],
      "metadata": {
        "colab": {
          "base_uri": "https://localhost:8080/",
          "height": 206
        },
        "id": "esWZe2b33Unr",
        "outputId": "92f5655d-846e-4b10-ec93-c6b16ac53295"
      },
      "execution_count": 21,
      "outputs": [
        {
          "output_type": "execute_result",
          "data": {
            "text/plain": [
              "             datetime  season  holiday  workingday  weather  temp   atemp  \\\n",
              "0 2011-01-01 00:00:00       1        0           0        1  9.84  14.395   \n",
              "1 2011-01-01 01:00:00       1        0           0        1  9.02  13.635   \n",
              "2 2011-01-01 02:00:00       1        0           0        1  9.02  13.635   \n",
              "3 2011-01-01 03:00:00       1        0           0        1  9.84  14.395   \n",
              "4 2011-01-01 04:00:00       1        0           0        1  9.84  14.395   \n",
              "\n",
              "   humidity  windspeed  casual  registered  count  year  month  day  hour  \\\n",
              "0        81        0.0       3          13     16  2011      1    1     0   \n",
              "1        80        0.0       8          32     40  2011      1    1     1   \n",
              "2        80        0.0       5          27     32  2011      1    1     2   \n",
              "3        75        0.0       3          10     13  2011      1    1     3   \n",
              "4        75        0.0       0           1      1  2011      1    1     4   \n",
              "\n",
              "   minute  second  \n",
              "0       0       0  \n",
              "1       0       0  \n",
              "2       0       0  \n",
              "3       0       0  \n",
              "4       0       0  "
            ],
            "text/html": [
              "\n",
              "  <div id=\"df-1a2da6fe-895c-4d21-9b86-14bd7db96f03\">\n",
              "    <div class=\"colab-df-container\">\n",
              "      <div>\n",
              "<style scoped>\n",
              "    .dataframe tbody tr th:only-of-type {\n",
              "        vertical-align: middle;\n",
              "    }\n",
              "\n",
              "    .dataframe tbody tr th {\n",
              "        vertical-align: top;\n",
              "    }\n",
              "\n",
              "    .dataframe thead th {\n",
              "        text-align: right;\n",
              "    }\n",
              "</style>\n",
              "<table border=\"1\" class=\"dataframe\">\n",
              "  <thead>\n",
              "    <tr style=\"text-align: right;\">\n",
              "      <th></th>\n",
              "      <th>datetime</th>\n",
              "      <th>season</th>\n",
              "      <th>holiday</th>\n",
              "      <th>workingday</th>\n",
              "      <th>weather</th>\n",
              "      <th>temp</th>\n",
              "      <th>atemp</th>\n",
              "      <th>humidity</th>\n",
              "      <th>windspeed</th>\n",
              "      <th>casual</th>\n",
              "      <th>registered</th>\n",
              "      <th>count</th>\n",
              "      <th>year</th>\n",
              "      <th>month</th>\n",
              "      <th>day</th>\n",
              "      <th>hour</th>\n",
              "      <th>minute</th>\n",
              "      <th>second</th>\n",
              "    </tr>\n",
              "  </thead>\n",
              "  <tbody>\n",
              "    <tr>\n",
              "      <th>0</th>\n",
              "      <td>2011-01-01 00:00:00</td>\n",
              "      <td>1</td>\n",
              "      <td>0</td>\n",
              "      <td>0</td>\n",
              "      <td>1</td>\n",
              "      <td>9.84</td>\n",
              "      <td>14.395</td>\n",
              "      <td>81</td>\n",
              "      <td>0.0</td>\n",
              "      <td>3</td>\n",
              "      <td>13</td>\n",
              "      <td>16</td>\n",
              "      <td>2011</td>\n",
              "      <td>1</td>\n",
              "      <td>1</td>\n",
              "      <td>0</td>\n",
              "      <td>0</td>\n",
              "      <td>0</td>\n",
              "    </tr>\n",
              "    <tr>\n",
              "      <th>1</th>\n",
              "      <td>2011-01-01 01:00:00</td>\n",
              "      <td>1</td>\n",
              "      <td>0</td>\n",
              "      <td>0</td>\n",
              "      <td>1</td>\n",
              "      <td>9.02</td>\n",
              "      <td>13.635</td>\n",
              "      <td>80</td>\n",
              "      <td>0.0</td>\n",
              "      <td>8</td>\n",
              "      <td>32</td>\n",
              "      <td>40</td>\n",
              "      <td>2011</td>\n",
              "      <td>1</td>\n",
              "      <td>1</td>\n",
              "      <td>1</td>\n",
              "      <td>0</td>\n",
              "      <td>0</td>\n",
              "    </tr>\n",
              "    <tr>\n",
              "      <th>2</th>\n",
              "      <td>2011-01-01 02:00:00</td>\n",
              "      <td>1</td>\n",
              "      <td>0</td>\n",
              "      <td>0</td>\n",
              "      <td>1</td>\n",
              "      <td>9.02</td>\n",
              "      <td>13.635</td>\n",
              "      <td>80</td>\n",
              "      <td>0.0</td>\n",
              "      <td>5</td>\n",
              "      <td>27</td>\n",
              "      <td>32</td>\n",
              "      <td>2011</td>\n",
              "      <td>1</td>\n",
              "      <td>1</td>\n",
              "      <td>2</td>\n",
              "      <td>0</td>\n",
              "      <td>0</td>\n",
              "    </tr>\n",
              "    <tr>\n",
              "      <th>3</th>\n",
              "      <td>2011-01-01 03:00:00</td>\n",
              "      <td>1</td>\n",
              "      <td>0</td>\n",
              "      <td>0</td>\n",
              "      <td>1</td>\n",
              "      <td>9.84</td>\n",
              "      <td>14.395</td>\n",
              "      <td>75</td>\n",
              "      <td>0.0</td>\n",
              "      <td>3</td>\n",
              "      <td>10</td>\n",
              "      <td>13</td>\n",
              "      <td>2011</td>\n",
              "      <td>1</td>\n",
              "      <td>1</td>\n",
              "      <td>3</td>\n",
              "      <td>0</td>\n",
              "      <td>0</td>\n",
              "    </tr>\n",
              "    <tr>\n",
              "      <th>4</th>\n",
              "      <td>2011-01-01 04:00:00</td>\n",
              "      <td>1</td>\n",
              "      <td>0</td>\n",
              "      <td>0</td>\n",
              "      <td>1</td>\n",
              "      <td>9.84</td>\n",
              "      <td>14.395</td>\n",
              "      <td>75</td>\n",
              "      <td>0.0</td>\n",
              "      <td>0</td>\n",
              "      <td>1</td>\n",
              "      <td>1</td>\n",
              "      <td>2011</td>\n",
              "      <td>1</td>\n",
              "      <td>1</td>\n",
              "      <td>4</td>\n",
              "      <td>0</td>\n",
              "      <td>0</td>\n",
              "    </tr>\n",
              "  </tbody>\n",
              "</table>\n",
              "</div>\n",
              "      <button class=\"colab-df-convert\" onclick=\"convertToInteractive('df-1a2da6fe-895c-4d21-9b86-14bd7db96f03')\"\n",
              "              title=\"Convert this dataframe to an interactive table.\"\n",
              "              style=\"display:none;\">\n",
              "        \n",
              "  <svg xmlns=\"http://www.w3.org/2000/svg\" height=\"24px\"viewBox=\"0 0 24 24\"\n",
              "       width=\"24px\">\n",
              "    <path d=\"M0 0h24v24H0V0z\" fill=\"none\"/>\n",
              "    <path d=\"M18.56 5.44l.94 2.06.94-2.06 2.06-.94-2.06-.94-.94-2.06-.94 2.06-2.06.94zm-11 1L8.5 8.5l.94-2.06 2.06-.94-2.06-.94L8.5 2.5l-.94 2.06-2.06.94zm10 10l.94 2.06.94-2.06 2.06-.94-2.06-.94-.94-2.06-.94 2.06-2.06.94z\"/><path d=\"M17.41 7.96l-1.37-1.37c-.4-.4-.92-.59-1.43-.59-.52 0-1.04.2-1.43.59L10.3 9.45l-7.72 7.72c-.78.78-.78 2.05 0 2.83L4 21.41c.39.39.9.59 1.41.59.51 0 1.02-.2 1.41-.59l7.78-7.78 2.81-2.81c.8-.78.8-2.07 0-2.86zM5.41 20L4 18.59l7.72-7.72 1.47 1.35L5.41 20z\"/>\n",
              "  </svg>\n",
              "      </button>\n",
              "      \n",
              "  <style>\n",
              "    .colab-df-container {\n",
              "      display:flex;\n",
              "      flex-wrap:wrap;\n",
              "      gap: 12px;\n",
              "    }\n",
              "\n",
              "    .colab-df-convert {\n",
              "      background-color: #E8F0FE;\n",
              "      border: none;\n",
              "      border-radius: 50%;\n",
              "      cursor: pointer;\n",
              "      display: none;\n",
              "      fill: #1967D2;\n",
              "      height: 32px;\n",
              "      padding: 0 0 0 0;\n",
              "      width: 32px;\n",
              "    }\n",
              "\n",
              "    .colab-df-convert:hover {\n",
              "      background-color: #E2EBFA;\n",
              "      box-shadow: 0px 1px 2px rgba(60, 64, 67, 0.3), 0px 1px 3px 1px rgba(60, 64, 67, 0.15);\n",
              "      fill: #174EA6;\n",
              "    }\n",
              "\n",
              "    [theme=dark] .colab-df-convert {\n",
              "      background-color: #3B4455;\n",
              "      fill: #D2E3FC;\n",
              "    }\n",
              "\n",
              "    [theme=dark] .colab-df-convert:hover {\n",
              "      background-color: #434B5C;\n",
              "      box-shadow: 0px 1px 3px 1px rgba(0, 0, 0, 0.15);\n",
              "      filter: drop-shadow(0px 1px 2px rgba(0, 0, 0, 0.3));\n",
              "      fill: #FFFFFF;\n",
              "    }\n",
              "  </style>\n",
              "\n",
              "      <script>\n",
              "        const buttonEl =\n",
              "          document.querySelector('#df-1a2da6fe-895c-4d21-9b86-14bd7db96f03 button.colab-df-convert');\n",
              "        buttonEl.style.display =\n",
              "          google.colab.kernel.accessAllowed ? 'block' : 'none';\n",
              "\n",
              "        async function convertToInteractive(key) {\n",
              "          const element = document.querySelector('#df-1a2da6fe-895c-4d21-9b86-14bd7db96f03');\n",
              "          const dataTable =\n",
              "            await google.colab.kernel.invokeFunction('convertToInteractive',\n",
              "                                                     [key], {});\n",
              "          if (!dataTable) return;\n",
              "\n",
              "          const docLinkHtml = 'Like what you see? Visit the ' +\n",
              "            '<a target=\"_blank\" href=https://colab.research.google.com/notebooks/data_table.ipynb>data table notebook</a>'\n",
              "            + ' to learn more about interactive tables.';\n",
              "          element.innerHTML = '';\n",
              "          dataTable['output_type'] = 'display_data';\n",
              "          await google.colab.output.renderOutput(dataTable, element);\n",
              "          const docLink = document.createElement('div');\n",
              "          docLink.innerHTML = docLinkHtml;\n",
              "          element.appendChild(docLink);\n",
              "        }\n",
              "      </script>\n",
              "    </div>\n",
              "  </div>\n",
              "  "
            ]
          },
          "metadata": {},
          "execution_count": 21
        }
      ]
    },
    {
      "cell_type": "markdown",
      "source": [
        "성공적으로 문자열 데이터에서 날짜 데이터를 6개의 칼럼으로 분리했다. 이제 분리해낸 이 날짜데이터를 한번 시각화 해보자."
      ],
      "metadata": {
        "id": "KMX9B6bi3djz"
      }
    },
    {
      "cell_type": "code",
      "source": [
        "f, ax = plt.subplots(2, 3, figsize = (26, 14))\n",
        "sns.countplot('year', data=bicycle, ax=ax[0, 0])\n",
        "ax[0, 0].set_title('year count plot')\n",
        "sns.countplot('month', data=bicycle, ax=ax[0, 1])\n",
        "ax[0, 1].set_title('month count plot')\n",
        "sns.countplot('day', data=bicycle, ax=ax[0, 2])\n",
        "ax[0, 2].set_title('day count plot')\n",
        "sns.countplot('hour', data=bicycle, ax=ax[1, 0])\n",
        "ax[1, 0].set_title('hour count plot')\n",
        "sns.countplot('minute', data=bicycle, ax=ax[1, 1])\n",
        "ax[1, 1].set_title('minute count plot')\n",
        "sns.countplot('second', data=bicycle, ax=ax[1, 2])\n",
        "ax[1, 2].set_title('second count plot')\n",
        "plt.show()"
      ],
      "metadata": {
        "colab": {
          "base_uri": "https://localhost:8080/",
          "height": 1000
        },
        "id": "h_hlvDdF39A4",
        "outputId": "a6cabfe6-2214-4926-bed1-71014fac632e"
      },
      "execution_count": 22,
      "outputs": [
        {
          "output_type": "stream",
          "name": "stderr",
          "text": [
            "/usr/local/lib/python3.7/dist-packages/seaborn/_decorators.py:43: FutureWarning: Pass the following variable as a keyword arg: x. From version 0.12, the only valid positional argument will be `data`, and passing other arguments without an explicit keyword will result in an error or misinterpretation.\n",
            "  FutureWarning\n",
            "/usr/local/lib/python3.7/dist-packages/seaborn/_decorators.py:43: FutureWarning: Pass the following variable as a keyword arg: x. From version 0.12, the only valid positional argument will be `data`, and passing other arguments without an explicit keyword will result in an error or misinterpretation.\n",
            "  FutureWarning\n",
            "/usr/local/lib/python3.7/dist-packages/seaborn/_decorators.py:43: FutureWarning: Pass the following variable as a keyword arg: x. From version 0.12, the only valid positional argument will be `data`, and passing other arguments without an explicit keyword will result in an error or misinterpretation.\n",
            "  FutureWarning\n",
            "/usr/local/lib/python3.7/dist-packages/seaborn/_decorators.py:43: FutureWarning: Pass the following variable as a keyword arg: x. From version 0.12, the only valid positional argument will be `data`, and passing other arguments without an explicit keyword will result in an error or misinterpretation.\n",
            "  FutureWarning\n",
            "/usr/local/lib/python3.7/dist-packages/seaborn/_decorators.py:43: FutureWarning: Pass the following variable as a keyword arg: x. From version 0.12, the only valid positional argument will be `data`, and passing other arguments without an explicit keyword will result in an error or misinterpretation.\n",
            "  FutureWarning\n",
            "/usr/local/lib/python3.7/dist-packages/seaborn/_decorators.py:43: FutureWarning: Pass the following variable as a keyword arg: x. From version 0.12, the only valid positional argument will be `data`, and passing other arguments without an explicit keyword will result in an error or misinterpretation.\n",
            "  FutureWarning\n"
          ]
        },
        {
          "output_type": "display_data",
          "data": {
            "text/plain": [
              "<Figure size 1872x1008 with 6 Axes>"
            ],
            "image/png": "[encoded data removed]"
          },
          "metadata": {
            "needs_background": "light"
          }
        }
      ]
    },
    {
      "cell_type": "markdown",
      "source": [
        "LMS에서 countplot을 사용해 보라고 해서 사용해 봤는데 이건 어느 날짜에 대한 수만 나온거라 뭔가 알만한 정보가 없다.  \n",
        "각 항목별로 count의 평균을 구해서 막대그래프로 표시해보자."
      ],
      "metadata": {
        "id": "JEtxGBk6L0vf"
      }
    },
    {
      "cell_type": "code",
      "source": [
        "f, ax = plt.subplots(2, 3, figsize = (26, 14))\n",
        "sns.barplot('year', 'count', data=bicycle, ax=ax[0, 0])\n",
        "ax[0, 0].set_title('year count plot')\n",
        "sns.barplot('month', 'count', data=bicycle, ax=ax[0, 1])\n",
        "ax[0, 1].set_title('month count plot')\n",
        "sns.barplot('day', 'count', data=bicycle, ax=ax[0, 2])\n",
        "ax[0, 2].set_title('day count plot')\n",
        "sns.barplot('hour', 'count', data=bicycle, ax=ax[1, 0])\n",
        "ax[1, 0].set_title('hour count plot')\n",
        "sns.barplot('minute', 'count', data=bicycle, ax=ax[1, 1])\n",
        "ax[1, 1].set_title('minute count plot')\n",
        "sns.barplot('second', 'count', data=bicycle, ax=ax[1, 2])\n",
        "ax[1, 2].set_title('second count plot')\n",
        "plt.show()"
      ],
      "metadata": {
        "colab": {
          "base_uri": "https://localhost:8080/",
          "height": 1000
        },
        "id": "fExkMf9eMGjp",
        "outputId": "7c08c072-728c-4948-da1c-215a7cbf2055"
      },
      "execution_count": 23,
      "outputs": [
        {
          "output_type": "stream",
          "name": "stderr",
          "text": [
            "/usr/local/lib/python3.7/dist-packages/seaborn/_decorators.py:43: FutureWarning: Pass the following variables as keyword args: x, y. From version 0.12, the only valid positional argument will be `data`, and passing other arguments without an explicit keyword will result in an error or misinterpretation.\n",
            "  FutureWarning\n",
            "/usr/local/lib/python3.7/dist-packages/seaborn/_decorators.py:43: FutureWarning: Pass the following variables as keyword args: x, y. From version 0.12, the only valid positional argument will be `data`, and passing other arguments without an explicit keyword will result in an error or misinterpretation.\n",
            "  FutureWarning\n",
            "/usr/local/lib/python3.7/dist-packages/seaborn/_decorators.py:43: FutureWarning: Pass the following variables as keyword args: x, y. From version 0.12, the only valid positional argument will be `data`, and passing other arguments without an explicit keyword will result in an error or misinterpretation.\n",
            "  FutureWarning\n",
            "/usr/local/lib/python3.7/dist-packages/seaborn/_decorators.py:43: FutureWarning: Pass the following variables as keyword args: x, y. From version 0.12, the only valid positional argument will be `data`, and passing other arguments without an explicit keyword will result in an error or misinterpretation.\n",
            "  FutureWarning\n",
            "/usr/local/lib/python3.7/dist-packages/seaborn/_decorators.py:43: FutureWarning: Pass the following variables as keyword args: x, y. From version 0.12, the only valid positional argument will be `data`, and passing other arguments without an explicit keyword will result in an error or misinterpretation.\n",
            "  FutureWarning\n",
            "/usr/local/lib/python3.7/dist-packages/seaborn/_decorators.py:43: FutureWarning: Pass the following variables as keyword args: x, y. From version 0.12, the only valid positional argument will be `data`, and passing other arguments without an explicit keyword will result in an error or misinterpretation.\n",
            "  FutureWarning\n"
          ]
        },
        {
          "output_type": "display_data",
          "data": {
            "text/plain": [
              "<Figure size 1872x1008 with 6 Axes>"
            ],
            "image/png": "[encoded data removed]"
          },
          "metadata": {
            "needs_background": "light"
          }
        }
      ]
    },
    {
      "cell_type": "markdown",
      "source": [
        "hour를 보니 출,퇴근 시간에 자전거 대여수가 많아지고 6~10월 정도에 대여수가 많아진다. minute, second는 모든 값이 00이니 제거해 주도록 하자."
      ],
      "metadata": {
        "id": "JDRcKbJQ5W23"
      }
    },
    {
      "cell_type": "code",
      "source": [
        "bicycle.drop(labels=['minute', 'second', 'datetime'], axis=1, inplace=True)"
      ],
      "metadata": {
        "id": "EVYwLY9l5Gvn"
      },
      "execution_count": 24,
      "outputs": []
    },
    {
      "cell_type": "markdown",
      "source": [
        "다른 데이터를 한번 살펴보자.  \n",
        "대부분 날짜와 날씨에 관련된 데이터지만 회원수와 비회원 수가 있다. 사실 이 두 값을 더하면 count가 된다. 이 값들은 결과에 너무 큰 영향을 줄 것 같으니 여기서는 한번 제외해보자."
      ],
      "metadata": {
        "id": "K9EsgeHn6Key"
      }
    },
    {
      "cell_type": "code",
      "source": [
        "bicycle.drop(labels=['casual', 'registered'], axis=1, inplace=True)"
      ],
      "metadata": {
        "id": "AG7brMkSCkpp"
      },
      "execution_count": 25,
      "outputs": []
    },
    {
      "cell_type": "markdown",
      "source": [
        "이제 train과 test셋으로 데이터를 분리한다."
      ],
      "metadata": {
        "id": "qfDDi2c8ER3V"
      }
    },
    {
      "cell_type": "code",
      "source": [
        "train_X, test_X, train_y, test_y = train_test_split(bicycle.drop(labels='count', axis=1), bicycle['count'].values, test_size=0.25, random_state=0)"
      ],
      "metadata": {
        "id": "scltyh79EUDo"
      },
      "execution_count": 26,
      "outputs": []
    },
    {
      "cell_type": "markdown",
      "source": [
        "이제 학습을 시켜보자.  \n",
        "이번에는 코드를 직접 작성하지 않고 sklearn에서 제공하는 Linear Regression 모델을 불러와서 간단하게 학습시켜 보도록 하자.  \n",
        "분리된 train을 이용해서 모델에 학습(fit)시키고 test를 이용해서 결과를 예측(predict)한다."
      ],
      "metadata": {
        "id": "7RtX_nH5RSjA"
      }
    },
    {
      "cell_type": "code",
      "source": [
        "from sklearn.linear_model import LinearRegression\n",
        "\n",
        "model = LinearRegression()\n",
        "model.fit(train_X, train_y)\n",
        "pred = model.predict(test_X)"
      ],
      "metadata": {
        "id": "AFCZDHAnGDkh"
      },
      "execution_count": 27,
      "outputs": []
    },
    {
      "cell_type": "markdown",
      "source": [
        "Linear Regression 모델에 대한 학습과 예측이 아주 간단하게 끝냈다. \n",
        "pred에는 해당 모델을 학습시켜 얻어낸 가중치를 이용해서 test_X 데이터의 예상 자전거 대여수를 예측한 값이 들어간다.  \n",
        "예측한 모델의 Loss를 한번 계산해 보자.  \n",
        "이번에는 RMSE를 구하는 손실함수를 구현해 볼건데, RMSE는 아까 구했던 MSE에 제곱근의 형식만 적용해 주면 간단하게 구할 수 있다."
      ],
      "metadata": {
        "id": "ylLUJF3je-Ol"
      }
    },
    {
      "cell_type": "code",
      "source": [
        "def loss_by_MSE_RMSE(pred, y):\n",
        "  mse = ((pred - y) ** 2).mean()\n",
        "  rmse = mse ** 0.5\n",
        "  return mse, rmse"
      ],
      "metadata": {
        "id": "kKNkE1rCHUmR"
      },
      "execution_count": 28,
      "outputs": []
    },
    {
      "cell_type": "code",
      "source": [
        "mse, rmse = loss_by_MSE_RMSE(pred, test_y)\n",
        "print('MSE :', mse)\n",
        "print('RMSE :', rmse)"
      ],
      "metadata": {
        "colab": {
          "base_uri": "https://localhost:8080/"
        },
        "id": "ioBa8fu9H5dW",
        "outputId": "5b1af0b9-82d7-4468-fa24-113d02347885"
      },
      "execution_count": 29,
      "outputs": [
        {
          "output_type": "stream",
          "name": "stdout",
          "text": [
            "MSE : 19770.628526805787\n",
            "RMSE : 140.60806707584663\n"
          ]
        }
      ]
    },
    {
      "cell_type": "markdown",
      "source": [
        "MSE는 19770, RMSE는 140 정도가 나온다.  \n",
        "이제 예측 결과를 scatter plot으로 시각화 해보자.  \n",
        "데이터가 너무 많아서 pred와 실제 값을 함께 뽑으니 너무 정신이 없어서 따로 출력하도록 한다."
      ],
      "metadata": {
        "id": "Fs6ovyL6ylAm"
      }
    },
    {
      "cell_type": "code",
      "source": [
        "plt.scatter(test_X['temp'], pred)\n",
        "plt.show()"
      ],
      "metadata": {
        "colab": {
          "base_uri": "https://localhost:8080/",
          "height": 265
        },
        "id": "RNhxuMLSHehS",
        "outputId": "0d55c6bf-3a18-4f8b-9933-3b1036167b5e"
      },
      "execution_count": 30,
      "outputs": [
        {
          "output_type": "display_data",
          "data": {
            "text/plain": [
              "<Figure size 432x288 with 1 Axes>"
            ],
            "image/png": "[encoded data removed]"
          },
          "metadata": {
            "needs_background": "light"
          }
        }
      ]
    },
    {
      "cell_type": "code",
      "source": [
        "plt.scatter(test_X['temp'], test_y)\n",
        "plt.show()"
      ],
      "metadata": {
        "colab": {
          "base_uri": "https://localhost:8080/",
          "height": 265
        },
        "id": "2YFWOpuj-L2e",
        "outputId": "6aa1298f-df7f-463b-d5af-1eec9c907c45"
      },
      "execution_count": 31,
      "outputs": [
        {
          "output_type": "display_data",
          "data": {
            "text/plain": [
              "<Figure size 432x288 with 1 Axes>"
            ],
            "image/png": "[encoded data removed]"
          },
          "metadata": {
            "needs_background": "light"
          }
        }
      ]
    },
    {
      "cell_type": "code",
      "source": [
        "plt.scatter(test_X['humidity'], pred)\n",
        "plt.show()"
      ],
      "metadata": {
        "colab": {
          "base_uri": "https://localhost:8080/",
          "height": 265
        },
        "id": "4YanjzgpJXmh",
        "outputId": "b20863ee-f7a3-4485-f898-a4c8e7184e0f"
      },
      "execution_count": 32,
      "outputs": [
        {
          "output_type": "display_data",
          "data": {
            "text/plain": [
              "<Figure size 432x288 with 1 Axes>"
            ],
            "image/png": "[encoded data removed]"
          },
          "metadata": {
            "needs_background": "light"
          }
        }
      ]
    },
    {
      "cell_type": "code",
      "source": [
        "plt.scatter(test_X['humidity'], test_y)\n",
        "plt.show()"
      ],
      "metadata": {
        "colab": {
          "base_uri": "https://localhost:8080/",
          "height": 265
        },
        "id": "b5OkOTiX-T29",
        "outputId": "77032218-d486-44c0-c5d5-9b304d32f1c2"
      },
      "execution_count": 33,
      "outputs": [
        {
          "output_type": "display_data",
          "data": {
            "text/plain": [
              "<Figure size 432x288 with 1 Axes>"
            ],
            "image/png": "[encoded data removed]"
          },
          "metadata": {
            "needs_background": "light"
          }
        }
      ]
    },
    {
      "cell_type": "markdown",
      "source": [
        "각각 온도와 습도에 대한 count 예측값과 실제 값을 비교해 보았는데 예측값에서 음수의 값이 나오고 있다. 음수가 나온 부분을 자르고 보면 전체적인 분포도가 비슷한 것 같다."
      ],
      "metadata": {
        "id": "6D53PDT6BoOE"
      }
    },
    {
      "cell_type": "markdown",
      "source": [
        "## 회고\n",
        "- 자전거 대여수를 예측하는 문제이기 때문에 예측값이 음수가 나오면 안될것 같은데 음수가 나온다. 캐글필사에서 같은 문제를 다루고 있으니 이 부분을 개선시켜 볼 수 있으면 좋을 것 같다.\n",
        "- 회귀문제에서의 예측값 시각화를 여기서는 scatter로 진행했는데 데이터 수가 많아지니까 점이 겹쳐서 너무 지저분하게 보인다. 더 좋은 방법이 없을까 싶어서 찾아보다가 scatterplot에서 jitter를 사용하면 조금 정돈된 결과를 볼 수 있다고 하는데 원래 값이 변형된다고 해서 적용을 하지는 않았다. 다른 좋은 방법이 있으면 적용해 보고 싶다.\n",
        "- 회원, 비회원 칼럼을 제외하지 않고 학습을 하면 어떨지 궁금해서 제외하지 않은 채로 돌려봤는데 예상대로 거의 결과와 일치하는 학습결과과 나왔다. 이 많은 특징중에서 결과와 관련되는 값을 찾아서 그 값에 맞춰서 학습이 진행된다는 것이 신기했다."
      ],
      "metadata": {
        "id": "wHsCwV0aEB3X"
      }
    }
  ]
}