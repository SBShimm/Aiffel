{
  "cells": [
    {
      "cell_type": "markdown",
      "metadata": {
        "id": "view-in-github",
        "colab_type": "text"
      },
      "source": [
        "<a href=\"https://colab.research.google.com/github/SBShimm/Aiffel/blob/master/exploration/Exploration5_SB.ipynb\" target=\"_parent\"><img src=\"https://colab.research.google.com/assets/colab-badge.svg\" alt=\"Open In Colab\"/></a>"
      ]
    },
    {
      "cell_type": "markdown",
      "metadata": {
        "id": "3KF8iCDtdLPp"
      },
      "source": [
        "# 가위바위보 분류기를 만들자!\n"
      ]
    },
    {
      "cell_type": "code",
      "execution_count": 1,
      "metadata": {
        "id": "mMK9FkQac8w0"
      },
      "outputs": [],
      "source": [
        "import tensorflow as tf\n",
        "from tensorflow import keras\n",
        "import tensorflow_datasets as tfds\n",
        "import numpy as np\n",
        "from PIL import Image\n",
        "import glob\n",
        "import matplotlib.pyplot as plt"
      ]
    },
    {
      "cell_type": "markdown",
      "metadata": {
        "id": "D8csz7mGlVOI"
      },
      "source": [
        "## 1. 데이터 준비하기\n",
        "우선 가위바위보 이미지를 불러와서 224x224인 이미지를 28x28로 변환해 주겠습니다."
      ]
    },
    {
      "cell_type": "code",
      "execution_count": 2,
      "metadata": {
        "colab": {
          "base_uri": "https://localhost:8080/"
        },
        "id": "R38QKOD_eDKJ",
        "outputId": "bf1a554c-dd97-4096-b4dc-968a50d0936c"
      },
      "outputs": [
        {
          "output_type": "stream",
          "name": "stdout",
          "text": [
            "100  images to be resized.\n",
            "100  images resized.\n"
          ]
        }
      ],
      "source": [
        "def resize_images(img_path):\n",
        "\timages=glob.glob(img_path + \"/*.jpg\")  \n",
        "    \n",
        "\tprint(len(images), \" images to be resized.\")\n",
        "\n",
        "\ttarget_size=(28,28)\n",
        "\tfor img in images:\n",
        "\t\told_img=Image.open(img)\n",
        "\t\tnew_img=old_img.resize(target_size,Image.ANTIALIAS)\n",
        "\t\tnew_img.save(img, \"JPEG\")\n",
        "    \n",
        "\tprint(len(images), \" images resized.\")\n",
        "\t\n",
        "image_dir_path = \"/content/drive/MyDrive/Colab/Datasets/rock_scissor_paper/scissor\"\n",
        "resize_images(image_dir_path)"
      ]
    },
    {
      "cell_type": "code",
      "execution_count": 3,
      "metadata": {
        "colab": {
          "base_uri": "https://localhost:8080/"
        },
        "id": "RCYaLzIwkwPS",
        "outputId": "8aaf3cb0-6927-40b3-edc3-e7b47fbcd1f2"
      },
      "outputs": [
        {
          "output_type": "stream",
          "name": "stdout",
          "text": [
            "100  images to be resized.\n",
            "100  images resized.\n",
            "100  images to be resized.\n",
            "100  images resized.\n"
          ]
        }
      ],
      "source": [
        "image_dir_path = \"/content/drive/MyDrive/Colab/Datasets/rock_scissor_paper/rock\"\n",
        "resize_images(image_dir_path)\n",
        "image_dir_path = \"/content/drive/MyDrive/Colab/Datasets/rock_scissor_paper/paper\"\n",
        "resize_images(image_dir_path)"
      ]
    },
    {
      "cell_type": "markdown",
      "metadata": {
        "id": "GvjG6XQOmC6y"
      },
      "source": [
        "다음으로 모든 이미지를 불러와서 훈련 데이터로 지정하고 정답지를 생성해 주겠습니다.\n",
        "가위는 0, 바위는 1, 보는 2 입니다."
      ]
    },
    {
      "cell_type": "code",
      "execution_count": 4,
      "metadata": {
        "colab": {
          "base_uri": "https://localhost:8080/"
        },
        "id": "ith2FP5kmCYE",
        "outputId": "97b8e241-dc9e-410a-cffe-d734a9722d62"
      },
      "outputs": [
        {
          "output_type": "stream",
          "name": "stdout",
          "text": [
            "학습데이터(x_train)의 이미지 개수는 300 입니다.\n",
            "x_train shape: (300, 28, 28, 3)\n",
            "y_train shape: (300,)\n"
          ]
        }
      ],
      "source": [
        "def load_data(img_path, number_of_data=300, img_size=28):  # 가위바위보 이미지 개수 총합에 주의하세요.\n",
        "    # 가위 : 0, 바위 : 1, 보 : 2\n",
        "    color=3\n",
        "    #이미지 데이터와 라벨(가위 : 0, 바위 : 1, 보 : 2) 데이터를 담을 행렬(matrix) 영역을 생성합니다.\n",
        "    imgs=np.zeros(number_of_data*img_size*img_size*color,dtype=np.int32).reshape(number_of_data,img_size,img_size,color)\n",
        "    labels=np.zeros(number_of_data,dtype=np.int32)\n",
        "\n",
        "    idx=0\n",
        "    for file in glob.iglob(img_path+'/scissor/*.jpg'):\n",
        "        img = np.array(Image.open(file),dtype=np.int32)\n",
        "        imgs[idx,:,:,:]=img    # 데이터 영역에 이미지 행렬을 복사\n",
        "        labels[idx]=0   # 가위 : 0\n",
        "        idx=idx+1\n",
        "\n",
        "    for file in glob.iglob(img_path+'/rock/*.jpg'):\n",
        "        img = np.array(Image.open(file),dtype=np.int32)\n",
        "        imgs[idx,:,:,:]=img    # 데이터 영역에 이미지 행렬을 복사\n",
        "        labels[idx]=1   # 바위 : 1\n",
        "        idx=idx+1  \n",
        "    \n",
        "    for file in glob.iglob(img_path+'/paper/*.jpg'):\n",
        "        img = np.array(Image.open(file),dtype=np.int32)\n",
        "        imgs[idx,:,:,:]=img    # 데이터 영역에 이미지 행렬을 복사\n",
        "        labels[idx]=2   # 보 : 2\n",
        "        idx=idx+1\n",
        "        \n",
        "    print(\"학습데이터(x_train)의 이미지 개수는\", idx,\"입니다.\")\n",
        "    return imgs, labels\n",
        "\n",
        "image_dir_path = \"/content/drive/MyDrive/Colab/Datasets/rock_scissor_paper\"\n",
        "(x_train, y_train)=load_data(image_dir_path)\n",
        "x_train_norm = x_train/255.0   # 입력은 0~1 사이의 값으로 정규화\n",
        "\n",
        "print(\"x_train shape: {}\".format(x_train.shape))\n",
        "print(\"y_train shape: {}\".format(y_train.shape))"
      ]
    },
    {
      "cell_type": "markdown",
      "metadata": {
        "id": "BBnVTqP-msVP"
      },
      "source": [
        "불러온 이미지를 확인해 보면 아래와 같습니다."
      ]
    },
    {
      "cell_type": "code",
      "execution_count": 5,
      "metadata": {
        "colab": {
          "base_uri": "https://localhost:8080/",
          "height": 283
        },
        "id": "iAW-4tbrmuPm",
        "outputId": "444ea7a8-3af0-4d27-b4ba-18fae077e7e0"
      },
      "outputs": [
        {
          "output_type": "stream",
          "name": "stdout",
          "text": [
            "라벨:  0\n"
          ]
        },
        {
          "output_type": "display_data",
          "data": {
            "text/plain": [
              "<Figure size 432x288 with 1 Axes>"
            ],
            "image/png": "[encoded data removed]"
          },
          "metadata": {
            "needs_background": "light"
          }
        }
      ],
      "source": [
        "plt.imshow(x_train[0])\n",
        "print('라벨: ', y_train[0])"
      ]
    },
    {
      "cell_type": "markdown",
      "metadata": {
        "id": "jytKWO3knE5Y"
      },
      "source": [
        "## 2. 딥러닝 네트워크 설계\n",
        "이제 준비된 데이터를 학습시켜 보겠습니다. 이전 노드에서 진행했던 대로 2개의 합성곱 계층 + 맥스 풀링 계층과 하나의 어파인 계층을 사용하도록 하겠습니다.  \n",
        "크기가 28x28에 3가지로 분류해야 하니 해당 값들만 바꿔주겠습니다."
      ]
    },
    {
      "cell_type": "code",
      "execution_count": 6,
      "metadata": {
        "colab": {
          "base_uri": "https://localhost:8080/"
        },
        "id": "jzEAet3qn98H",
        "outputId": "9fc6038f-4901-4b56-815b-4d6d634148b6"
      },
      "outputs": [
        {
          "output_type": "stream",
          "name": "stdout",
          "text": [
            "Model에 추가된 Layer 개수:  7\n",
            "Model: \"sequential\"\n",
            "_________________________________________________________________\n",
            " Layer (type)                Output Shape              Param #   \n",
            "=================================================================\n",
            " conv2d (Conv2D)             (None, 26, 26, 16)        448       \n",
            "                                                                 \n",
            " max_pooling2d (MaxPooling2D  (None, 13, 13, 16)       0         \n",
            " )                                                               \n",
            "                                                                 \n",
            " conv2d_1 (Conv2D)           (None, 11, 11, 32)        4640      \n",
            "                                                                 \n",
            " max_pooling2d_1 (MaxPooling  (None, 5, 5, 32)         0         \n",
            " 2D)                                                             \n",
            "                                                                 \n",
            " flatten (Flatten)           (None, 800)               0         \n",
            "                                                                 \n",
            " dense (Dense)               (None, 32)                25632     \n",
            "                                                                 \n",
            " dense_1 (Dense)             (None, 3)                 99        \n",
            "                                                                 \n",
            "=================================================================\n",
            "Total params: 30,819\n",
            "Trainable params: 30,819\n",
            "Non-trainable params: 0\n",
            "_________________________________________________________________\n"
          ]
        }
      ],
      "source": [
        "model=keras.models.Sequential()\n",
        "model.add(keras.layers.Conv2D(16, (3,3), activation='relu', input_shape=(28,28,3)))\n",
        "model.add(keras.layers.MaxPool2D(2,2))\n",
        "model.add(keras.layers.Conv2D(32, (3,3), activation='relu'))\n",
        "model.add(keras.layers.MaxPooling2D((2,2)))\n",
        "model.add(keras.layers.Flatten())\n",
        "model.add(keras.layers.Dense(32, activation='relu'))\n",
        "model.add(keras.layers.Dense(3, activation='softmax'))\n",
        "\n",
        "print('Model에 추가된 Layer 개수: ', len(model.layers))\n",
        "\n",
        "model.summary()"
      ]
    },
    {
      "cell_type": "code",
      "execution_count": 7,
      "metadata": {
        "colab": {
          "base_uri": "https://localhost:8080/"
        },
        "id": "Jh_SGQdroaV4",
        "outputId": "434f39b0-6345-467d-e3ba-ba14ab54acf2"
      },
      "outputs": [
        {
          "output_type": "stream",
          "name": "stdout",
          "text": [
            "Epoch 1/10\n",
            "10/10 [==============================] - 2s 5ms/step - loss: 8.9273 - accuracy: 0.3600\n",
            "Epoch 2/10\n",
            "10/10 [==============================] - 0s 4ms/step - loss: 2.0042 - accuracy: 0.4533\n",
            "Epoch 3/10\n",
            "10/10 [==============================] - 0s 4ms/step - loss: 0.5940 - accuracy: 0.7533\n",
            "Epoch 4/10\n",
            "10/10 [==============================] - 0s 3ms/step - loss: 0.2401 - accuracy: 0.9400\n",
            "Epoch 5/10\n",
            "10/10 [==============================] - 0s 3ms/step - loss: 0.1240 - accuracy: 0.9833\n",
            "Epoch 6/10\n",
            "10/10 [==============================] - 0s 3ms/step - loss: 0.0662 - accuracy: 0.9833\n",
            "Epoch 7/10\n",
            "10/10 [==============================] - 0s 3ms/step - loss: 0.0377 - accuracy: 1.0000\n",
            "Epoch 8/10\n",
            "10/10 [==============================] - 0s 3ms/step - loss: 0.0138 - accuracy: 1.0000\n",
            "Epoch 9/10\n",
            "10/10 [==============================] - 0s 3ms/step - loss: 0.0070 - accuracy: 1.0000\n",
            "Epoch 10/10\n",
            "10/10 [==============================] - 0s 4ms/step - loss: 0.0054 - accuracy: 1.0000\n"
          ]
        },
        {
          "output_type": "execute_result",
          "data": {
            "text/plain": [
              "<keras.callbacks.History at 0x7f8f3ee56510>"
            ]
          },
          "metadata": {},
          "execution_count": 7
        }
      ],
      "source": [
        "model.compile(optimizer='adam',\n",
        "             loss='sparse_categorical_crossentropy',\n",
        "             metrics=['accuracy'])\n",
        "\n",
        "model.fit(x_train, y_train, epochs=10)"
      ]
    },
    {
      "cell_type": "markdown",
      "metadata": {
        "id": "ugav4et0pR1G"
      },
      "source": [
        "## 3. 테스트해보기\n",
        "자 이제 테스트를 해보겠습니다. 데이터는 옆자리의 주미님의 이미지를 조금 빌렸습니다.  \n",
        "아까 했던 이미지 resize와 라벨링을 진행해주겠습니다.\n"
      ]
    },
    {
      "cell_type": "code",
      "execution_count": 8,
      "metadata": {
        "colab": {
          "base_uri": "https://localhost:8080/"
        },
        "id": "yFebidT-oaQo",
        "outputId": "c5412a0a-ee48-49d9-b0cc-e32988964e29"
      },
      "outputs": [
        {
          "output_type": "stream",
          "name": "stdout",
          "text": [
            "100  images to be resized.\n",
            "100  images resized.\n",
            "100  images to be resized.\n",
            "100  images resized.\n",
            "100  images to be resized.\n",
            "100  images resized.\n"
          ]
        }
      ],
      "source": [
        "resize_images('/content/drive/MyDrive/Colab/Datasets/rock_scissor_paper/jumi_rcp/scissor')\n",
        "resize_images('/content/drive/MyDrive/Colab/Datasets/rock_scissor_paper/jumi_rcp/rock')\n",
        "resize_images('/content/drive/MyDrive/Colab/Datasets/rock_scissor_paper/jumi_rcp/paper')"
      ]
    },
    {
      "cell_type": "code",
      "execution_count": 9,
      "metadata": {
        "colab": {
          "base_uri": "https://localhost:8080/"
        },
        "id": "LJgtbUHRsBz6",
        "outputId": "46062a04-a78d-4383-f6b1-414d57506e90"
      },
      "outputs": [
        {
          "output_type": "stream",
          "name": "stdout",
          "text": [
            "학습데이터(x_train)의 이미지 개수는 300 입니다.\n",
            "x_test shape: (300, 28, 28, 3)\n",
            "y_test shape: (300,)\n"
          ]
        }
      ],
      "source": [
        "(x_test, y_test)=load_data('/content/drive/MyDrive/Colab/Datasets/rock_scissor_paper/jumi_rcp/')\n",
        "x_test_norm = x_test/255.0   # 입력은 0~1 사이의 값으로 정규화\n",
        "\n",
        "print(\"x_test shape: {}\".format(x_test.shape))\n",
        "print(\"y_test shape: {}\".format(y_test.shape))"
      ]
    },
    {
      "cell_type": "code",
      "execution_count": 10,
      "metadata": {
        "colab": {
          "base_uri": "https://localhost:8080/"
        },
        "id": "WWKDwBJssdm6",
        "outputId": "201ea92c-1142-4a43-d909-ca0d23f54ab5"
      },
      "outputs": [
        {
          "output_type": "stream",
          "name": "stdout",
          "text": [
            "10/10 - 0s - loss: 2.1069 - accuracy: 0.5133 - 178ms/epoch - 18ms/step\n",
            "test_loss: 2.10685658454895 \n",
            "test_accuracy: 0.5133333206176758\n"
          ]
        }
      ],
      "source": [
        "test_loss, test_accuracy = model.evaluate(x_test, y_test, verbose=2)\n",
        "print(\"test_loss: {} \".format(test_loss))\n",
        "print(\"test_accuracy: {}\".format(test_accuracy))"
      ]
    },
    {
      "cell_type": "markdown",
      "metadata": {
        "id": "iNo2YUtlssR7"
      },
      "source": [
        "34%.... 굉장히 낮네요.. 한번 파라미터를 조정해서 수정해 볼까요?"
      ]
    },
    {
      "cell_type": "code",
      "execution_count": 11,
      "metadata": {
        "colab": {
          "base_uri": "https://localhost:8080/"
        },
        "id": "3mjwFGm4_4sN",
        "outputId": "21051ecd-d59c-47b1-d2da-a87bf8e08695"
      },
      "outputs": [
        {
          "output_type": "stream",
          "name": "stdout",
          "text": [
            "Epoch 1/20\n",
            "10/10 [==============================] - 0s 7ms/step - loss: 1.1041 - accuracy: 0.3833\n",
            "Epoch 2/20\n",
            "10/10 [==============================] - 0s 4ms/step - loss: 1.0636 - accuracy: 0.3600\n",
            "Epoch 3/20\n",
            "10/10 [==============================] - 0s 4ms/step - loss: 0.9828 - accuracy: 0.7767\n",
            "Epoch 4/20\n",
            "10/10 [==============================] - 0s 4ms/step - loss: 0.8920 - accuracy: 0.5633\n",
            "Epoch 5/20\n",
            "10/10 [==============================] - 0s 4ms/step - loss: 0.7023 - accuracy: 0.7800\n",
            "Epoch 6/20\n",
            "10/10 [==============================] - 0s 5ms/step - loss: 0.5356 - accuracy: 0.8067\n",
            "Epoch 7/20\n",
            "10/10 [==============================] - 0s 4ms/step - loss: 0.3787 - accuracy: 0.8633\n",
            "Epoch 8/20\n",
            "10/10 [==============================] - 0s 4ms/step - loss: 0.3094 - accuracy: 0.8900\n",
            "Epoch 9/20\n",
            "10/10 [==============================] - 0s 4ms/step - loss: 0.2261 - accuracy: 0.9467\n",
            "Epoch 10/20\n",
            "10/10 [==============================] - 0s 4ms/step - loss: 0.1822 - accuracy: 0.9500\n",
            "Epoch 11/20\n",
            "10/10 [==============================] - 0s 5ms/step - loss: 0.1165 - accuracy: 0.9733\n",
            "Epoch 12/20\n",
            "10/10 [==============================] - 0s 4ms/step - loss: 0.1008 - accuracy: 0.9733\n",
            "Epoch 13/20\n",
            "10/10 [==============================] - 0s 4ms/step - loss: 0.0706 - accuracy: 0.9933\n",
            "Epoch 14/20\n",
            "10/10 [==============================] - 0s 5ms/step - loss: 0.0410 - accuracy: 0.9967\n",
            "Epoch 15/20\n",
            "10/10 [==============================] - 0s 4ms/step - loss: 0.0269 - accuracy: 1.0000\n",
            "Epoch 16/20\n",
            "10/10 [==============================] - 0s 4ms/step - loss: 0.0247 - accuracy: 1.0000\n",
            "Epoch 17/20\n",
            "10/10 [==============================] - 0s 4ms/step - loss: 0.0178 - accuracy: 1.0000\n",
            "Epoch 18/20\n",
            "10/10 [==============================] - 0s 4ms/step - loss: 0.0139 - accuracy: 1.0000\n",
            "Epoch 19/20\n",
            "10/10 [==============================] - 0s 4ms/step - loss: 0.0162 - accuracy: 1.0000\n",
            "Epoch 20/20\n",
            "10/10 [==============================] - 0s 4ms/step - loss: 0.0105 - accuracy: 1.0000\n",
            "10/10 - 0s - loss: 2.6259 - accuracy: 0.3633 - 130ms/epoch - 13ms/step\n",
            "test_loss: 2.6258721351623535 \n",
            "test_accuracy: 0.3633333444595337\n"
          ]
        }
      ],
      "source": [
        "# 바꿔 볼 수 있는 하이퍼파라미터들\n",
        "n_channel_1=300\n",
        "n_channel_2=100\n",
        "n_dense=200\n",
        "n_train_epoch=20\n",
        "\n",
        "model=keras.models.Sequential()\n",
        "model.add(keras.layers.Conv2D(n_channel_1, (3,3), activation='relu', input_shape=(28,28,3)))\n",
        "model.add(keras.layers.MaxPool2D(3,3))\n",
        "model.add(keras.layers.Conv2D(n_channel_2, (3,3), activation='relu'))\n",
        "model.add(keras.layers.MaxPooling2D((3,3)))\n",
        "model.add(keras.layers.Flatten())\n",
        "model.add(keras.layers.Dense(n_dense, activation='relu'))\n",
        "model.add(keras.layers.Dense(3, activation='softmax'))\n",
        "\n",
        "model.compile(optimizer='adam',\n",
        "             loss='sparse_categorical_crossentropy',\n",
        "             metrics=['accuracy'])\n",
        "\n",
        "# 모델 훈련\n",
        "model.fit(x_train_norm, y_train, epochs=n_train_epoch)\n",
        "\n",
        "# 모델 시험\n",
        "test_loss, test_accuracy = model.evaluate(x_test_norm, y_test, verbose=2)\n",
        "print(\"test_loss: {} \".format(test_loss))\n",
        "print(\"test_accuracy: {}\".format(test_accuracy))"
      ]
    },
    {
      "cell_type": "code",
      "execution_count": 12,
      "metadata": {
        "colab": {
          "base_uri": "https://localhost:8080/"
        },
        "id": "kLNqzTBGJIOC",
        "outputId": "160abaad-a3f0-436b-da2b-ab574f4695f7"
      },
      "outputs": [
        {
          "output_type": "stream",
          "name": "stdout",
          "text": [
            "model.predict() 결과 :  [0.00644158 0.00938124 0.98417723]\n",
            "model이 추론한 가장 가능성이 높은 결과 :  2\n",
            "실제 데이터의 라벨 :  0\n"
          ]
        }
      ],
      "source": [
        "predicted_result = model.predict(x_test_norm)  # model이 추론한 확률값. \n",
        "predicted_labels = np.argmax(predicted_result, axis=1)\n",
        "\n",
        "idx=2  #1번째 x_test를 살펴보자. \n",
        "print('model.predict() 결과 : ', predicted_result[idx])\n",
        "print('model이 추론한 가장 가능성이 높은 결과 : ', predicted_labels[idx])\n",
        "print('실제 데이터의 라벨 : ', y_test[idx])"
      ]
    },
    {
      "cell_type": "markdown",
      "source": [
        "이건.. 전부 보로 밀었다고 봐도 될 것 같은데.. 학습이 뭔가 잘못되었나보다."
      ],
      "metadata": {
        "id": "g88RBvmWK05p"
      }
    },
    {
      "cell_type": "markdown",
      "metadata": {
        "id": "cU4FnWFgHfAZ"
      },
      "source": [
        "한번 60%가 넘긴 했는데 이게 돌릴 때마다 랜덤하게 나온다.. 흠.. 사진을 그레이화해서 한번 테스트 해보려고 한다."
      ]
    },
    {
      "cell_type": "code",
      "execution_count": 13,
      "metadata": {
        "id": "UuwjHFQRDpqI"
      },
      "outputs": [],
      "source": [
        "def load_data_gray(img_path, number_of_data=300):  # 가위바위보 이미지 개수 총합에 주의하세요.\n",
        "    # 가위 : 0, 바위 : 1, 보 : 2\n",
        "    img_size=28\n",
        "    color=1\n",
        "    imgs=np.zeros(number_of_data*img_size*img_size*color,dtype=np.int32).reshape(number_of_data,img_size,img_size,color)\n",
        "    labels=np.zeros(number_of_data,dtype=np.int32)\n",
        "\n",
        "    idx=0\n",
        "    for file in glob.iglob(img_path+'/scissor/*.jpg'):\n",
        "        img = np.array(Image.open(file).convert('L'),dtype=np.int32)\n",
        "        imgs[idx,:,:,:]=img.reshape(28, 28, 1)    # 데이터 영역에 이미지 행렬을 복사\n",
        "        labels[idx]=0   # 가위 : 0\n",
        "        idx=idx+1\n",
        "\n",
        "    for file in glob.iglob(img_path+'/rock/*.jpg'):\n",
        "        img = np.array(Image.open(file).convert('L'),dtype=np.int32)\n",
        "        imgs[idx,:,:,:]=img.reshape(28, 28, 1)    # 데이터 영역에 이미지 행렬을 복사\n",
        "        labels[idx]=1   # 바위 : 1\n",
        "        idx=idx+1  \n",
        "    \n",
        "    for file in glob.iglob(img_path+'/paper/*.jpg'):\n",
        "        img = np.array(Image.open(file).convert('L'),dtype=np.int32)\n",
        "        imgs[idx,:,:,:]=img.reshape(28, 28, 1)    # 데이터 영역에 이미지 행렬을 복사\n",
        "        labels[idx]=2   # 보 : 2\n",
        "        idx=idx+1\n",
        "        \n",
        "    print(\"학습데이터(x_train)의 이미지 개수는\", idx,\"입니다.\")\n",
        "    return imgs, labels"
      ]
    },
    {
      "cell_type": "code",
      "execution_count": 14,
      "metadata": {
        "colab": {
          "base_uri": "https://localhost:8080/"
        },
        "id": "ljtSHS1RD9U-",
        "outputId": "21ccc31f-d2e5-42da-a003-9c3f05c2de27"
      },
      "outputs": [
        {
          "output_type": "stream",
          "name": "stdout",
          "text": [
            "학습데이터(x_train)의 이미지 개수는 300 입니다.\n",
            "학습데이터(x_train)의 이미지 개수는 300 입니다.\n"
          ]
        }
      ],
      "source": [
        "x_train_gray, y_train_gray = load_data_gray('/content/drive/MyDrive/Colab/Datasets/rock_scissor_paper')\n",
        "x_test_gray, y_test_gray = load_data_gray('/content/drive/MyDrive/Colab/Datasets/rock_scissor_paper/jumi_rcp')"
      ]
    },
    {
      "cell_type": "code",
      "execution_count": 15,
      "metadata": {
        "id": "TZFTDJRNFH4t"
      },
      "outputs": [],
      "source": [
        "x_train_gray_norm = x_train_gray/255.0   # 입력은 0~1 사이의 값으로 정규화\n",
        "x_test_gray_norm = x_test_gray/255.0   # 입력은 0~1 사이의 값으로 정규화"
      ]
    },
    {
      "cell_type": "code",
      "execution_count": 16,
      "metadata": {
        "colab": {
          "base_uri": "https://localhost:8080/"
        },
        "id": "DWnr9VkzFD7A",
        "outputId": "5c7d8b0f-bcc6-412d-d2c9-5d3ec6a9f533"
      },
      "outputs": [
        {
          "output_type": "stream",
          "name": "stdout",
          "text": [
            "Epoch 1/20\n",
            "10/10 [==============================] - 1s 34ms/step - loss: 1.2461 - accuracy: 0.3333\n",
            "Epoch 2/20\n",
            "10/10 [==============================] - 0s 26ms/step - loss: 1.0918 - accuracy: 0.4267\n",
            "Epoch 3/20\n",
            "10/10 [==============================] - 0s 26ms/step - loss: 1.0720 - accuracy: 0.4400\n",
            "Epoch 4/20\n",
            "10/10 [==============================] - 0s 25ms/step - loss: 1.0112 - accuracy: 0.5833\n",
            "Epoch 5/20\n",
            "10/10 [==============================] - 0s 24ms/step - loss: 0.8055 - accuracy: 0.7600\n",
            "Epoch 6/20\n",
            "10/10 [==============================] - 0s 24ms/step - loss: 0.5490 - accuracy: 0.8500\n",
            "Epoch 7/20\n",
            "10/10 [==============================] - 0s 24ms/step - loss: 0.3773 - accuracy: 0.8733\n",
            "Epoch 8/20\n",
            "10/10 [==============================] - 0s 24ms/step - loss: 0.3741 - accuracy: 0.8667\n",
            "Epoch 9/20\n",
            "10/10 [==============================] - 0s 24ms/step - loss: 0.2523 - accuracy: 0.9033\n",
            "Epoch 10/20\n",
            "10/10 [==============================] - 0s 24ms/step - loss: 0.1597 - accuracy: 0.9500\n",
            "Epoch 11/20\n",
            "10/10 [==============================] - 0s 24ms/step - loss: 0.1101 - accuracy: 0.9800\n",
            "Epoch 12/20\n",
            "10/10 [==============================] - 0s 24ms/step - loss: 0.0749 - accuracy: 0.9867\n",
            "Epoch 13/20\n",
            "10/10 [==============================] - 0s 25ms/step - loss: 0.0589 - accuracy: 0.9900\n",
            "Epoch 14/20\n",
            "10/10 [==============================] - 0s 24ms/step - loss: 0.0392 - accuracy: 1.0000\n",
            "Epoch 15/20\n",
            "10/10 [==============================] - 0s 24ms/step - loss: 0.0336 - accuracy: 0.9967\n",
            "Epoch 16/20\n",
            "10/10 [==============================] - 0s 24ms/step - loss: 0.0262 - accuracy: 0.9967\n",
            "Epoch 17/20\n",
            "10/10 [==============================] - 0s 24ms/step - loss: 0.0180 - accuracy: 1.0000\n",
            "Epoch 18/20\n",
            "10/10 [==============================] - 0s 24ms/step - loss: 0.0212 - accuracy: 0.9967\n",
            "Epoch 19/20\n",
            "10/10 [==============================] - 0s 24ms/step - loss: 0.0125 - accuracy: 1.0000\n",
            "Epoch 20/20\n",
            "10/10 [==============================] - 0s 23ms/step - loss: 0.0092 - accuracy: 1.0000\n",
            "10/10 - 0s - loss: 6.1128 - accuracy: 0.3333 - 175ms/epoch - 17ms/step\n",
            "test_loss: 6.112752437591553 \n",
            "test_accuracy: 0.3333333432674408\n"
          ]
        }
      ],
      "source": [
        "# 바꿔 볼 수 있는 하이퍼파라미터들\n",
        "n_channel_1=1024\n",
        "n_channel_2=2048\n",
        "n_dense=512\n",
        "n_train_epoch=20\n",
        "\n",
        "model=keras.models.Sequential()\n",
        "model.add(keras.layers.Conv2D(n_channel_1, (3,3), activation='relu', input_shape=(28,28,1)))\n",
        "model.add(keras.layers.MaxPool2D(3,3))\n",
        "model.add(keras.layers.Conv2D(n_channel_2, (3,3), activation='relu'))\n",
        "model.add(keras.layers.MaxPooling2D((3,3)))\n",
        "model.add(keras.layers.Flatten())\n",
        "model.add(keras.layers.Dense(n_dense, activation='relu'))\n",
        "model.add(keras.layers.Dense(3, activation='softmax'))\n",
        "\n",
        "model.compile(optimizer='adam',\n",
        "             loss='sparse_categorical_crossentropy',\n",
        "             metrics=['accuracy'])\n",
        "\n",
        "# 모델 훈련\n",
        "model.fit(x_train_gray_norm, y_train, epochs=n_train_epoch)\n",
        "\n",
        "# 모델 시험\n",
        "test_loss, test_accuracy = model.evaluate(x_test_gray_norm, y_test, verbose=2)\n",
        "print(\"test_loss: {} \".format(test_loss))\n",
        "print(\"test_accuracy: {}\".format(test_accuracy))"
      ]
    },
    {
      "cell_type": "code",
      "source": [
        "predicted_result = model.predict(x_test_gray_norm)  # model이 추론한 확률값. \n",
        "predicted_labels = np.argmax(predicted_result, axis=1)\n",
        "\n",
        "idx=2  #1번째 x_test를 살펴보자. \n",
        "print('model.predict() 결과 : ', predicted_result[idx])\n",
        "print('model이 추론한 가장 가능성이 높은 결과 : ', predicted_labels[idx])\n",
        "print('실제 데이터의 라벨 : ', y_test[idx])"
      ],
      "metadata": {
        "colab": {
          "base_uri": "https://localhost:8080/"
        },
        "id": "wdw4L6mxLsyb",
        "outputId": "23b60a7c-5511-492e-8137-9590427f1bee"
      },
      "execution_count": 17,
      "outputs": [
        {
          "output_type": "stream",
          "name": "stdout",
          "text": [
            "model.predict() 결과 :  [3.4356668e-07 2.9353530e-04 9.9970609e-01]\n",
            "model이 추론한 가장 가능성이 높은 결과 :  2\n",
            "실제 데이터의 라벨 :  0\n"
          ]
        }
      ]
    },
    {
      "cell_type": "markdown",
      "metadata": {
        "id": "LP4rZMU-Hsu_"
      },
      "source": [
        "이것도 별 효과가 없다.. 여전히 보를 가장 많이 예측하고 있다.\n",
        "혹시나 싶어서 원본 데이터를 학습시켜서 예측해 보았다."
      ]
    },
    {
      "cell_type": "code",
      "execution_count": 18,
      "metadata": {
        "id": "zJXQxZ8GHw2S"
      },
      "outputs": [],
      "source": [
        "def load_data_one(img_path, number_of_data=300):  # 가위바위보 이미지 개수 총합에 주의하세요.\n",
        "    # 가위 : 0, 바위 : 1, 보 : 2\n",
        "    img_size=224\n",
        "    color=3\n",
        "    #이미지 데이터와 라벨(가위 : 0, 바위 : 1, 보 : 2) 데이터를 담을 행렬(matrix) 영역을 생성합니다.\n",
        "    imgs=np.zeros(number_of_data*img_size*img_size*color,dtype=np.int32).reshape(number_of_data,img_size,img_size,color)\n",
        "    labels=np.zeros(number_of_data,dtype=np.int32)\n",
        "\n",
        "    idx=0\n",
        "    for file in glob.iglob(img_path+'/scissor/*.jpg'):\n",
        "        img = np.array(Image.open(file),dtype=np.int32)\n",
        "        imgs[idx,:,:,:]=img    # 데이터 영역에 이미지 행렬을 복사\n",
        "        labels[idx]=0   # 가위 : 0\n",
        "        idx=idx+1\n",
        "\n",
        "    for file in glob.iglob(img_path+'/rock/*.jpg'):\n",
        "        img = np.array(Image.open(file),dtype=np.int32)\n",
        "        imgs[idx,:,:,:]=img    # 데이터 영역에 이미지 행렬을 복사\n",
        "        labels[idx]=1   # 바위 : 1\n",
        "        idx=idx+1  \n",
        "    \n",
        "    for file in glob.iglob(img_path+'/paper/*.jpg'):\n",
        "        img = np.array(Image.open(file),dtype=np.int32)\n",
        "        imgs[idx,:,:,:]=img    # 데이터 영역에 이미지 행렬을 복사\n",
        "        labels[idx]=2   # 보 : 2\n",
        "        idx=idx+1\n",
        "        \n",
        "    print(\"학습데이터(x_train)의 이미지 개수는\", idx,\"입니다.\")\n",
        "    return imgs, labels"
      ]
    },
    {
      "cell_type": "code",
      "execution_count": 19,
      "metadata": {
        "colab": {
          "base_uri": "https://localhost:8080/"
        },
        "id": "DdgzNcIbIED5",
        "outputId": "46931c32-5cb6-4ed2-c804-06d72df45028"
      },
      "outputs": [
        {
          "output_type": "stream",
          "name": "stdout",
          "text": [
            "학습데이터(x_train)의 이미지 개수는 300 입니다.\n",
            "학습데이터(x_train)의 이미지 개수는 300 입니다.\n"
          ]
        }
      ],
      "source": [
        "x_train_one, y_train = load_data_one('/content/drive/MyDrive/Colab/Datasets/rock_scissor_paper/one')\n",
        "x_test_one, y_test = load_data_one('/content/drive/MyDrive/Colab/Datasets/rock_scissor_paper/one/jumi_rcp')"
      ]
    },
    {
      "cell_type": "code",
      "source": [
        "plt.imshow(x_train_one[0])"
      ],
      "metadata": {
        "colab": {
          "base_uri": "https://localhost:8080/",
          "height": 287
        },
        "id": "vKPDXu9sMW3e",
        "outputId": "5c12bb3e-11c2-4b83-d55b-491cfc580b34"
      },
      "execution_count": 20,
      "outputs": [
        {
          "output_type": "execute_result",
          "data": {
            "text/plain": [
              "<matplotlib.image.AxesImage at 0x7f8eabe42790>"
            ]
          },
          "metadata": {},
          "execution_count": 20
        },
        {
          "output_type": "display_data",
          "data": {
            "text/plain": [
              "<Figure size 432x288 with 1 Axes>"
            ],
            "image/png": "[encoded data removed]"
          },
          "metadata": {
            "needs_background": "light"
          }
        }
      ]
    },
    {
      "cell_type": "markdown",
      "source": [
        "더욱 선명한 이 사진을 학습시키면 더 결과가 좋지 않을까?"
      ],
      "metadata": {
        "id": "tfr7Zny1MbeJ"
      }
    },
    {
      "cell_type": "code",
      "execution_count": 21,
      "metadata": {
        "id": "5G2qpwR1IYey"
      },
      "outputs": [],
      "source": [
        "x_train_one_norm = x_train_one/255.0   # 입력은 0~1 사이의 값으로 정규화\n",
        "x_test_one_norm = x_test_one/255.0   # 입력은 0~1 사이의 값으로 정규화"
      ]
    },
    {
      "cell_type": "code",
      "execution_count": 22,
      "metadata": {
        "colab": {
          "base_uri": "https://localhost:8080/"
        },
        "id": "KnJxiXM8IXYL",
        "outputId": "827a206a-b5d9-4d74-dff2-db6b13cbbbb3"
      },
      "outputs": [
        {
          "output_type": "stream",
          "name": "stdout",
          "text": [
            "Epoch 1/10\n",
            "10/10 [==============================] - 1s 64ms/step - loss: 3.4920 - accuracy: 0.3933\n",
            "Epoch 2/10\n",
            "10/10 [==============================] - 0s 48ms/step - loss: 1.0257 - accuracy: 0.4967\n",
            "Epoch 3/10\n",
            "10/10 [==============================] - 0s 47ms/step - loss: 0.8079 - accuracy: 0.7667\n",
            "Epoch 4/10\n",
            "10/10 [==============================] - 0s 50ms/step - loss: 0.3938 - accuracy: 0.9300\n",
            "Epoch 5/10\n",
            "10/10 [==============================] - 0s 48ms/step - loss: 0.1359 - accuracy: 0.9700\n",
            "Epoch 6/10\n",
            "10/10 [==============================] - 0s 48ms/step - loss: 0.0429 - accuracy: 1.0000\n",
            "Epoch 7/10\n",
            "10/10 [==============================] - 0s 49ms/step - loss: 0.0227 - accuracy: 0.9933\n",
            "Epoch 8/10\n",
            "10/10 [==============================] - 0s 49ms/step - loss: 0.0086 - accuracy: 1.0000\n",
            "Epoch 9/10\n",
            "10/10 [==============================] - 0s 49ms/step - loss: 0.0029 - accuracy: 1.0000\n",
            "Epoch 10/10\n",
            "10/10 [==============================] - 0s 47ms/step - loss: 0.0016 - accuracy: 1.0000\n",
            "10/10 - 0s - loss: 1.5463 - accuracy: 0.4533 - 319ms/epoch - 32ms/step\n",
            "test_loss: 1.5462626218795776 \n",
            "test_accuracy: 0.4533333480358124\n"
          ]
        }
      ],
      "source": [
        "n_channel_1=64\n",
        "n_channel_2=128\n",
        "n_dense=32\n",
        "n_train_epoch=10\n",
        "\n",
        "model=keras.models.Sequential()\n",
        "model.add(keras.layers.Conv2D(n_channel_1, (3,3), activation='relu', input_shape=(224,224,3)))\n",
        "model.add(keras.layers.MaxPool2D(2,2))\n",
        "model.add(keras.layers.Conv2D(n_channel_2, (3,3), activation='relu'))\n",
        "model.add(keras.layers.MaxPooling2D((2,2)))\n",
        "model.add(keras.layers.Flatten())\n",
        "model.add(keras.layers.Dense(n_dense, activation='relu'))\n",
        "model.add(keras.layers.Dense(3, activation='softmax'))\n",
        "\n",
        "model.compile(optimizer='adam',\n",
        "             loss='sparse_categorical_crossentropy',\n",
        "             metrics=['accuracy'])\n",
        "\n",
        "# 모델 훈련\n",
        "model.fit(x_train_one_norm, y_train, epochs=n_train_epoch)\n",
        "\n",
        "# 모델 시험\n",
        "test_loss, test_accuracy = model.evaluate(x_test_one_norm, y_test, verbose=2)\n",
        "print(\"test_loss: {} \".format(test_loss))\n",
        "print(\"test_accuracy: {}\".format(test_accuracy))"
      ]
    },
    {
      "cell_type": "code",
      "source": [
        "predicted_result = model.predict(x_test_one_norm)  # model이 추론한 확률값. \n",
        "predicted_labels = np.argmax(predicted_result, axis=1)\n",
        "\n",
        "idx=2  #1번째 x_test를 살펴보자. \n",
        "print('model.predict() 결과 : ', predicted_result[idx])\n",
        "print('model이 추론한 가장 가능성이 높은 결과 : ', predicted_labels[idx])\n",
        "print('실제 데이터의 라벨 : ', y_test[idx])"
      ],
      "metadata": {
        "colab": {
          "base_uri": "https://localhost:8080/"
        },
        "id": "xpRZaABsMpXw",
        "outputId": "32fd5742-4d4d-4a6c-e930-4cc4f127b441"
      },
      "execution_count": 23,
      "outputs": [
        {
          "output_type": "stream",
          "name": "stdout",
          "text": [
            "model.predict() 결과 :  [0.06882344 0.14659427 0.7845823 ]\n",
            "model이 추론한 가장 가능성이 높은 결과 :  2\n",
            "실제 데이터의 라벨 :  0\n"
          ]
        }
      ]
    },
    {
      "cell_type": "markdown",
      "metadata": {
        "id": "u1BwucLuLF8Z"
      },
      "source": [
        "보로만 분류하던 이전 모델들보단 그래도 바위, 보를 고루 분류하도록 학습되었지만 여전히 가위를 잘 분류해내지 못한다.  \n",
        "내가 찍은 사진의 배경때문에 그런건가 싶어서 사진을 잘라서 중간 부분만 사용해 보도록 하겠다."
      ]
    },
    {
      "cell_type": "code",
      "execution_count": 24,
      "metadata": {
        "id": "67st1YtuLMtv"
      },
      "outputs": [],
      "source": [
        "def load_data_crop(img_path, number_of_data=300):  # 가위바위보 이미지 개수 총합에 주의하세요.\n",
        "    # 가위 : 0, 바위 : 1, 보 : 2\n",
        "    img_size=18\n",
        "    color=3\n",
        "    #이미지 데이터와 라벨(가위 : 0, 바위 : 1, 보 : 2) 데이터를 담을 행렬(matrix) 영역을 생성합니다.\n",
        "    imgs=np.zeros(number_of_data*img_size*img_size*color,dtype=np.int32).reshape(number_of_data,img_size,img_size,color)\n",
        "    labels=np.zeros(number_of_data,dtype=np.int32)\n",
        "\n",
        "    idx=0\n",
        "    for file in glob.iglob(img_path+'/scissor/*.jpg'):\n",
        "        img = np.array(Image.open(file).crop((5, 5, 23, 23)),dtype=np.int32)\n",
        "        imgs[idx,:,:,:]=img    # 데이터 영역에 이미지 행렬을 복사\n",
        "        labels[idx]=0   # 가위 : 0\n",
        "        idx=idx+1\n",
        "\n",
        "    for file in glob.iglob(img_path+'/rock/*.jpg'):\n",
        "        img = np.array(Image.open(file).crop((5, 5, 23, 23)),dtype=np.int32)\n",
        "        imgs[idx,:,:,:]=img    # 데이터 영역에 이미지 행렬을 복사\n",
        "        labels[idx]=1   # 바위 : 1\n",
        "        idx=idx+1  \n",
        "    \n",
        "    for file in glob.iglob(img_path+'/paper/*.jpg'):\n",
        "        img = np.array(Image.open(file).crop((5, 5, 23, 23)),dtype=np.int32)\n",
        "        imgs[idx,:,:,:]=img    # 데이터 영역에 이미지 행렬을 복사\n",
        "        labels[idx]=2   # 보 : 2\n",
        "        idx=idx+1\n",
        "        \n",
        "    print(\"학습데이터(x_train)의 이미지 개수는\", idx,\"입니다.\")\n",
        "    return imgs, labels"
      ]
    },
    {
      "cell_type": "code",
      "execution_count": 25,
      "metadata": {
        "colab": {
          "base_uri": "https://localhost:8080/"
        },
        "id": "g-CrsNnULa9x",
        "outputId": "6838cbd1-616e-42f2-a940-8a5fa11a3837"
      },
      "outputs": [
        {
          "output_type": "stream",
          "name": "stdout",
          "text": [
            "학습데이터(x_train)의 이미지 개수는 300 입니다.\n",
            "학습데이터(x_train)의 이미지 개수는 300 입니다.\n"
          ]
        }
      ],
      "source": [
        "x_train_crop, y_train = load_data_crop('/content/drive/MyDrive/Colab/Datasets/rock_scissor_paper')\n",
        "x_test_crop, y_test = load_data_crop('/content/drive/MyDrive/Colab/Datasets/rock_scissor_paper/jumi_rcp')"
      ]
    },
    {
      "cell_type": "code",
      "execution_count": 26,
      "metadata": {
        "id": "XpwHfhDqLw-c"
      },
      "outputs": [],
      "source": [
        "x_train_crop_norm = x_train_crop/255.0   # 입력은 0~1 사이의 값으로 정규화\n",
        "x_test_crop_norm = x_test_crop/255.0   # 입력은 0~1 사이의 값으로 정규화"
      ]
    },
    {
      "cell_type": "code",
      "execution_count": 27,
      "metadata": {
        "colab": {
          "base_uri": "https://localhost:8080/"
        },
        "id": "W251AdozLxMB",
        "outputId": "1a314b84-5e9a-42ab-d376-c0ab867fd3e3"
      },
      "outputs": [
        {
          "output_type": "stream",
          "name": "stdout",
          "text": [
            "Epoch 1/20\n",
            "10/10 [==============================] - 1s 9ms/step - loss: 1.1191 - accuracy: 0.3400\n",
            "Epoch 2/20\n",
            "10/10 [==============================] - 0s 5ms/step - loss: 1.0747 - accuracy: 0.4667\n",
            "Epoch 3/20\n",
            "10/10 [==============================] - 0s 5ms/step - loss: 1.0220 - accuracy: 0.4867\n",
            "Epoch 4/20\n",
            "10/10 [==============================] - 0s 5ms/step - loss: 0.9157 - accuracy: 0.7000\n",
            "Epoch 5/20\n",
            "10/10 [==============================] - 0s 5ms/step - loss: 0.7876 - accuracy: 0.6567\n",
            "Epoch 6/20\n",
            "10/10 [==============================] - 0s 6ms/step - loss: 0.6387 - accuracy: 0.7433\n",
            "Epoch 7/20\n",
            "10/10 [==============================] - 0s 5ms/step - loss: 0.4655 - accuracy: 0.8433\n",
            "Epoch 8/20\n",
            "10/10 [==============================] - 0s 5ms/step - loss: 0.3595 - accuracy: 0.8767\n",
            "Epoch 9/20\n",
            "10/10 [==============================] - 0s 5ms/step - loss: 0.3219 - accuracy: 0.8767\n",
            "Epoch 10/20\n",
            "10/10 [==============================] - 0s 5ms/step - loss: 0.3246 - accuracy: 0.8967\n",
            "Epoch 11/20\n",
            "10/10 [==============================] - 0s 5ms/step - loss: 0.3022 - accuracy: 0.8800\n",
            "Epoch 12/20\n",
            "10/10 [==============================] - 0s 6ms/step - loss: 0.2346 - accuracy: 0.9200\n",
            "Epoch 13/20\n",
            "10/10 [==============================] - 0s 5ms/step - loss: 0.1848 - accuracy: 0.9433\n",
            "Epoch 14/20\n",
            "10/10 [==============================] - 0s 5ms/step - loss: 0.1736 - accuracy: 0.9433\n",
            "Epoch 15/20\n",
            "10/10 [==============================] - 0s 5ms/step - loss: 0.1483 - accuracy: 0.9567\n",
            "Epoch 16/20\n",
            "10/10 [==============================] - 0s 5ms/step - loss: 0.0942 - accuracy: 0.9900\n",
            "Epoch 17/20\n",
            "10/10 [==============================] - 0s 5ms/step - loss: 0.0815 - accuracy: 0.9833\n",
            "Epoch 18/20\n",
            "10/10 [==============================] - 0s 5ms/step - loss: 0.0719 - accuracy: 0.9900\n",
            "Epoch 19/20\n",
            "10/10 [==============================] - 0s 5ms/step - loss: 0.0790 - accuracy: 0.9833\n",
            "Epoch 20/20\n",
            "10/10 [==============================] - 0s 5ms/step - loss: 0.0649 - accuracy: 0.9833\n",
            "10/10 - 0s - loss: 3.1889 - accuracy: 0.5500 - 138ms/epoch - 14ms/step\n",
            "test_loss: 3.1889290809631348 \n",
            "test_accuracy: 0.550000011920929\n",
            "model.predict() 결과 :  [1.9324138e-05 2.1285814e-01 7.8712255e-01]\n",
            "model이 추론한 가장 가능성이 높은 결과 :  2\n",
            "실제 데이터의 라벨 :  0\n"
          ]
        }
      ],
      "source": [
        "n_channel_1=1024\n",
        "n_channel_2=128\n",
        "n_dense=32\n",
        "n_train_epoch=20\n",
        "\n",
        "model=keras.models.Sequential()\n",
        "model.add(keras.layers.Conv2D(n_channel_1, (3,3), activation='relu', input_shape=(18,18,3)))\n",
        "model.add(keras.layers.MaxPool2D(2,2))\n",
        "model.add(keras.layers.Conv2D(n_channel_2, (3,3), activation='relu'))\n",
        "model.add(keras.layers.MaxPooling2D((2,2)))\n",
        "model.add(keras.layers.Flatten())\n",
        "model.add(keras.layers.Dense(n_dense, activation='relu'))\n",
        "model.add(keras.layers.Dense(3, activation='softmax'))\n",
        "\n",
        "model.compile(optimizer='adam',\n",
        "             loss='sparse_categorical_crossentropy',\n",
        "             metrics=['accuracy'])\n",
        "\n",
        "# 모델 훈련\n",
        "model.fit(x_train_crop_norm, y_train, epochs=n_train_epoch)\n",
        "\n",
        "# 모델 시험\n",
        "test_loss, test_accuracy = model.evaluate(x_test_crop_norm, y_test, verbose=2)\n",
        "print(\"test_loss: {} \".format(test_loss))\n",
        "print(\"test_accuracy: {}\".format(test_accuracy))\n",
        "\n",
        "predicted_result = model.predict(x_test_crop_norm)  # model이 추론한 확률값. \n",
        "predicted_labels = np.argmax(predicted_result, axis=1)\n",
        "\n",
        "idx=2  #1번째 x_test를 살펴보자. \n",
        "print('model.predict() 결과 : ', predicted_result[idx])\n",
        "print('model이 추론한 가장 가능성이 높은 결과 : ', predicted_labels[idx])\n",
        "print('실제 데이터의 라벨 : ', y_test[idx])"
      ]
    },
    {
      "cell_type": "markdown",
      "metadata": {
        "id": "cH6S_f-bMXH4"
      },
      "source": [
        "이런.. 선명한 사진을 사용하지 않으니 보 밖에 구분하지 못한다.  \n",
        "결국 주변 분들에게 가위바위보 사진을 받아서 학습 데이터를 늘려보기로 결정했다."
      ]
    },
    {
      "cell_type": "code",
      "execution_count": 28,
      "metadata": {
        "id": "43qZDe7TXLaD"
      },
      "outputs": [],
      "source": [
        "def load_data_all(img_path, number_of_data=900, img_size=28):  # 가위바위보 이미지 개수 총합에 주의하세요.\n",
        "    # 가위 : 0, 바위 : 1, 보 : 2\n",
        "    color=3\n",
        "    #이미지 데이터와 라벨(가위 : 0, 바위 : 1, 보 : 2) 데이터를 담을 행렬(matrix) 영역을 생성합니다.\n",
        "    imgs=np.zeros(number_of_data*img_size*img_size*color,dtype=np.int32).reshape(number_of_data,img_size,img_size,color)\n",
        "    labels=np.zeros(number_of_data,dtype=np.int32)\n",
        "\n",
        "    idx=0\n",
        "    \n",
        "    for file in glob.iglob(img_path+'/yesong_rcp/scissor/*.jpg'):\n",
        "        img = np.array(Image.open(file),dtype=np.int32)\n",
        "        imgs[idx,:,:,:]=img    # 데이터 영역에 이미지 행렬을 복사\n",
        "        labels[idx]=0   # 가위 : 0\n",
        "        idx=idx+1\n",
        "    for file in glob.iglob(img_path+'/jumi_rcp/scissor/*.jpg'):\n",
        "        img = np.array(Image.open(file),dtype=np.int32)\n",
        "        imgs[idx,:,:,:]=img    # 데이터 영역에 이미지 행렬을 복사\n",
        "        labels[idx]=0   # 가위 : 0\n",
        "        idx=idx+1\n",
        "    \n",
        "    for file in glob.iglob(img_path+'/yesong_rcp/rock/*.jpg'):\n",
        "        img = np.array(Image.open(file),dtype=np.int32)\n",
        "        imgs[idx,:,:,:]=img    # 데이터 영역에 이미지 행렬을 복사\n",
        "        labels[idx]=1   # 바위 : 1\n",
        "        idx=idx+1\n",
        "    for file in glob.iglob(img_path+'/jumi_rcp/rock/*.jpg'):\n",
        "        img = np.array(Image.open(file),dtype=np.int32)\n",
        "        imgs[idx,:,:,:]=img    # 데이터 영역에 이미지 행렬을 복사\n",
        "        labels[idx]=1   # 바위 : 1\n",
        "        idx=idx+1\n",
        "    \n",
        "    \n",
        "    for file in glob.iglob(img_path+'/yesong_rcp/paper/*.jpg'):\n",
        "        img = np.array(Image.open(file),dtype=np.int32)\n",
        "        imgs[idx,:,:,:]=img    # 데이터 영역에 이미지 행렬을 복사\n",
        "        labels[idx]=2   # 보 : 2\n",
        "        idx=idx+1\n",
        "    for file in glob.iglob(img_path+'/jumi_rcp/paper/*.jpg'):\n",
        "        img = np.array(Image.open(file),dtype=np.int32)\n",
        "        imgs[idx,:,:,:]=img    # 데이터 영역에 이미지 행렬을 복사\n",
        "        labels[idx]=2   # 보 : 2\n",
        "        idx=idx+1\n",
        "        \n",
        "    print(\"학습데이터(x_train)의 이미지 개수는\", idx,\"입니다.\")\n",
        "    return imgs, labels"
      ]
    },
    {
      "cell_type": "code",
      "execution_count": 29,
      "metadata": {
        "colab": {
          "base_uri": "https://localhost:8080/"
        },
        "id": "CS_rYftQdYXK",
        "outputId": "41330203-aeaa-4438-acc6-9748b38fcb25"
      },
      "outputs": [
        {
          "output_type": "stream",
          "name": "stdout",
          "text": [
            "학습데이터(x_train)의 이미지 개수는 600 입니다.\n",
            "x_train shape: (600, 28, 28, 3)\n",
            "y_train shape: (600,)\n"
          ]
        }
      ],
      "source": [
        "image_dir_path = \"/content/drive/MyDrive/Colab/Datasets/rock_scissor_paper\"\n",
        "(x_train, y_train)=load_data_all(image_dir_path, 600)\n",
        "x_train_norm = x_train/255.0   # 입력은 0~1 사이의 값으로 정규화\n",
        "\n",
        "print(\"x_train shape: {}\".format(x_train.shape))\n",
        "print(\"y_train shape: {}\".format(y_train.shape))"
      ]
    },
    {
      "cell_type": "code",
      "execution_count": 30,
      "metadata": {
        "colab": {
          "base_uri": "https://localhost:8080/"
        },
        "id": "_wawvqahZ9Oo",
        "outputId": "8298daa6-d0c6-40d8-a666-64083cb77d25"
      },
      "outputs": [
        {
          "output_type": "stream",
          "name": "stdout",
          "text": [
            "학습데이터(x_train)의 이미지 개수는 300 입니다.\n"
          ]
        }
      ],
      "source": [
        "x_test, y_test = load_data('/content/drive/MyDrive/Colab/Datasets/rock_scissor_paper', 300)\n",
        "x_test_norm = x_test/255.0   # 입력은 0~1 사이의 값으로 정규화"
      ]
    },
    {
      "cell_type": "code",
      "execution_count": 31,
      "metadata": {
        "colab": {
          "base_uri": "https://localhost:8080/"
        },
        "id": "rUMwLe4gf0fa",
        "outputId": "f6bcfbf7-f349-4c28-fd12-b5d5c05f29a7"
      },
      "outputs": [
        {
          "output_type": "execute_result",
          "data": {
            "text/plain": [
              "(300, 28, 28, 3)"
            ]
          },
          "metadata": {},
          "execution_count": 31
        }
      ],
      "source": [
        "x_test.shape"
      ]
    },
    {
      "cell_type": "code",
      "execution_count": 32,
      "metadata": {
        "colab": {
          "base_uri": "https://localhost:8080/"
        },
        "id": "5vbaSkntaKNY",
        "outputId": "b44a1f39-a982-4516-eb94-9cb82aad6a61"
      },
      "outputs": [
        {
          "output_type": "stream",
          "name": "stdout",
          "text": [
            "Epoch 1/30\n",
            "19/19 [==============================] - 1s 10ms/step - loss: 1.0526 - accuracy: 0.4567\n",
            "Epoch 2/30\n",
            "19/19 [==============================] - 0s 7ms/step - loss: 0.7086 - accuracy: 0.7233\n",
            "Epoch 3/30\n",
            "19/19 [==============================] - 0s 7ms/step - loss: 0.3935 - accuracy: 0.8633\n",
            "Epoch 4/30\n",
            "19/19 [==============================] - 0s 7ms/step - loss: 0.3056 - accuracy: 0.9033\n",
            "Epoch 5/30\n",
            "19/19 [==============================] - 0s 7ms/step - loss: 0.2148 - accuracy: 0.9283\n",
            "Epoch 6/30\n",
            "19/19 [==============================] - 0s 7ms/step - loss: 0.2258 - accuracy: 0.9117\n",
            "Epoch 7/30\n",
            "19/19 [==============================] - 0s 7ms/step - loss: 0.1894 - accuracy: 0.9200\n",
            "Epoch 8/30\n",
            "19/19 [==============================] - 0s 7ms/step - loss: 0.1817 - accuracy: 0.9417\n",
            "Epoch 9/30\n",
            "19/19 [==============================] - 0s 7ms/step - loss: 0.1589 - accuracy: 0.9400\n",
            "Epoch 10/30\n",
            "19/19 [==============================] - 0s 7ms/step - loss: 0.1132 - accuracy: 0.9633\n",
            "Epoch 11/30\n",
            "19/19 [==============================] - 0s 7ms/step - loss: 0.0937 - accuracy: 0.9667\n",
            "Epoch 12/30\n",
            "19/19 [==============================] - 0s 7ms/step - loss: 0.1430 - accuracy: 0.9483\n",
            "Epoch 13/30\n",
            "19/19 [==============================] - 0s 7ms/step - loss: 0.0820 - accuracy: 0.9733\n",
            "Epoch 14/30\n",
            "19/19 [==============================] - 0s 8ms/step - loss: 0.0741 - accuracy: 0.9750\n",
            "Epoch 15/30\n",
            "19/19 [==============================] - 0s 7ms/step - loss: 0.0520 - accuracy: 0.9800\n",
            "Epoch 16/30\n",
            "19/19 [==============================] - 0s 7ms/step - loss: 0.0469 - accuracy: 0.9867\n",
            "Epoch 17/30\n",
            "19/19 [==============================] - 0s 8ms/step - loss: 0.0394 - accuracy: 0.9850\n",
            "Epoch 18/30\n",
            "19/19 [==============================] - 0s 7ms/step - loss: 0.0195 - accuracy: 0.9983\n",
            "Epoch 19/30\n",
            "19/19 [==============================] - 0s 7ms/step - loss: 0.0209 - accuracy: 0.9933\n",
            "Epoch 20/30\n",
            "19/19 [==============================] - 0s 7ms/step - loss: 0.0166 - accuracy: 0.9983\n",
            "Epoch 21/30\n",
            "19/19 [==============================] - 0s 7ms/step - loss: 0.0243 - accuracy: 0.9917\n",
            "Epoch 22/30\n",
            "19/19 [==============================] - 0s 7ms/step - loss: 0.0204 - accuracy: 0.9967\n",
            "Epoch 23/30\n",
            "19/19 [==============================] - 0s 7ms/step - loss: 0.0188 - accuracy: 0.9933\n",
            "Epoch 24/30\n",
            "19/19 [==============================] - 0s 7ms/step - loss: 0.0109 - accuracy: 1.0000\n",
            "Epoch 25/30\n",
            "19/19 [==============================] - 0s 7ms/step - loss: 0.0085 - accuracy: 1.0000\n",
            "Epoch 26/30\n",
            "19/19 [==============================] - 0s 7ms/step - loss: 0.0040 - accuracy: 1.0000\n",
            "Epoch 27/30\n",
            "19/19 [==============================] - 0s 7ms/step - loss: 0.0033 - accuracy: 1.0000\n",
            "Epoch 28/30\n",
            "19/19 [==============================] - 0s 7ms/step - loss: 0.0043 - accuracy: 1.0000\n",
            "Epoch 29/30\n",
            "19/19 [==============================] - 0s 7ms/step - loss: 0.0164 - accuracy: 0.9950\n",
            "Epoch 30/30\n",
            "19/19 [==============================] - 0s 7ms/step - loss: 0.0148 - accuracy: 0.9933\n",
            "10/10 - 0s - loss: 3.2451 - accuracy: 0.6233 - 152ms/epoch - 15ms/step\n",
            "test_loss: 3.245079517364502 \n",
            "test_accuracy: 0.6233333349227905\n",
            "model.predict() 결과 :  [9.5873773e-05 8.9587411e-05 9.9981457e-01]\n",
            "model이 추론한 가장 가능성이 높은 결과 :  2\n",
            "실제 데이터의 라벨 :  0\n"
          ]
        }
      ],
      "source": [
        "n_channel_1=400\n",
        "n_channel_2=300\n",
        "n_dense=256\n",
        "n_train_epoch=30\n",
        "\n",
        "model2=keras.models.Sequential()\n",
        "model2.add(keras.layers.Conv2D(n_channel_1, (3,3), activation='relu', input_shape=(28,28,3)))\n",
        "model2.add(keras.layers.MaxPool2D(2,2))\n",
        "model2.add(keras.layers.Conv2D(n_channel_2, (3,3), activation='relu'))\n",
        "model2.add(keras.layers.MaxPooling2D((2,2)))\n",
        "model2.add(keras.layers.Flatten())\n",
        "model2.add(keras.layers.Dense(n_dense, activation='relu'))\n",
        "model2.add(keras.layers.Dense(3, activation='softmax'))\n",
        "\n",
        "model2.compile(optimizer='adam',\n",
        "             loss='sparse_categorical_crossentropy',\n",
        "             metrics=['accuracy'])\n",
        "\n",
        "# 모델 훈련\n",
        "model2.fit(x_train_norm, y_train, epochs=n_train_epoch)\n",
        "\n",
        "# 모델 시험\n",
        "test_loss, test_accuracy = model2.evaluate(x_test_norm, y_test, verbose=2)\n",
        "print(\"test_loss: {} \".format(test_loss))\n",
        "print(\"test_accuracy: {}\".format(test_accuracy))\n",
        "\n",
        "predicted_result = model2.predict(x_test_norm)  # model이 추론한 확률값. \n",
        "predicted_labels = np.argmax(predicted_result, axis=1)\n",
        "\n",
        "idx=2  #1번째 x_test를 살펴보자. \n",
        "print('model.predict() 결과 : ', predicted_result[idx])\n",
        "print('model이 추론한 가장 가능성이 높은 결과 : ', predicted_labels[idx])\n",
        "print('실제 데이터의 라벨 : ', y_test[idx])"
      ]
    },
    {
      "cell_type": "markdown",
      "source": [
        "학습 데이터를 늘리니까 내가 원했던 60% 이상의 정확도를 보였다.  \n",
        "여기에 원본 데이터를 적용하면 정확도가 더 오르지 않을까?"
      ],
      "metadata": {
        "id": "kyA8Z6eZs8Cc"
      }
    },
    {
      "cell_type": "code",
      "source": [
        "image_dir_path = \"/content/drive/MyDrive/Colab/Datasets/rock_scissor_paper/one\"\n",
        "(x_train, y_train)=load_data_all(image_dir_path, 600, img_size=224)\n",
        "x_train_norm = x_train/255.0   # 입력은 0~1 사이의 값으로 정규화\n",
        "\n",
        "print(\"x_train shape: {}\".format(x_train.shape))\n",
        "print(\"y_train shape: {}\".format(y_train.shape))\n",
        "\n",
        "x_test, y_test = load_data('/content/drive/MyDrive/Colab/Datasets/rock_scissor_paper/one', 300, img_size=224)\n",
        "x_test_norm = x_test/255.0   # 입력은 0~1 사이의 값으로 정규화"
      ],
      "metadata": {
        "colab": {
          "base_uri": "https://localhost:8080/"
        },
        "id": "DikHVpLLRF9h",
        "outputId": "a82b74cc-34f8-4e31-c45c-21e6739b9edc"
      },
      "execution_count": 33,
      "outputs": [
        {
          "output_type": "stream",
          "name": "stdout",
          "text": [
            "학습데이터(x_train)의 이미지 개수는 600 입니다.\n",
            "x_train shape: (600, 224, 224, 3)\n",
            "y_train shape: (600,)\n",
            "학습데이터(x_train)의 이미지 개수는 300 입니다.\n"
          ]
        }
      ]
    },
    {
      "cell_type": "code",
      "source": [
        "n_channel_1=400\n",
        "n_channel_2=300\n",
        "n_dense=256\n",
        "n_train_epoch=20\n",
        "\n",
        "model2=keras.models.Sequential()\n",
        "model2.add(keras.layers.Conv2D(n_channel_1, (3,3), activation='relu', input_shape=(224,224,3)))\n",
        "model2.add(keras.layers.MaxPool2D(2,2))\n",
        "model2.add(keras.layers.Conv2D(n_channel_2, (3,3), activation='relu'))\n",
        "model2.add(keras.layers.MaxPooling2D((2,2)))\n",
        "model2.add(keras.layers.Flatten())\n",
        "model2.add(keras.layers.Dense(n_dense, activation='relu'))\n",
        "model2.add(keras.layers.Dense(3, activation='softmax'))\n",
        "\n",
        "model2.compile(optimizer='adam',\n",
        "             loss='sparse_categorical_crossentropy',\n",
        "             metrics=['accuracy'])\n",
        "\n",
        "# 모델 훈련\n",
        "model2.fit(x_train_norm, y_train, epochs=n_train_epoch)\n",
        "\n",
        "# 모델 시험\n",
        "test_loss, test_accuracy = model2.evaluate(x_test_norm, y_test, verbose=2)\n",
        "print(\"test_loss: {} \".format(test_loss))\n",
        "print(\"test_accuracy: {}\".format(test_accuracy))\n",
        "\n",
        "predicted_result = model2.predict(x_test_norm)  # model이 추론한 확률값. \n",
        "predicted_labels = np.argmax(predicted_result, axis=1)\n",
        "\n",
        "idx=2  #1번째 x_test를 살펴보자. \n",
        "print('model.predict() 결과 : ', predicted_result[idx])\n",
        "print('model이 추론한 가장 가능성이 높은 결과 : ', predicted_labels[idx])\n",
        "print('실제 데이터의 라벨 : ', y_test[idx])"
      ],
      "metadata": {
        "colab": {
          "base_uri": "https://localhost:8080/"
        },
        "id": "fh2QwAGgRp0Z",
        "outputId": "e76d8a1b-0071-40bc-f0d8-47597cfbd6f6"
      },
      "execution_count": 34,
      "outputs": [
        {
          "output_type": "stream",
          "name": "stdout",
          "text": [
            "Epoch 1/20\n",
            "19/19 [==============================] - 9s 353ms/step - loss: 6.3701 - accuracy: 0.4150\n",
            "Epoch 2/20\n",
            "19/19 [==============================] - 5s 271ms/step - loss: 1.0204 - accuracy: 0.5500\n",
            "Epoch 3/20\n",
            "19/19 [==============================] - 5s 271ms/step - loss: 0.7930 - accuracy: 0.7650\n",
            "Epoch 4/20\n",
            "19/19 [==============================] - 5s 271ms/step - loss: 0.4779 - accuracy: 0.8467\n",
            "Epoch 5/20\n",
            "19/19 [==============================] - 5s 271ms/step - loss: 0.4174 - accuracy: 0.8283\n",
            "Epoch 6/20\n",
            "19/19 [==============================] - 5s 271ms/step - loss: 0.3138 - accuracy: 0.8717\n",
            "Epoch 7/20\n",
            "19/19 [==============================] - 5s 271ms/step - loss: 0.2265 - accuracy: 0.9117\n",
            "Epoch 8/20\n",
            "19/19 [==============================] - 5s 271ms/step - loss: 0.1724 - accuracy: 0.9383\n",
            "Epoch 9/20\n",
            "19/19 [==============================] - 5s 271ms/step - loss: 0.1403 - accuracy: 0.9550\n",
            "Epoch 10/20\n",
            "19/19 [==============================] - 5s 270ms/step - loss: 0.1274 - accuracy: 0.9567\n",
            "Epoch 11/20\n",
            "19/19 [==============================] - 5s 271ms/step - loss: 0.1135 - accuracy: 0.9683\n",
            "Epoch 12/20\n",
            "19/19 [==============================] - 5s 272ms/step - loss: 0.0591 - accuracy: 0.9817\n",
            "Epoch 13/20\n",
            "19/19 [==============================] - 5s 272ms/step - loss: 0.0286 - accuracy: 0.9900\n",
            "Epoch 14/20\n",
            "19/19 [==============================] - 5s 271ms/step - loss: 0.0108 - accuracy: 0.9983\n",
            "Epoch 15/20\n",
            "19/19 [==============================] - 5s 271ms/step - loss: 0.0061 - accuracy: 0.9983\n",
            "Epoch 16/20\n",
            "19/19 [==============================] - 5s 271ms/step - loss: 0.0037 - accuracy: 1.0000\n",
            "Epoch 17/20\n",
            "19/19 [==============================] - 5s 272ms/step - loss: 9.9587e-04 - accuracy: 1.0000\n",
            "Epoch 18/20\n",
            "19/19 [==============================] - 5s 271ms/step - loss: 4.2337e-04 - accuracy: 1.0000\n",
            "Epoch 19/20\n",
            "19/19 [==============================] - 5s 271ms/step - loss: 1.7613e-04 - accuracy: 1.0000\n",
            "Epoch 20/20\n",
            "19/19 [==============================] - 5s 271ms/step - loss: 1.2314e-04 - accuracy: 1.0000\n",
            "10/10 - 1s - loss: 1.9343 - accuracy: 0.6200 - 1s/epoch - 140ms/step\n",
            "test_loss: 1.9342737197875977 \n",
            "test_accuracy: 0.6200000047683716\n",
            "model.predict() 결과 :  [0.9604597  0.02873825 0.01080204]\n",
            "model이 추론한 가장 가능성이 높은 결과 :  0\n",
            "실제 데이터의 라벨 :  0\n"
          ]
        }
      ]
    },
    {
      "cell_type": "markdown",
      "source": [
        "막상 해보니 크게 좋은 효과는 얻지 못했다. 이전과 동일한 62%정도의 결과..  \n",
        "여러번 테스트해보고 싶었는데 할때마다 코랩 GPU어쩌고 하면서 팅겨서 그냥 여기까지.. 해야할 것 같다."
      ],
      "metadata": {
        "id": "UF0Vj8ISTpW9"
      }
    },
    {
      "cell_type": "markdown",
      "source": [
        "# 회고\n",
        "1. 단순히 가위 바위 보의 모양이 다르니까 잘 학습할 수 있지 않을까 싶었는데 의외로 배경이나 손이 찍히는 각도나 조명의 차이 같은 요소들로 인해 제대로 구분을 하지 못하는 것 같았다.\n",
        "2. 원본 데이터를 이용해서 하이퍼 파라미터 조정을 통해 더 좋은결과를 찾아보고 싶었는데 사진이 너무 커서인지 한번 돌리고 나면 GPU RAM이 가득차서 다음 돌릴 때 런타임이 끊겨버리는데... 이걸 어떻게 해결해야 할지 구글링을 해도 나오지가 않는다. "
      ],
      "metadata": {
        "id": "v1Bglb_YWyBA"
      }
    },
    {
      "cell_type": "markdown",
      "source": [
        "![image.png](data:image/png;base64,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)  \n",
        "너 왜이러니.."
      ],
      "metadata": {
        "id": "Cnl3YyVbatDm"
      }
    },
    {
      "cell_type": "markdown",
      "source": [
        "3. 학습할 데이터와 테스트 데이터를 다르게 고를 때마다 점수가 달라지는데 내가 찍은 사진이 배경도 비워져있고 사진에서 많은 부분을 차지하고 있었어서 이게 배경에 오버피팅되어 다른 사진을 구분하지 못하는건가 하는 생각이 들었다. (resize한 사진 중 crop 한 사진이 가장 효과가 좋았음)\n",
        "4. 이미지 전처리 하는건 그냥 생각나는 대로 대충 해보았는데 구글링해보니 OpenCV를 사용하는 다양한 방법이 있었다. 다음엔 더 고급스러운 전처리를 해보도록 하자."
      ],
      "metadata": {
        "id": "HSggNobfavrS"
      }
    }
  ],
  "metadata": {
    "accelerator": "GPU",
    "colab": {
      "name": "Exploration5-SB.ipynb",
      "provenance": [],
      "mount_file_id": "1jalwD4quy8P-RaCdheFtYqbBs6p_S6g5",
      "authorship_tag": "ABX9TyO7Djyx9egUqGK8Fq74GyOH",
      "include_colab_link": true
    },
    "gpuClass": "standard",
    "kernelspec": {
      "display_name": "Python 3",
      "name": "python3"
    },
    "language_info": {
      "name": "python"
    }
  },
  "nbformat": 4,
  "nbformat_minor": 0
}