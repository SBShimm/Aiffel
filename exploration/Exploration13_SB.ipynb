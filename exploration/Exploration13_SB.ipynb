{
  "nbformat": 4,
  "nbformat_minor": 0,
  "metadata": {
    "colab": {
      "provenance": [],
      "mount_file_id": "1Ir7MeVouDCdyB26PJJnwHgX-PqOgmbmE",
      "authorship_tag": "ABX9TyNg4vG5Dm9x8GFtN7ghwWTI",
      "include_colab_link": true
    },
    "kernelspec": {
      "name": "python3",
      "display_name": "Python 3"
    },
    "language_info": {
      "name": "python"
    },
    "accelerator": "GPU",
    "gpuClass": "standard",
    "widgets": {
      "application/vnd.jupyter.widget-state+json": {
        "9f5338520e0440d5a8a94dc561dd864a": {
          "model_module": "@jupyter-widgets/controls",
          "model_name": "HBoxModel",
          "model_module_version": "1.5.0",
          "state": {
            "_dom_classes": [],
            "_model_module": "@jupyter-widgets/controls",
            "_model_module_version": "1.5.0",
            "_model_name": "HBoxModel",
            "_view_count": null,
            "_view_module": "@jupyter-widgets/controls",
            "_view_module_version": "1.5.0",
            "_view_name": "HBoxView",
            "box_style": "",
            "children": [
              "IPY_MODEL_0953df1363ba4d32ae3f5d0454f5233b",
              "IPY_MODEL_94ab68557fc543bab37d1c20cb79c007",
              "IPY_MODEL_11910e7d71094550a0796f5aa49d0db7"
            ],
            "layout": "IPY_MODEL_6fab9a2241b44bfeb1822192033b0978"
          }
        },
        "0953df1363ba4d32ae3f5d0454f5233b": {
          "model_module": "@jupyter-widgets/controls",
          "model_name": "HTMLModel",
          "model_module_version": "1.5.0",
          "state": {
            "_dom_classes": [],
            "_model_module": "@jupyter-widgets/controls",
            "_model_module_version": "1.5.0",
            "_model_name": "HTMLModel",
            "_view_count": null,
            "_view_module": "@jupyter-widgets/controls",
            "_view_module_version": "1.5.0",
            "_view_name": "HTMLView",
            "description": "",
            "description_tooltip": null,
            "layout": "IPY_MODEL_dc6be9b9bf844e10a06ff2a0a95c0bb6",
            "placeholder": "​",
            "style": "IPY_MODEL_fa75ef72a90343b3aeca3b4568d4b4e7",
            "value": "100%"
          }
        },
        "94ab68557fc543bab37d1c20cb79c007": {
          "model_module": "@jupyter-widgets/controls",
          "model_name": "FloatProgressModel",
          "model_module_version": "1.5.0",
          "state": {
            "_dom_classes": [],
            "_model_module": "@jupyter-widgets/controls",
            "_model_module_version": "1.5.0",
            "_model_name": "FloatProgressModel",
            "_view_count": null,
            "_view_module": "@jupyter-widgets/controls",
            "_view_module_version": "1.5.0",
            "_view_name": "ProgressView",
            "bar_style": "success",
            "description": "",
            "description_tooltip": null,
            "layout": "IPY_MODEL_f7cef2c7fe6f4ddbb9ff75ca0db8afe9",
            "max": 15,
            "min": 0,
            "orientation": "horizontal",
            "style": "IPY_MODEL_d388981b0c534616ae31ba63f8d7c274",
            "value": 15
          }
        },
        "11910e7d71094550a0796f5aa49d0db7": {
          "model_module": "@jupyter-widgets/controls",
          "model_name": "HTMLModel",
          "model_module_version": "1.5.0",
          "state": {
            "_dom_classes": [],
            "_model_module": "@jupyter-widgets/controls",
            "_model_module_version": "1.5.0",
            "_model_name": "HTMLModel",
            "_view_count": null,
            "_view_module": "@jupyter-widgets/controls",
            "_view_module_version": "1.5.0",
            "_view_name": "HTMLView",
            "description": "",
            "description_tooltip": null,
            "layout": "IPY_MODEL_bb9dd0f7e7bc4104a32d9ba8d7f35989",
            "placeholder": "​",
            "style": "IPY_MODEL_8e8d41bb9ee74d559c06fb2e3cb8a30e",
            "value": " 15/15 [00:24&lt;00:00,  1.55s/it]"
          }
        },
        "6fab9a2241b44bfeb1822192033b0978": {
          "model_module": "@jupyter-widgets/base",
          "model_name": "LayoutModel",
          "model_module_version": "1.2.0",
          "state": {
            "_model_module": "@jupyter-widgets/base",
            "_model_module_version": "1.2.0",
            "_model_name": "LayoutModel",
            "_view_count": null,
            "_view_module": "@jupyter-widgets/base",
            "_view_module_version": "1.2.0",
            "_view_name": "LayoutView",
            "align_content": null,
            "align_items": null,
            "align_self": null,
            "border": null,
            "bottom": null,
            "display": null,
            "flex": null,
            "flex_flow": null,
            "grid_area": null,
            "grid_auto_columns": null,
            "grid_auto_flow": null,
            "grid_auto_rows": null,
            "grid_column": null,
            "grid_gap": null,
            "grid_row": null,
            "grid_template_areas": null,
            "grid_template_columns": null,
            "grid_template_rows": null,
            "height": null,
            "justify_content": null,
            "justify_items": null,
            "left": null,
            "margin": null,
            "max_height": null,
            "max_width": null,
            "min_height": null,
            "min_width": null,
            "object_fit": null,
            "object_position": null,
            "order": null,
            "overflow": null,
            "overflow_x": null,
            "overflow_y": null,
            "padding": null,
            "right": null,
            "top": null,
            "visibility": null,
            "width": null
          }
        },
        "dc6be9b9bf844e10a06ff2a0a95c0bb6": {
          "model_module": "@jupyter-widgets/base",
          "model_name": "LayoutModel",
          "model_module_version": "1.2.0",
          "state": {
            "_model_module": "@jupyter-widgets/base",
            "_model_module_version": "1.2.0",
            "_model_name": "LayoutModel",
            "_view_count": null,
            "_view_module": "@jupyter-widgets/base",
            "_view_module_version": "1.2.0",
            "_view_name": "LayoutView",
            "align_content": null,
            "align_items": null,
            "align_self": null,
            "border": null,
            "bottom": null,
            "display": null,
            "flex": null,
            "flex_flow": null,
            "grid_area": null,
            "grid_auto_columns": null,
            "grid_auto_flow": null,
            "grid_auto_rows": null,
            "grid_column": null,
            "grid_gap": null,
            "grid_row": null,
            "grid_template_areas": null,
            "grid_template_columns": null,
            "grid_template_rows": null,
            "height": null,
            "justify_content": null,
            "justify_items": null,
            "left": null,
            "margin": null,
            "max_height": null,
            "max_width": null,
            "min_height": null,
            "min_width": null,
            "object_fit": null,
            "object_position": null,
            "order": null,
            "overflow": null,
            "overflow_x": null,
            "overflow_y": null,
            "padding": null,
            "right": null,
            "top": null,
            "visibility": null,
            "width": null
          }
        },
        "fa75ef72a90343b3aeca3b4568d4b4e7": {
          "model_module": "@jupyter-widgets/controls",
          "model_name": "DescriptionStyleModel",
          "model_module_version": "1.5.0",
          "state": {
            "_model_module": "@jupyter-widgets/controls",
            "_model_module_version": "1.5.0",
            "_model_name": "DescriptionStyleModel",
            "_view_count": null,
            "_view_module": "@jupyter-widgets/base",
            "_view_module_version": "1.2.0",
            "_view_name": "StyleView",
            "description_width": ""
          }
        },
        "f7cef2c7fe6f4ddbb9ff75ca0db8afe9": {
          "model_module": "@jupyter-widgets/base",
          "model_name": "LayoutModel",
          "model_module_version": "1.2.0",
          "state": {
            "_model_module": "@jupyter-widgets/base",
            "_model_module_version": "1.2.0",
            "_model_name": "LayoutModel",
            "_view_count": null,
            "_view_module": "@jupyter-widgets/base",
            "_view_module_version": "1.2.0",
            "_view_name": "LayoutView",
            "align_content": null,
            "align_items": null,
            "align_self": null,
            "border": null,
            "bottom": null,
            "display": null,
            "flex": null,
            "flex_flow": null,
            "grid_area": null,
            "grid_auto_columns": null,
            "grid_auto_flow": null,
            "grid_auto_rows": null,
            "grid_column": null,
            "grid_gap": null,
            "grid_row": null,
            "grid_template_areas": null,
            "grid_template_columns": null,
            "grid_template_rows": null,
            "height": null,
            "justify_content": null,
            "justify_items": null,
            "left": null,
            "margin": null,
            "max_height": null,
            "max_width": null,
            "min_height": null,
            "min_width": null,
            "object_fit": null,
            "object_position": null,
            "order": null,
            "overflow": null,
            "overflow_x": null,
            "overflow_y": null,
            "padding": null,
            "right": null,
            "top": null,
            "visibility": null,
            "width": null
          }
        },
        "d388981b0c534616ae31ba63f8d7c274": {
          "model_module": "@jupyter-widgets/controls",
          "model_name": "ProgressStyleModel",
          "model_module_version": "1.5.0",
          "state": {
            "_model_module": "@jupyter-widgets/controls",
            "_model_module_version": "1.5.0",
            "_model_name": "ProgressStyleModel",
            "_view_count": null,
            "_view_module": "@jupyter-widgets/base",
            "_view_module_version": "1.2.0",
            "_view_name": "StyleView",
            "bar_color": null,
            "description_width": ""
          }
        },
        "bb9dd0f7e7bc4104a32d9ba8d7f35989": {
          "model_module": "@jupyter-widgets/base",
          "model_name": "LayoutModel",
          "model_module_version": "1.2.0",
          "state": {
            "_model_module": "@jupyter-widgets/base",
            "_model_module_version": "1.2.0",
            "_model_name": "LayoutModel",
            "_view_count": null,
            "_view_module": "@jupyter-widgets/base",
            "_view_module_version": "1.2.0",
            "_view_name": "LayoutView",
            "align_content": null,
            "align_items": null,
            "align_self": null,
            "border": null,
            "bottom": null,
            "display": null,
            "flex": null,
            "flex_flow": null,
            "grid_area": null,
            "grid_auto_columns": null,
            "grid_auto_flow": null,
            "grid_auto_rows": null,
            "grid_column": null,
            "grid_gap": null,
            "grid_row": null,
            "grid_template_areas": null,
            "grid_template_columns": null,
            "grid_template_rows": null,
            "height": null,
            "justify_content": null,
            "justify_items": null,
            "left": null,
            "margin": null,
            "max_height": null,
            "max_width": null,
            "min_height": null,
            "min_width": null,
            "object_fit": null,
            "object_position": null,
            "order": null,
            "overflow": null,
            "overflow_x": null,
            "overflow_y": null,
            "padding": null,
            "right": null,
            "top": null,
            "visibility": null,
            "width": null
          }
        },
        "8e8d41bb9ee74d559c06fb2e3cb8a30e": {
          "model_module": "@jupyter-widgets/controls",
          "model_name": "DescriptionStyleModel",
          "model_module_version": "1.5.0",
          "state": {
            "_model_module": "@jupyter-widgets/controls",
            "_model_module_version": "1.5.0",
            "_model_name": "DescriptionStyleModel",
            "_view_count": null,
            "_view_module": "@jupyter-widgets/base",
            "_view_module_version": "1.2.0",
            "_view_name": "StyleView",
            "description_width": ""
          }
        }
      }
    }
  },
  "cells": [
    {
      "cell_type": "markdown",
      "metadata": {
        "id": "view-in-github",
        "colab_type": "text"
      },
      "source": [
        "<a href=\"https://colab.research.google.com/github/SBShimm/Aiffel/blob/master/exploration/Exploration13_SB.ipynb\" target=\"_parent\"><img src=\"https://colab.research.google.com/assets/colab-badge.svg\" alt=\"Open In Colab\"/></a>"
      ]
    },
    {
      "cell_type": "markdown",
      "source": [
        "# Movielens 영화 추천"
      ],
      "metadata": {
        "id": "GRUTKR_0xsE4"
      }
    },
    {
      "cell_type": "markdown",
      "source": [
        "먼저 노드에서 진행했던 방식과 유사하게 진행하기 위해 implicit의 버전을 다운그레이드 해줍니다.  \n",
        "코랩 버전인 0.7.1로 진행할 경우 함수의 출력그거 벡터의 형상이 다르게 나옵니다."
      ],
      "metadata": {
        "id": "liWjg1kfx-94"
      }
    },
    {
      "cell_type": "code",
      "source": [
        "!pip install --upgrade pip setuptools wheel\n",
        "!pip install opencv-python"
      ],
      "metadata": {
        "id": "KfORA5tMMXSB"
      },
      "execution_count": null,
      "outputs": []
    },
    {
      "cell_type": "code",
      "source": [
        "! pip install --upgrade implicit=='0.4.8'"
      ],
      "metadata": {
        "id": "QdmkkcE52Ar6"
      },
      "execution_count": null,
      "outputs": []
    },
    {
      "cell_type": "code",
      "execution_count": 3,
      "metadata": {
        "colab": {
          "base_uri": "https://localhost:8080/"
        },
        "id": "s2j2opquu3z8",
        "outputId": "f8328035-7711-4a0e-c1e3-1e781d1183cf"
      },
      "outputs": [
        {
          "output_type": "stream",
          "name": "stdout",
          "text": [
            "1.21.6\n",
            "1.7.3\n",
            "0.4.8\n"
          ]
        }
      ],
      "source": [
        "import numpy as np\n",
        "import scipy\n",
        "import implicit\n",
        "import pandas as pd\n",
        "import numpy as np\n",
        "\n",
        "print(np.__version__)\n",
        "print(scipy.__version__)\n",
        "print(implicit.__version__)"
      ]
    },
    {
      "cell_type": "markdown",
      "source": [
        "## 1. 데이터 전처리  \n",
        "먼저, 데이터를 불러옵니다. 데이터는 movielens의 평점데이터 입니다. "
      ],
      "metadata": {
        "id": "xHUSiQu18A_e"
      }
    },
    {
      "cell_type": "code",
      "source": [
        "ratings_cols = ['user_id', 'movie_id', 'ratings', 'timestamp']\n",
        "ratings = pd.read_csv('/content/drive/MyDrive/Colab/Datasets/ml-1m/ratings.dat', sep='::', names=ratings_cols, engine='python', encoding = \"ISO-8859-1\")\n",
        "orginal_data_size = len(ratings)\n",
        "ratings.head()"
      ],
      "metadata": {
        "colab": {
          "base_uri": "https://localhost:8080/",
          "height": 206
        },
        "id": "rEAQ1KtR2K6R",
        "outputId": "1a6abe54-da16-4d6f-a1a6-3e87d4d8e5ec"
      },
      "execution_count": 4,
      "outputs": [
        {
          "output_type": "execute_result",
          "data": {
            "text/plain": [
              "   user_id  movie_id  ratings  timestamp\n",
              "0        1      1193        5  978300760\n",
              "1        1       661        3  978302109\n",
              "2        1       914        3  978301968\n",
              "3        1      3408        4  978300275\n",
              "4        1      2355        5  978824291"
            ],
            "text/html": [
              "\n",
              "  <div id=\"df-b9be96c4-0026-487b-b62d-f9c74d6d121a\">\n",
              "    <div class=\"colab-df-container\">\n",
              "      <div>\n",
              "<style scoped>\n",
              "    .dataframe tbody tr th:only-of-type {\n",
              "        vertical-align: middle;\n",
              "    }\n",
              "\n",
              "    .dataframe tbody tr th {\n",
              "        vertical-align: top;\n",
              "    }\n",
              "\n",
              "    .dataframe thead th {\n",
              "        text-align: right;\n",
              "    }\n",
              "</style>\n",
              "<table border=\"1\" class=\"dataframe\">\n",
              "  <thead>\n",
              "    <tr style=\"text-align: right;\">\n",
              "      <th></th>\n",
              "      <th>user_id</th>\n",
              "      <th>movie_id</th>\n",
              "      <th>ratings</th>\n",
              "      <th>timestamp</th>\n",
              "    </tr>\n",
              "  </thead>\n",
              "  <tbody>\n",
              "    <tr>\n",
              "      <th>0</th>\n",
              "      <td>1</td>\n",
              "      <td>1193</td>\n",
              "      <td>5</td>\n",
              "      <td>978300760</td>\n",
              "    </tr>\n",
              "    <tr>\n",
              "      <th>1</th>\n",
              "      <td>1</td>\n",
              "      <td>661</td>\n",
              "      <td>3</td>\n",
              "      <td>978302109</td>\n",
              "    </tr>\n",
              "    <tr>\n",
              "      <th>2</th>\n",
              "      <td>1</td>\n",
              "      <td>914</td>\n",
              "      <td>3</td>\n",
              "      <td>978301968</td>\n",
              "    </tr>\n",
              "    <tr>\n",
              "      <th>3</th>\n",
              "      <td>1</td>\n",
              "      <td>3408</td>\n",
              "      <td>4</td>\n",
              "      <td>978300275</td>\n",
              "    </tr>\n",
              "    <tr>\n",
              "      <th>4</th>\n",
              "      <td>1</td>\n",
              "      <td>2355</td>\n",
              "      <td>5</td>\n",
              "      <td>978824291</td>\n",
              "    </tr>\n",
              "  </tbody>\n",
              "</table>\n",
              "</div>\n",
              "      <button class=\"colab-df-convert\" onclick=\"convertToInteractive('df-b9be96c4-0026-487b-b62d-f9c74d6d121a')\"\n",
              "              title=\"Convert this dataframe to an interactive table.\"\n",
              "              style=\"display:none;\">\n",
              "        \n",
              "  <svg xmlns=\"http://www.w3.org/2000/svg\" height=\"24px\"viewBox=\"0 0 24 24\"\n",
              "       width=\"24px\">\n",
              "    <path d=\"M0 0h24v24H0V0z\" fill=\"none\"/>\n",
              "    <path d=\"M18.56 5.44l.94 2.06.94-2.06 2.06-.94-2.06-.94-.94-2.06-.94 2.06-2.06.94zm-11 1L8.5 8.5l.94-2.06 2.06-.94-2.06-.94L8.5 2.5l-.94 2.06-2.06.94zm10 10l.94 2.06.94-2.06 2.06-.94-2.06-.94-.94-2.06-.94 2.06-2.06.94z\"/><path d=\"M17.41 7.96l-1.37-1.37c-.4-.4-.92-.59-1.43-.59-.52 0-1.04.2-1.43.59L10.3 9.45l-7.72 7.72c-.78.78-.78 2.05 0 2.83L4 21.41c.39.39.9.59 1.41.59.51 0 1.02-.2 1.41-.59l7.78-7.78 2.81-2.81c.8-.78.8-2.07 0-2.86zM5.41 20L4 18.59l7.72-7.72 1.47 1.35L5.41 20z\"/>\n",
              "  </svg>\n",
              "      </button>\n",
              "      \n",
              "  <style>\n",
              "    .colab-df-container {\n",
              "      display:flex;\n",
              "      flex-wrap:wrap;\n",
              "      gap: 12px;\n",
              "    }\n",
              "\n",
              "    .colab-df-convert {\n",
              "      background-color: #E8F0FE;\n",
              "      border: none;\n",
              "      border-radius: 50%;\n",
              "      cursor: pointer;\n",
              "      display: none;\n",
              "      fill: #1967D2;\n",
              "      height: 32px;\n",
              "      padding: 0 0 0 0;\n",
              "      width: 32px;\n",
              "    }\n",
              "\n",
              "    .colab-df-convert:hover {\n",
              "      background-color: #E2EBFA;\n",
              "      box-shadow: 0px 1px 2px rgba(60, 64, 67, 0.3), 0px 1px 3px 1px rgba(60, 64, 67, 0.15);\n",
              "      fill: #174EA6;\n",
              "    }\n",
              "\n",
              "    [theme=dark] .colab-df-convert {\n",
              "      background-color: #3B4455;\n",
              "      fill: #D2E3FC;\n",
              "    }\n",
              "\n",
              "    [theme=dark] .colab-df-convert:hover {\n",
              "      background-color: #434B5C;\n",
              "      box-shadow: 0px 1px 3px 1px rgba(0, 0, 0, 0.15);\n",
              "      filter: drop-shadow(0px 1px 2px rgba(0, 0, 0, 0.3));\n",
              "      fill: #FFFFFF;\n",
              "    }\n",
              "  </style>\n",
              "\n",
              "      <script>\n",
              "        const buttonEl =\n",
              "          document.querySelector('#df-b9be96c4-0026-487b-b62d-f9c74d6d121a button.colab-df-convert');\n",
              "        buttonEl.style.display =\n",
              "          google.colab.kernel.accessAllowed ? 'block' : 'none';\n",
              "\n",
              "        async function convertToInteractive(key) {\n",
              "          const element = document.querySelector('#df-b9be96c4-0026-487b-b62d-f9c74d6d121a');\n",
              "          const dataTable =\n",
              "            await google.colab.kernel.invokeFunction('convertToInteractive',\n",
              "                                                     [key], {});\n",
              "          if (!dataTable) return;\n",
              "\n",
              "          const docLinkHtml = 'Like what you see? Visit the ' +\n",
              "            '<a target=\"_blank\" href=https://colab.research.google.com/notebooks/data_table.ipynb>data table notebook</a>'\n",
              "            + ' to learn more about interactive tables.';\n",
              "          element.innerHTML = '';\n",
              "          dataTable['output_type'] = 'display_data';\n",
              "          await google.colab.output.renderOutput(dataTable, element);\n",
              "          const docLink = document.createElement('div');\n",
              "          docLink.innerHTML = docLinkHtml;\n",
              "          element.appendChild(docLink);\n",
              "        }\n",
              "      </script>\n",
              "    </div>\n",
              "  </div>\n",
              "  "
            ]
          },
          "metadata": {},
          "execution_count": 4
        }
      ]
    },
    {
      "cell_type": "markdown",
      "source": [
        "이 데이터는 이미 user_id, movie_id로 indexing이 되어 있습니다.  \n",
        "여기서 영화 추천에 3점 미만의 데이터는 사용하지 않겠습니다."
      ],
      "metadata": {
        "id": "sCu_-sMDzH0O"
      }
    },
    {
      "cell_type": "code",
      "source": [
        "ratings = ratings[ratings['ratings']>=3]\n",
        "filtered_data_size = len(ratings)\n",
        "\n",
        "print(f'orginal_data_size: {orginal_data_size}, filtered_data_size: {filtered_data_size}')\n",
        "print(f'Ratio of Remaining Data is {filtered_data_size / orginal_data_size:.2%}')"
      ],
      "metadata": {
        "colab": {
          "base_uri": "https://localhost:8080/"
        },
        "id": "_EmuIep129sO",
        "outputId": "8543309f-a3dc-4578-f52b-d157e86d5dba"
      },
      "execution_count": 5,
      "outputs": [
        {
          "output_type": "stream",
          "name": "stdout",
          "text": [
            "orginal_data_size: 1000209, filtered_data_size: 836478\n",
            "Ratio of Remaining Data is 83.63%\n"
          ]
        }
      ]
    },
    {
      "cell_type": "code",
      "source": [
        "ratings.rename(columns={'ratings':'counts'}, inplace=True)"
      ],
      "metadata": {
        "id": "1aMI5zZS3CK3"
      },
      "execution_count": 6,
      "outputs": []
    },
    {
      "cell_type": "code",
      "source": [
        "ratings['counts']"
      ],
      "metadata": {
        "colab": {
          "base_uri": "https://localhost:8080/"
        },
        "id": "jy4BpT-x3Ddf",
        "outputId": "1ab591b0-61ae-4738-8c56-7d6111c52782"
      },
      "execution_count": 7,
      "outputs": [
        {
          "output_type": "execute_result",
          "data": {
            "text/plain": [
              "0          5\n",
              "1          3\n",
              "2          3\n",
              "3          4\n",
              "4          5\n",
              "          ..\n",
              "1000203    3\n",
              "1000205    5\n",
              "1000206    5\n",
              "1000207    4\n",
              "1000208    4\n",
              "Name: counts, Length: 836478, dtype: int64"
            ]
          },
          "metadata": {},
          "execution_count": 7
        }
      ]
    },
    {
      "cell_type": "markdown",
      "source": [
        "이미 인덱싱 되어있는 데이터의 영화 제목을 알기위해 id와 title정보가 있는 데이터를 추가적으로 사용하도록 하겠습니다."
      ],
      "metadata": {
        "id": "DA3wRlrVSSbQ"
      }
    },
    {
      "cell_type": "code",
      "source": [
        "cols = ['movie_id', 'title', 'genre'] \n",
        "movies = pd.read_csv('/content/drive/MyDrive/Colab/Datasets/ml-1m/movies.dat', sep='::', names=cols, engine='python', encoding='ISO-8859-1')\n",
        "movies.head()"
      ],
      "metadata": {
        "colab": {
          "base_uri": "https://localhost:8080/",
          "height": 206
        },
        "id": "mmB41uS63Kgw",
        "outputId": "05995078-4fb0-4169-b075-4763588a30ec"
      },
      "execution_count": 8,
      "outputs": [
        {
          "output_type": "execute_result",
          "data": {
            "text/plain": [
              "   movie_id                               title                         genre\n",
              "0         1                    Toy Story (1995)   Animation|Children's|Comedy\n",
              "1         2                      Jumanji (1995)  Adventure|Children's|Fantasy\n",
              "2         3             Grumpier Old Men (1995)                Comedy|Romance\n",
              "3         4            Waiting to Exhale (1995)                  Comedy|Drama\n",
              "4         5  Father of the Bride Part II (1995)                        Comedy"
            ],
            "text/html": [
              "\n",
              "  <div id=\"df-7a7a73c3-0544-48eb-93fe-c8e2f1fe764c\">\n",
              "    <div class=\"colab-df-container\">\n",
              "      <div>\n",
              "<style scoped>\n",
              "    .dataframe tbody tr th:only-of-type {\n",
              "        vertical-align: middle;\n",
              "    }\n",
              "\n",
              "    .dataframe tbody tr th {\n",
              "        vertical-align: top;\n",
              "    }\n",
              "\n",
              "    .dataframe thead th {\n",
              "        text-align: right;\n",
              "    }\n",
              "</style>\n",
              "<table border=\"1\" class=\"dataframe\">\n",
              "  <thead>\n",
              "    <tr style=\"text-align: right;\">\n",
              "      <th></th>\n",
              "      <th>movie_id</th>\n",
              "      <th>title</th>\n",
              "      <th>genre</th>\n",
              "    </tr>\n",
              "  </thead>\n",
              "  <tbody>\n",
              "    <tr>\n",
              "      <th>0</th>\n",
              "      <td>1</td>\n",
              "      <td>Toy Story (1995)</td>\n",
              "      <td>Animation|Children's|Comedy</td>\n",
              "    </tr>\n",
              "    <tr>\n",
              "      <th>1</th>\n",
              "      <td>2</td>\n",
              "      <td>Jumanji (1995)</td>\n",
              "      <td>Adventure|Children's|Fantasy</td>\n",
              "    </tr>\n",
              "    <tr>\n",
              "      <th>2</th>\n",
              "      <td>3</td>\n",
              "      <td>Grumpier Old Men (1995)</td>\n",
              "      <td>Comedy|Romance</td>\n",
              "    </tr>\n",
              "    <tr>\n",
              "      <th>3</th>\n",
              "      <td>4</td>\n",
              "      <td>Waiting to Exhale (1995)</td>\n",
              "      <td>Comedy|Drama</td>\n",
              "    </tr>\n",
              "    <tr>\n",
              "      <th>4</th>\n",
              "      <td>5</td>\n",
              "      <td>Father of the Bride Part II (1995)</td>\n",
              "      <td>Comedy</td>\n",
              "    </tr>\n",
              "  </tbody>\n",
              "</table>\n",
              "</div>\n",
              "      <button class=\"colab-df-convert\" onclick=\"convertToInteractive('df-7a7a73c3-0544-48eb-93fe-c8e2f1fe764c')\"\n",
              "              title=\"Convert this dataframe to an interactive table.\"\n",
              "              style=\"display:none;\">\n",
              "        \n",
              "  <svg xmlns=\"http://www.w3.org/2000/svg\" height=\"24px\"viewBox=\"0 0 24 24\"\n",
              "       width=\"24px\">\n",
              "    <path d=\"M0 0h24v24H0V0z\" fill=\"none\"/>\n",
              "    <path d=\"M18.56 5.44l.94 2.06.94-2.06 2.06-.94-2.06-.94-.94-2.06-.94 2.06-2.06.94zm-11 1L8.5 8.5l.94-2.06 2.06-.94-2.06-.94L8.5 2.5l-.94 2.06-2.06.94zm10 10l.94 2.06.94-2.06 2.06-.94-2.06-.94-.94-2.06-.94 2.06-2.06.94z\"/><path d=\"M17.41 7.96l-1.37-1.37c-.4-.4-.92-.59-1.43-.59-.52 0-1.04.2-1.43.59L10.3 9.45l-7.72 7.72c-.78.78-.78 2.05 0 2.83L4 21.41c.39.39.9.59 1.41.59.51 0 1.02-.2 1.41-.59l7.78-7.78 2.81-2.81c.8-.78.8-2.07 0-2.86zM5.41 20L4 18.59l7.72-7.72 1.47 1.35L5.41 20z\"/>\n",
              "  </svg>\n",
              "      </button>\n",
              "      \n",
              "  <style>\n",
              "    .colab-df-container {\n",
              "      display:flex;\n",
              "      flex-wrap:wrap;\n",
              "      gap: 12px;\n",
              "    }\n",
              "\n",
              "    .colab-df-convert {\n",
              "      background-color: #E8F0FE;\n",
              "      border: none;\n",
              "      border-radius: 50%;\n",
              "      cursor: pointer;\n",
              "      display: none;\n",
              "      fill: #1967D2;\n",
              "      height: 32px;\n",
              "      padding: 0 0 0 0;\n",
              "      width: 32px;\n",
              "    }\n",
              "\n",
              "    .colab-df-convert:hover {\n",
              "      background-color: #E2EBFA;\n",
              "      box-shadow: 0px 1px 2px rgba(60, 64, 67, 0.3), 0px 1px 3px 1px rgba(60, 64, 67, 0.15);\n",
              "      fill: #174EA6;\n",
              "    }\n",
              "\n",
              "    [theme=dark] .colab-df-convert {\n",
              "      background-color: #3B4455;\n",
              "      fill: #D2E3FC;\n",
              "    }\n",
              "\n",
              "    [theme=dark] .colab-df-convert:hover {\n",
              "      background-color: #434B5C;\n",
              "      box-shadow: 0px 1px 3px 1px rgba(0, 0, 0, 0.15);\n",
              "      filter: drop-shadow(0px 1px 2px rgba(0, 0, 0, 0.3));\n",
              "      fill: #FFFFFF;\n",
              "    }\n",
              "  </style>\n",
              "\n",
              "      <script>\n",
              "        const buttonEl =\n",
              "          document.querySelector('#df-7a7a73c3-0544-48eb-93fe-c8e2f1fe764c button.colab-df-convert');\n",
              "        buttonEl.style.display =\n",
              "          google.colab.kernel.accessAllowed ? 'block' : 'none';\n",
              "\n",
              "        async function convertToInteractive(key) {\n",
              "          const element = document.querySelector('#df-7a7a73c3-0544-48eb-93fe-c8e2f1fe764c');\n",
              "          const dataTable =\n",
              "            await google.colab.kernel.invokeFunction('convertToInteractive',\n",
              "                                                     [key], {});\n",
              "          if (!dataTable) return;\n",
              "\n",
              "          const docLinkHtml = 'Like what you see? Visit the ' +\n",
              "            '<a target=\"_blank\" href=https://colab.research.google.com/notebooks/data_table.ipynb>data table notebook</a>'\n",
              "            + ' to learn more about interactive tables.';\n",
              "          element.innerHTML = '';\n",
              "          dataTable['output_type'] = 'display_data';\n",
              "          await google.colab.output.renderOutput(dataTable, element);\n",
              "          const docLink = document.createElement('div');\n",
              "          docLink.innerHTML = docLinkHtml;\n",
              "          element.appendChild(docLink);\n",
              "        }\n",
              "      </script>\n",
              "    </div>\n",
              "  </div>\n",
              "  "
            ]
          },
          "metadata": {},
          "execution_count": 8
        }
      ]
    },
    {
      "cell_type": "markdown",
      "source": [
        "id를 기준으로 조인해 줍시다."
      ],
      "metadata": {
        "id": "YhUUSmx0Shk2"
      }
    },
    {
      "cell_type": "code",
      "source": [
        "ratings = pd.merge(ratings, movies[['title', 'movie_id']], on='movie_id', how='left')\n",
        "ratings"
      ],
      "metadata": {
        "colab": {
          "base_uri": "https://localhost:8080/",
          "height": 424
        },
        "id": "NwCDT0RtF26T",
        "outputId": "0a1370a9-237e-4bb8-9a59-d694d3580a21"
      },
      "execution_count": 9,
      "outputs": [
        {
          "output_type": "execute_result",
          "data": {
            "text/plain": [
              "        user_id  movie_id  counts  timestamp  \\\n",
              "0             1      1193       5  978300760   \n",
              "1             1       661       3  978302109   \n",
              "2             1       914       3  978301968   \n",
              "3             1      3408       4  978300275   \n",
              "4             1      2355       5  978824291   \n",
              "...         ...       ...     ...        ...   \n",
              "836473     6040      1090       3  956715518   \n",
              "836474     6040      1094       5  956704887   \n",
              "836475     6040       562       5  956704746   \n",
              "836476     6040      1096       4  956715648   \n",
              "836477     6040      1097       4  956715569   \n",
              "\n",
              "                                         title  \n",
              "0       One Flew Over the Cuckoo's Nest (1975)  \n",
              "1             James and the Giant Peach (1996)  \n",
              "2                          My Fair Lady (1964)  \n",
              "3                       Erin Brockovich (2000)  \n",
              "4                         Bug's Life, A (1998)  \n",
              "...                                        ...  \n",
              "836473                          Platoon (1986)  \n",
              "836474                 Crying Game, The (1992)  \n",
              "836475         Welcome to the Dollhouse (1995)  \n",
              "836476                  Sophie's Choice (1982)  \n",
              "836477       E.T. the Extra-Terrestrial (1982)  \n",
              "\n",
              "[836478 rows x 5 columns]"
            ],
            "text/html": [
              "\n",
              "  <div id=\"df-2354be92-7222-4ee1-b4c5-daaad11522ba\">\n",
              "    <div class=\"colab-df-container\">\n",
              "      <div>\n",
              "<style scoped>\n",
              "    .dataframe tbody tr th:only-of-type {\n",
              "        vertical-align: middle;\n",
              "    }\n",
              "\n",
              "    .dataframe tbody tr th {\n",
              "        vertical-align: top;\n",
              "    }\n",
              "\n",
              "    .dataframe thead th {\n",
              "        text-align: right;\n",
              "    }\n",
              "</style>\n",
              "<table border=\"1\" class=\"dataframe\">\n",
              "  <thead>\n",
              "    <tr style=\"text-align: right;\">\n",
              "      <th></th>\n",
              "      <th>user_id</th>\n",
              "      <th>movie_id</th>\n",
              "      <th>counts</th>\n",
              "      <th>timestamp</th>\n",
              "      <th>title</th>\n",
              "    </tr>\n",
              "  </thead>\n",
              "  <tbody>\n",
              "    <tr>\n",
              "      <th>0</th>\n",
              "      <td>1</td>\n",
              "      <td>1193</td>\n",
              "      <td>5</td>\n",
              "      <td>978300760</td>\n",
              "      <td>One Flew Over the Cuckoo's Nest (1975)</td>\n",
              "    </tr>\n",
              "    <tr>\n",
              "      <th>1</th>\n",
              "      <td>1</td>\n",
              "      <td>661</td>\n",
              "      <td>3</td>\n",
              "      <td>978302109</td>\n",
              "      <td>James and the Giant Peach (1996)</td>\n",
              "    </tr>\n",
              "    <tr>\n",
              "      <th>2</th>\n",
              "      <td>1</td>\n",
              "      <td>914</td>\n",
              "      <td>3</td>\n",
              "      <td>978301968</td>\n",
              "      <td>My Fair Lady (1964)</td>\n",
              "    </tr>\n",
              "    <tr>\n",
              "      <th>3</th>\n",
              "      <td>1</td>\n",
              "      <td>3408</td>\n",
              "      <td>4</td>\n",
              "      <td>978300275</td>\n",
              "      <td>Erin Brockovich (2000)</td>\n",
              "    </tr>\n",
              "    <tr>\n",
              "      <th>4</th>\n",
              "      <td>1</td>\n",
              "      <td>2355</td>\n",
              "      <td>5</td>\n",
              "      <td>978824291</td>\n",
              "      <td>Bug's Life, A (1998)</td>\n",
              "    </tr>\n",
              "    <tr>\n",
              "      <th>...</th>\n",
              "      <td>...</td>\n",
              "      <td>...</td>\n",
              "      <td>...</td>\n",
              "      <td>...</td>\n",
              "      <td>...</td>\n",
              "    </tr>\n",
              "    <tr>\n",
              "      <th>836473</th>\n",
              "      <td>6040</td>\n",
              "      <td>1090</td>\n",
              "      <td>3</td>\n",
              "      <td>956715518</td>\n",
              "      <td>Platoon (1986)</td>\n",
              "    </tr>\n",
              "    <tr>\n",
              "      <th>836474</th>\n",
              "      <td>6040</td>\n",
              "      <td>1094</td>\n",
              "      <td>5</td>\n",
              "      <td>956704887</td>\n",
              "      <td>Crying Game, The (1992)</td>\n",
              "    </tr>\n",
              "    <tr>\n",
              "      <th>836475</th>\n",
              "      <td>6040</td>\n",
              "      <td>562</td>\n",
              "      <td>5</td>\n",
              "      <td>956704746</td>\n",
              "      <td>Welcome to the Dollhouse (1995)</td>\n",
              "    </tr>\n",
              "    <tr>\n",
              "      <th>836476</th>\n",
              "      <td>6040</td>\n",
              "      <td>1096</td>\n",
              "      <td>4</td>\n",
              "      <td>956715648</td>\n",
              "      <td>Sophie's Choice (1982)</td>\n",
              "    </tr>\n",
              "    <tr>\n",
              "      <th>836477</th>\n",
              "      <td>6040</td>\n",
              "      <td>1097</td>\n",
              "      <td>4</td>\n",
              "      <td>956715569</td>\n",
              "      <td>E.T. the Extra-Terrestrial (1982)</td>\n",
              "    </tr>\n",
              "  </tbody>\n",
              "</table>\n",
              "<p>836478 rows × 5 columns</p>\n",
              "</div>\n",
              "      <button class=\"colab-df-convert\" onclick=\"convertToInteractive('df-2354be92-7222-4ee1-b4c5-daaad11522ba')\"\n",
              "              title=\"Convert this dataframe to an interactive table.\"\n",
              "              style=\"display:none;\">\n",
              "        \n",
              "  <svg xmlns=\"http://www.w3.org/2000/svg\" height=\"24px\"viewBox=\"0 0 24 24\"\n",
              "       width=\"24px\">\n",
              "    <path d=\"M0 0h24v24H0V0z\" fill=\"none\"/>\n",
              "    <path d=\"M18.56 5.44l.94 2.06.94-2.06 2.06-.94-2.06-.94-.94-2.06-.94 2.06-2.06.94zm-11 1L8.5 8.5l.94-2.06 2.06-.94-2.06-.94L8.5 2.5l-.94 2.06-2.06.94zm10 10l.94 2.06.94-2.06 2.06-.94-2.06-.94-.94-2.06-.94 2.06-2.06.94z\"/><path d=\"M17.41 7.96l-1.37-1.37c-.4-.4-.92-.59-1.43-.59-.52 0-1.04.2-1.43.59L10.3 9.45l-7.72 7.72c-.78.78-.78 2.05 0 2.83L4 21.41c.39.39.9.59 1.41.59.51 0 1.02-.2 1.41-.59l7.78-7.78 2.81-2.81c.8-.78.8-2.07 0-2.86zM5.41 20L4 18.59l7.72-7.72 1.47 1.35L5.41 20z\"/>\n",
              "  </svg>\n",
              "      </button>\n",
              "      \n",
              "  <style>\n",
              "    .colab-df-container {\n",
              "      display:flex;\n",
              "      flex-wrap:wrap;\n",
              "      gap: 12px;\n",
              "    }\n",
              "\n",
              "    .colab-df-convert {\n",
              "      background-color: #E8F0FE;\n",
              "      border: none;\n",
              "      border-radius: 50%;\n",
              "      cursor: pointer;\n",
              "      display: none;\n",
              "      fill: #1967D2;\n",
              "      height: 32px;\n",
              "      padding: 0 0 0 0;\n",
              "      width: 32px;\n",
              "    }\n",
              "\n",
              "    .colab-df-convert:hover {\n",
              "      background-color: #E2EBFA;\n",
              "      box-shadow: 0px 1px 2px rgba(60, 64, 67, 0.3), 0px 1px 3px 1px rgba(60, 64, 67, 0.15);\n",
              "      fill: #174EA6;\n",
              "    }\n",
              "\n",
              "    [theme=dark] .colab-df-convert {\n",
              "      background-color: #3B4455;\n",
              "      fill: #D2E3FC;\n",
              "    }\n",
              "\n",
              "    [theme=dark] .colab-df-convert:hover {\n",
              "      background-color: #434B5C;\n",
              "      box-shadow: 0px 1px 3px 1px rgba(0, 0, 0, 0.15);\n",
              "      filter: drop-shadow(0px 1px 2px rgba(0, 0, 0, 0.3));\n",
              "      fill: #FFFFFF;\n",
              "    }\n",
              "  </style>\n",
              "\n",
              "      <script>\n",
              "        const buttonEl =\n",
              "          document.querySelector('#df-2354be92-7222-4ee1-b4c5-daaad11522ba button.colab-df-convert');\n",
              "        buttonEl.style.display =\n",
              "          google.colab.kernel.accessAllowed ? 'block' : 'none';\n",
              "\n",
              "        async function convertToInteractive(key) {\n",
              "          const element = document.querySelector('#df-2354be92-7222-4ee1-b4c5-daaad11522ba');\n",
              "          const dataTable =\n",
              "            await google.colab.kernel.invokeFunction('convertToInteractive',\n",
              "                                                     [key], {});\n",
              "          if (!dataTable) return;\n",
              "\n",
              "          const docLinkHtml = 'Like what you see? Visit the ' +\n",
              "            '<a target=\"_blank\" href=https://colab.research.google.com/notebooks/data_table.ipynb>data table notebook</a>'\n",
              "            + ' to learn more about interactive tables.';\n",
              "          element.innerHTML = '';\n",
              "          dataTable['output_type'] = 'display_data';\n",
              "          await google.colab.output.renderOutput(dataTable, element);\n",
              "          const docLink = document.createElement('div');\n",
              "          docLink.innerHTML = docLinkHtml;\n",
              "          element.appendChild(docLink);\n",
              "        }\n",
              "      </script>\n",
              "    </div>\n",
              "  </div>\n",
              "  "
            ]
          },
          "metadata": {},
          "execution_count": 9
        }
      ]
    },
    {
      "cell_type": "markdown",
      "source": [
        "이제 각각 영화의 수, 사용자 수, 인기가 많은 영화 30개를 한번 확인해 보겠습니다.\n"
      ],
      "metadata": {
        "id": "lXJt3CNVTaQe"
      }
    },
    {
      "cell_type": "code",
      "source": [
        "# 유니크한 영화 개수\n",
        "ratings['movie_id'].nunique()"
      ],
      "metadata": {
        "colab": {
          "base_uri": "https://localhost:8080/"
        },
        "id": "2vZjulx-NPKV",
        "outputId": "5cf7a922-8ad4-4f7f-d461-a907f7d66b8d"
      },
      "execution_count": 10,
      "outputs": [
        {
          "output_type": "execute_result",
          "data": {
            "text/plain": [
              "3628"
            ]
          },
          "metadata": {},
          "execution_count": 10
        }
      ]
    },
    {
      "cell_type": "code",
      "source": [
        "# 유니크한 사용자 수\n",
        "ratings['user_id'].nunique()"
      ],
      "metadata": {
        "colab": {
          "base_uri": "https://localhost:8080/"
        },
        "id": "rWGwIL-ANSQ-",
        "outputId": "d35e648b-4e9a-40f2-be7e-9b66ff14ab77"
      },
      "execution_count": 11,
      "outputs": [
        {
          "output_type": "execute_result",
          "data": {
            "text/plain": [
              "6039"
            ]
          },
          "metadata": {},
          "execution_count": 11
        }
      ]
    },
    {
      "cell_type": "code",
      "source": [
        "# 인기있는 영화 30개\n",
        "movie_count = ratings.groupby('title')['counts'].count()\n",
        "movie_count.sort_values(ascending=False).head(30)"
      ],
      "metadata": {
        "colab": {
          "base_uri": "https://localhost:8080/"
        },
        "id": "z1sJaEjEGDCd",
        "outputId": "25feccf0-3bef-44e4-ec11-ba41ed3d71f8"
      },
      "execution_count": 12,
      "outputs": [
        {
          "output_type": "execute_result",
          "data": {
            "text/plain": [
              "title\n",
              "American Beauty (1999)                                   3211\n",
              "Star Wars: Episode IV - A New Hope (1977)                2910\n",
              "Star Wars: Episode V - The Empire Strikes Back (1980)    2885\n",
              "Star Wars: Episode VI - Return of the Jedi (1983)        2716\n",
              "Saving Private Ryan (1998)                               2561\n",
              "Terminator 2: Judgment Day (1991)                        2509\n",
              "Silence of the Lambs, The (1991)                         2498\n",
              "Raiders of the Lost Ark (1981)                           2473\n",
              "Back to the Future (1985)                                2460\n",
              "Matrix, The (1999)                                       2434\n",
              "Jurassic Park (1993)                                     2413\n",
              "Sixth Sense, The (1999)                                  2385\n",
              "Fargo (1996)                                             2371\n",
              "Braveheart (1995)                                        2314\n",
              "Men in Black (1997)                                      2297\n",
              "Schindler's List (1993)                                  2257\n",
              "Princess Bride, The (1987)                               2252\n",
              "Shakespeare in Love (1998)                               2213\n",
              "L.A. Confidential (1997)                                 2210\n",
              "Shawshank Redemption, The (1994)                         2194\n",
              "Godfather, The (1972)                                    2167\n",
              "Groundhog Day (1993)                                     2121\n",
              "E.T. the Extra-Terrestrial (1982)                        2102\n",
              "Being John Malkovich (1999)                              2066\n",
              "Ghostbusters (1984)                                      2051\n",
              "Pulp Fiction (1994)                                      2030\n",
              "Forrest Gump (1994)                                      2022\n",
              "Terminator, The (1984)                                   2019\n",
              "Toy Story (1995)                                         2000\n",
              "Fugitive, The (1993)                                     1941\n",
              "Name: counts, dtype: int64"
            ]
          },
          "metadata": {},
          "execution_count": 12
        }
      ]
    },
    {
      "cell_type": "markdown",
      "source": [
        "익숙한 영화들이 많네요.  \n",
        "여기서 제가 좋아하는 영화를 데이터로 추가하겠습니다."
      ],
      "metadata": {
        "id": "AUbcvzEBRctS"
      }
    },
    {
      "cell_type": "code",
      "source": [
        "my_favorite = ['Fargo (1996)', 'Toy Story (1995)', 'Men in Black (1997)' , 'Back to the Future (1985)', 'Saving Private Ryan (1998)']\n",
        "\n",
        "new_lines = pd.DataFrame({'user_id':['SBShim']*5, 'title':my_favorite, 'counts':[5]*5})\n",
        "\n",
        "ratings = ratings.append(new_lines)\n",
        "ratings.tail(10)"
      ],
      "metadata": {
        "colab": {
          "base_uri": "https://localhost:8080/",
          "height": 363
        },
        "id": "0F6yOdM7GAzQ",
        "outputId": "02b86adc-da2a-4849-d849-fc88bfc9d899"
      },
      "execution_count": 13,
      "outputs": [
        {
          "output_type": "execute_result",
          "data": {
            "text/plain": [
              "       user_id  movie_id  counts    timestamp  \\\n",
              "836473    6040    1090.0       3  956715518.0   \n",
              "836474    6040    1094.0       5  956704887.0   \n",
              "836475    6040     562.0       5  956704746.0   \n",
              "836476    6040    1096.0       4  956715648.0   \n",
              "836477    6040    1097.0       4  956715569.0   \n",
              "0       SBShim       NaN       5          NaN   \n",
              "1       SBShim       NaN       5          NaN   \n",
              "2       SBShim       NaN       5          NaN   \n",
              "3       SBShim       NaN       5          NaN   \n",
              "4       SBShim       NaN       5          NaN   \n",
              "\n",
              "                                    title  \n",
              "836473                     Platoon (1986)  \n",
              "836474            Crying Game, The (1992)  \n",
              "836475    Welcome to the Dollhouse (1995)  \n",
              "836476             Sophie's Choice (1982)  \n",
              "836477  E.T. the Extra-Terrestrial (1982)  \n",
              "0                            Fargo (1996)  \n",
              "1                        Toy Story (1995)  \n",
              "2                     Men in Black (1997)  \n",
              "3               Back to the Future (1985)  \n",
              "4              Saving Private Ryan (1998)  "
            ],
            "text/html": [
              "\n",
              "  <div id=\"df-111eb893-3f6e-451b-b914-85604e11c55f\">\n",
              "    <div class=\"colab-df-container\">\n",
              "      <div>\n",
              "<style scoped>\n",
              "    .dataframe tbody tr th:only-of-type {\n",
              "        vertical-align: middle;\n",
              "    }\n",
              "\n",
              "    .dataframe tbody tr th {\n",
              "        vertical-align: top;\n",
              "    }\n",
              "\n",
              "    .dataframe thead th {\n",
              "        text-align: right;\n",
              "    }\n",
              "</style>\n",
              "<table border=\"1\" class=\"dataframe\">\n",
              "  <thead>\n",
              "    <tr style=\"text-align: right;\">\n",
              "      <th></th>\n",
              "      <th>user_id</th>\n",
              "      <th>movie_id</th>\n",
              "      <th>counts</th>\n",
              "      <th>timestamp</th>\n",
              "      <th>title</th>\n",
              "    </tr>\n",
              "  </thead>\n",
              "  <tbody>\n",
              "    <tr>\n",
              "      <th>836473</th>\n",
              "      <td>6040</td>\n",
              "      <td>1090.0</td>\n",
              "      <td>3</td>\n",
              "      <td>956715518.0</td>\n",
              "      <td>Platoon (1986)</td>\n",
              "    </tr>\n",
              "    <tr>\n",
              "      <th>836474</th>\n",
              "      <td>6040</td>\n",
              "      <td>1094.0</td>\n",
              "      <td>5</td>\n",
              "      <td>956704887.0</td>\n",
              "      <td>Crying Game, The (1992)</td>\n",
              "    </tr>\n",
              "    <tr>\n",
              "      <th>836475</th>\n",
              "      <td>6040</td>\n",
              "      <td>562.0</td>\n",
              "      <td>5</td>\n",
              "      <td>956704746.0</td>\n",
              "      <td>Welcome to the Dollhouse (1995)</td>\n",
              "    </tr>\n",
              "    <tr>\n",
              "      <th>836476</th>\n",
              "      <td>6040</td>\n",
              "      <td>1096.0</td>\n",
              "      <td>4</td>\n",
              "      <td>956715648.0</td>\n",
              "      <td>Sophie's Choice (1982)</td>\n",
              "    </tr>\n",
              "    <tr>\n",
              "      <th>836477</th>\n",
              "      <td>6040</td>\n",
              "      <td>1097.0</td>\n",
              "      <td>4</td>\n",
              "      <td>956715569.0</td>\n",
              "      <td>E.T. the Extra-Terrestrial (1982)</td>\n",
              "    </tr>\n",
              "    <tr>\n",
              "      <th>0</th>\n",
              "      <td>SBShim</td>\n",
              "      <td>NaN</td>\n",
              "      <td>5</td>\n",
              "      <td>NaN</td>\n",
              "      <td>Fargo (1996)</td>\n",
              "    </tr>\n",
              "    <tr>\n",
              "      <th>1</th>\n",
              "      <td>SBShim</td>\n",
              "      <td>NaN</td>\n",
              "      <td>5</td>\n",
              "      <td>NaN</td>\n",
              "      <td>Toy Story (1995)</td>\n",
              "    </tr>\n",
              "    <tr>\n",
              "      <th>2</th>\n",
              "      <td>SBShim</td>\n",
              "      <td>NaN</td>\n",
              "      <td>5</td>\n",
              "      <td>NaN</td>\n",
              "      <td>Men in Black (1997)</td>\n",
              "    </tr>\n",
              "    <tr>\n",
              "      <th>3</th>\n",
              "      <td>SBShim</td>\n",
              "      <td>NaN</td>\n",
              "      <td>5</td>\n",
              "      <td>NaN</td>\n",
              "      <td>Back to the Future (1985)</td>\n",
              "    </tr>\n",
              "    <tr>\n",
              "      <th>4</th>\n",
              "      <td>SBShim</td>\n",
              "      <td>NaN</td>\n",
              "      <td>5</td>\n",
              "      <td>NaN</td>\n",
              "      <td>Saving Private Ryan (1998)</td>\n",
              "    </tr>\n",
              "  </tbody>\n",
              "</table>\n",
              "</div>\n",
              "      <button class=\"colab-df-convert\" onclick=\"convertToInteractive('df-111eb893-3f6e-451b-b914-85604e11c55f')\"\n",
              "              title=\"Convert this dataframe to an interactive table.\"\n",
              "              style=\"display:none;\">\n",
              "        \n",
              "  <svg xmlns=\"http://www.w3.org/2000/svg\" height=\"24px\"viewBox=\"0 0 24 24\"\n",
              "       width=\"24px\">\n",
              "    <path d=\"M0 0h24v24H0V0z\" fill=\"none\"/>\n",
              "    <path d=\"M18.56 5.44l.94 2.06.94-2.06 2.06-.94-2.06-.94-.94-2.06-.94 2.06-2.06.94zm-11 1L8.5 8.5l.94-2.06 2.06-.94-2.06-.94L8.5 2.5l-.94 2.06-2.06.94zm10 10l.94 2.06.94-2.06 2.06-.94-2.06-.94-.94-2.06-.94 2.06-2.06.94z\"/><path d=\"M17.41 7.96l-1.37-1.37c-.4-.4-.92-.59-1.43-.59-.52 0-1.04.2-1.43.59L10.3 9.45l-7.72 7.72c-.78.78-.78 2.05 0 2.83L4 21.41c.39.39.9.59 1.41.59.51 0 1.02-.2 1.41-.59l7.78-7.78 2.81-2.81c.8-.78.8-2.07 0-2.86zM5.41 20L4 18.59l7.72-7.72 1.47 1.35L5.41 20z\"/>\n",
              "  </svg>\n",
              "      </button>\n",
              "      \n",
              "  <style>\n",
              "    .colab-df-container {\n",
              "      display:flex;\n",
              "      flex-wrap:wrap;\n",
              "      gap: 12px;\n",
              "    }\n",
              "\n",
              "    .colab-df-convert {\n",
              "      background-color: #E8F0FE;\n",
              "      border: none;\n",
              "      border-radius: 50%;\n",
              "      cursor: pointer;\n",
              "      display: none;\n",
              "      fill: #1967D2;\n",
              "      height: 32px;\n",
              "      padding: 0 0 0 0;\n",
              "      width: 32px;\n",
              "    }\n",
              "\n",
              "    .colab-df-convert:hover {\n",
              "      background-color: #E2EBFA;\n",
              "      box-shadow: 0px 1px 2px rgba(60, 64, 67, 0.3), 0px 1px 3px 1px rgba(60, 64, 67, 0.15);\n",
              "      fill: #174EA6;\n",
              "    }\n",
              "\n",
              "    [theme=dark] .colab-df-convert {\n",
              "      background-color: #3B4455;\n",
              "      fill: #D2E3FC;\n",
              "    }\n",
              "\n",
              "    [theme=dark] .colab-df-convert:hover {\n",
              "      background-color: #434B5C;\n",
              "      box-shadow: 0px 1px 3px 1px rgba(0, 0, 0, 0.15);\n",
              "      filter: drop-shadow(0px 1px 2px rgba(0, 0, 0, 0.3));\n",
              "      fill: #FFFFFF;\n",
              "    }\n",
              "  </style>\n",
              "\n",
              "      <script>\n",
              "        const buttonEl =\n",
              "          document.querySelector('#df-111eb893-3f6e-451b-b914-85604e11c55f button.colab-df-convert');\n",
              "        buttonEl.style.display =\n",
              "          google.colab.kernel.accessAllowed ? 'block' : 'none';\n",
              "\n",
              "        async function convertToInteractive(key) {\n",
              "          const element = document.querySelector('#df-111eb893-3f6e-451b-b914-85604e11c55f');\n",
              "          const dataTable =\n",
              "            await google.colab.kernel.invokeFunction('convertToInteractive',\n",
              "                                                     [key], {});\n",
              "          if (!dataTable) return;\n",
              "\n",
              "          const docLinkHtml = 'Like what you see? Visit the ' +\n",
              "            '<a target=\"_blank\" href=https://colab.research.google.com/notebooks/data_table.ipynb>data table notebook</a>'\n",
              "            + ' to learn more about interactive tables.';\n",
              "          element.innerHTML = '';\n",
              "          dataTable['output_type'] = 'display_data';\n",
              "          await google.colab.output.renderOutput(dataTable, element);\n",
              "          const docLink = document.createElement('div');\n",
              "          docLink.innerHTML = docLinkHtml;\n",
              "          element.appendChild(docLink);\n",
              "        }\n",
              "      </script>\n",
              "    </div>\n",
              "  </div>\n",
              "  "
            ]
          },
          "metadata": {},
          "execution_count": 13
        }
      ]
    },
    {
      "cell_type": "markdown",
      "source": [
        "정상적으로 추가됐네요.  \n",
        "아까 확인했을 때, user_id는 6040까지 있는데 unique가 6039개, movie_id는 3800번대 까지 있는데 unique는 3600대의 수를 보였습니다. 중간중간에 빈 자리가 있는것 같고 SBShim으로 데이터도 추가해 줬으니 다시 indexing 해주도록 하겠습니다."
      ],
      "metadata": {
        "id": "8HFx7sJ7UIC7"
      }
    },
    {
      "cell_type": "code",
      "source": [
        "# 고유한 유저, 아티스트를 찾아내는 코드\n",
        "user_unique = ratings['user_id'].unique()\n",
        "movie_unique = ratings['title'].unique()\n",
        "\n",
        "# 유저, 아티스트 indexing 하는 코드 idx는 index의 약자입니다.\n",
        "user_to_idx = {v:k for k,v in enumerate(user_unique)}\n",
        "movie_to_idx = {v:k for k,v in enumerate(movie_unique)}"
      ],
      "metadata": {
        "id": "_ZsjoCePx-1c"
      },
      "execution_count": 14,
      "outputs": []
    },
    {
      "cell_type": "code",
      "source": [
        "# 인덱싱이 잘 되었는지 확인해 봅니다. \n",
        "print(user_to_idx['SBShim'])\n",
        "print(movie_to_idx['Fargo (1996)'])"
      ],
      "metadata": {
        "colab": {
          "base_uri": "https://localhost:8080/"
        },
        "id": "X8eDC9rox_tH",
        "outputId": "4182219d-fbe4-42d2-fbc7-e750a5be9f4e"
      },
      "execution_count": 15,
      "outputs": [
        {
          "output_type": "stream",
          "name": "stdout",
          "text": [
            "6039\n",
            "51\n"
          ]
        }
      ]
    },
    {
      "cell_type": "code",
      "source": [
        "temp_user_data = ratings['user_id'].map(user_to_idx.get).dropna()\n",
        "if len(temp_user_data) == len(ratings):   # 모든 row가 정상적으로 인덱싱되었다면\n",
        "    print('user_id column indexing OK!!')\n",
        "    ratings['user_id'] = temp_user_data   # data['user_id']을 인덱싱된 Series로 교체해 줍니다. \n",
        "else:\n",
        "    print('user_id column indexing Fail!!')\n",
        "\n",
        "temp_movie_data = ratings['title'].map(movie_to_idx.get).dropna()\n",
        "if len(temp_movie_data) == len(ratings):\n",
        "    print('movie_id column indexing OK!!')\n",
        "    ratings['movie_id'] = temp_movie_data\n",
        "else:\n",
        "    print('movie_id column indexing Fail!!')"
      ],
      "metadata": {
        "colab": {
          "base_uri": "https://localhost:8080/"
        },
        "id": "i5vaPkj0xwqU",
        "outputId": "1fe7597e-8efb-41c8-c317-3f967716fb0f"
      },
      "execution_count": 16,
      "outputs": [
        {
          "output_type": "stream",
          "name": "stdout",
          "text": [
            "user_id column indexing OK!!\n",
            "movie_id column indexing OK!!\n"
          ]
        }
      ]
    },
    {
      "cell_type": "code",
      "source": [
        "ratings"
      ],
      "metadata": {
        "colab": {
          "base_uri": "https://localhost:8080/",
          "height": 424
        },
        "id": "iH9wErrVCEV6",
        "outputId": "f71ca8cb-eb41-4be4-8365-7ceac38335e4"
      },
      "execution_count": 17,
      "outputs": [
        {
          "output_type": "execute_result",
          "data": {
            "text/plain": [
              "    user_id  movie_id  counts    timestamp  \\\n",
              "0         0         0       5  978300760.0   \n",
              "1         0         1       3  978302109.0   \n",
              "2         0         2       3  978301968.0   \n",
              "3         0         3       4  978300275.0   \n",
              "4         0         4       5  978824291.0   \n",
              "..      ...       ...     ...          ...   \n",
              "0      6039        51       5          NaN   \n",
              "1      6039        40       5          NaN   \n",
              "2      6039       175       5          NaN   \n",
              "3      6039        22       5          NaN   \n",
              "4      6039        48       5          NaN   \n",
              "\n",
              "                                     title  \n",
              "0   One Flew Over the Cuckoo's Nest (1975)  \n",
              "1         James and the Giant Peach (1996)  \n",
              "2                      My Fair Lady (1964)  \n",
              "3                   Erin Brockovich (2000)  \n",
              "4                     Bug's Life, A (1998)  \n",
              "..                                     ...  \n",
              "0                             Fargo (1996)  \n",
              "1                         Toy Story (1995)  \n",
              "2                      Men in Black (1997)  \n",
              "3                Back to the Future (1985)  \n",
              "4               Saving Private Ryan (1998)  \n",
              "\n",
              "[836483 rows x 5 columns]"
            ],
            "text/html": [
              "\n",
              "  <div id=\"df-502c2fa5-73e5-4d9f-a238-34043778da7d\">\n",
              "    <div class=\"colab-df-container\">\n",
              "      <div>\n",
              "<style scoped>\n",
              "    .dataframe tbody tr th:only-of-type {\n",
              "        vertical-align: middle;\n",
              "    }\n",
              "\n",
              "    .dataframe tbody tr th {\n",
              "        vertical-align: top;\n",
              "    }\n",
              "\n",
              "    .dataframe thead th {\n",
              "        text-align: right;\n",
              "    }\n",
              "</style>\n",
              "<table border=\"1\" class=\"dataframe\">\n",
              "  <thead>\n",
              "    <tr style=\"text-align: right;\">\n",
              "      <th></th>\n",
              "      <th>user_id</th>\n",
              "      <th>movie_id</th>\n",
              "      <th>counts</th>\n",
              "      <th>timestamp</th>\n",
              "      <th>title</th>\n",
              "    </tr>\n",
              "  </thead>\n",
              "  <tbody>\n",
              "    <tr>\n",
              "      <th>0</th>\n",
              "      <td>0</td>\n",
              "      <td>0</td>\n",
              "      <td>5</td>\n",
              "      <td>978300760.0</td>\n",
              "      <td>One Flew Over the Cuckoo's Nest (1975)</td>\n",
              "    </tr>\n",
              "    <tr>\n",
              "      <th>1</th>\n",
              "      <td>0</td>\n",
              "      <td>1</td>\n",
              "      <td>3</td>\n",
              "      <td>978302109.0</td>\n",
              "      <td>James and the Giant Peach (1996)</td>\n",
              "    </tr>\n",
              "    <tr>\n",
              "      <th>2</th>\n",
              "      <td>0</td>\n",
              "      <td>2</td>\n",
              "      <td>3</td>\n",
              "      <td>978301968.0</td>\n",
              "      <td>My Fair Lady (1964)</td>\n",
              "    </tr>\n",
              "    <tr>\n",
              "      <th>3</th>\n",
              "      <td>0</td>\n",
              "      <td>3</td>\n",
              "      <td>4</td>\n",
              "      <td>978300275.0</td>\n",
              "      <td>Erin Brockovich (2000)</td>\n",
              "    </tr>\n",
              "    <tr>\n",
              "      <th>4</th>\n",
              "      <td>0</td>\n",
              "      <td>4</td>\n",
              "      <td>5</td>\n",
              "      <td>978824291.0</td>\n",
              "      <td>Bug's Life, A (1998)</td>\n",
              "    </tr>\n",
              "    <tr>\n",
              "      <th>...</th>\n",
              "      <td>...</td>\n",
              "      <td>...</td>\n",
              "      <td>...</td>\n",
              "      <td>...</td>\n",
              "      <td>...</td>\n",
              "    </tr>\n",
              "    <tr>\n",
              "      <th>0</th>\n",
              "      <td>6039</td>\n",
              "      <td>51</td>\n",
              "      <td>5</td>\n",
              "      <td>NaN</td>\n",
              "      <td>Fargo (1996)</td>\n",
              "    </tr>\n",
              "    <tr>\n",
              "      <th>1</th>\n",
              "      <td>6039</td>\n",
              "      <td>40</td>\n",
              "      <td>5</td>\n",
              "      <td>NaN</td>\n",
              "      <td>Toy Story (1995)</td>\n",
              "    </tr>\n",
              "    <tr>\n",
              "      <th>2</th>\n",
              "      <td>6039</td>\n",
              "      <td>175</td>\n",
              "      <td>5</td>\n",
              "      <td>NaN</td>\n",
              "      <td>Men in Black (1997)</td>\n",
              "    </tr>\n",
              "    <tr>\n",
              "      <th>3</th>\n",
              "      <td>6039</td>\n",
              "      <td>22</td>\n",
              "      <td>5</td>\n",
              "      <td>NaN</td>\n",
              "      <td>Back to the Future (1985)</td>\n",
              "    </tr>\n",
              "    <tr>\n",
              "      <th>4</th>\n",
              "      <td>6039</td>\n",
              "      <td>48</td>\n",
              "      <td>5</td>\n",
              "      <td>NaN</td>\n",
              "      <td>Saving Private Ryan (1998)</td>\n",
              "    </tr>\n",
              "  </tbody>\n",
              "</table>\n",
              "<p>836483 rows × 5 columns</p>\n",
              "</div>\n",
              "      <button class=\"colab-df-convert\" onclick=\"convertToInteractive('df-502c2fa5-73e5-4d9f-a238-34043778da7d')\"\n",
              "              title=\"Convert this dataframe to an interactive table.\"\n",
              "              style=\"display:none;\">\n",
              "        \n",
              "  <svg xmlns=\"http://www.w3.org/2000/svg\" height=\"24px\"viewBox=\"0 0 24 24\"\n",
              "       width=\"24px\">\n",
              "    <path d=\"M0 0h24v24H0V0z\" fill=\"none\"/>\n",
              "    <path d=\"M18.56 5.44l.94 2.06.94-2.06 2.06-.94-2.06-.94-.94-2.06-.94 2.06-2.06.94zm-11 1L8.5 8.5l.94-2.06 2.06-.94-2.06-.94L8.5 2.5l-.94 2.06-2.06.94zm10 10l.94 2.06.94-2.06 2.06-.94-2.06-.94-.94-2.06-.94 2.06-2.06.94z\"/><path d=\"M17.41 7.96l-1.37-1.37c-.4-.4-.92-.59-1.43-.59-.52 0-1.04.2-1.43.59L10.3 9.45l-7.72 7.72c-.78.78-.78 2.05 0 2.83L4 21.41c.39.39.9.59 1.41.59.51 0 1.02-.2 1.41-.59l7.78-7.78 2.81-2.81c.8-.78.8-2.07 0-2.86zM5.41 20L4 18.59l7.72-7.72 1.47 1.35L5.41 20z\"/>\n",
              "  </svg>\n",
              "      </button>\n",
              "      \n",
              "  <style>\n",
              "    .colab-df-container {\n",
              "      display:flex;\n",
              "      flex-wrap:wrap;\n",
              "      gap: 12px;\n",
              "    }\n",
              "\n",
              "    .colab-df-convert {\n",
              "      background-color: #E8F0FE;\n",
              "      border: none;\n",
              "      border-radius: 50%;\n",
              "      cursor: pointer;\n",
              "      display: none;\n",
              "      fill: #1967D2;\n",
              "      height: 32px;\n",
              "      padding: 0 0 0 0;\n",
              "      width: 32px;\n",
              "    }\n",
              "\n",
              "    .colab-df-convert:hover {\n",
              "      background-color: #E2EBFA;\n",
              "      box-shadow: 0px 1px 2px rgba(60, 64, 67, 0.3), 0px 1px 3px 1px rgba(60, 64, 67, 0.15);\n",
              "      fill: #174EA6;\n",
              "    }\n",
              "\n",
              "    [theme=dark] .colab-df-convert {\n",
              "      background-color: #3B4455;\n",
              "      fill: #D2E3FC;\n",
              "    }\n",
              "\n",
              "    [theme=dark] .colab-df-convert:hover {\n",
              "      background-color: #434B5C;\n",
              "      box-shadow: 0px 1px 3px 1px rgba(0, 0, 0, 0.15);\n",
              "      filter: drop-shadow(0px 1px 2px rgba(0, 0, 0, 0.3));\n",
              "      fill: #FFFFFF;\n",
              "    }\n",
              "  </style>\n",
              "\n",
              "      <script>\n",
              "        const buttonEl =\n",
              "          document.querySelector('#df-502c2fa5-73e5-4d9f-a238-34043778da7d button.colab-df-convert');\n",
              "        buttonEl.style.display =\n",
              "          google.colab.kernel.accessAllowed ? 'block' : 'none';\n",
              "\n",
              "        async function convertToInteractive(key) {\n",
              "          const element = document.querySelector('#df-502c2fa5-73e5-4d9f-a238-34043778da7d');\n",
              "          const dataTable =\n",
              "            await google.colab.kernel.invokeFunction('convertToInteractive',\n",
              "                                                     [key], {});\n",
              "          if (!dataTable) return;\n",
              "\n",
              "          const docLinkHtml = 'Like what you see? Visit the ' +\n",
              "            '<a target=\"_blank\" href=https://colab.research.google.com/notebooks/data_table.ipynb>data table notebook</a>'\n",
              "            + ' to learn more about interactive tables.';\n",
              "          element.innerHTML = '';\n",
              "          dataTable['output_type'] = 'display_data';\n",
              "          await google.colab.output.renderOutput(dataTable, element);\n",
              "          const docLink = document.createElement('div');\n",
              "          docLink.innerHTML = docLinkHtml;\n",
              "          element.appendChild(docLink);\n",
              "        }\n",
              "      </script>\n",
              "    </div>\n",
              "  </div>\n",
              "  "
            ]
          },
          "metadata": {},
          "execution_count": 17
        }
      ]
    },
    {
      "cell_type": "markdown",
      "source": [
        "인덱싱이 끝난 데이터를 이용하여 CSR Matrix를 생성하겠습니다."
      ],
      "metadata": {
        "id": "VVrsMtfeZP9Q"
      }
    },
    {
      "cell_type": "code",
      "source": [
        "from scipy.sparse import csr_matrix\n",
        "\n",
        "num_user = ratings['user_id'].nunique()\n",
        "num_movies = ratings['movie_id'].nunique()\n",
        "\n",
        "csr_data = csr_matrix((ratings['counts'], (ratings.user_id, ratings.movie_id)), shape=(num_user, num_movies))\n",
        "csr_data"
      ],
      "metadata": {
        "colab": {
          "base_uri": "https://localhost:8080/"
        },
        "id": "BScnvg2kRkxP",
        "outputId": "45769264-80e2-4b0c-c27b-0dd3fec0f45c"
      },
      "execution_count": 18,
      "outputs": [
        {
          "output_type": "execute_result",
          "data": {
            "text/plain": [
              "<6040x3628 sparse matrix of type '<class 'numpy.int64'>'\n",
              "\twith 836483 stored elements in Compressed Sparse Row format>"
            ]
          },
          "metadata": {},
          "execution_count": 18
        }
      ]
    },
    {
      "cell_type": "markdown",
      "source": [
        "## 2. 모델 구성하기 \n",
        "이제 학습할 모델을 준비합니다.  \n",
        "implicit 패키지의 als 모델을 사용합니다. "
      ],
      "metadata": {
        "id": "dAEjhTrp2KW7"
      }
    },
    {
      "cell_type": "code",
      "source": [
        "from implicit.als import AlternatingLeastSquares\n",
        "import os\n",
        "import numpy as np\n",
        "\n",
        "# implicit 라이브러리에서 권장하고 있는 부분입니다. 학습 내용과는 무관합니다.\n",
        "os.environ['OPENBLAS_NUM_THREADS']='1'\n",
        "os.environ['KMP_DUPLICATE_LIB_OK']='True'\n",
        "os.environ['MKL_NUM_THREADS']='1'"
      ],
      "metadata": {
        "id": "In_3gAtyUXAd"
      },
      "execution_count": 19,
      "outputs": []
    },
    {
      "cell_type": "code",
      "source": [
        "# Implicit AlternatingLeastSquares 모델의 선언\n",
        "als_model = AlternatingLeastSquares(factors=100, regularization=0.01, use_gpu=False, iterations=15, dtype=np.float32)"
      ],
      "metadata": {
        "id": "ZcR1muP5rav2"
      },
      "execution_count": 20,
      "outputs": []
    },
    {
      "cell_type": "markdown",
      "source": [
        "als 모델은 input으로 (item X user 꼴의 matrix를 받기 때문에 Transpose해줍니다.)"
      ],
      "metadata": {
        "id": "kuY2xtIUEQ2Y"
      }
    },
    {
      "cell_type": "code",
      "source": [
        "csr_data_transpose = csr_data.T\n",
        "csr_data_transpose"
      ],
      "metadata": {
        "colab": {
          "base_uri": "https://localhost:8080/"
        },
        "id": "XylAuyW8s5QF",
        "outputId": "6d01ab2e-85a0-4744-8889-8234b12466d8"
      },
      "execution_count": 21,
      "outputs": [
        {
          "output_type": "execute_result",
          "data": {
            "text/plain": [
              "<3628x6040 sparse matrix of type '<class 'numpy.int64'>'\n",
              "\twith 836483 stored elements in Compressed Sparse Column format>"
            ]
          },
          "metadata": {},
          "execution_count": 21
        }
      ]
    },
    {
      "cell_type": "markdown",
      "source": [
        "준비한 모델로 학습을 시켜줍시다."
      ],
      "metadata": {
        "id": "eITU1o1BETAd"
      }
    },
    {
      "cell_type": "code",
      "source": [
        "# 모델 훈련\n",
        "als_model.fit(csr_data_transpose)"
      ],
      "metadata": {
        "colab": {
          "base_uri": "https://localhost:8080/",
          "height": 49,
          "referenced_widgets": [
            "9f5338520e0440d5a8a94dc561dd864a",
            "0953df1363ba4d32ae3f5d0454f5233b",
            "94ab68557fc543bab37d1c20cb79c007",
            "11910e7d71094550a0796f5aa49d0db7",
            "6fab9a2241b44bfeb1822192033b0978",
            "dc6be9b9bf844e10a06ff2a0a95c0bb6",
            "fa75ef72a90343b3aeca3b4568d4b4e7",
            "f7cef2c7fe6f4ddbb9ff75ca0db8afe9",
            "d388981b0c534616ae31ba63f8d7c274",
            "bb9dd0f7e7bc4104a32d9ba8d7f35989",
            "8e8d41bb9ee74d559c06fb2e3cb8a30e"
          ]
        },
        "id": "UCRsiSeDs9IS",
        "outputId": "d8588f10-7356-44cf-cfe6-04fa06a9a1eb"
      },
      "execution_count": 22,
      "outputs": [
        {
          "output_type": "display_data",
          "data": {
            "text/plain": [
              "  0%|          | 0/15 [00:00<?, ?it/s]"
            ],
            "application/vnd.jupyter.widget-view+json": {
              "version_major": 2,
              "version_minor": 0,
              "model_id": "9f5338520e0440d5a8a94dc561dd864a"
            }
          },
          "metadata": {}
        }
      ]
    },
    {
      "cell_type": "markdown",
      "source": [
        "## 3. 영화 추천\n",
        "이제 각각 제가 추가한 평점 데이터를 이용하여 제가 평점을 남겼던 영화와 평점을 남기지 않은 영화를 통해 선호도를 체크해 보겠습니다."
      ],
      "metadata": {
        "id": "uSRLadjiEW47"
      }
    },
    {
      "cell_type": "code",
      "source": [
        "user, movie1, movie2 = user_to_idx['SBShim'], movie_to_idx['James and the Giant Peach (1996)'], movie_to_idx['Toy Story (1995)']\n",
        "user_vector, movie1_vector, movie2_vector = als_model.user_factors[user], als_model.item_factors[movie1], als_model.item_factors[movie2]"
      ],
      "metadata": {
        "id": "FFXx-cqFHSfz"
      },
      "execution_count": 23,
      "outputs": []
    },
    {
      "cell_type": "code",
      "source": [
        "user_vector"
      ],
      "metadata": {
        "colab": {
          "base_uri": "https://localhost:8080/"
        },
        "id": "XeGY8fZGRuhe",
        "outputId": "e2d54079-50ef-4edf-ae88-89364c42d1b6"
      },
      "execution_count": 24,
      "outputs": [
        {
          "output_type": "execute_result",
          "data": {
            "text/plain": [
              "array([ 0.79728806,  0.36559203, -0.4981043 , -1.0443616 ,  0.02600287,\n",
              "        0.21039541,  0.03202421,  0.1160691 ,  0.9084425 , -0.70759195,\n",
              "       -0.21348672, -0.12428351,  0.86088455, -0.81466836,  0.75681955,\n",
              "        0.7916172 , -0.3388649 , -0.28935468, -0.4255776 ,  0.14504634,\n",
              "       -0.70375764, -0.20063971, -0.7503045 ,  0.43174228, -0.07368468,\n",
              "       -0.5113064 ,  0.04554807,  0.42721617,  0.05908995, -0.10360583,\n",
              "       -0.5072723 , -0.35585484,  0.2979387 , -0.38709664, -0.41663483,\n",
              "        0.49788514,  0.10685575,  0.3770724 , -0.17657438, -0.09477576,\n",
              "        0.22077128,  0.9894096 ,  1.1284789 ,  0.42195943,  0.15777439,\n",
              "       -0.45691934, -0.5191613 , -0.21372359,  0.43190548, -0.08012772,\n",
              "       -0.3175971 , -0.0510447 ,  0.2515708 ,  0.12453848, -0.30559048,\n",
              "        0.50535876,  0.1715025 ,  0.01735882, -0.23189071,  0.52392614,\n",
              "       -0.5293061 ,  0.28440052, -0.6221826 ,  0.22442389,  0.28741992,\n",
              "       -0.93437535, -0.36910188, -0.12602463,  0.15376167,  0.7598625 ,\n",
              "       -0.31651595, -0.2410234 ,  0.04825366,  0.4740322 , -0.94456786,\n",
              "        0.16231257, -0.42923528, -0.49277487, -0.47093374, -0.50733405,\n",
              "        1.5359386 , -0.1665949 ,  0.96714145, -0.6141809 , -0.38893753,\n",
              "       -0.17079599, -0.02276608,  0.32396173,  0.43423143,  0.1890849 ,\n",
              "        0.18935023,  0.3475575 ,  0.09362334,  0.72475296,  0.52984583,\n",
              "       -1.3885496 ,  0.68793213, -0.26118723,  0.8949216 ,  0.30951732],\n",
              "      dtype=float32)"
            ]
          },
          "metadata": {},
          "execution_count": 24
        }
      ]
    },
    {
      "cell_type": "markdown",
      "source": [
        "각각 user, 영화에 대한 vector를 model에서 받아와 내적 연산을 하게되면 선호도를 얻을 수 있습니다."
      ],
      "metadata": {
        "id": "MTWQFor-Iyuu"
      }
    },
    {
      "cell_type": "code",
      "source": [
        "np.dot(user_vector, movie1_vector)"
      ],
      "metadata": {
        "colab": {
          "base_uri": "https://localhost:8080/"
        },
        "id": "swVojqY8K9Ig",
        "outputId": "af5f8223-d1f9-473d-a15d-4424eb2891ae"
      },
      "execution_count": 25,
      "outputs": [
        {
          "output_type": "execute_result",
          "data": {
            "text/plain": [
              "0.048869222"
            ]
          },
          "metadata": {},
          "execution_count": 25
        }
      ]
    },
    {
      "cell_type": "code",
      "source": [
        "np.dot(user_vector, movie2_vector)"
      ],
      "metadata": {
        "colab": {
          "base_uri": "https://localhost:8080/"
        },
        "id": "yXErVx0xK9mv",
        "outputId": "599506e3-c53e-4f25-e7d3-7f4691ea4722"
      },
      "execution_count": 26,
      "outputs": [
        {
          "output_type": "execute_result",
          "data": {
            "text/plain": [
              "0.5072734"
            ]
          },
          "metadata": {},
          "execution_count": 26
        }
      ]
    },
    {
      "cell_type": "markdown",
      "source": [
        "제가 5점으로 남겼던 작품이 더 높게 나오네요!  \n",
        "다음은 유사한 영화 찾기입니다.  \n",
        "Back to the Future와 유사한 영화를 찾아보겠습니다."
      ],
      "metadata": {
        "id": "mpyRElD2Sqma"
      }
    },
    {
      "cell_type": "code",
      "source": [
        "favorite_movie = 'Back to the Future (1985)'\n",
        "movie_id = movie_to_idx[favorite_movie]\n",
        "similar_movie = als_model.similar_items(movie_id, N=15)\n",
        "similar_movie"
      ],
      "metadata": {
        "colab": {
          "base_uri": "https://localhost:8080/"
        },
        "id": "eU2R27CwtDXb",
        "outputId": "b93e2c83-c436-442e-d4f6-488411a1dabf"
      },
      "execution_count": 27,
      "outputs": [
        {
          "output_type": "execute_result",
          "data": {
            "text/plain": [
              "[(22, 0.9999999),\n",
              " (243, 0.55389404),\n",
              " (13, 0.5444437),\n",
              " (674, 0.5322554),\n",
              " (488, 0.5043911),\n",
              " (19, 0.49264202),\n",
              " (615, 0.47705856),\n",
              " (1144, 0.45814246),\n",
              " (169, 0.4434717),\n",
              " (117, 0.4358669),\n",
              " (163, 0.43477678),\n",
              " (26, 0.42214692),\n",
              " (3534, 0.4206861),\n",
              " (15, 0.41112664),\n",
              " (44, 0.40169498)]"
            ]
          },
          "metadata": {},
          "execution_count": 27
        }
      ]
    },
    {
      "cell_type": "markdown",
      "source": [
        "이렇게 결과가 나오네요 이렇게만 봐서는 무슨 영화인지 알 수가 없으니 제목으로 변환하겠습니다."
      ],
      "metadata": {
        "id": "qREq4xmxJE00"
      }
    },
    {
      "cell_type": "code",
      "source": [
        "idx_to_movie = {v:k for k,v in movie_to_idx.items()}\n",
        "[idx_to_movie[i[0]] for i in similar_movie]"
      ],
      "metadata": {
        "colab": {
          "base_uri": "https://localhost:8080/"
        },
        "id": "55FY7LVCD7Qj",
        "outputId": "b3bf6048-eb3b-421f-fd6f-48b274695925"
      },
      "execution_count": 28,
      "outputs": [
        {
          "output_type": "execute_result",
          "data": {
            "text/plain": [
              "['Back to the Future (1985)',\n",
              " 'Ghostbusters (1984)',\n",
              " \"Ferris Bueller's Day Off (1986)\",\n",
              " 'Back to the Future Part II (1989)',\n",
              " 'When Harry Met Sally... (1989)',\n",
              " 'Big (1988)',\n",
              " 'Cocoon (1985)',\n",
              " 'Bull Durham (1988)',\n",
              " 'Fish Called Wanda, A (1988)',\n",
              " 'Star Wars: Episode V - The Empire Strikes Back (1980)',\n",
              " 'Raising Arizona (1987)',\n",
              " 'E.T. the Extra-Terrestrial (1982)',\n",
              " 'Project Moon Base (1953)',\n",
              " 'Airplane! (1980)',\n",
              " 'Star Wars: Episode IV - A New Hope (1977)']"
            ]
          },
          "metadata": {},
          "execution_count": 28
        }
      ]
    },
    {
      "cell_type": "markdown",
      "source": [
        "자신을 포함해 2편 영화도 나오고 대략 선호도가 비슷한 영화들이 이렇게 나옵니다.  \n",
        "다음은 user가 남긴 평점을 기준으로 다른 영화를 추천해 보도록 합시다."
      ],
      "metadata": {
        "id": "NLnd3UtpJMiN"
      }
    },
    {
      "cell_type": "code",
      "source": [
        "user = user_to_idx['SBShim']\n",
        "movie_recommended = als_model.recommend(user, csr_data, N=20, filter_already_liked_items=True)\n",
        "movie_recommended"
      ],
      "metadata": {
        "colab": {
          "base_uri": "https://localhost:8080/"
        },
        "id": "kTmCA1rnS5W1",
        "outputId": "a61f29fa-955b-4e1c-dba1-addffbbafe62"
      },
      "execution_count": 29,
      "outputs": [
        {
          "output_type": "execute_result",
          "data": {
            "text/plain": [
              "[(23, 0.5166955),\n",
              " (87, 0.49413452),\n",
              " (157, 0.4699536),\n",
              " (50, 0.46482927),\n",
              " (121, 0.4422328),\n",
              " (107, 0.4214314),\n",
              " (92, 0.40188712),\n",
              " (99, 0.371269),\n",
              " (160, 0.34449548),\n",
              " (124, 0.32878485),\n",
              " (222, 0.3159837),\n",
              " (4, 0.30545694),\n",
              " (110, 0.2978736),\n",
              " (5, 0.25746882),\n",
              " (80, 0.2568621),\n",
              " (269, 0.25447813),\n",
              " (117, 0.25313628),\n",
              " (64, 0.24875927),\n",
              " (248, 0.24406508),\n",
              " (0, 0.24395259)]"
            ]
          },
          "metadata": {},
          "execution_count": 29
        }
      ]
    },
    {
      "cell_type": "code",
      "source": [
        "[idx_to_movie[i[0]] for i in movie_recommended]"
      ],
      "metadata": {
        "colab": {
          "base_uri": "https://localhost:8080/"
        },
        "id": "TBSMRhKpS-SD",
        "outputId": "030e1fc1-66e9-45c4-e8d1-5af9a5ef44c2"
      },
      "execution_count": 30,
      "outputs": [
        {
          "output_type": "execute_result",
          "data": {
            "text/plain": [
              "[\"Schindler's List (1993)\",\n",
              " 'Braveheart (1995)',\n",
              " 'Shawshank Redemption, The (1994)',\n",
              " 'Toy Story 2 (1999)',\n",
              " 'Silence of the Lambs, The (1991)',\n",
              " 'Jurassic Park (1993)',\n",
              " 'Terminator 2: Judgment Day (1991)',\n",
              " 'American Beauty (1999)',\n",
              " 'Forrest Gump (1994)',\n",
              " 'Matrix, The (1999)',\n",
              " 'Pulp Fiction (1994)',\n",
              " \"Bug's Life, A (1998)\",\n",
              " 'Groundhog Day (1993)',\n",
              " 'Princess Bride, The (1987)',\n",
              " 'Stand by Me (1986)',\n",
              " 'GoodFellas (1990)',\n",
              " 'Star Wars: Episode V - The Empire Strikes Back (1980)',\n",
              " 'Star Wars: Episode VI - Return of the Jedi (1983)',\n",
              " 'Good Will Hunting (1997)',\n",
              " \"One Flew Over the Cuckoo's Nest (1975)\"]"
            ]
          },
          "metadata": {},
          "execution_count": 30
        }
      ]
    },
    {
      "cell_type": "markdown",
      "source": [
        "대체적으로 SF영화와 애니메이션들이 추천된 것을 볼 수 있습니다. Toy Story와 다른 SF영화들의 영향인 것 같습니다."
      ],
      "metadata": {
        "id": "Sgtz99FBMdBb"
      }
    },
    {
      "cell_type": "markdown",
      "source": [
        "## 4. 회고\n",
        "1. 이번 익스는 너무 어렵지는 않아서 그랬는지 더 재미있었다.\n",
        "2. 시간이 나면 추천받은 영화들을 한번 보도록 해야겠다."
      ],
      "metadata": {
        "id": "hOK8F5hDMk_p"
      }
    }
  ]
}