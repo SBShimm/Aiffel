{
  "nbformat": 4,
  "nbformat_minor": 0,
  "metadata": {
    "colab": {
      "name": "Exploration10-SB.ipynb",
      "provenance": [],
      "machine_shape": "hm",
      "mount_file_id": "1IQc0uZFNBDiqdi8MBQcciZFRxo6l74_E",
      "authorship_tag": "ABX9TyN53nF1X6tWcwsmb2BC3iCF",
      "include_colab_link": true
    },
    "kernelspec": {
      "name": "python3",
      "display_name": "Python 3"
    },
    "language_info": {
      "name": "python"
    },
    "accelerator": "GPU",
    "gpuClass": "standard"
  },
  "cells": [
    {
      "cell_type": "markdown",
      "metadata": {
        "id": "view-in-github",
        "colab_type": "text"
      },
      "source": [
        "<a href=\"https://colab.research.google.com/github/SBShimm/Aiffel/blob/master/exploration/Exploration10_SB.ipynb\" target=\"_parent\"><img src=\"https://colab.research.google.com/assets/colab-badge.svg\" alt=\"Open In Colab\"/></a>"
      ]
    },
    {
      "cell_type": "markdown",
      "source": [
        "# 번역기를 만들어보자  \n",
        "이번에는 노드에서 했던 글자 단위가 아닌 단어 단위의 번역기를 만들어 봅시다."
      ],
      "metadata": {
        "id": "M6alrjw0snqD"
      }
    },
    {
      "cell_type": "code",
      "execution_count": 1,
      "metadata": {
        "id": "bax2FzrNrUH2"
      },
      "outputs": [],
      "source": [
        "import pandas as pd\n",
        "from tensorflow.keras.preprocessing.text import Tokenizer\n",
        "from tensorflow.keras.preprocessing.sequence import pad_sequences\n",
        "from tensorflow.keras.utils import to_categorical\n",
        "import numpy as np\n",
        "import re\n",
        "import tensorflow as tf"
      ]
    },
    {
      "cell_type": "markdown",
      "source": [
        "## 1. 데이터 전처리  \n",
        "일단 동일하게 영어, 프랑스어가 담긴 데이터를 데이터를 불러옵니다. "
      ],
      "metadata": {
        "id": "1HXiCNhat9WI"
      }
    },
    {
      "cell_type": "code",
      "source": [
        "file_path = '/content/drive/MyDrive/Colab/Datasets/translator/data/fra.txt'\n",
        "lines_all = pd.read_csv(file_path, names=['eng', 'fra', 'cc'], sep='\\t')\n",
        "lines_all.sample(5)"
      ],
      "metadata": {
        "colab": {
          "base_uri": "https://localhost:8080/",
          "height": 337
        },
        "id": "bozcurjcsxYc",
        "outputId": "2090e37d-2ecc-4986-cc70-c0a3a079cbf1"
      },
      "execution_count": 2,
      "outputs": [
        {
          "output_type": "execute_result",
          "data": {
            "text/plain": [
              "                                                      eng  \\\n",
              "193520  The athletes trained hard every day to be at t...   \n",
              "80103                          In case of fire, dial 119.   \n",
              "56264                             I live with my parents.   \n",
              "124966                   Tom is the tallest in our class.   \n",
              "111014                     The boy was sold into slavery.   \n",
              "\n",
              "                                                      fra  \\\n",
              "193520  Les athlètes se sont entrainés dur, tous les j...   \n",
              "80103                 En cas d'incendie, composez le 119.   \n",
              "56264                            Je vis avec mes parents.   \n",
              "124966             Tom est le plus grand de notre classe.   \n",
              "111014                  Le garçon fut vendu en esclavage.   \n",
              "\n",
              "                                                       cc  \n",
              "193520  CC-BY 2.0 (France) Attribution: tatoeba.org #2...  \n",
              "80103   CC-BY 2.0 (France) Attribution: tatoeba.org #2...  \n",
              "56264   CC-BY 2.0 (France) Attribution: tatoeba.org #2...  \n",
              "124966  CC-BY 2.0 (France) Attribution: tatoeba.org #1...  \n",
              "111014  CC-BY 2.0 (France) Attribution: tatoeba.org #2...  "
            ],
            "text/html": [
              "\n",
              "  <div id=\"df-c73ab0ac-8d64-4f99-8d17-adfd14a16faf\">\n",
              "    <div class=\"colab-df-container\">\n",
              "      <div>\n",
              "<style scoped>\n",
              "    .dataframe tbody tr th:only-of-type {\n",
              "        vertical-align: middle;\n",
              "    }\n",
              "\n",
              "    .dataframe tbody tr th {\n",
              "        vertical-align: top;\n",
              "    }\n",
              "\n",
              "    .dataframe thead th {\n",
              "        text-align: right;\n",
              "    }\n",
              "</style>\n",
              "<table border=\"1\" class=\"dataframe\">\n",
              "  <thead>\n",
              "    <tr style=\"text-align: right;\">\n",
              "      <th></th>\n",
              "      <th>eng</th>\n",
              "      <th>fra</th>\n",
              "      <th>cc</th>\n",
              "    </tr>\n",
              "  </thead>\n",
              "  <tbody>\n",
              "    <tr>\n",
              "      <th>193520</th>\n",
              "      <td>The athletes trained hard every day to be at t...</td>\n",
              "      <td>Les athlètes se sont entrainés dur, tous les j...</td>\n",
              "      <td>CC-BY 2.0 (France) Attribution: tatoeba.org #2...</td>\n",
              "    </tr>\n",
              "    <tr>\n",
              "      <th>80103</th>\n",
              "      <td>In case of fire, dial 119.</td>\n",
              "      <td>En cas d'incendie, composez le 119.</td>\n",
              "      <td>CC-BY 2.0 (France) Attribution: tatoeba.org #2...</td>\n",
              "    </tr>\n",
              "    <tr>\n",
              "      <th>56264</th>\n",
              "      <td>I live with my parents.</td>\n",
              "      <td>Je vis avec mes parents.</td>\n",
              "      <td>CC-BY 2.0 (France) Attribution: tatoeba.org #2...</td>\n",
              "    </tr>\n",
              "    <tr>\n",
              "      <th>124966</th>\n",
              "      <td>Tom is the tallest in our class.</td>\n",
              "      <td>Tom est le plus grand de notre classe.</td>\n",
              "      <td>CC-BY 2.0 (France) Attribution: tatoeba.org #1...</td>\n",
              "    </tr>\n",
              "    <tr>\n",
              "      <th>111014</th>\n",
              "      <td>The boy was sold into slavery.</td>\n",
              "      <td>Le garçon fut vendu en esclavage.</td>\n",
              "      <td>CC-BY 2.0 (France) Attribution: tatoeba.org #2...</td>\n",
              "    </tr>\n",
              "  </tbody>\n",
              "</table>\n",
              "</div>\n",
              "      <button class=\"colab-df-convert\" onclick=\"convertToInteractive('df-c73ab0ac-8d64-4f99-8d17-adfd14a16faf')\"\n",
              "              title=\"Convert this dataframe to an interactive table.\"\n",
              "              style=\"display:none;\">\n",
              "        \n",
              "  <svg xmlns=\"http://www.w3.org/2000/svg\" height=\"24px\"viewBox=\"0 0 24 24\"\n",
              "       width=\"24px\">\n",
              "    <path d=\"M0 0h24v24H0V0z\" fill=\"none\"/>\n",
              "    <path d=\"M18.56 5.44l.94 2.06.94-2.06 2.06-.94-2.06-.94-.94-2.06-.94 2.06-2.06.94zm-11 1L8.5 8.5l.94-2.06 2.06-.94-2.06-.94L8.5 2.5l-.94 2.06-2.06.94zm10 10l.94 2.06.94-2.06 2.06-.94-2.06-.94-.94-2.06-.94 2.06-2.06.94z\"/><path d=\"M17.41 7.96l-1.37-1.37c-.4-.4-.92-.59-1.43-.59-.52 0-1.04.2-1.43.59L10.3 9.45l-7.72 7.72c-.78.78-.78 2.05 0 2.83L4 21.41c.39.39.9.59 1.41.59.51 0 1.02-.2 1.41-.59l7.78-7.78 2.81-2.81c.8-.78.8-2.07 0-2.86zM5.41 20L4 18.59l7.72-7.72 1.47 1.35L5.41 20z\"/>\n",
              "  </svg>\n",
              "      </button>\n",
              "      \n",
              "  <style>\n",
              "    .colab-df-container {\n",
              "      display:flex;\n",
              "      flex-wrap:wrap;\n",
              "      gap: 12px;\n",
              "    }\n",
              "\n",
              "    .colab-df-convert {\n",
              "      background-color: #E8F0FE;\n",
              "      border: none;\n",
              "      border-radius: 50%;\n",
              "      cursor: pointer;\n",
              "      display: none;\n",
              "      fill: #1967D2;\n",
              "      height: 32px;\n",
              "      padding: 0 0 0 0;\n",
              "      width: 32px;\n",
              "    }\n",
              "\n",
              "    .colab-df-convert:hover {\n",
              "      background-color: #E2EBFA;\n",
              "      box-shadow: 0px 1px 2px rgba(60, 64, 67, 0.3), 0px 1px 3px 1px rgba(60, 64, 67, 0.15);\n",
              "      fill: #174EA6;\n",
              "    }\n",
              "\n",
              "    [theme=dark] .colab-df-convert {\n",
              "      background-color: #3B4455;\n",
              "      fill: #D2E3FC;\n",
              "    }\n",
              "\n",
              "    [theme=dark] .colab-df-convert:hover {\n",
              "      background-color: #434B5C;\n",
              "      box-shadow: 0px 1px 3px 1px rgba(0, 0, 0, 0.15);\n",
              "      filter: drop-shadow(0px 1px 2px rgba(0, 0, 0, 0.3));\n",
              "      fill: #FFFFFF;\n",
              "    }\n",
              "  </style>\n",
              "\n",
              "      <script>\n",
              "        const buttonEl =\n",
              "          document.querySelector('#df-c73ab0ac-8d64-4f99-8d17-adfd14a16faf button.colab-df-convert');\n",
              "        buttonEl.style.display =\n",
              "          google.colab.kernel.accessAllowed ? 'block' : 'none';\n",
              "\n",
              "        async function convertToInteractive(key) {\n",
              "          const element = document.querySelector('#df-c73ab0ac-8d64-4f99-8d17-adfd14a16faf');\n",
              "          const dataTable =\n",
              "            await google.colab.kernel.invokeFunction('convertToInteractive',\n",
              "                                                     [key], {});\n",
              "          if (!dataTable) return;\n",
              "\n",
              "          const docLinkHtml = 'Like what you see? Visit the ' +\n",
              "            '<a target=\"_blank\" href=https://colab.research.google.com/notebooks/data_table.ipynb>data table notebook</a>'\n",
              "            + ' to learn more about interactive tables.';\n",
              "          element.innerHTML = '';\n",
              "          dataTable['output_type'] = 'display_data';\n",
              "          await google.colab.output.renderOutput(dataTable, element);\n",
              "          const docLink = document.createElement('div');\n",
              "          docLink.innerHTML = docLinkHtml;\n",
              "          element.appendChild(docLink);\n",
              "        }\n",
              "      </script>\n",
              "    </div>\n",
              "  </div>\n",
              "  "
            ]
          },
          "metadata": {},
          "execution_count": 2
        }
      ]
    },
    {
      "cell_type": "markdown",
      "source": [
        "데이터는 33000개만 사용하기 위해서 따로 담아줍니다."
      ],
      "metadata": {
        "id": "2eYwyB96AU20"
      }
    },
    {
      "cell_type": "code",
      "source": [
        "lines = lines_all[['eng', 'fra']][:33000]"
      ],
      "metadata": {
        "id": "GpcENo3MvUsO"
      },
      "execution_count": 3,
      "outputs": []
    },
    {
      "cell_type": "code",
      "source": [
        "lines.sample(5)"
      ],
      "metadata": {
        "colab": {
          "base_uri": "https://localhost:8080/",
          "height": 206
        },
        "id": "kmkP9_gC2WSP",
        "outputId": "141faa55-c8ce-4b29-e91a-0bdf18206723"
      },
      "execution_count": 4,
      "outputs": [
        {
          "output_type": "execute_result",
          "data": {
            "text/plain": [
              "                       eng                       fra\n",
              "4442         Are you sure?         Êtes-vous sûres ?\n",
              "28641  Get real, will you?  Sois réaliste, tu veux ?\n",
              "11270      Keep on trying.       Continue d'essayer.\n",
              "7622        I will return.            Je reviendrai.\n",
              "11684      Thank you, sir.          Merci, Monsieur."
            ],
            "text/html": [
              "\n",
              "  <div id=\"df-32498d2b-8d47-4366-bd7c-343347b79504\">\n",
              "    <div class=\"colab-df-container\">\n",
              "      <div>\n",
              "<style scoped>\n",
              "    .dataframe tbody tr th:only-of-type {\n",
              "        vertical-align: middle;\n",
              "    }\n",
              "\n",
              "    .dataframe tbody tr th {\n",
              "        vertical-align: top;\n",
              "    }\n",
              "\n",
              "    .dataframe thead th {\n",
              "        text-align: right;\n",
              "    }\n",
              "</style>\n",
              "<table border=\"1\" class=\"dataframe\">\n",
              "  <thead>\n",
              "    <tr style=\"text-align: right;\">\n",
              "      <th></th>\n",
              "      <th>eng</th>\n",
              "      <th>fra</th>\n",
              "    </tr>\n",
              "  </thead>\n",
              "  <tbody>\n",
              "    <tr>\n",
              "      <th>4442</th>\n",
              "      <td>Are you sure?</td>\n",
              "      <td>Êtes-vous sûres ?</td>\n",
              "    </tr>\n",
              "    <tr>\n",
              "      <th>28641</th>\n",
              "      <td>Get real, will you?</td>\n",
              "      <td>Sois réaliste, tu veux ?</td>\n",
              "    </tr>\n",
              "    <tr>\n",
              "      <th>11270</th>\n",
              "      <td>Keep on trying.</td>\n",
              "      <td>Continue d'essayer.</td>\n",
              "    </tr>\n",
              "    <tr>\n",
              "      <th>7622</th>\n",
              "      <td>I will return.</td>\n",
              "      <td>Je reviendrai.</td>\n",
              "    </tr>\n",
              "    <tr>\n",
              "      <th>11684</th>\n",
              "      <td>Thank you, sir.</td>\n",
              "      <td>Merci, Monsieur.</td>\n",
              "    </tr>\n",
              "  </tbody>\n",
              "</table>\n",
              "</div>\n",
              "      <button class=\"colab-df-convert\" onclick=\"convertToInteractive('df-32498d2b-8d47-4366-bd7c-343347b79504')\"\n",
              "              title=\"Convert this dataframe to an interactive table.\"\n",
              "              style=\"display:none;\">\n",
              "        \n",
              "  <svg xmlns=\"http://www.w3.org/2000/svg\" height=\"24px\"viewBox=\"0 0 24 24\"\n",
              "       width=\"24px\">\n",
              "    <path d=\"M0 0h24v24H0V0z\" fill=\"none\"/>\n",
              "    <path d=\"M18.56 5.44l.94 2.06.94-2.06 2.06-.94-2.06-.94-.94-2.06-.94 2.06-2.06.94zm-11 1L8.5 8.5l.94-2.06 2.06-.94-2.06-.94L8.5 2.5l-.94 2.06-2.06.94zm10 10l.94 2.06.94-2.06 2.06-.94-2.06-.94-.94-2.06-.94 2.06-2.06.94z\"/><path d=\"M17.41 7.96l-1.37-1.37c-.4-.4-.92-.59-1.43-.59-.52 0-1.04.2-1.43.59L10.3 9.45l-7.72 7.72c-.78.78-.78 2.05 0 2.83L4 21.41c.39.39.9.59 1.41.59.51 0 1.02-.2 1.41-.59l7.78-7.78 2.81-2.81c.8-.78.8-2.07 0-2.86zM5.41 20L4 18.59l7.72-7.72 1.47 1.35L5.41 20z\"/>\n",
              "  </svg>\n",
              "      </button>\n",
              "      \n",
              "  <style>\n",
              "    .colab-df-container {\n",
              "      display:flex;\n",
              "      flex-wrap:wrap;\n",
              "      gap: 12px;\n",
              "    }\n",
              "\n",
              "    .colab-df-convert {\n",
              "      background-color: #E8F0FE;\n",
              "      border: none;\n",
              "      border-radius: 50%;\n",
              "      cursor: pointer;\n",
              "      display: none;\n",
              "      fill: #1967D2;\n",
              "      height: 32px;\n",
              "      padding: 0 0 0 0;\n",
              "      width: 32px;\n",
              "    }\n",
              "\n",
              "    .colab-df-convert:hover {\n",
              "      background-color: #E2EBFA;\n",
              "      box-shadow: 0px 1px 2px rgba(60, 64, 67, 0.3), 0px 1px 3px 1px rgba(60, 64, 67, 0.15);\n",
              "      fill: #174EA6;\n",
              "    }\n",
              "\n",
              "    [theme=dark] .colab-df-convert {\n",
              "      background-color: #3B4455;\n",
              "      fill: #D2E3FC;\n",
              "    }\n",
              "\n",
              "    [theme=dark] .colab-df-convert:hover {\n",
              "      background-color: #434B5C;\n",
              "      box-shadow: 0px 1px 3px 1px rgba(0, 0, 0, 0.15);\n",
              "      filter: drop-shadow(0px 1px 2px rgba(0, 0, 0, 0.3));\n",
              "      fill: #FFFFFF;\n",
              "    }\n",
              "  </style>\n",
              "\n",
              "      <script>\n",
              "        const buttonEl =\n",
              "          document.querySelector('#df-32498d2b-8d47-4366-bd7c-343347b79504 button.colab-df-convert');\n",
              "        buttonEl.style.display =\n",
              "          google.colab.kernel.accessAllowed ? 'block' : 'none';\n",
              "\n",
              "        async function convertToInteractive(key) {\n",
              "          const element = document.querySelector('#df-32498d2b-8d47-4366-bd7c-343347b79504');\n",
              "          const dataTable =\n",
              "            await google.colab.kernel.invokeFunction('convertToInteractive',\n",
              "                                                     [key], {});\n",
              "          if (!dataTable) return;\n",
              "\n",
              "          const docLinkHtml = 'Like what you see? Visit the ' +\n",
              "            '<a target=\"_blank\" href=https://colab.research.google.com/notebooks/data_table.ipynb>data table notebook</a>'\n",
              "            + ' to learn more about interactive tables.';\n",
              "          element.innerHTML = '';\n",
              "          dataTable['output_type'] = 'display_data';\n",
              "          await google.colab.output.renderOutput(dataTable, element);\n",
              "          const docLink = document.createElement('div');\n",
              "          docLink.innerHTML = docLinkHtml;\n",
              "          element.appendChild(docLink);\n",
              "        }\n",
              "      </script>\n",
              "    </div>\n",
              "  </div>\n",
              "  "
            ]
          },
          "metadata": {},
          "execution_count": 4
        }
      ]
    },
    {
      "cell_type": "markdown",
      "source": [
        "다음은 문장 전처리입니다.  \n",
        "모두 소문자로 변경, 구두점 분리, \\<start>, \\<end> 키워드 추가 등 전처리를 해줍니다."
      ],
      "metadata": {
        "id": "UfQ3R6eOArDf"
      }
    },
    {
      "cell_type": "code",
      "source": [
        "def preprocess_sentence(sentence):\n",
        "    sentence = sentence.lower().strip()\n",
        "    sentence = re.sub(r\"([?.!,¿])\", r\" \\1 \", sentence)\n",
        "    sentence = re.sub(r'[\" \"]+', \" \", sentence)\n",
        "    sentence = re.sub(r\"[^a-zA-Z?.!,¿]+\", \" \", sentence)\n",
        "    sentence = sentence.strip()\n",
        "    sentence = '<start> ' + sentence + ' <end>'\n",
        "    return sentence"
      ],
      "metadata": {
        "id": "QzMs-AO3yINv"
      },
      "execution_count": 5,
      "outputs": []
    },
    {
      "cell_type": "code",
      "source": [
        "lines['eng_pre'] = lines['eng'].map(preprocess_sentence)\n",
        "lines['fra_pre'] = lines['fra'].map(preprocess_sentence)"
      ],
      "metadata": {
        "id": "YTqmiE0J0o3a"
      },
      "execution_count": 6,
      "outputs": []
    },
    {
      "cell_type": "code",
      "source": [
        "lines.sample(5)"
      ],
      "metadata": {
        "colab": {
          "base_uri": "https://localhost:8080/",
          "height": 302
        },
        "id": "vuUkTs8p1hzy",
        "outputId": "88b69bbc-06ec-4eb0-9966-046ef0af35d0"
      },
      "execution_count": 7,
      "outputs": [
        {
          "output_type": "execute_result",
          "data": {
            "text/plain": [
              "                       eng                      fra  \\\n",
              "23061   He earns a living.  Il gagne de quoi vivre.   \n",
              "6232         We got lucky.    On a eu de la chance.   \n",
              "29039  Here are your keys.          Voici vos clés.   \n",
              "12811      You're invited.        Vous êtes invité.   \n",
              "8457        Take a number.       Prends un numéro !   \n",
              "\n",
              "                                  eng_pre  \\\n",
              "23061   <start> he earns a living . <end>   \n",
              "6232         <start> we got lucky . <end>   \n",
              "29039  <start> here are your keys . <end>   \n",
              "12811      <start> you re invited . <end>   \n",
              "8457        <start> take a number . <end>   \n",
              "\n",
              "                                      fra_pre  \n",
              "23061  <start> il gagne de quoi vivre . <end>  \n",
              "6232     <start> on a eu de la chance . <end>  \n",
              "29039          <start> voici vos cl s . <end>  \n",
              "12811          <start> vous tes invit . <end>  \n",
              "8457         <start> prends un num ro ! <end>  "
            ],
            "text/html": [
              "\n",
              "  <div id=\"df-98350c9f-6c90-41c3-9a12-014a6a3dc0db\">\n",
              "    <div class=\"colab-df-container\">\n",
              "      <div>\n",
              "<style scoped>\n",
              "    .dataframe tbody tr th:only-of-type {\n",
              "        vertical-align: middle;\n",
              "    }\n",
              "\n",
              "    .dataframe tbody tr th {\n",
              "        vertical-align: top;\n",
              "    }\n",
              "\n",
              "    .dataframe thead th {\n",
              "        text-align: right;\n",
              "    }\n",
              "</style>\n",
              "<table border=\"1\" class=\"dataframe\">\n",
              "  <thead>\n",
              "    <tr style=\"text-align: right;\">\n",
              "      <th></th>\n",
              "      <th>eng</th>\n",
              "      <th>fra</th>\n",
              "      <th>eng_pre</th>\n",
              "      <th>fra_pre</th>\n",
              "    </tr>\n",
              "  </thead>\n",
              "  <tbody>\n",
              "    <tr>\n",
              "      <th>23061</th>\n",
              "      <td>He earns a living.</td>\n",
              "      <td>Il gagne de quoi vivre.</td>\n",
              "      <td>&lt;start&gt; he earns a living . &lt;end&gt;</td>\n",
              "      <td>&lt;start&gt; il gagne de quoi vivre . &lt;end&gt;</td>\n",
              "    </tr>\n",
              "    <tr>\n",
              "      <th>6232</th>\n",
              "      <td>We got lucky.</td>\n",
              "      <td>On a eu de la chance.</td>\n",
              "      <td>&lt;start&gt; we got lucky . &lt;end&gt;</td>\n",
              "      <td>&lt;start&gt; on a eu de la chance . &lt;end&gt;</td>\n",
              "    </tr>\n",
              "    <tr>\n",
              "      <th>29039</th>\n",
              "      <td>Here are your keys.</td>\n",
              "      <td>Voici vos clés.</td>\n",
              "      <td>&lt;start&gt; here are your keys . &lt;end&gt;</td>\n",
              "      <td>&lt;start&gt; voici vos cl s . &lt;end&gt;</td>\n",
              "    </tr>\n",
              "    <tr>\n",
              "      <th>12811</th>\n",
              "      <td>You're invited.</td>\n",
              "      <td>Vous êtes invité.</td>\n",
              "      <td>&lt;start&gt; you re invited . &lt;end&gt;</td>\n",
              "      <td>&lt;start&gt; vous tes invit . &lt;end&gt;</td>\n",
              "    </tr>\n",
              "    <tr>\n",
              "      <th>8457</th>\n",
              "      <td>Take a number.</td>\n",
              "      <td>Prends un numéro !</td>\n",
              "      <td>&lt;start&gt; take a number . &lt;end&gt;</td>\n",
              "      <td>&lt;start&gt; prends un num ro ! &lt;end&gt;</td>\n",
              "    </tr>\n",
              "  </tbody>\n",
              "</table>\n",
              "</div>\n",
              "      <button class=\"colab-df-convert\" onclick=\"convertToInteractive('df-98350c9f-6c90-41c3-9a12-014a6a3dc0db')\"\n",
              "              title=\"Convert this dataframe to an interactive table.\"\n",
              "              style=\"display:none;\">\n",
              "        \n",
              "  <svg xmlns=\"http://www.w3.org/2000/svg\" height=\"24px\"viewBox=\"0 0 24 24\"\n",
              "       width=\"24px\">\n",
              "    <path d=\"M0 0h24v24H0V0z\" fill=\"none\"/>\n",
              "    <path d=\"M18.56 5.44l.94 2.06.94-2.06 2.06-.94-2.06-.94-.94-2.06-.94 2.06-2.06.94zm-11 1L8.5 8.5l.94-2.06 2.06-.94-2.06-.94L8.5 2.5l-.94 2.06-2.06.94zm10 10l.94 2.06.94-2.06 2.06-.94-2.06-.94-.94-2.06-.94 2.06-2.06.94z\"/><path d=\"M17.41 7.96l-1.37-1.37c-.4-.4-.92-.59-1.43-.59-.52 0-1.04.2-1.43.59L10.3 9.45l-7.72 7.72c-.78.78-.78 2.05 0 2.83L4 21.41c.39.39.9.59 1.41.59.51 0 1.02-.2 1.41-.59l7.78-7.78 2.81-2.81c.8-.78.8-2.07 0-2.86zM5.41 20L4 18.59l7.72-7.72 1.47 1.35L5.41 20z\"/>\n",
              "  </svg>\n",
              "      </button>\n",
              "      \n",
              "  <style>\n",
              "    .colab-df-container {\n",
              "      display:flex;\n",
              "      flex-wrap:wrap;\n",
              "      gap: 12px;\n",
              "    }\n",
              "\n",
              "    .colab-df-convert {\n",
              "      background-color: #E8F0FE;\n",
              "      border: none;\n",
              "      border-radius: 50%;\n",
              "      cursor: pointer;\n",
              "      display: none;\n",
              "      fill: #1967D2;\n",
              "      height: 32px;\n",
              "      padding: 0 0 0 0;\n",
              "      width: 32px;\n",
              "    }\n",
              "\n",
              "    .colab-df-convert:hover {\n",
              "      background-color: #E2EBFA;\n",
              "      box-shadow: 0px 1px 2px rgba(60, 64, 67, 0.3), 0px 1px 3px 1px rgba(60, 64, 67, 0.15);\n",
              "      fill: #174EA6;\n",
              "    }\n",
              "\n",
              "    [theme=dark] .colab-df-convert {\n",
              "      background-color: #3B4455;\n",
              "      fill: #D2E3FC;\n",
              "    }\n",
              "\n",
              "    [theme=dark] .colab-df-convert:hover {\n",
              "      background-color: #434B5C;\n",
              "      box-shadow: 0px 1px 3px 1px rgba(0, 0, 0, 0.15);\n",
              "      filter: drop-shadow(0px 1px 2px rgba(0, 0, 0, 0.3));\n",
              "      fill: #FFFFFF;\n",
              "    }\n",
              "  </style>\n",
              "\n",
              "      <script>\n",
              "        const buttonEl =\n",
              "          document.querySelector('#df-98350c9f-6c90-41c3-9a12-014a6a3dc0db button.colab-df-convert');\n",
              "        buttonEl.style.display =\n",
              "          google.colab.kernel.accessAllowed ? 'block' : 'none';\n",
              "\n",
              "        async function convertToInteractive(key) {\n",
              "          const element = document.querySelector('#df-98350c9f-6c90-41c3-9a12-014a6a3dc0db');\n",
              "          const dataTable =\n",
              "            await google.colab.kernel.invokeFunction('convertToInteractive',\n",
              "                                                     [key], {});\n",
              "          if (!dataTable) return;\n",
              "\n",
              "          const docLinkHtml = 'Like what you see? Visit the ' +\n",
              "            '<a target=\"_blank\" href=https://colab.research.google.com/notebooks/data_table.ipynb>data table notebook</a>'\n",
              "            + ' to learn more about interactive tables.';\n",
              "          element.innerHTML = '';\n",
              "          dataTable['output_type'] = 'display_data';\n",
              "          await google.colab.output.renderOutput(dataTable, element);\n",
              "          const docLink = document.createElement('div');\n",
              "          docLink.innerHTML = docLinkHtml;\n",
              "          element.appendChild(docLink);\n",
              "        }\n",
              "      </script>\n",
              "    </div>\n",
              "  </div>\n",
              "  "
            ]
          },
          "metadata": {},
          "execution_count": 7
        }
      ]
    },
    {
      "cell_type": "markdown",
      "source": [
        "다음은 문장의 길이를 측정하여 maxlen을 설정할 수 있도록 가장 긴 문장의 길이를 알아두도록 합시다."
      ],
      "metadata": {
        "id": "oAJGqwH1BIjx"
      }
    },
    {
      "cell_type": "code",
      "source": [
        "lines['eng_len'] = lines.eng_pre.str.count(' ') + 1\n",
        "lines['fra_len'] = lines.fra_pre.str.count(' ') + 1"
      ],
      "metadata": {
        "id": "c5mpED2x9iRv"
      },
      "execution_count": 8,
      "outputs": []
    },
    {
      "cell_type": "code",
      "source": [
        "lines.head(5)"
      ],
      "metadata": {
        "colab": {
          "base_uri": "https://localhost:8080/",
          "height": 206
        },
        "id": "uJ08tTPY92eA",
        "outputId": "b2e78efa-22c2-40b2-d478-fc0ff7dedb08"
      },
      "execution_count": 9,
      "outputs": [
        {
          "output_type": "execute_result",
          "data": {
            "text/plain": [
              "   eng      fra             eng_pre                 fra_pre  eng_len  fra_len\n",
              "0  Go.     Va !  <start> go . <end>      <start> va ! <end>        4        4\n",
              "1  Go.  Marche.  <start> go . <end>  <start> marche . <end>        4        4\n",
              "2  Go.  Bouge !  <start> go . <end>   <start> bouge ! <end>        4        4\n",
              "3  Hi.  Salut !  <start> hi . <end>   <start> salut ! <end>        4        4\n",
              "4  Hi.   Salut.  <start> hi . <end>   <start> salut . <end>        4        4"
            ],
            "text/html": [
              "\n",
              "  <div id=\"df-9bfb4d2d-4f92-49ef-923e-02e51c68b460\">\n",
              "    <div class=\"colab-df-container\">\n",
              "      <div>\n",
              "<style scoped>\n",
              "    .dataframe tbody tr th:only-of-type {\n",
              "        vertical-align: middle;\n",
              "    }\n",
              "\n",
              "    .dataframe tbody tr th {\n",
              "        vertical-align: top;\n",
              "    }\n",
              "\n",
              "    .dataframe thead th {\n",
              "        text-align: right;\n",
              "    }\n",
              "</style>\n",
              "<table border=\"1\" class=\"dataframe\">\n",
              "  <thead>\n",
              "    <tr style=\"text-align: right;\">\n",
              "      <th></th>\n",
              "      <th>eng</th>\n",
              "      <th>fra</th>\n",
              "      <th>eng_pre</th>\n",
              "      <th>fra_pre</th>\n",
              "      <th>eng_len</th>\n",
              "      <th>fra_len</th>\n",
              "    </tr>\n",
              "  </thead>\n",
              "  <tbody>\n",
              "    <tr>\n",
              "      <th>0</th>\n",
              "      <td>Go.</td>\n",
              "      <td>Va !</td>\n",
              "      <td>&lt;start&gt; go . &lt;end&gt;</td>\n",
              "      <td>&lt;start&gt; va ! &lt;end&gt;</td>\n",
              "      <td>4</td>\n",
              "      <td>4</td>\n",
              "    </tr>\n",
              "    <tr>\n",
              "      <th>1</th>\n",
              "      <td>Go.</td>\n",
              "      <td>Marche.</td>\n",
              "      <td>&lt;start&gt; go . &lt;end&gt;</td>\n",
              "      <td>&lt;start&gt; marche . &lt;end&gt;</td>\n",
              "      <td>4</td>\n",
              "      <td>4</td>\n",
              "    </tr>\n",
              "    <tr>\n",
              "      <th>2</th>\n",
              "      <td>Go.</td>\n",
              "      <td>Bouge !</td>\n",
              "      <td>&lt;start&gt; go . &lt;end&gt;</td>\n",
              "      <td>&lt;start&gt; bouge ! &lt;end&gt;</td>\n",
              "      <td>4</td>\n",
              "      <td>4</td>\n",
              "    </tr>\n",
              "    <tr>\n",
              "      <th>3</th>\n",
              "      <td>Hi.</td>\n",
              "      <td>Salut !</td>\n",
              "      <td>&lt;start&gt; hi . &lt;end&gt;</td>\n",
              "      <td>&lt;start&gt; salut ! &lt;end&gt;</td>\n",
              "      <td>4</td>\n",
              "      <td>4</td>\n",
              "    </tr>\n",
              "    <tr>\n",
              "      <th>4</th>\n",
              "      <td>Hi.</td>\n",
              "      <td>Salut.</td>\n",
              "      <td>&lt;start&gt; hi . &lt;end&gt;</td>\n",
              "      <td>&lt;start&gt; salut . &lt;end&gt;</td>\n",
              "      <td>4</td>\n",
              "      <td>4</td>\n",
              "    </tr>\n",
              "  </tbody>\n",
              "</table>\n",
              "</div>\n",
              "      <button class=\"colab-df-convert\" onclick=\"convertToInteractive('df-9bfb4d2d-4f92-49ef-923e-02e51c68b460')\"\n",
              "              title=\"Convert this dataframe to an interactive table.\"\n",
              "              style=\"display:none;\">\n",
              "        \n",
              "  <svg xmlns=\"http://www.w3.org/2000/svg\" height=\"24px\"viewBox=\"0 0 24 24\"\n",
              "       width=\"24px\">\n",
              "    <path d=\"M0 0h24v24H0V0z\" fill=\"none\"/>\n",
              "    <path d=\"M18.56 5.44l.94 2.06.94-2.06 2.06-.94-2.06-.94-.94-2.06-.94 2.06-2.06.94zm-11 1L8.5 8.5l.94-2.06 2.06-.94-2.06-.94L8.5 2.5l-.94 2.06-2.06.94zm10 10l.94 2.06.94-2.06 2.06-.94-2.06-.94-.94-2.06-.94 2.06-2.06.94z\"/><path d=\"M17.41 7.96l-1.37-1.37c-.4-.4-.92-.59-1.43-.59-.52 0-1.04.2-1.43.59L10.3 9.45l-7.72 7.72c-.78.78-.78 2.05 0 2.83L4 21.41c.39.39.9.59 1.41.59.51 0 1.02-.2 1.41-.59l7.78-7.78 2.81-2.81c.8-.78.8-2.07 0-2.86zM5.41 20L4 18.59l7.72-7.72 1.47 1.35L5.41 20z\"/>\n",
              "  </svg>\n",
              "      </button>\n",
              "      \n",
              "  <style>\n",
              "    .colab-df-container {\n",
              "      display:flex;\n",
              "      flex-wrap:wrap;\n",
              "      gap: 12px;\n",
              "    }\n",
              "\n",
              "    .colab-df-convert {\n",
              "      background-color: #E8F0FE;\n",
              "      border: none;\n",
              "      border-radius: 50%;\n",
              "      cursor: pointer;\n",
              "      display: none;\n",
              "      fill: #1967D2;\n",
              "      height: 32px;\n",
              "      padding: 0 0 0 0;\n",
              "      width: 32px;\n",
              "    }\n",
              "\n",
              "    .colab-df-convert:hover {\n",
              "      background-color: #E2EBFA;\n",
              "      box-shadow: 0px 1px 2px rgba(60, 64, 67, 0.3), 0px 1px 3px 1px rgba(60, 64, 67, 0.15);\n",
              "      fill: #174EA6;\n",
              "    }\n",
              "\n",
              "    [theme=dark] .colab-df-convert {\n",
              "      background-color: #3B4455;\n",
              "      fill: #D2E3FC;\n",
              "    }\n",
              "\n",
              "    [theme=dark] .colab-df-convert:hover {\n",
              "      background-color: #434B5C;\n",
              "      box-shadow: 0px 1px 3px 1px rgba(0, 0, 0, 0.15);\n",
              "      filter: drop-shadow(0px 1px 2px rgba(0, 0, 0, 0.3));\n",
              "      fill: #FFFFFF;\n",
              "    }\n",
              "  </style>\n",
              "\n",
              "      <script>\n",
              "        const buttonEl =\n",
              "          document.querySelector('#df-9bfb4d2d-4f92-49ef-923e-02e51c68b460 button.colab-df-convert');\n",
              "        buttonEl.style.display =\n",
              "          google.colab.kernel.accessAllowed ? 'block' : 'none';\n",
              "\n",
              "        async function convertToInteractive(key) {\n",
              "          const element = document.querySelector('#df-9bfb4d2d-4f92-49ef-923e-02e51c68b460');\n",
              "          const dataTable =\n",
              "            await google.colab.kernel.invokeFunction('convertToInteractive',\n",
              "                                                     [key], {});\n",
              "          if (!dataTable) return;\n",
              "\n",
              "          const docLinkHtml = 'Like what you see? Visit the ' +\n",
              "            '<a target=\"_blank\" href=https://colab.research.google.com/notebooks/data_table.ipynb>data table notebook</a>'\n",
              "            + ' to learn more about interactive tables.';\n",
              "          element.innerHTML = '';\n",
              "          dataTable['output_type'] = 'display_data';\n",
              "          await google.colab.output.renderOutput(dataTable, element);\n",
              "          const docLink = document.createElement('div');\n",
              "          docLink.innerHTML = docLinkHtml;\n",
              "          element.appendChild(docLink);\n",
              "        }\n",
              "      </script>\n",
              "    </div>\n",
              "  </div>\n",
              "  "
            ]
          },
          "metadata": {},
          "execution_count": 9
        }
      ]
    },
    {
      "cell_type": "code",
      "source": [
        "eng_max_len = lines.eng_len.max()\n",
        "fra_max_len = lines.fra_len.max()"
      ],
      "metadata": {
        "id": "prg07N1U-HdR"
      },
      "execution_count": 10,
      "outputs": []
    },
    {
      "cell_type": "code",
      "source": [
        "print(eng_max_len, fra_max_len)"
      ],
      "metadata": {
        "colab": {
          "base_uri": "https://localhost:8080/"
        },
        "id": "16-qHghQ-Nag",
        "outputId": "c28feaa3-ce14-4f7b-c67d-9ca68c9a4fff"
      },
      "execution_count": 11,
      "outputs": [
        {
          "output_type": "stream",
          "name": "stdout",
          "text": [
            "10 17\n"
          ]
        }
      ]
    },
    {
      "cell_type": "markdown",
      "source": [
        "가장 긴 영어문장은 10, 프랑스어 문장은 17입니다.  \n",
        "이에 맞춰서 maxlen을 설정하고 토큰화를 진행합니다.  \n",
        "단어장 크기는 15000으로 하겠습니다."
      ],
      "metadata": {
        "id": "nBCFzcKNBRbX"
      }
    },
    {
      "cell_type": "code",
      "source": [
        "def tokenize(corpus, padding='post', maxlen=15):\n",
        "    tokenizer = tf.keras.preprocessing.text.Tokenizer(\n",
        "        num_words=15000, \n",
        "        filters=' ',\n",
        "        oov_token=\"<unk>\"\n",
        "    )\n",
        "    \n",
        "    tokenizer.fit_on_texts(corpus)\n",
        "    \n",
        "    tensor = tokenizer.texts_to_sequences(corpus)   \n",
        "    \n",
        "    tensor = tf.keras.preprocessing.sequence.pad_sequences(tensor, padding=padding, maxlen=maxlen)  \n",
        "    \n",
        "    print(tensor,tokenizer)\n",
        "    return tensor, tokenizer"
      ],
      "metadata": {
        "id": "Ex_GttkS8y2q"
      },
      "execution_count": 12,
      "outputs": []
    },
    {
      "cell_type": "code",
      "source": [
        "eng_tensor, eng_tokenizer = tokenize(lines['eng_pre'], maxlen=eng_max_len)\n",
        "fra_tensor, fra_tokenizer = tokenize(lines['fra_pre'], maxlen=fra_max_len)"
      ],
      "metadata": {
        "colab": {
          "base_uri": "https://localhost:8080/"
        },
        "id": "VUvg97Q-8z_y",
        "outputId": "49f1459d-0196-4a18-b5be-287019479c72"
      },
      "execution_count": 13,
      "outputs": [
        {
          "output_type": "stream",
          "name": "stdout",
          "text": [
            "[[ 2 32  4 ...  0  0  0]\n",
            " [ 2 32  4 ...  0  0  0]\n",
            " [ 2 32  4 ...  0  0  0]\n",
            " ...\n",
            " [ 2 39 40 ...  0  0  0]\n",
            " [ 2 39 40 ...  0  0  0]\n",
            " [ 2 39 40 ...  0  0  0]] <keras_preprocessing.text.Tokenizer object at 0x7ff044a2fad0>\n",
            "[[   2   77    9 ...    0    0    0]\n",
            " [   2  380    4 ...    0    0    0]\n",
            " [   2  720    9 ...    0    0    0]\n",
            " ...\n",
            " [   2   36 4599 ...    0    0    0]\n",
            " [   2   36 4599 ...    0    0    0]\n",
            " [   2   74   60 ...    0    0    0]] <keras_preprocessing.text.Tokenizer object at 0x7ff044a2fa90>\n"
          ]
        }
      ]
    },
    {
      "cell_type": "code",
      "source": [
        "eng_vocab_size = len(eng_tokenizer.word_index) + 1\n",
        "fra_vocab_size = len(fra_tokenizer.word_index) + 1"
      ],
      "metadata": {
        "id": "VweTe6TcCIrs"
      },
      "execution_count": 14,
      "outputs": []
    },
    {
      "cell_type": "code",
      "source": [
        "print(eng_vocab_size, fra_vocab_size)"
      ],
      "metadata": {
        "colab": {
          "base_uri": "https://localhost:8080/"
        },
        "id": "mfUHWa9iCKPC",
        "outputId": "67035bc6-690e-47ce-9ef2-5ba83190558e"
      },
      "execution_count": 15,
      "outputs": [
        {
          "output_type": "stream",
          "name": "stdout",
          "text": [
            "4675 7462\n"
          ]
        }
      ]
    },
    {
      "cell_type": "markdown",
      "source": [
        "성공적으로 토큰화가 진행되었습니다. 영어, 프랑스어의 단어장 크기는 각각 4675, 7462네요.  \n",
        "\\<start>가 2, \\<end>가 3으로 대체되어 문장의 시작, 끝에 2, 3이 추가된 것을 볼 수 있습니다.  \n",
        "이제 encoder에 넣을 eng_tensor를 encoder_input으로 하고, decoder의 input, target은 각각 시작, 끝 키워드를 제거한 버전으로 지정해 줍시다.  \n",
        "input은 \\<end>를 지우고 target은 \\<start>를 제거해 줍니다."
      ],
      "metadata": {
        "id": "tm7RcoChCXcC"
      }
    },
    {
      "cell_type": "code",
      "source": [
        "encoder_input = eng_tensor\n",
        "decoder_input = np.array([[ char for char in line if char != 3 ] for line in fra_tensor])\n",
        "decoder_target = np.array([[ char for char in line if char != 2 ] for line in fra_tensor])"
      ],
      "metadata": {
        "id": "57UeYM-7_nMy"
      },
      "execution_count": 16,
      "outputs": []
    },
    {
      "cell_type": "code",
      "source": [
        "print(decoder_input[:3])\n",
        "print(decoder_target[:3])"
      ],
      "metadata": {
        "colab": {
          "base_uri": "https://localhost:8080/"
        },
        "id": "-L-ImK0Q_9C-",
        "outputId": "a4c5bb06-5aaf-46af-e7fa-3732244e1cba"
      },
      "execution_count": 17,
      "outputs": [
        {
          "output_type": "stream",
          "name": "stdout",
          "text": [
            "[[  2  77   9   0   0   0   0   0   0   0   0   0   0   0   0   0]\n",
            " [  2 380   4   0   0   0   0   0   0   0   0   0   0   0   0   0]\n",
            " [  2 720   9   0   0   0   0   0   0   0   0   0   0   0   0   0]]\n",
            "[[ 77   9   3   0   0   0   0   0   0   0   0   0   0   0   0   0]\n",
            " [380   4   3   0   0   0   0   0   0   0   0   0   0   0   0   0]\n",
            " [720   9   3   0   0   0   0   0   0   0   0   0   0   0   0   0]]\n"
          ]
        }
      ]
    },
    {
      "cell_type": "code",
      "source": [
        "print('영어 데이터의 크기(shape) :',np.shape(encoder_input))\n",
        "print('프랑스어 입력데이터의 크기(shape) :',np.shape(decoder_input))\n",
        "print('프랑스어 출력데이터의 크기(shape) :',np.shape(decoder_target))"
      ],
      "metadata": {
        "colab": {
          "base_uri": "https://localhost:8080/"
        },
        "id": "lSF0LAJOAclp",
        "outputId": "81625207-a73b-4f5d-ab28-6a5d29ca1d46"
      },
      "execution_count": 18,
      "outputs": [
        {
          "output_type": "stream",
          "name": "stdout",
          "text": [
            "영어 데이터의 크기(shape) : (33000, 10)\n",
            "프랑스어 입력데이터의 크기(shape) : (33000, 16)\n",
            "프랑스어 출력데이터의 크기(shape) : (33000, 16)\n"
          ]
        }
      ]
    },
    {
      "cell_type": "markdown",
      "source": [
        "성공적으로 분리가 되었습니다. 이제 validation set을 분리해 줍니다. 33000개중에 3000개를 사용하도록 합시다."
      ],
      "metadata": {
        "id": "ugQQy7qtDHSx"
      }
    },
    {
      "cell_type": "code",
      "source": [
        "n_of_val = 3000\n",
        "\n",
        "encoder_input_train = encoder_input[:-n_of_val]\n",
        "decoder_input_train = decoder_input[:-n_of_val]\n",
        "decoder_target_train = decoder_target[:-n_of_val]\n",
        "\n",
        "encoder_input_test = encoder_input[-n_of_val:]\n",
        "decoder_input_test = decoder_input[-n_of_val:]\n",
        "decoder_target_test = decoder_target[-n_of_val:]\n",
        "\n",
        "print('영어 학습데이터의 크기(shape) :',np.shape(encoder_input_train))\n",
        "print('프랑스어 학습 입력데이터의 크기(shape) :',np.shape(decoder_input_train))\n",
        "print('프랑스어 학습 출력데이터의 크기(shape) :',np.shape(decoder_target_train))\n",
        "\n",
        "print('영어 Valid 데이터의 크기(shape) :',np.shape(encoder_input_test))\n",
        "print('프랑스어 Valid 입력데이터의 크기(shape) :',np.shape(decoder_input_test))\n",
        "print('프랑스어 Valid 출력데이터의 크기(shape) :',np.shape(decoder_target_test))"
      ],
      "metadata": {
        "colab": {
          "base_uri": "https://localhost:8080/"
        },
        "id": "vyo5RLiKA0gv",
        "outputId": "e8f2250e-08e0-4492-e632-9c5bcd2ec61e"
      },
      "execution_count": 19,
      "outputs": [
        {
          "output_type": "stream",
          "name": "stdout",
          "text": [
            "영어 학습데이터의 크기(shape) : (30000, 10)\n",
            "프랑스어 학습 입력데이터의 크기(shape) : (30000, 16)\n",
            "프랑스어 학습 출력데이터의 크기(shape) : (30000, 16)\n",
            "영어 Valid 데이터의 크기(shape) : (3000, 10)\n",
            "프랑스어 Valid 입력데이터의 크기(shape) : (3000, 16)\n",
            "프랑스어 Valid 출력데이터의 크기(shape) : (3000, 16)\n"
          ]
        }
      ]
    },
    {
      "cell_type": "markdown",
      "source": [
        "## 2. 모델훈련  \n",
        "데이터는 준비를 모두 마쳤습니다.  \n",
        "이제 LSTM Layer를 사용하여 학습을 진행해 줍시다.  \n",
        "이번엔 임베딩 층을 사용하여 입력 신호를 벡터화 합니다."
      ],
      "metadata": {
        "id": "ti1UynRmBrIJ"
      }
    },
    {
      "cell_type": "code",
      "source": [
        "from tensorflow.keras.layers import Input, LSTM, Embedding, Dense\n",
        "from tensorflow.keras.models import Model"
      ],
      "metadata": {
        "id": "uTeK5OI2BswM"
      },
      "execution_count": 20,
      "outputs": []
    },
    {
      "cell_type": "code",
      "source": [
        "encoder_inputs = Input(shape=(None, ))\n",
        "encoder_emb = Embedding(eng_vocab_size, 256, input_length=eng_max_len)(encoder_inputs)\n",
        "encoder_lstm = LSTM(units = 256, return_state = True)\n",
        "encoder_outputs, state_h, state_c = encoder_lstm(encoder_emb)\n",
        "encoder_states = [state_h, state_c]"
      ],
      "metadata": {
        "id": "DjM_4H14CQW7"
      },
      "execution_count": 21,
      "outputs": []
    },
    {
      "cell_type": "code",
      "source": [
        "\n",
        "decoder_inputs = Input(shape=(None, ))\n",
        "decoder_emb = Embedding(fra_vocab_size, 256)(decoder_inputs)\n",
        "decoder_lstm = LSTM(units = 256, return_sequences = True, return_state=True)\n",
        "decoder_outputs, _, _= decoder_lstm(decoder_emb, initial_state = encoder_states)\n",
        "\n",
        "decoder_softmax_layer = Dense(fra_vocab_size, activation='softmax')\n",
        "decoder_outputs = decoder_softmax_layer(decoder_outputs)"
      ],
      "metadata": {
        "id": "W7nqjEXADX22"
      },
      "execution_count": 22,
      "outputs": []
    },
    {
      "cell_type": "code",
      "source": [
        "model = Model([encoder_inputs, decoder_inputs], decoder_outputs)\n",
        "model.compile(optimizer=\"rmsprop\", loss=\"sparse_categorical_crossentropy\")\n",
        "model.summary()"
      ],
      "metadata": {
        "colab": {
          "base_uri": "https://localhost:8080/"
        },
        "id": "6oqS77j_EBEE",
        "outputId": "d1985abe-32a4-409a-9af8-35b4cc689c67"
      },
      "execution_count": 23,
      "outputs": [
        {
          "output_type": "stream",
          "name": "stdout",
          "text": [
            "Model: \"model\"\n",
            "__________________________________________________________________________________________________\n",
            " Layer (type)                   Output Shape         Param #     Connected to                     \n",
            "==================================================================================================\n",
            " input_1 (InputLayer)           [(None, None)]       0           []                               \n",
            "                                                                                                  \n",
            " input_2 (InputLayer)           [(None, None)]       0           []                               \n",
            "                                                                                                  \n",
            " embedding (Embedding)          (None, None, 256)    1196800     ['input_1[0][0]']                \n",
            "                                                                                                  \n",
            " embedding_1 (Embedding)        (None, None, 256)    1910272     ['input_2[0][0]']                \n",
            "                                                                                                  \n",
            " lstm (LSTM)                    [(None, 256),        525312      ['embedding[0][0]']              \n",
            "                                 (None, 256),                                                     \n",
            "                                 (None, 256)]                                                     \n",
            "                                                                                                  \n",
            " lstm_1 (LSTM)                  [(None, None, 256),  525312      ['embedding_1[0][0]',            \n",
            "                                 (None, 256),                     'lstm[0][1]',                   \n",
            "                                 (None, 256)]                     'lstm[0][2]']                   \n",
            "                                                                                                  \n",
            " dense (Dense)                  (None, None, 7462)   1917734     ['lstm_1[0][0]']                 \n",
            "                                                                                                  \n",
            "==================================================================================================\n",
            "Total params: 6,075,430\n",
            "Trainable params: 6,075,430\n",
            "Non-trainable params: 0\n",
            "__________________________________________________________________________________________________\n"
          ]
        }
      ]
    },
    {
      "cell_type": "markdown",
      "source": [
        "준비된 모델을 학습시켜 주도록 하자."
      ],
      "metadata": {
        "id": "Ib4fRia_kFJS"
      }
    },
    {
      "cell_type": "code",
      "source": [
        "history = model.fit(x=[encoder_input_train, decoder_input_train], y=decoder_target_train, \\\n",
        "                    validation_data = ([encoder_input_test, decoder_input_test], decoder_target_test),\n",
        "                    batch_size=128, epochs=20)"
      ],
      "metadata": {
        "colab": {
          "base_uri": "https://localhost:8080/"
        },
        "id": "iAZQvE-wEFM5",
        "outputId": "ec93a590-6888-4c24-cf9a-5859dcb0c67c"
      },
      "execution_count": 24,
      "outputs": [
        {
          "output_type": "stream",
          "name": "stdout",
          "text": [
            "Epoch 1/20\n",
            "235/235 [==============================] - 14s 21ms/step - loss: 1.9263 - val_loss: 1.8110\n",
            "Epoch 2/20\n",
            "235/235 [==============================] - 4s 16ms/step - loss: 1.3947 - val_loss: 1.6000\n",
            "Epoch 3/20\n",
            "235/235 [==============================] - 4s 16ms/step - loss: 1.1999 - val_loss: 1.4501\n",
            "Epoch 4/20\n",
            "235/235 [==============================] - 4s 16ms/step - loss: 1.0822 - val_loss: 1.3647\n",
            "Epoch 5/20\n",
            "235/235 [==============================] - 4s 16ms/step - loss: 0.9898 - val_loss: 1.3092\n",
            "Epoch 6/20\n",
            "235/235 [==============================] - 4s 16ms/step - loss: 0.9135 - val_loss: 1.2511\n",
            "Epoch 7/20\n",
            "235/235 [==============================] - 4s 16ms/step - loss: 0.8493 - val_loss: 1.2093\n",
            "Epoch 8/20\n",
            "235/235 [==============================] - 4s 16ms/step - loss: 0.7928 - val_loss: 1.1800\n",
            "Epoch 9/20\n",
            "235/235 [==============================] - 4s 16ms/step - loss: 0.7427 - val_loss: 1.1527\n",
            "Epoch 10/20\n",
            "235/235 [==============================] - 4s 16ms/step - loss: 0.6979 - val_loss: 1.1337\n",
            "Epoch 11/20\n",
            "235/235 [==============================] - 4s 16ms/step - loss: 0.6580 - val_loss: 1.1125\n",
            "Epoch 12/20\n",
            "235/235 [==============================] - 4s 16ms/step - loss: 0.6214 - val_loss: 1.1063\n",
            "Epoch 13/20\n",
            "235/235 [==============================] - 4s 16ms/step - loss: 0.5885 - val_loss: 1.0955\n",
            "Epoch 14/20\n",
            "235/235 [==============================] - 4s 16ms/step - loss: 0.5593 - val_loss: 1.0930\n",
            "Epoch 15/20\n",
            "235/235 [==============================] - 4s 16ms/step - loss: 0.5325 - val_loss: 1.0819\n",
            "Epoch 16/20\n",
            "235/235 [==============================] - 4s 16ms/step - loss: 0.5070 - val_loss: 1.0889\n",
            "Epoch 17/20\n",
            "235/235 [==============================] - 4s 16ms/step - loss: 0.4834 - val_loss: 1.0839\n",
            "Epoch 18/20\n",
            "235/235 [==============================] - 4s 16ms/step - loss: 0.4618 - val_loss: 1.0851\n",
            "Epoch 19/20\n",
            "235/235 [==============================] - 4s 17ms/step - loss: 0.4411 - val_loss: 1.0887\n",
            "Epoch 20/20\n",
            "235/235 [==============================] - 4s 17ms/step - loss: 0.4223 - val_loss: 1.0869\n"
          ]
        }
      ]
    },
    {
      "cell_type": "code",
      "source": [
        "encoder_model = Model(inputs = encoder_inputs, outputs = encoder_states)\n",
        "encoder_model.summary()"
      ],
      "metadata": {
        "colab": {
          "base_uri": "https://localhost:8080/"
        },
        "id": "n9V760LbOvM4",
        "outputId": "a23d7ab4-43d4-469f-fa1e-4cd2f2882434"
      },
      "execution_count": 25,
      "outputs": [
        {
          "output_type": "stream",
          "name": "stdout",
          "text": [
            "Model: \"model_1\"\n",
            "_________________________________________________________________\n",
            " Layer (type)                Output Shape              Param #   \n",
            "=================================================================\n",
            " input_1 (InputLayer)        [(None, None)]            0         \n",
            "                                                                 \n",
            " embedding (Embedding)       (None, None, 256)         1196800   \n",
            "                                                                 \n",
            " lstm (LSTM)                 [(None, 256),             525312    \n",
            "                              (None, 256),                       \n",
            "                              (None, 256)]                       \n",
            "                                                                 \n",
            "=================================================================\n",
            "Total params: 1,722,112\n",
            "Trainable params: 1,722,112\n",
            "Non-trainable params: 0\n",
            "_________________________________________________________________\n"
          ]
        }
      ]
    },
    {
      "cell_type": "markdown",
      "source": [
        "학습된 모델의 Loss를 epoch별로 표현하면 아래와 같다.  "
      ],
      "metadata": {
        "id": "Of9Rp_404btj"
      }
    },
    {
      "cell_type": "code",
      "source": [
        "import matplotlib.pyplot as plt\n",
        "\n",
        "y_vloss = history.history['val_loss']\n",
        "y_loss = history.history['loss']\n",
        "\n",
        "x_len = np.arange(len(y_loss))\n",
        "plt.plot(x_len, y_vloss, marker='.', c='red', label=\"Validation-set Loss\")\n",
        "plt.plot(x_len, y_loss, marker='.', c='blue', label=\"Train-set Loss\")\n",
        "\n",
        "plt.legend(loc='upper right')\n",
        "plt.grid()\n",
        "plt.xlabel('epoch')\n",
        "plt.ylabel('loss')\n",
        "plt.show()"
      ],
      "metadata": {
        "colab": {
          "base_uri": "https://localhost:8080/",
          "height": 283
        },
        "id": "_JXRlj5bfhek",
        "outputId": "7b83c029-a3a6-4bf1-f7f7-377584e4ce8d"
      },
      "execution_count": 28,
      "outputs": [
        {
          "output_type": "display_data",
          "data": {
            "text/plain": [
              "<Figure size 432x288 with 1 Axes>"
            ],
            "image/png": "[encoded data removed]"
          },
          "metadata": {
            "needs_background": "light"
          }
        }
      ]
    },
    {
      "cell_type": "markdown",
      "source": [
        "Train Loss는 20에폭 이후에도 줄어들지 않지만 Val Loss는 더이상 떨어지지 않는다.  \n",
        "이제 디코더를 설계해 주자."
      ],
      "metadata": {
        "id": "KCPO2w8O4lEp"
      }
    },
    {
      "cell_type": "code",
      "source": [
        "decoder_state_input_h = Input(shape=(256,))\n",
        "decoder_state_input_c = Input(shape=(256,))\n",
        "decoder_states_inputs = [decoder_state_input_h, decoder_state_input_c]\n",
        "\n",
        "decoder_outputs, state_h, state_c = decoder_lstm(decoder_emb, initial_state = decoder_states_inputs)\n",
        "decoder_states = [state_h, state_c]"
      ],
      "metadata": {
        "id": "IGvyeY8ROxwX"
      },
      "execution_count": 29,
      "outputs": []
    },
    {
      "cell_type": "markdown",
      "source": [
        "여기서 훈련과정에서 사용했던 디코더의 임베딩 레이어를 사용해야 한다고 한다."
      ],
      "metadata": {
        "id": "ok8bcWe46bay"
      }
    },
    {
      "cell_type": "code",
      "source": [
        "decoder_outputs = decoder_softmax_layer(decoder_outputs)\n",
        "decoder_model = Model(inputs=[decoder_inputs] + decoder_states_inputs, outputs=[decoder_outputs] + decoder_states)\n",
        "decoder_model.summary()\n"
      ],
      "metadata": {
        "colab": {
          "base_uri": "https://localhost:8080/"
        },
        "id": "V2NRIz1PPOG9",
        "outputId": "aaa80710-0abe-4bd3-cf77-2afbc4694137"
      },
      "execution_count": 30,
      "outputs": [
        {
          "output_type": "stream",
          "name": "stdout",
          "text": [
            "Model: \"model_2\"\n",
            "__________________________________________________________________________________________________\n",
            " Layer (type)                   Output Shape         Param #     Connected to                     \n",
            "==================================================================================================\n",
            " input_2 (InputLayer)           [(None, None)]       0           []                               \n",
            "                                                                                                  \n",
            " embedding_1 (Embedding)        (None, None, 256)    1910272     ['input_2[0][0]']                \n",
            "                                                                                                  \n",
            " input_3 (InputLayer)           [(None, 256)]        0           []                               \n",
            "                                                                                                  \n",
            " input_4 (InputLayer)           [(None, 256)]        0           []                               \n",
            "                                                                                                  \n",
            " lstm_1 (LSTM)                  [(None, None, 256),  525312      ['embedding_1[0][0]',            \n",
            "                                 (None, 256),                     'input_3[0][0]',                \n",
            "                                 (None, 256)]                     'input_4[0][0]']                \n",
            "                                                                                                  \n",
            " dense (Dense)                  (None, None, 7462)   1917734     ['lstm_1[1][0]']                 \n",
            "                                                                                                  \n",
            "==================================================================================================\n",
            "Total params: 4,353,318\n",
            "Trainable params: 4,353,318\n",
            "Non-trainable params: 0\n",
            "__________________________________________________________________________________________________\n"
          ]
        }
      ]
    },
    {
      "cell_type": "markdown",
      "source": [
        "## 3. 모델 평가하기\n",
        "다음은 단어에서 정수로, 정수에서 단어로 만드는 사전을 각각 tokenizer에서 가져옵니다."
      ],
      "metadata": {
        "id": "oDbxuSfp7EsL"
      }
    },
    {
      "cell_type": "code",
      "source": [
        "eng2idx = eng_tokenizer.word_index\n",
        "fra2idx = fra_tokenizer.word_index\n",
        "idx2eng = eng_tokenizer.index_word\n",
        "idx2fra = fra_tokenizer.index_word"
      ],
      "metadata": {
        "id": "nQlJQ4ICPfJ9"
      },
      "execution_count": 31,
      "outputs": []
    },
    {
      "cell_type": "markdown",
      "source": [
        "다음은 예측 과정을 위한 함수를 구현합니다.  \n",
        "번역하고자 하는 문장의 정수 시퀀스를 입력하면 번역 문장을 위한 예측을 시작합니다.  "
      ],
      "metadata": {
        "id": "GZmz9EBm7QXB"
      }
    },
    {
      "cell_type": "code",
      "source": [
        "def decode_sequence(input_seq):\n",
        "    states_value = encoder_model.predict(input_seq)\n",
        "\n",
        "    target_seq = np.zeros((1, 1))\n",
        "    target_seq[0, 0] = fra2idx['<start>']\n",
        "\n",
        "    stop_condition = False\n",
        "    decoded_sentence = \"\"\n",
        "    decoded_len = 1\n",
        "\n",
        "    while not stop_condition:\n",
        "        output_tokens, h, c = decoder_model.predict([target_seq] + states_value)\n",
        "\n",
        "        sampled_token_index = np.argmax(output_tokens[0, -1, :])\n",
        "        sampled_char = idx2fra[sampled_token_index]\n",
        "\n",
        "        decoded_sentence += ' ' + sampled_char\n",
        "        decoded_len += 1\n",
        "\n",
        "        if (sampled_char == '<end>' or decoded_len > fra_max_len):\n",
        "          stop_condition = True\n",
        "\n",
        "        target_seq = np.zeros((1, 1))\n",
        "        target_seq[0, 0] = sampled_token_index\n",
        "\n",
        "        states_value = [h, c]\n",
        "\n",
        "    return decoded_sentence"
      ],
      "metadata": {
        "id": "gxJKGZJqPfFo"
      },
      "execution_count": 32,
      "outputs": []
    },
    {
      "cell_type": "markdown",
      "source": [
        "이제 문장 5개를 입력하여 번역이 잘 되는지 확인해 보겠습니다."
      ],
      "metadata": {
        "id": "z-bkWL7G7yO2"
      }
    },
    {
      "cell_type": "code",
      "source": [
        "import numpy as np\n",
        "for seq_index in [2000,4000,6000,8000,10000]:\n",
        "    input_seq = encoder_input[seq_index: seq_index + 1]\n",
        "    decoded_sentence = decode_sequence(input_seq)\n",
        "    print(35 * \"-\")\n",
        "    print('입력 문장:', lines.eng[seq_index])\n",
        "    print('정답 문장:', lines.fra[seq_index])\n",
        "    print('번역기가 번역한 문장:', decoded_sentence[:len(decoded_sentence)-1])"
      ],
      "metadata": {
        "colab": {
          "base_uri": "https://localhost:8080/"
        },
        "id": "dMHD6W7kQKFQ",
        "outputId": "4549edb4-b274-488b-b900-8cfa6e5682a2"
      },
      "execution_count": 34,
      "outputs": [
        {
          "output_type": "stream",
          "name": "stdout",
          "text": [
            "-----------------------------------\n",
            "입력 문장: I made tea.\n",
            "정답 문장: J'ai préparé du thé.\n",
            "번역기가 번역한 문장:  j ai fait des lunettes . <end\n",
            "-----------------------------------\n",
            "입력 문장: Tom shot me.\n",
            "정답 문장: Tom m'a tiré dessus.\n",
            "번역기가 번역한 문장:  tom m a tir dessus . <end\n",
            "-----------------------------------\n",
            "입력 문장: Tom did this.\n",
            "정답 문장: C'est ce qu'a fait Tom.\n",
            "번역기가 번역한 문장:  tom a fait a ! <end\n",
            "-----------------------------------\n",
            "입력 문장: It's a rental.\n",
            "정답 문장: C'est une location.\n",
            "번역기가 번역한 문장:  c est une triste . <end\n",
            "-----------------------------------\n",
            "입력 문장: Have you eaten?\n",
            "정답 문장: Avez-vous mangé ?\n",
            "번역기가 번역한 문장:  tu as mang ? <end\n"
          ]
        }
      ]
    },
    {
      "cell_type": "markdown",
      "source": [
        "![image.png](data:image/png;base64,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)"
      ],
      "metadata": {
        "id": "LWaOgsvr8IVR"
      }
    },
    {
      "cell_type": "markdown",
      "source": [
        "![image.png](data:image/png;base64,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)"
      ],
      "metadata": {
        "id": "j6ZD2Hi280eY"
      }
    },
    {
      "cell_type": "markdown",
      "source": [
        "대충 비슷한 뜻으로 번역 하는것 같다. 1, 4번째 빼고..."
      ],
      "metadata": {
        "id": "P_8TWj8R9BxI"
      }
    },
    {
      "cell_type": "markdown",
      "source": [
        "## 4.회고\n",
        "1. 단어 단위로 번역을 하려니 바꿔야 할 부분이 많아서 멘탈이 흔들렸지만 저번에 했던 익스6이었나 작사가 인공지능 만들기 했던 부분을 보면서 전처리 하는데 도움이 되었다.\n",
        "2. 번역이 조금 이상하게 되었는데 이게 보니까 프랑스어의 약간 특수문자처럼 생긴 알파벳들은 다 제외된 것 같다. 그게 아니라면 조금 더 좋은 학습이 되지 않았을까? maxlen을 측정할 때도 영어가 10이고 프랑스어가 17이었는데 그 특수문자들이 사라지면서 문장이 길어진게 아닌가 싶다."
      ],
      "metadata": {
        "id": "x3MZmx0o9gMd"
      }
    }
  ]
}