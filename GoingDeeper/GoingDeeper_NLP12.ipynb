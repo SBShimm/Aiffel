{
  "nbformat": 4,
  "nbformat_minor": 0,
  "metadata": {
    "colab": {
      "provenance": [],
      "collapsed_sections": [],
      "mount_file_id": "1JoCqzWs3ISc1pGqdcwevtWICvRgi3bCd",
      "authorship_tag": "ABX9TyPVIMeF6HJSW9QCGr7HkXrx",
      "include_colab_link": true
    },
    "kernelspec": {
      "name": "python3",
      "display_name": "Python 3"
    },
    "language_info": {
      "name": "python"
    },
    "accelerator": "GPU",
    "gpuClass": "standard"
  },
  "cells": [
    {
      "cell_type": "markdown",
      "metadata": {
        "id": "view-in-github",
        "colab_type": "text"
      },
      "source": [
        "<a href=\"https://colab.research.google.com/github/SBShimm/Aiffel/blob/master/GoingDeeper/GoingDeeper_NLP12.ipynb\" target=\"_parent\"><img src=\"https://colab.research.google.com/assets/colab-badge.svg\" alt=\"Open In Colab\"/></a>"
      ]
    },
    {
      "cell_type": "markdown",
      "source": [
        "# 멋진 챗봇 만들기"
      ],
      "metadata": {
        "id": "LYnKiWkUKQ6Y"
      }
    },
    {
      "cell_type": "code",
      "source": [
        "!apt-get update\n",
        "!apt-get install g++ openjdk-8-jdk \n",
        "!pip3 install konlpy JPype1-py3\n",
        "!bash <(curl -s https://raw.githubusercontent.com/konlpy/konlpy/master/scripts/mecab.sh)"
      ],
      "metadata": {
        "id": "jCNLxj29De4L"
      },
      "execution_count": null,
      "outputs": []
    },
    {
      "cell_type": "code",
      "source": [
        "import numpy as np\n",
        "import pandas as pd\n",
        "import matplotlib.pyplot as plt\n",
        "import tensorflow as tf\n",
        "import re\n",
        "import random\n",
        "import math\n",
        "import gensim\n",
        "from tqdm import tqdm\n",
        "from tqdm import tqdm_notebook\n",
        "from konlpy.tag import Mecab\n",
        "from nltk.translate.bleu_score import sentence_bleu\n",
        "from nltk.translate.bleu_score import SmoothingFunction\n",
        "from tensorflow.keras.preprocessing.sequence import pad_sequences"
      ],
      "metadata": {
        "id": "XJbVH3ssBqOQ"
      },
      "execution_count": 1,
      "outputs": []
    },
    {
      "cell_type": "markdown",
      "source": [
        "## 1. 데이터 불러오기"
      ],
      "metadata": {
        "id": "WJefof1qWSwh"
      }
    },
    {
      "cell_type": "code",
      "execution_count": 2,
      "metadata": {
        "colab": {
          "base_uri": "https://localhost:8080/",
          "height": 225
        },
        "id": "cLohSnPhVVdN",
        "outputId": "d5dea673-62df-4506-e91f-fc471f856c9d"
      },
      "outputs": [
        {
          "output_type": "stream",
          "name": "stdout",
          "text": [
            "(11823, 3)\n"
          ]
        },
        {
          "output_type": "execute_result",
          "data": {
            "text/plain": [
              "                 Q            A  label\n",
              "0           12시 땡!   하루가 또 가네요.      0\n",
              "1      1지망 학교 떨어졌어    위로해 드립니다.      0\n",
              "2     3박4일 놀러가고 싶다  여행은 언제나 좋죠.      0\n",
              "3  3박4일 정도 놀러가고 싶다  여행은 언제나 좋죠.      0\n",
              "4          PPL 심하네   눈살이 찌푸려지죠.      0"
            ],
            "text/html": [
              "\n",
              "  <div id=\"df-92acdc1c-7598-4fb1-8327-0130adaae1b6\">\n",
              "    <div class=\"colab-df-container\">\n",
              "      <div>\n",
              "<style scoped>\n",
              "    .dataframe tbody tr th:only-of-type {\n",
              "        vertical-align: middle;\n",
              "    }\n",
              "\n",
              "    .dataframe tbody tr th {\n",
              "        vertical-align: top;\n",
              "    }\n",
              "\n",
              "    .dataframe thead th {\n",
              "        text-align: right;\n",
              "    }\n",
              "</style>\n",
              "<table border=\"1\" class=\"dataframe\">\n",
              "  <thead>\n",
              "    <tr style=\"text-align: right;\">\n",
              "      <th></th>\n",
              "      <th>Q</th>\n",
              "      <th>A</th>\n",
              "      <th>label</th>\n",
              "    </tr>\n",
              "  </thead>\n",
              "  <tbody>\n",
              "    <tr>\n",
              "      <th>0</th>\n",
              "      <td>12시 땡!</td>\n",
              "      <td>하루가 또 가네요.</td>\n",
              "      <td>0</td>\n",
              "    </tr>\n",
              "    <tr>\n",
              "      <th>1</th>\n",
              "      <td>1지망 학교 떨어졌어</td>\n",
              "      <td>위로해 드립니다.</td>\n",
              "      <td>0</td>\n",
              "    </tr>\n",
              "    <tr>\n",
              "      <th>2</th>\n",
              "      <td>3박4일 놀러가고 싶다</td>\n",
              "      <td>여행은 언제나 좋죠.</td>\n",
              "      <td>0</td>\n",
              "    </tr>\n",
              "    <tr>\n",
              "      <th>3</th>\n",
              "      <td>3박4일 정도 놀러가고 싶다</td>\n",
              "      <td>여행은 언제나 좋죠.</td>\n",
              "      <td>0</td>\n",
              "    </tr>\n",
              "    <tr>\n",
              "      <th>4</th>\n",
              "      <td>PPL 심하네</td>\n",
              "      <td>눈살이 찌푸려지죠.</td>\n",
              "      <td>0</td>\n",
              "    </tr>\n",
              "  </tbody>\n",
              "</table>\n",
              "</div>\n",
              "      <button class=\"colab-df-convert\" onclick=\"convertToInteractive('df-92acdc1c-7598-4fb1-8327-0130adaae1b6')\"\n",
              "              title=\"Convert this dataframe to an interactive table.\"\n",
              "              style=\"display:none;\">\n",
              "        \n",
              "  <svg xmlns=\"http://www.w3.org/2000/svg\" height=\"24px\"viewBox=\"0 0 24 24\"\n",
              "       width=\"24px\">\n",
              "    <path d=\"M0 0h24v24H0V0z\" fill=\"none\"/>\n",
              "    <path d=\"M18.56 5.44l.94 2.06.94-2.06 2.06-.94-2.06-.94-.94-2.06-.94 2.06-2.06.94zm-11 1L8.5 8.5l.94-2.06 2.06-.94-2.06-.94L8.5 2.5l-.94 2.06-2.06.94zm10 10l.94 2.06.94-2.06 2.06-.94-2.06-.94-.94-2.06-.94 2.06-2.06.94z\"/><path d=\"M17.41 7.96l-1.37-1.37c-.4-.4-.92-.59-1.43-.59-.52 0-1.04.2-1.43.59L10.3 9.45l-7.72 7.72c-.78.78-.78 2.05 0 2.83L4 21.41c.39.39.9.59 1.41.59.51 0 1.02-.2 1.41-.59l7.78-7.78 2.81-2.81c.8-.78.8-2.07 0-2.86zM5.41 20L4 18.59l7.72-7.72 1.47 1.35L5.41 20z\"/>\n",
              "  </svg>\n",
              "      </button>\n",
              "      \n",
              "  <style>\n",
              "    .colab-df-container {\n",
              "      display:flex;\n",
              "      flex-wrap:wrap;\n",
              "      gap: 12px;\n",
              "    }\n",
              "\n",
              "    .colab-df-convert {\n",
              "      background-color: #E8F0FE;\n",
              "      border: none;\n",
              "      border-radius: 50%;\n",
              "      cursor: pointer;\n",
              "      display: none;\n",
              "      fill: #1967D2;\n",
              "      height: 32px;\n",
              "      padding: 0 0 0 0;\n",
              "      width: 32px;\n",
              "    }\n",
              "\n",
              "    .colab-df-convert:hover {\n",
              "      background-color: #E2EBFA;\n",
              "      box-shadow: 0px 1px 2px rgba(60, 64, 67, 0.3), 0px 1px 3px 1px rgba(60, 64, 67, 0.15);\n",
              "      fill: #174EA6;\n",
              "    }\n",
              "\n",
              "    [theme=dark] .colab-df-convert {\n",
              "      background-color: #3B4455;\n",
              "      fill: #D2E3FC;\n",
              "    }\n",
              "\n",
              "    [theme=dark] .colab-df-convert:hover {\n",
              "      background-color: #434B5C;\n",
              "      box-shadow: 0px 1px 3px 1px rgba(0, 0, 0, 0.15);\n",
              "      filter: drop-shadow(0px 1px 2px rgba(0, 0, 0, 0.3));\n",
              "      fill: #FFFFFF;\n",
              "    }\n",
              "  </style>\n",
              "\n",
              "      <script>\n",
              "        const buttonEl =\n",
              "          document.querySelector('#df-92acdc1c-7598-4fb1-8327-0130adaae1b6 button.colab-df-convert');\n",
              "        buttonEl.style.display =\n",
              "          google.colab.kernel.accessAllowed ? 'block' : 'none';\n",
              "\n",
              "        async function convertToInteractive(key) {\n",
              "          const element = document.querySelector('#df-92acdc1c-7598-4fb1-8327-0130adaae1b6');\n",
              "          const dataTable =\n",
              "            await google.colab.kernel.invokeFunction('convertToInteractive',\n",
              "                                                     [key], {});\n",
              "          if (!dataTable) return;\n",
              "\n",
              "          const docLinkHtml = 'Like what you see? Visit the ' +\n",
              "            '<a target=\"_blank\" href=https://colab.research.google.com/notebooks/data_table.ipynb>data table notebook</a>'\n",
              "            + ' to learn more about interactive tables.';\n",
              "          element.innerHTML = '';\n",
              "          dataTable['output_type'] = 'display_data';\n",
              "          await google.colab.output.renderOutput(dataTable, element);\n",
              "          const docLink = document.createElement('div');\n",
              "          docLink.innerHTML = docLinkHtml;\n",
              "          element.appendChild(docLink);\n",
              "        }\n",
              "      </script>\n",
              "    </div>\n",
              "  </div>\n",
              "  "
            ]
          },
          "metadata": {},
          "execution_count": 2
        }
      ],
      "source": [
        "data = pd.read_csv('/content/drive/MyDrive/Colab/Datasets/Chatbot_data-master/ChatbotData.csv')\n",
        "print(data.shape)\n",
        "data.head()"
      ]
    },
    {
      "cell_type": "code",
      "source": [
        "questions = data.Q\n",
        "answers = data.A"
      ],
      "metadata": {
        "id": "tM3M9M23Ks8M"
      },
      "execution_count": 3,
      "outputs": []
    },
    {
      "cell_type": "markdown",
      "source": [
        "전처리"
      ],
      "metadata": {
        "id": "AlAgSJKGKaki"
      }
    },
    {
      "cell_type": "code",
      "source": [
        "def preprocess_sentence(sentence):\n",
        "    \n",
        "    sentence = sentence.lower().strip()\n",
        "\n",
        "    sentence = re.sub(r\"([?.!,])\", r\" \\1 \", sentence)\n",
        "    sentence = re.sub(r'[\" \"]+', \" \", sentence)\n",
        "    sentence = re.sub(r\"[^a-zA-Z?.!가-힣ㄱ-ㅎㅏ-ㅣ]+\", \" \", sentence)\n",
        "\n",
        "    sentence = sentence.strip()\n",
        "    \n",
        "    return sentence"
      ],
      "metadata": {
        "id": "BdaH09p9KY59"
      },
      "execution_count": 4,
      "outputs": []
    },
    {
      "cell_type": "markdown",
      "source": [
        "토큰화  \n",
        "\n",
        "아래 조건을 만족하는 build_corpus() 함수를 구현하세요!\n",
        "\n",
        "1. 소스 문장 데이터와 타겟 문장 데이터를 입력으로 받습니다.  \n",
        "2. 데이터를 앞서 정의한 preprocess_sentence() 함수로 정제하고, 토큰화합니다.\n",
        "3. 토큰화는 전달받은 토크나이즈 함수를 사용합니다. 이번엔 mecab.morphs 함수를 전달하시면 됩니다.\n",
        "4. 토큰의 개수가 일정 길이 이상인 문장은 데이터에서 제외합니다.\n",
        "5. 중복되는 문장은 데이터에서 제외합니다. 소스 : 타겟 쌍을 비교하지 않고 소스는 소스대로 타겟은 타겟대로 검사합니다. 중복 쌍이 흐트러지지 않도록 유의하세요!"
      ],
      "metadata": {
        "id": "6jE-iw31KdgQ"
      }
    },
    {
      "cell_type": "code",
      "source": [
        "raw = zip(questions, answers)\n",
        "cleaned_corpus = set(raw)\n",
        "len(cleaned_corpus)"
      ],
      "metadata": {
        "colab": {
          "base_uri": "https://localhost:8080/"
        },
        "id": "JGMt-rlwQWxy",
        "outputId": "427a15b4-fe55-498a-f30e-2dd9672b34fd"
      },
      "execution_count": 5,
      "outputs": [
        {
          "output_type": "execute_result",
          "data": {
            "text/plain": [
              "11750"
            ]
          },
          "metadata": {},
          "execution_count": 5
        }
      ]
    },
    {
      "cell_type": "code",
      "source": [
        "cleaned_questions, cleaned_answers = zip(*cleaned_corpus)"
      ],
      "metadata": {
        "id": "14YWgX5MQeOJ"
      },
      "execution_count": 6,
      "outputs": []
    },
    {
      "cell_type": "code",
      "source": [
        "def build_corpus(src, tgt):\n",
        "    mecab = Mecab()\n",
        "\n",
        "    src_cor = []\n",
        "    tgt_cor = []\n",
        "    \n",
        "    for s, t in zip(src, tgt):\n",
        "        if len(s) <= 30:\n",
        "            src_cor.append(mecab.morphs(preprocess_sentence(s)))\n",
        "            tgt_cor.append(mecab.morphs(preprocess_sentence(t)))\n",
        "    \n",
        "    \n",
        "    return src_cor, tgt_cor\n",
        "\n",
        "que_corpus, ans_corpus = build_corpus(cleaned_questions, cleaned_answers)"
      ],
      "metadata": {
        "id": "dSv1HYNtOd6f"
      },
      "execution_count": 7,
      "outputs": []
    },
    {
      "cell_type": "code",
      "source": [
        "print(len(que_corpus), len(ans_corpus))"
      ],
      "metadata": {
        "colab": {
          "base_uri": "https://localhost:8080/"
        },
        "id": "_fs2HXOoQ3H8",
        "outputId": "fa4f4e94-ec81-4cde-f57c-2a846f69b724"
      },
      "execution_count": 8,
      "outputs": [
        {
          "output_type": "stream",
          "name": "stdout",
          "text": [
            "11577 11577\n"
          ]
        }
      ]
    },
    {
      "cell_type": "markdown",
      "source": [
        "## 2. Data Argumentation"
      ],
      "metadata": {
        "id": "U9QGgetDUZOq"
      }
    },
    {
      "cell_type": "markdown",
      "source": [
        "Word2Vec를 이용한 Data Argumentation"
      ],
      "metadata": {
        "id": "XWPVm6GOOevv"
      }
    },
    {
      "cell_type": "code",
      "source": [
        "model = gensim.models.Word2Vec.load('/content/drive/MyDrive/Colab/Datasets/word2vec/ko.bin')"
      ],
      "metadata": {
        "id": "KCvUgzkdUcw3"
      },
      "execution_count": 9,
      "outputs": []
    },
    {
      "cell_type": "code",
      "source": [
        "model.most_similar('바나나')"
      ],
      "metadata": {
        "colab": {
          "base_uri": "https://localhost:8080/"
        },
        "id": "774J2jtgUi61",
        "outputId": "3133682a-a3ea-46c2-cb3d-caffe6b5957d"
      },
      "execution_count": 10,
      "outputs": [
        {
          "output_type": "stream",
          "name": "stderr",
          "text": [
            "/usr/local/lib/python3.7/dist-packages/ipykernel_launcher.py:1: DeprecationWarning: Call to deprecated `most_similar` (Method will be removed in 4.0.0, use self.wv.most_similar() instead).\n",
            "  \"\"\"Entry point for launching an IPython kernel.\n"
          ]
        },
        {
          "output_type": "execute_result",
          "data": {
            "text/plain": [
              "[('코코넛', 0.8097119927406311),\n",
              " ('시금치', 0.7701147794723511),\n",
              " ('레몬', 0.76884925365448),\n",
              " ('땅콩', 0.7684735059738159),\n",
              " ('파인애플', 0.7639915347099304),\n",
              " ('녹차', 0.7631460428237915),\n",
              " ('딸기', 0.7617197036743164),\n",
              " ('바닐라', 0.7497864961624146),\n",
              " ('파슬리', 0.7447543144226074),\n",
              " ('코코아', 0.7408244609832764)]"
            ]
          },
          "metadata": {},
          "execution_count": 10
        }
      ]
    },
    {
      "cell_type": "code",
      "source": [
        "def lexical_sub(sentence, word2vec):\n",
        "    res = \"\"\n",
        "    toks = sentence\n",
        "\n",
        "    try:\n",
        "        _from = random.choice(toks)\n",
        "        _to = word2vec.most_similar(_from)[0][0]\n",
        "        \n",
        "    except:   # 단어장에 없는 단어\n",
        "        return None\n",
        "\n",
        "    for tok in toks:\n",
        "        if tok is _from: res += _to + \" \"\n",
        "        else: res += tok + \" \"\n",
        "\n",
        "    return res"
      ],
      "metadata": {
        "id": "XwS8xM10UyGr"
      },
      "execution_count": 11,
      "outputs": []
    },
    {
      "cell_type": "code",
      "source": [
        "new_que_corpus = []\n",
        "\n",
        "for old_src in tqdm(que_corpus):\n",
        "    new_src = lexical_sub(old_src, model)\n",
        "    if new_src is not None:\n",
        "        new_que_corpus.append(new_src)\n",
        "    else:\n",
        "        new_que_corpus.append(old_src)\n",
        "\n",
        "print(len(que_corpus))\n",
        "print(len(new_que_corpus))"
      ],
      "metadata": {
        "colab": {
          "base_uri": "https://localhost:8080/"
        },
        "id": "InkzxwPPVRtI",
        "outputId": "97d98637-c7f5-4ef5-c3af-8e289c076921"
      },
      "execution_count": 12,
      "outputs": [
        {
          "output_type": "stream",
          "name": "stderr",
          "text": [
            "  0%|          | 0/11577 [00:00<?, ?it/s]/usr/local/lib/python3.7/dist-packages/ipykernel_launcher.py:7: DeprecationWarning: Call to deprecated `most_similar` (Method will be removed in 4.0.0, use self.wv.most_similar() instead).\n",
            "  import sys\n",
            "100%|██████████| 11577/11577 [00:16<00:00, 690.93it/s]"
          ]
        },
        {
          "output_type": "stream",
          "name": "stdout",
          "text": [
            "11577\n",
            "11577\n"
          ]
        },
        {
          "output_type": "stream",
          "name": "stderr",
          "text": [
            "\n"
          ]
        }
      ]
    },
    {
      "cell_type": "code",
      "source": [
        "new_ans_corpus = []\n",
        "\n",
        "for old_src in tqdm(ans_corpus):\n",
        "    new_src = lexical_sub(old_src, model)\n",
        "    if new_src is not None:\n",
        "        new_ans_corpus.append(new_src)\n",
        "    else:\n",
        "        new_ans_corpus.append(old_src)\n",
        "\n",
        "print(len(ans_corpus))\n",
        "print(len(new_ans_corpus))"
      ],
      "metadata": {
        "colab": {
          "base_uri": "https://localhost:8080/"
        },
        "id": "EJYCvLFNZHsf",
        "outputId": "91401b63-4b43-4ca5-e4d3-1217fde2c140"
      },
      "execution_count": 13,
      "outputs": [
        {
          "output_type": "stream",
          "name": "stderr",
          "text": [
            "\r  0%|          | 0/11577 [00:00<?, ?it/s]/usr/local/lib/python3.7/dist-packages/ipykernel_launcher.py:7: DeprecationWarning: Call to deprecated `most_similar` (Method will be removed in 4.0.0, use self.wv.most_similar() instead).\n",
            "  import sys\n",
            "100%|██████████| 11577/11577 [00:16<00:00, 719.87it/s]"
          ]
        },
        {
          "output_type": "stream",
          "name": "stdout",
          "text": [
            "11577\n",
            "11577\n"
          ]
        },
        {
          "output_type": "stream",
          "name": "stderr",
          "text": [
            "\n"
          ]
        }
      ]
    },
    {
      "cell_type": "markdown",
      "source": [
        "Augmentation된 que_corpus 와 원본 ans_corpus 가 병렬을 이루도록, 이후엔 반대로 원본 que_corpus 와 Augmentation된 ans_corpus 가 병렬을 이루도록 하여 전체 데이터가 원래의 3배가량으로 늘어나도록 합니다."
      ],
      "metadata": {
        "id": "GS4vt7KrOoxV"
      }
    },
    {
      "cell_type": "code",
      "source": [
        "arg_que = que_corpus + new_que_corpus + que_corpus\n",
        "arg_ans = ans_corpus + new_ans_corpus + ans_corpus"
      ],
      "metadata": {
        "id": "R6Cxomi5ZXWe"
      },
      "execution_count": 14,
      "outputs": []
    },
    {
      "cell_type": "code",
      "source": [
        "for i in range(len(arg_ans)):\n",
        "    arg_ans[i] = [\"<start>\"] + list(arg_ans[i]) + [\"<end>\"]"
      ],
      "metadata": {
        "id": "SyjuevL7bJuz"
      },
      "execution_count": 15,
      "outputs": []
    },
    {
      "cell_type": "code",
      "source": [
        "arg_ans[:3]"
      ],
      "metadata": {
        "colab": {
          "base_uri": "https://localhost:8080/"
        },
        "id": "O2vVutT4baTu",
        "outputId": "7fb42edf-40d8-4760-d101-0417dc2a804b"
      },
      "execution_count": 16,
      "outputs": [
        {
          "output_type": "execute_result",
          "data": {
            "text/plain": [
              "[['<start>', '폰', '요금', '절약', '되', '겠', '네요', '.', '<end>'],\n",
              " ['<start>', '저', '는', '위기', '조', '차', '없', '네요', '.', '<end>'],\n",
              " ['<start>', '선', '이', '예뻐질', '거', '예요', '.', '<end>']]"
            ]
          },
          "metadata": {},
          "execution_count": 16
        }
      ]
    },
    {
      "cell_type": "code",
      "source": [
        "print(len(arg_que))\n",
        "print(len(arg_ans))"
      ],
      "metadata": {
        "colab": {
          "base_uri": "https://localhost:8080/"
        },
        "id": "Z4BSlZ5Lb9bj",
        "outputId": "31ff69f8-4cf5-4eaa-b7a6-4224f7bf205d"
      },
      "execution_count": 17,
      "outputs": [
        {
          "output_type": "stream",
          "name": "stdout",
          "text": [
            "34731\n",
            "34731\n"
          ]
        }
      ]
    },
    {
      "cell_type": "code",
      "source": [
        "corpus = arg_que + arg_ans\n",
        "\n",
        "tokenizer = tf.keras.preprocessing.text.Tokenizer(filters='')\n",
        "\n",
        "tokenizer.fit_on_texts(corpus)\n",
        "\n",
        "\n",
        "enc_train = tokenizer.texts_to_sequences(arg_que)\n",
        "enc_train = pad_sequences(enc_train, padding='post')\n",
        "\n",
        "dec_train = tokenizer.texts_to_sequences(arg_ans)\n",
        "dec_train = pad_sequences(dec_train, padding='post')"
      ],
      "metadata": {
        "id": "XwMDyclldAg5"
      },
      "execution_count": 18,
      "outputs": []
    },
    {
      "cell_type": "code",
      "source": [
        "VOCAB_SIZE = len(tokenizer.index_word)\n",
        "VOCAB_SIZE"
      ],
      "metadata": {
        "colab": {
          "base_uri": "https://localhost:8080/"
        },
        "id": "-BGKdoJKdVbj",
        "outputId": "8544d14c-e5d4-49d7-e75b-f930175a9e7a"
      },
      "execution_count": 19,
      "outputs": [
        {
          "output_type": "execute_result",
          "data": {
            "text/plain": [
              "7913"
            ]
          },
          "metadata": {},
          "execution_count": 19
        }
      ]
    },
    {
      "cell_type": "markdown",
      "source": [
        "## 3. Transformer 모델 생성"
      ],
      "metadata": {
        "id": "3Aa66G4bcV8P"
      }
    },
    {
      "cell_type": "code",
      "source": [
        "# Positional Encoding 구현\n",
        "def positional_encoding(pos, d_model):\n",
        "    def cal_angle(position, i):\n",
        "        return position / np.power(10000, (2*(i//2)) / np.float32(d_model))\n",
        "\n",
        "    def get_posi_angle_vec(position):\n",
        "        return [cal_angle(position, i) for i in range(d_model)]\n",
        "\n",
        "    sinusoid_table = np.array([get_posi_angle_vec(pos_i) for pos_i in range(pos)])\n",
        "\n",
        "    sinusoid_table[:, 0::2] = np.sin(sinusoid_table[:, 0::2])\n",
        "    sinusoid_table[:, 1::2] = np.cos(sinusoid_table[:, 1::2])\n",
        "\n",
        "    return sinusoid_table"
      ],
      "metadata": {
        "id": "LkBErW6Lcdfj"
      },
      "execution_count": 20,
      "outputs": []
    },
    {
      "cell_type": "code",
      "source": [
        "# Mask  생성하기\n",
        "def generate_padding_mask(seq):\n",
        "    seq = tf.cast(tf.math.equal(seq, 0), tf.float32)\n",
        "    return seq[:, tf.newaxis, tf.newaxis, :]\n",
        "\n",
        "def generate_lookahead_mask(size):\n",
        "    mask = 1 - tf.linalg.band_part(tf.ones((size, size)), -1, 0)\n",
        "    return mask\n",
        "\n",
        "def generate_masks(src, tgt):\n",
        "    enc_mask = generate_padding_mask(src)\n",
        "    dec_enc_mask = generate_padding_mask(src)\n",
        "\n",
        "    dec_lookahead_mask = generate_lookahead_mask(tgt.shape[1])\n",
        "    dec_tgt_padding_mask = generate_padding_mask(tgt)\n",
        "    dec_mask = tf.maximum(dec_tgt_padding_mask, dec_lookahead_mask)\n",
        "    \n",
        "    return enc_mask, dec_enc_mask, dec_mask"
      ],
      "metadata": {
        "id": "RV4FxM1EcfW1"
      },
      "execution_count": 21,
      "outputs": []
    },
    {
      "cell_type": "code",
      "source": [
        "# Multi Head Attention 구현\n",
        "class MultiHeadAttention(tf.keras.layers.Layer):\n",
        "    def __init__(self, d_model, num_heads):\n",
        "        super(MultiHeadAttention, self).__init__()\n",
        "        self.num_heads = num_heads\n",
        "        self.d_model = d_model\n",
        "        \n",
        "        self.depth = d_model // self.num_heads\n",
        "        \n",
        "        self.W_q = tf.keras.layers.Dense(d_model)\n",
        "        self.W_k = tf.keras.layers.Dense(d_model)\n",
        "        self.W_v = tf.keras.layers.Dense(d_model)\n",
        "        \n",
        "        self.linear = tf.keras.layers.Dense(d_model)\n",
        "\n",
        "    def scaled_dot_product_attention(self, Q, K, V, mask):\n",
        "        d_k = tf.cast(K.shape[-1], tf.float32)\n",
        "        QK = tf.matmul(Q, K, transpose_b=True)\n",
        "\n",
        "        scaled_qk = QK / tf.math.sqrt(d_k)\n",
        "\n",
        "        if mask is not None: scaled_qk += (mask * -1e9)  \n",
        "\n",
        "        attentions = tf.nn.softmax(scaled_qk, axis=-1)\n",
        "        out = tf.matmul(attentions, V)\n",
        "        return out, attentions\n",
        "        \n",
        "    def split_heads(self, x):\n",
        "        bsz = x.shape[0]\n",
        "        split_x = tf.reshape(x, (bsz, -1, self.num_heads, self.depth))\n",
        "        split_x = tf.transpose(split_x, perm=[0, 2, 1, 3])\n",
        "        return split_x\n",
        "\n",
        "    def combine_heads(self, x):\n",
        "        bsz = x.shape[0]\n",
        "        combined_x = tf.transpose(x, perm=[0, 2, 1, 3])\n",
        "        combined_x = tf.reshape(combined_x, (bsz, -1, self.d_model))\n",
        "        return combined_x\n",
        "\n",
        "    def call(self, Q, K, V, mask):\n",
        "        WQ = self.W_q(Q)\n",
        "        WK = self.W_k(K)\n",
        "        WV = self.W_v(V)\n",
        "        \n",
        "        WQ_splits = self.split_heads(WQ)\n",
        "        WK_splits = self.split_heads(WK)\n",
        "        WV_splits = self.split_heads(WV)\n",
        "        \n",
        "        out, attention_weights = self.scaled_dot_product_attention(\n",
        "            WQ_splits, WK_splits, WV_splits, mask)\n",
        "                        \n",
        "        out = self.combine_heads(out)\n",
        "        out = self.linear(out)\n",
        "        return out, attention_weights"
      ],
      "metadata": {
        "id": "m5NTWsomchr5"
      },
      "execution_count": 22,
      "outputs": []
    },
    {
      "cell_type": "code",
      "source": [
        "# Position-wise Feed Forward Network 구현\n",
        "class PoswiseFeedForwardNet(tf.keras.layers.Layer):\n",
        "    def __init__(self, d_model, d_ff):\n",
        "        super(PoswiseFeedForwardNet, self).__init__()\n",
        "        self.d_model = d_model\n",
        "        self.d_ff = d_ff\n",
        "\n",
        "        self.fc1 = tf.keras.layers.Dense(d_ff, activation='relu')\n",
        "        self.fc2 = tf.keras.layers.Dense(d_model)\n",
        "\n",
        "    def call(self, x):\n",
        "        out = self.fc1(x)\n",
        "        out = self.fc2(out)\n",
        "        return out"
      ],
      "metadata": {
        "id": "Zk5JivgKci_1"
      },
      "execution_count": 23,
      "outputs": []
    },
    {
      "cell_type": "code",
      "source": [
        "# Encoder의 레이어 구현\n",
        "class EncoderLayer(tf.keras.layers.Layer):\n",
        "    def __init__(self, d_model, n_heads, d_ff, dropout):\n",
        "        super(EncoderLayer, self).__init__()\n",
        "\n",
        "        self.enc_self_attn = MultiHeadAttention(d_model, n_heads)\n",
        "        self.ffn = PoswiseFeedForwardNet(d_model, d_ff)\n",
        "\n",
        "        self.norm_1 = tf.keras.layers.LayerNormalization(epsilon=1e-6)\n",
        "        self.norm_2 = tf.keras.layers.LayerNormalization(epsilon=1e-6)\n",
        "\n",
        "        self.do = tf.keras.layers.Dropout(dropout)\n",
        "        \n",
        "    def call(self, x, mask):\n",
        "        '''\n",
        "        Multi-Head Attention\n",
        "        '''\n",
        "        residual = x\n",
        "        out = self.norm_1(x)\n",
        "        out, enc_attn = self.enc_self_attn(out, out, out, mask)\n",
        "        out = self.do(out)\n",
        "        out += residual\n",
        "        \n",
        "        '''\n",
        "        Position-Wise Feed Forward Network\n",
        "        '''\n",
        "        residual = out\n",
        "        out = self.norm_2(out)\n",
        "        out = self.ffn(out)\n",
        "        out = self.do(out)\n",
        "        out += residual\n",
        "        \n",
        "        return out, enc_attn"
      ],
      "metadata": {
        "id": "-_iO6CUxck3l"
      },
      "execution_count": 24,
      "outputs": []
    },
    {
      "cell_type": "code",
      "source": [
        "# Decoder 레이어 구현\n",
        "class DecoderLayer(tf.keras.layers.Layer):\n",
        "    def __init__(self, d_model, num_heads, d_ff, dropout):\n",
        "        super(DecoderLayer, self).__init__()\n",
        "\n",
        "        self.dec_self_attn = MultiHeadAttention(d_model, num_heads)\n",
        "        self.enc_dec_attn = MultiHeadAttention(d_model, num_heads)\n",
        "\n",
        "        self.ffn = PoswiseFeedForwardNet(d_model, d_ff)\n",
        "\n",
        "        self.norm_1 = tf.keras.layers.LayerNormalization(epsilon=1e-6)\n",
        "        self.norm_2 = tf.keras.layers.LayerNormalization(epsilon=1e-6)\n",
        "        self.norm_3 = tf.keras.layers.LayerNormalization(epsilon=1e-6)\n",
        "\n",
        "        self.do = tf.keras.layers.Dropout(dropout)\n",
        "    \n",
        "    def call(self, x, enc_out, dec_enc_mask, padding_mask):\n",
        "\n",
        "        '''\n",
        "        Masked Multi-Head Attention\n",
        "        '''\n",
        "        residual = x\n",
        "        out = self.norm_1(x)\n",
        "        out, dec_attn = self.dec_self_attn(out, out, out, padding_mask)\n",
        "        out = self.do(out)\n",
        "        out += residual\n",
        "\n",
        "        '''\n",
        "        Multi-Head Attention\n",
        "        '''\n",
        "        residual = out\n",
        "        out = self.norm_2(out)\n",
        "        # Q, K, V 순서에 주의하세요!\n",
        "        out, dec_enc_attn = self.enc_dec_attn(Q=out, K=enc_out, V=enc_out, mask=dec_enc_mask)\n",
        "        out = self.do(out)\n",
        "        out += residual\n",
        "        \n",
        "        '''\n",
        "        Position-Wise Feed Forward Network\n",
        "        '''\n",
        "        residual = out\n",
        "        out = self.norm_3(out)\n",
        "        out = self.ffn(out)\n",
        "        out = self.do(out)\n",
        "        out += residual\n",
        "\n",
        "        return out, dec_attn, dec_enc_attn"
      ],
      "metadata": {
        "id": "LDhUzeSUcmXN"
      },
      "execution_count": 25,
      "outputs": []
    },
    {
      "cell_type": "code",
      "source": [
        "# Encoder 구현\n",
        "class Encoder(tf.keras.Model):\n",
        "    def __init__(self,\n",
        "                    n_layers,\n",
        "                    d_model,\n",
        "                    n_heads,\n",
        "                    d_ff,\n",
        "                    dropout):\n",
        "        super(Encoder, self).__init__()\n",
        "        self.n_layers = n_layers\n",
        "        self.enc_layers = [EncoderLayer(d_model, n_heads, d_ff, dropout) \n",
        "                        for _ in range(n_layers)]\n",
        "    \n",
        "        self.do = tf.keras.layers.Dropout(dropout)\n",
        "        \n",
        "    def call(self, x, mask):\n",
        "        out = x\n",
        "    \n",
        "        enc_attns = list()\n",
        "        for i in range(self.n_layers):\n",
        "            out, enc_attn = self.enc_layers[i](out, mask)\n",
        "            enc_attns.append(enc_attn)\n",
        "\n",
        "            \n",
        "        return out, enc_attns"
      ],
      "metadata": {
        "id": "3KiLQQjycn4P"
      },
      "execution_count": 26,
      "outputs": []
    },
    {
      "cell_type": "code",
      "source": [
        "# Decoder 구현\n",
        "class Decoder(tf.keras.Model):\n",
        "    def __init__(self,\n",
        "                    n_layers,\n",
        "                    d_model,\n",
        "                    n_heads,\n",
        "                    d_ff,\n",
        "                    dropout):\n",
        "        super(Decoder, self).__init__()\n",
        "        self.n_layers = n_layers\n",
        "        self.dec_layers = [DecoderLayer(d_model, n_heads, d_ff, dropout) \n",
        "                            for _ in range(n_layers)]\n",
        "                            \n",
        "                            \n",
        "    def call(self, x, enc_out, dec_enc_mask, padding_mask):\n",
        "        out = x\n",
        "    \n",
        "        dec_attns = list()\n",
        "        dec_enc_attns = list()\n",
        "        for i in range(self.n_layers):\n",
        "            out, dec_attn, dec_enc_attn = \\\n",
        "            self.dec_layers[i](out, enc_out, dec_enc_mask, padding_mask)\n",
        "\n",
        "            dec_attns.append(dec_attn)\n",
        "            dec_enc_attns.append(dec_enc_attn)\n",
        "\n",
        "            \n",
        "        return out, dec_attns, dec_enc_attns"
      ],
      "metadata": {
        "id": "WGkpPyzHcq7I"
      },
      "execution_count": 27,
      "outputs": []
    },
    {
      "cell_type": "code",
      "source": [
        "class Transformer(tf.keras.Model):\n",
        "    def __init__(self,\n",
        "                    n_layers,\n",
        "                    d_model,\n",
        "                    n_heads,\n",
        "                    d_ff,\n",
        "                    src_vocab_size,\n",
        "                    tgt_vocab_size,\n",
        "                    pos_len,\n",
        "                    dropout=0.2,\n",
        "                    shared_fc=True,\n",
        "                    shared_emb=False):\n",
        "        super(Transformer, self).__init__()\n",
        "        \n",
        "        self.d_model = tf.cast(d_model, tf.float32)\n",
        "\n",
        "        if shared_emb:\n",
        "            self.enc_emb = self.dec_emb = \\\n",
        "            tf.keras.layers.Embedding(src_vocab_size, d_model)\n",
        "        else:\n",
        "            self.enc_emb = tf.keras.layers.Embedding(src_vocab_size, d_model)\n",
        "            self.dec_emb = tf.keras.layers.Embedding(tgt_vocab_size, d_model)\n",
        "\n",
        "        self.pos_encoding = positional_encoding(pos_len, d_model)\n",
        "        self.do = tf.keras.layers.Dropout(dropout)\n",
        "\n",
        "        self.encoder = Encoder(n_layers, d_model, n_heads, d_ff, dropout)\n",
        "        self.decoder = Decoder(n_layers, d_model, n_heads, d_ff, dropout)\n",
        "\n",
        "        self.fc = tf.keras.layers.Dense(tgt_vocab_size)\n",
        "\n",
        "        self.shared_fc = shared_fc\n",
        "\n",
        "        if shared_fc:\n",
        "            self.fc.set_weights(tf.transpose(self.dec_emb.weights))\n",
        "\n",
        "    def embedding(self, emb, x):\n",
        "        seq_len = x.shape[1]\n",
        "\n",
        "        out = emb(x)\n",
        "\n",
        "        if self.shared_fc: out *= tf.math.sqrt(self.d_model)\n",
        "\n",
        "        out += self.pos_encoding[np.newaxis, ...][:, :seq_len, :]\n",
        "        out = self.do(out)\n",
        "\n",
        "        \n",
        "        return out\n",
        "\n",
        "    def call(self, enc_in, dec_in, enc_mask, dec_enc_mask, dec_mask):\n",
        "        enc_in = self.embedding(self.enc_emb, enc_in)\n",
        "        dec_in = self.embedding(self.dec_emb, dec_in)\n",
        "\n",
        "        enc_out, enc_attns = self.encoder(enc_in, enc_mask)\n",
        "        \n",
        "        dec_out, dec_attns, dec_enc_attns = \\\n",
        "        self.decoder(dec_in, enc_out, dec_enc_mask, dec_mask)\n",
        "        \n",
        "        logits = self.fc(dec_out)\n",
        "        \n",
        "        \n",
        "        return logits, enc_attns, dec_attns, dec_enc_attns"
      ],
      "metadata": {
        "id": "M1i1_Z80cswz"
      },
      "execution_count": 28,
      "outputs": []
    },
    {
      "cell_type": "code",
      "source": [
        "transformer = Transformer(\n",
        "    n_layers=1,\n",
        "    d_model=128,\n",
        "    n_heads=16,\n",
        "    d_ff=2048,\n",
        "    src_vocab_size=20000,\n",
        "    tgt_vocab_size=20000,\n",
        "    pos_len=200,\n",
        "    dropout=0.3,\n",
        "    shared_fc=True,\n",
        "    shared_emb=True)\n",
        "\n",
        "d_model = 256"
      ],
      "metadata": {
        "id": "H-RlmbuIcvTN"
      },
      "execution_count": 118,
      "outputs": []
    },
    {
      "cell_type": "code",
      "source": [
        "# Learning Rate Scheduler 구현\n",
        "class LearningRateScheduler(tf.keras.optimizers.schedules.LearningRateSchedule):\n",
        "    def __init__(self, d_model, warmup_steps=1000):\n",
        "        super(LearningRateScheduler, self).__init__()\n",
        "        \n",
        "        self.d_model = d_model\n",
        "        self.warmup_steps = warmup_steps\n",
        "    \n",
        "    def __call__(self, step):\n",
        "        arg1 = step ** -0.5\n",
        "        arg2 = step * (self.warmup_steps ** -1.5)\n",
        "        \n",
        "        return (self.d_model ** -0.5) * tf.math.minimum(arg1, arg2)"
      ],
      "metadata": {
        "id": "Fla5Y7TydqiY"
      },
      "execution_count": 119,
      "outputs": []
    },
    {
      "cell_type": "code",
      "source": [
        "learning_rate = LearningRateScheduler(d_model)\n",
        "\n",
        "optimizer = tf.keras.optimizers.Adam(learning_rate,\n",
        "                                        beta_1=0.9,\n",
        "                                        beta_2=0.98, \n",
        "                                        epsilon=1e-9)\n",
        "                                        "
      ],
      "metadata": {
        "id": "1uF5W8wWdspY"
      },
      "execution_count": 120,
      "outputs": []
    },
    {
      "cell_type": "code",
      "source": [
        "# Loss Function 정의\n",
        "loss_object = tf.keras.losses.SparseCategoricalCrossentropy(\n",
        "    from_logits=True, reduction='none')\n",
        "\n",
        "def loss_function(real, pred):\n",
        "    mask = tf.math.logical_not(tf.math.equal(real, 0))\n",
        "    loss_ = loss_object(real, pred)\n",
        "\n",
        "    mask = tf.cast(mask, dtype=loss_.dtype)\n",
        "    loss_ *= mask\n",
        "    \n",
        "    return tf.reduce_sum(loss_)/tf.reduce_sum(mask)"
      ],
      "metadata": {
        "id": "NQD3DyD2duhJ"
      },
      "execution_count": 121,
      "outputs": []
    },
    {
      "cell_type": "code",
      "source": [
        "# Train Step 정의\n",
        "@tf.function()\n",
        "def train_step(src, tgt, model, optimizer):\n",
        "    tgt_in = tgt[:, :-1]  # Decoder의 input\n",
        "    gold = tgt[:, 1:]     # Decoder의 output과 비교하기 위해 right shift를 통해 생성한 최종 타겟\n",
        "\n",
        "    enc_mask, dec_enc_mask, dec_mask = generate_masks(src, tgt_in)\n",
        "\n",
        "    with tf.GradientTape() as tape:\n",
        "        predictions, enc_attns, dec_attns, dec_enc_attns = \\\n",
        "        model(src, tgt_in, enc_mask, dec_enc_mask, dec_mask)\n",
        "        loss = loss_function(gold, predictions)\n",
        "\n",
        "    gradients = tape.gradient(loss, model.trainable_variables)    \n",
        "    optimizer.apply_gradients(zip(gradients, model.trainable_variables))   \n",
        "\n",
        "    return loss, enc_attns, dec_attns, dec_enc_attns"
      ],
      "metadata": {
        "id": "g7yWt8zgdv-S"
      },
      "execution_count": 122,
      "outputs": []
    },
    {
      "cell_type": "code",
      "source": [
        "# 훈련시키기\n",
        "BATCH_SIZE = 64\n",
        "EPOCHS = 5\n",
        "\n",
        "for epoch in range(EPOCHS):\n",
        "    total_loss = 0\n",
        "    \n",
        "    idx_list = list(range(0, enc_train.shape[0], BATCH_SIZE))\n",
        "    np.random.shuffle(idx_list)\n",
        "    t = tqdm(idx_list)\n",
        "\n",
        "    for (batch, idx) in enumerate(t):\n",
        "        batch_loss, enc_attns, dec_attns, dec_enc_attns = \\\n",
        "        train_step(enc_train[idx:idx+BATCH_SIZE],\n",
        "                   dec_train[idx:idx+BATCH_SIZE],\n",
        "                   transformer,\n",
        "                   optimizer)\n",
        "        total_loss += batch_loss\n",
        "        \n",
        "        t.set_description_str('Epoch %2d' % (epoch + 1))\n",
        "        t.set_postfix_str('Loss %.4f' % (total_loss.numpy() / (batch + 1)))"
      ],
      "metadata": {
        "colab": {
          "base_uri": "https://localhost:8080/"
        },
        "id": "XIvgU6N6dxt3",
        "outputId": "855f3925-4454-4997-b875-3da54e1c234f"
      },
      "execution_count": 124,
      "outputs": [
        {
          "output_type": "stream",
          "name": "stderr",
          "text": [
            "Epoch  1: 100%|██████████| 543/543 [00:45<00:00, 11.97it/s, Loss 4.0246]\n",
            "Epoch  2: 100%|██████████| 543/543 [00:44<00:00, 12.22it/s, Loss 2.5470]\n",
            "Epoch  3: 100%|██████████| 543/543 [00:44<00:00, 12.29it/s, Loss 1.6883]\n",
            "Epoch  4: 100%|██████████| 543/543 [00:44<00:00, 12.30it/s, Loss 1.1479]\n",
            "Epoch  5: 100%|██████████| 543/543 [00:44<00:00, 12.30it/s, Loss 0.8343]\n"
          ]
        }
      ]
    },
    {
      "cell_type": "code",
      "source": [
        "def get_decoded_sentence(sentence):\n",
        "            return ' '.join([tokenizer.index_word[index] for index in sentence])\n",
        "\n",
        "def evaluate(sentence, model):\n",
        "\n",
        "    mecab = Mecab()\n",
        "\n",
        "    sentence = preprocess_sentence(sentence)\n",
        "    pieces = mecab.morphs(sentence)\n",
        "    tokens = tokenizer.texts_to_sequences(pieces)\n",
        "    _input = pad_sequences(tokens, maxlen=enc_train.shape[-1], padding='post')\n",
        "    \n",
        "    ids = [] \n",
        "    output = tf.expand_dims([3], 0) \n",
        "    \n",
        "    for i in range(dec_train.shape[-1]):\n",
        "        enc_padding_mask, combined_mask, dec_padding_mask = generate_masks(_input, output)\n",
        "\n",
        "        predictions, enc_attns, dec_attns, dec_enc_attns = \\\n",
        "        model(_input, output, enc_padding_mask, combined_mask, dec_padding_mask)\n",
        "\n",
        "        predicted_id = tf.argmax(tf.math.softmax(predictions, axis=-1)[0, -1]).numpy().item()\n",
        "                \n",
        "        if 4 == predicted_id:\n",
        "            result = get_decoded_sentence(ids)           \n",
        "            return pieces, result, enc_attns, dec_attns, dec_enc_attns\n",
        "        \n",
        "        ids.append(predicted_id)\n",
        "        output = tf.concat([output, tf.expand_dims([predicted_id], 0)], axis=-1)\n",
        "\n",
        "    result = get_decoded_sentence(ids)\n",
        "    return pieces, result, enc_attns, dec_attns, dec_enc_attns\n",
        "\n",
        "def generate(sentence, model):\n",
        "    pieces, result, enc_attns, dec_attns, dec_enc_attns = evaluate(sentence, model)\n",
        "    \n",
        "    print('\\nInput: %s' % (sentence))\n",
        "    print('Answer: {}'.format(result))\n",
        "\n",
        "    return result"
      ],
      "metadata": {
        "id": "F79gThLmnf50"
      },
      "execution_count": 47,
      "outputs": []
    },
    {
      "cell_type": "code",
      "source": [
        "generate('지루하다, 놀러가고 싶어.', transformer)\n",
        "generate('오늘 일찍 일어났더니 피곤하다.', transformer)\n",
        "generate('간만에 여자친구랑 데이트 하기로 했어.', transformer)\n",
        "generate('집에 있는다는 소리야.', transformer)"
      ],
      "metadata": {
        "colab": {
          "base_uri": "https://localhost:8080/",
          "height": 256
        },
        "id": "V-U4IwX9noAx",
        "outputId": "087c1dea-53c2-4aee-e42e-4f3e5d3e150f"
      },
      "execution_count": 125,
      "outputs": [
        {
          "output_type": "stream",
          "name": "stdout",
          "text": [
            "\n",
            "Input: 지루하다, 놀러가고 싶어.\n",
            "Predicted translation: 잠 시   이   라 도   마 음   이   라 가   는   건   어 떨 까   요   .  \n",
            "\n",
            "Input: 오늘 일찍 일어났더니 피곤하다.\n",
            "Predicted translation: 오늘 밖 에 감사 잘 생겼 을 가져 보 세요 .\n",
            "\n",
            "Input: 간만에 여자친구랑 데이트 하기로 했어.\n",
            "Predicted translation: 떨리 죠 .\n",
            "\n",
            "Input: 집에 있는다는 소리야.\n",
            "Predicted translation: 맘 결정 이 있 었 결정 되 었 나 봐요 .\n"
          ]
        },
        {
          "output_type": "execute_result",
          "data": {
            "text/plain": [
              "'맘 결정 이 있 었 결정 되 었 나 봐요 .'"
            ],
            "application/vnd.google.colaboratory.intrinsic+json": {
              "type": "string"
            }
          },
          "metadata": {},
          "execution_count": 125
        }
      ]
    },
    {
      "cell_type": "code",
      "source": [
        "transformer = Transformer(\n",
        "    n_layers=1,\n",
        "    d_model=256,\n",
        "    n_heads=8,\n",
        "    d_ff=1024,\n",
        "    src_vocab_size=20000,\n",
        "    tgt_vocab_size=20000,\n",
        "    pos_len=200,\n",
        "    dropout=0.3,\n",
        "    shared_fc=True,\n",
        "    shared_emb=True)\n",
        "\n",
        "d_model = 256"
      ],
      "metadata": {
        "id": "OsNkjb66GxvW"
      },
      "execution_count": null,
      "outputs": []
    },
    {
      "cell_type": "markdown",
      "source": [
        "![image.png](data:image/png;base64,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)"
      ],
      "metadata": {
        "id": "UnwHvJKJGypf"
      }
    },
    {
      "cell_type": "code",
      "source": [
        "transformer = Transformer(\n",
        "    n_layers=1,\n",
        "    d_model=256,\n",
        "    n_heads=16,\n",
        "    d_ff=1024,\n",
        "    src_vocab_size=20000,\n",
        "    tgt_vocab_size=20000,\n",
        "    pos_len=200,\n",
        "    dropout=0.2,\n",
        "    shared_fc=True,\n",
        "    shared_emb=True)\n",
        "\n",
        "d_model = 256"
      ],
      "metadata": {
        "id": "3_fNWqDJG1XV"
      },
      "execution_count": null,
      "outputs": []
    },
    {
      "cell_type": "markdown",
      "source": [
        "![image.png](data:image/png;base64,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)"
      ],
      "metadata": {
        "id": "qj0hqmqSG4sc"
      }
    },
    {
      "cell_type": "code",
      "source": [
        "transformer = Transformer(\n",
        "    n_layers=1,\n",
        "    d_model=128,\n",
        "    n_heads=8,\n",
        "    d_ff=1024,\n",
        "    src_vocab_size=20000,\n",
        "    tgt_vocab_size=20000,\n",
        "    pos_len=200,\n",
        "    dropout=0.3,\n",
        "    shared_fc=True,\n",
        "    shared_emb=True)\n",
        "\n",
        "d_model = 256"
      ],
      "metadata": {
        "id": "GbsXxahKG9wG"
      },
      "execution_count": null,
      "outputs": []
    },
    {
      "cell_type": "markdown",
      "source": [
        "![image.png](data:image/png;base64,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)"
      ],
      "metadata": {
        "id": "2KIw9osTG9Wi"
      }
    },
    {
      "cell_type": "code",
      "source": [
        "transformer = Transformer(\n",
        "    n_layers=1,\n",
        "    d_model=512,\n",
        "    n_heads=4,\n",
        "    d_ff=1024,\n",
        "    src_vocab_size=20000,\n",
        "    tgt_vocab_size=20000,\n",
        "    pos_len=200,\n",
        "    dropout=0.3,\n",
        "    shared_fc=True,\n",
        "    shared_emb=True)\n",
        "\n",
        "d_model = 512"
      ],
      "metadata": {
        "id": "D45uFeP2HE7H"
      },
      "execution_count": null,
      "outputs": []
    },
    {
      "cell_type": "markdown",
      "source": [
        "![image.png](data:image/png;base64,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)"
      ],
      "metadata": {
        "id": "E8aDnBysHGR1"
      }
    },
    {
      "cell_type": "code",
      "source": [
        "transformer = Transformer(\n",
        "    n_layers=1,\n",
        "    d_model=128,\n",
        "    n_heads=16,\n",
        "    d_ff=2048,\n",
        "    src_vocab_size=20000,\n",
        "    tgt_vocab_size=20000,\n",
        "    pos_len=200,\n",
        "    dropout=0.3,\n",
        "    shared_fc=True,\n",
        "    shared_emb=True)\n",
        "\n",
        "d_model = 256"
      ],
      "metadata": {
        "id": "hnnQTN8bKhYb"
      },
      "execution_count": null,
      "outputs": []
    },
    {
      "cell_type": "markdown",
      "source": [
        "![image.png](data:image/png;base64,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)"
      ],
      "metadata": {
        "id": "jaUhqRabHKQv"
      }
    },
    {
      "cell_type": "markdown",
      "source": [
        "마지막을 제외하고는 전부 10에폭 학습시켰고 마지막은 5에폭 학습시켰다.  \n",
        "마지막의 예제 결과가 마음에 들어서 마지막 걸로 챗봇을 테스트 해보려고 한다."
      ],
      "metadata": {
        "id": "ylaladv9OaxF"
      }
    },
    {
      "cell_type": "markdown",
      "source": [
        "## 4. BLEU 측정"
      ],
      "metadata": {
        "id": "Irk0-iADPGsG"
      }
    },
    {
      "cell_type": "code",
      "source": [
        "reference = '밥 뭐먹을까?'\n",
        "candidate = generate(reference, transformer)"
      ],
      "metadata": {
        "colab": {
          "base_uri": "https://localhost:8080/"
        },
        "id": "qa5QTjCQKW06",
        "outputId": "96a2f31b-53ef-47bc-977e-774ded8b8777"
      },
      "execution_count": 128,
      "outputs": [
        {
          "output_type": "stream",
          "name": "stdout",
          "text": [
            "\n",
            "Input: 밥 뭐먹을까?\n",
            "Predicted translation: 밥 은 비싸 겠 어요 .\n"
          ]
        }
      ]
    },
    {
      "cell_type": "code",
      "source": [
        "print(\"원문:\", reference)\n",
        "print(\"번역문:\", candidate)\n",
        "print(\"BLEU Score:\", sentence_bleu([reference], candidate))"
      ],
      "metadata": {
        "colab": {
          "base_uri": "https://localhost:8080/"
        },
        "id": "ZtFssnMaQ9S6",
        "outputId": "13b673e5-5e13-49f2-9caa-50351e67d634"
      },
      "execution_count": 129,
      "outputs": [
        {
          "output_type": "stream",
          "name": "stdout",
          "text": [
            "원문: 밥 뭐먹을까?\n",
            "번역문: 밥 은 비싸 겠 어요 .\n",
            "BLEU Score: 5.019362538473707e-155\n"
          ]
        },
        {
          "output_type": "stream",
          "name": "stderr",
          "text": [
            "/usr/local/lib/python3.7/dist-packages/nltk/translate/bleu_score.py:552: UserWarning: \n",
            "The hypothesis contains 0 counts of 3-gram overlaps.\n",
            "Therefore the BLEU score evaluates to 0, independently of\n",
            "how many N-gram overlaps of lower order it contains.\n",
            "Consider using lower n-gram order or use SmoothingFunction()\n",
            "  warnings.warn(_msg)\n",
            "/usr/local/lib/python3.7/dist-packages/nltk/translate/bleu_score.py:552: UserWarning: \n",
            "The hypothesis contains 0 counts of 4-gram overlaps.\n",
            "Therefore the BLEU score evaluates to 0, independently of\n",
            "how many N-gram overlaps of lower order it contains.\n",
            "Consider using lower n-gram order or use SmoothingFunction()\n",
            "  warnings.warn(_msg)\n"
          ]
        }
      ]
    },
    {
      "cell_type": "code",
      "source": [
        "def calculate_bleu(reference, candidate, weights=[0.25, 0.25, 0.25, 0.25]):\n",
        "    return sentence_bleu([reference],\n",
        "                         candidate,\n",
        "                         weights=weights,\n",
        "                         smoothing_function=SmoothingFunction().method1)  # smoothing_function 적용\n",
        "\n",
        "print(\"BLEU-1:\", calculate_bleu(reference, candidate, weights=[1, 0, 0, 0]))\n",
        "print(\"BLEU-2:\", calculate_bleu(reference, candidate, weights=[0, 1, 0, 0]))\n",
        "print(\"BLEU-3:\", calculate_bleu(reference, candidate, weights=[0, 0, 1, 0]))\n",
        "print(\"BLEU-4:\", calculate_bleu(reference, candidate, weights=[0, 0, 0, 1]))\n",
        "\n",
        "print(\"\\nBLEU-Total:\", calculate_bleu(reference, candidate))"
      ],
      "metadata": {
        "colab": {
          "base_uri": "https://localhost:8080/"
        },
        "id": "fqObUGjORB2A",
        "outputId": "c813cf13-ad5b-4618-f7d1-06e0dd7c2d5c"
      },
      "execution_count": 130,
      "outputs": [
        {
          "output_type": "stream",
          "name": "stdout",
          "text": [
            "BLEU-1: 0.15384615384615385\n",
            "BLEU-2: 0.08333333333333333\n",
            "BLEU-3: 0.009090909090909096\n",
            "BLEU-4: 0.010000000000000004\n",
            "\n",
            "BLEU-Total: 0.03285702044797773\n"
          ]
        }
      ]
    },
    {
      "cell_type": "code",
      "source": [
        "reference = '이제 뭐하지?'\n",
        "candidate = generate(reference, transformer)"
      ],
      "metadata": {
        "colab": {
          "base_uri": "https://localhost:8080/"
        },
        "id": "sm7vKGVIOU76",
        "outputId": "edc6f3b9-f87a-4bd0-b9ec-6dd3fc397d80"
      },
      "execution_count": 131,
      "outputs": [
        {
          "output_type": "stream",
          "name": "stdout",
          "text": [
            "\n",
            "Input: 이제 뭐하지?\n",
            "Predicted translation: 이젠 잊어버리 세요 .\n"
          ]
        }
      ]
    },
    {
      "cell_type": "code",
      "source": [
        "print(\"BLEU-1:\", calculate_bleu(reference, candidate, weights=[1, 0, 0, 0]))\n",
        "print(\"BLEU-2:\", calculate_bleu(reference, candidate, weights=[0, 1, 0, 0]))\n",
        "print(\"BLEU-3:\", calculate_bleu(reference, candidate, weights=[0, 0, 1, 0]))\n",
        "print(\"BLEU-4:\", calculate_bleu(reference, candidate, weights=[0, 0, 0, 1]))\n",
        "\n",
        "print(\"\\nBLEU-Total:\", calculate_bleu(reference, candidate))"
      ],
      "metadata": {
        "colab": {
          "base_uri": "https://localhost:8080/"
        },
        "id": "Boc37wfUPJ83",
        "outputId": "3360dd25-cc1a-44b6-e362-c8561491392a"
      },
      "execution_count": 132,
      "outputs": [
        {
          "output_type": "stream",
          "name": "stdout",
          "text": [
            "BLEU-1: 0.16666666666666669\n",
            "BLEU-2: 0.009090909090909096\n",
            "BLEU-3: 0.010000000000000004\n",
            "BLEU-4: 0.011111111111111112\n",
            "\n",
            "BLEU-Total: 0.020255986027125642\n"
          ]
        }
      ]
    },
    {
      "cell_type": "markdown",
      "source": [
        "꽤나 말이 되는 답변이라고 생각되는데 BLEU점수는 0.02~0.03이 나온다."
      ],
      "metadata": {
        "id": "cf2QHhmURcWy"
      }
    },
    {
      "cell_type": "markdown",
      "source": [
        "## 5. 회고\n",
        "1. 어려웠지만 그래도 실습했던거 열심히 따라하다 보니 끝까지 할 수 있었다. \n",
        "2. VOCAB_SIZE를 딱 토크나이저에 맞게 하니까 loss가 Nan이 되면서 계속 학습이 안되더라.. 이유는 모르겠지만 예전에 한대로 2만으로 늘렸더니 정상적으로 학습되는 모습을 볼 수 있었다. \n",
        "3. BLEU점수는 일단 번역기에 대한 성능이고 이건 챗봇이니까 그래도 사람이 이해할만한 답변만 뱉어냈다면 괜찮은 성능인 것이 아닐까 하는 생각이 들었다. "
      ],
      "metadata": {
        "id": "lQImUj-XVATv"
      }
    }
  ]
}