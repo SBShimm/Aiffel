{
  "nbformat": 4,
  "nbformat_minor": 0,
  "metadata": {
    "colab": {
      "provenance": [],
      "machine_shape": "hm",
      "mount_file_id": "1ERAgU470nQB_Xavb9l_kfcOs4hjHIIdH",
      "authorship_tag": "ABX9TyPW0qtNBhu0GKfYnLX9qyWa",
      "include_colab_link": true
    },
    "kernelspec": {
      "name": "python3",
      "display_name": "Python 3"
    },
    "language_info": {
      "name": "python"
    },
    "accelerator": "GPU"
  },
  "cells": [
    {
      "cell_type": "markdown",
      "metadata": {
        "id": "view-in-github",
        "colab_type": "text"
      },
      "source": [
        "<a href=\"https://colab.research.google.com/github/SBShimm/Aiffel/blob/master/GoingDeeper/GoingDeeper_NLP2_SB.ipynb\" target=\"_parent\"><img src=\"https://colab.research.google.com/assets/colab-badge.svg\" alt=\"Open In Colab\"/></a>"
      ]
    },
    {
      "cell_type": "markdown",
      "source": [
        "# 프로젝트: SentencePiece 사용하기"
      ],
      "metadata": {
        "id": "e44dPgyw3PHF"
      }
    },
    {
      "cell_type": "markdown",
      "source": [
        "## 1. 필요 모듈 설치"
      ],
      "metadata": {
        "id": "44HeZ-H63TLM"
      }
    },
    {
      "cell_type": "code",
      "execution_count": 1,
      "metadata": {
        "colab": {
          "base_uri": "https://localhost:8080/"
        },
        "id": "e0RC4AbM5QtR",
        "outputId": "9b5517ef-e95d-4be8-fdd8-c3103a9ae1e5"
      },
      "outputs": [
        {
          "output_type": "stream",
          "name": "stdout",
          "text": [
            "Reading package lists... Done\n",
            "Building dependency tree       \n",
            "Reading state information... Done\n",
            "curl is already the newest version (7.58.0-2ubuntu3.20).\n",
            "g++ is already the newest version (4:7.4.0-1ubuntu2.3).\n",
            "python3-dev is already the newest version (3.6.7-1~18.04).\n",
            "openjdk-8-jdk is already the newest version (8u342-b07-0ubuntu1~18.04).\n",
            "python3-pip is already the newest version (9.0.1-2.3~ubuntu1.18.04.5).\n",
            "The following package was automatically installed and is no longer required:\n",
            "  libnvidia-common-460\n",
            "Use 'sudo apt autoremove' to remove it.\n",
            "0 upgraded, 0 newly installed, 0 to remove and 26 not upgraded.\n",
            "Looking in indexes: https://pypi.org/simple, https://us-python.pkg.dev/colab-wheels/public/simple/\n",
            "Requirement already satisfied: pip in /usr/local/lib/python3.7/dist-packages (22.2.2)\n",
            "\u001b[33mWARNING: Running pip as the 'root' user can result in broken permissions and conflicting behaviour with the system package manager. It is recommended to use a virtual environment instead: https://pip.pypa.io/warnings/venv\u001b[0m\u001b[33m\n",
            "\u001b[0mLooking in indexes: https://pypi.org/simple, https://us-python.pkg.dev/colab-wheels/public/simple/\n",
            "Requirement already satisfied: konlpy in /usr/local/lib/python3.7/dist-packages (0.6.0)\n",
            "Requirement already satisfied: JPype1>=0.7.0 in /usr/local/lib/python3.7/dist-packages (from konlpy) (1.4.0)\n",
            "Requirement already satisfied: lxml>=4.1.0 in /usr/local/lib/python3.7/dist-packages (from konlpy) (4.9.1)\n",
            "Requirement already satisfied: numpy>=1.6 in /usr/local/lib/python3.7/dist-packages (from konlpy) (1.21.6)\n",
            "Requirement already satisfied: typing-extensions in /usr/local/lib/python3.7/dist-packages (from JPype1>=0.7.0->konlpy) (4.1.1)\n",
            "\u001b[33mWARNING: Running pip as the 'root' user can result in broken permissions and conflicting behaviour with the system package manager. It is recommended to use a virtual environment instead: https://pip.pypa.io/warnings/venv\u001b[0m\u001b[33m\n",
            "Reading package lists... Done\n",
            "Building dependency tree       \n",
            "Reading state information... Done\n",
            "curl is already the newest version (7.58.0-2ubuntu3.20).\n",
            "git is already the newest version (1:2.17.1-1ubuntu0.12).\n",
            "The following package was automatically installed and is no longer required:\n",
            "  libnvidia-common-460\n",
            "Use 'sudo apt autoremove' to remove it.\n",
            "0 upgraded, 0 newly installed, 0 to remove and 26 not upgraded.\n",
            "mecab-ko is already installed\n",
            "mecab-ko-dic is already installed\n",
            "mecab-python is already installed\n",
            "Done.\n"
          ]
        }
      ],
      "source": [
        " ! sudo apt-get install g++ openjdk-8-jdk python3-dev python3-pip curl\n",
        " ! python3 -m pip install --upgrade pip\n",
        " ! python3 -m pip install konlpy\n",
        " ! sudo apt-get install curl git\n",
        " ! bash <(curl -s https://raw.githubusercontent.com/konlpy/konlpy/master/scripts/mecab.sh)"
      ]
    },
    {
      "cell_type": "code",
      "source": [
        "from konlpy.tag import Mecab\n",
        "\n",
        "mecab = Mecab()\n",
        "print(mecab.morphs('자연어처리가너무재밌어서밥먹는것도가끔까먹어요'))"
      ],
      "metadata": {
        "colab": {
          "base_uri": "https://localhost:8080/"
        },
        "id": "R19-xwkI7HWk",
        "outputId": "d5249f7b-f543-4d71-f949-c475901c9500"
      },
      "execution_count": 2,
      "outputs": [
        {
          "output_type": "stream",
          "name": "stdout",
          "text": [
            "['자연어', '처리', '가', '너무', '재밌', '어서', '밥', '먹', '는', '것', '도', '가끔', '까먹', '어요']\n"
          ]
        }
      ]
    },
    {
      "cell_type": "code",
      "source": [
        "import tensorflow as tf\n",
        "import numpy as np\n",
        "import matplotlib.pyplot as plt\n",
        "import konlpy\n",
        "\n",
        "print(tf.__version__)\n",
        "print(np.__version__)\n",
        "print(konlpy.__version__)"
      ],
      "metadata": {
        "colab": {
          "base_uri": "https://localhost:8080/"
        },
        "id": "ng4jU1897HQ7",
        "outputId": "12c8dcec-811f-4e9b-fa67-f925d6317428"
      },
      "execution_count": 3,
      "outputs": [
        {
          "output_type": "stream",
          "name": "stdout",
          "text": [
            "2.8.2\n",
            "1.21.6\n",
            "0.6.0\n"
          ]
        }
      ]
    },
    {
      "cell_type": "code",
      "source": [
        "! pip install sentencepiece=='0.1.96'"
      ],
      "metadata": {
        "colab": {
          "base_uri": "https://localhost:8080/"
        },
        "id": "19tHB93HDlUs",
        "outputId": "90a55b92-b2dd-467c-9e33-ffb3c3bf171e"
      },
      "execution_count": 4,
      "outputs": [
        {
          "output_type": "stream",
          "name": "stdout",
          "text": [
            "Looking in indexes: https://pypi.org/simple, https://us-python.pkg.dev/colab-wheels/public/simple/\n",
            "Requirement already satisfied: sentencepiece==0.1.96 in /usr/local/lib/python3.7/dist-packages (0.1.96)\n",
            "\u001b[33mWARNING: Running pip as the 'root' user can result in broken permissions and conflicting behaviour with the system package manager. It is recommended to use a virtual environment instead: https://pip.pypa.io/warnings/venv\u001b[0m\u001b[33m\n",
            "\u001b[0m"
          ]
        }
      ]
    },
    {
      "cell_type": "code",
      "source": [
        "! pip list | grep sentencepiece"
      ],
      "metadata": {
        "colab": {
          "base_uri": "https://localhost:8080/"
        },
        "id": "dmPyjodPYkvs",
        "outputId": "8580fb27-67c2-4174-ddbf-803215dc9215"
      },
      "execution_count": 5,
      "outputs": [
        {
          "output_type": "stream",
          "name": "stdout",
          "text": [
            "sentencepiece                 0.1.96\n"
          ]
        }
      ]
    },
    {
      "cell_type": "markdown",
      "source": [
        "## 2. 데이터 불러오기  \n",
        "이전에 익스노드에서 사용해봤던 네이버 리뷰 데이터를 불러온다."
      ],
      "metadata": {
        "id": "jnXmv0BuWEC2"
      }
    },
    {
      "cell_type": "code",
      "source": [
        "import pandas as pd\n",
        "\n",
        "train_data = pd.read_table('/content/drive/MyDrive/Colab/Datasets/ratings/ratings_train.txt')\n",
        "test_data = pd.read_table('/content/drive/MyDrive/Colab/Datasets/ratings/ratings_test.txt')\n",
        "\n",
        "train_data.head()"
      ],
      "metadata": {
        "colab": {
          "base_uri": "https://localhost:8080/",
          "height": 206
        },
        "id": "e8k7Jcm8b2yC",
        "outputId": "315919e2-bd21-477d-9194-f94a3bf7c48a"
      },
      "execution_count": 6,
      "outputs": [
        {
          "output_type": "execute_result",
          "data": {
            "text/plain": [
              "         id                                           document  label\n",
              "0   9976970                                아 더빙.. 진짜 짜증나네요 목소리      0\n",
              "1   3819312                  흠...포스터보고 초딩영화줄....오버연기조차 가볍지 않구나      1\n",
              "2  10265843                                  너무재밓었다그래서보는것을추천한다      0\n",
              "3   9045019                      교도소 이야기구먼 ..솔직히 재미는 없다..평점 조정      0\n",
              "4   6483659  사이몬페그의 익살스런 연기가 돋보였던 영화!스파이더맨에서 늙어보이기만 했던 커스틴 ...      1"
            ],
            "text/html": [
              "\n",
              "  <div id=\"df-805fdf9e-f6a6-46e6-9281-ca6107913199\">\n",
              "    <div class=\"colab-df-container\">\n",
              "      <div>\n",
              "<style scoped>\n",
              "    .dataframe tbody tr th:only-of-type {\n",
              "        vertical-align: middle;\n",
              "    }\n",
              "\n",
              "    .dataframe tbody tr th {\n",
              "        vertical-align: top;\n",
              "    }\n",
              "\n",
              "    .dataframe thead th {\n",
              "        text-align: right;\n",
              "    }\n",
              "</style>\n",
              "<table border=\"1\" class=\"dataframe\">\n",
              "  <thead>\n",
              "    <tr style=\"text-align: right;\">\n",
              "      <th></th>\n",
              "      <th>id</th>\n",
              "      <th>document</th>\n",
              "      <th>label</th>\n",
              "    </tr>\n",
              "  </thead>\n",
              "  <tbody>\n",
              "    <tr>\n",
              "      <th>0</th>\n",
              "      <td>9976970</td>\n",
              "      <td>아 더빙.. 진짜 짜증나네요 목소리</td>\n",
              "      <td>0</td>\n",
              "    </tr>\n",
              "    <tr>\n",
              "      <th>1</th>\n",
              "      <td>3819312</td>\n",
              "      <td>흠...포스터보고 초딩영화줄....오버연기조차 가볍지 않구나</td>\n",
              "      <td>1</td>\n",
              "    </tr>\n",
              "    <tr>\n",
              "      <th>2</th>\n",
              "      <td>10265843</td>\n",
              "      <td>너무재밓었다그래서보는것을추천한다</td>\n",
              "      <td>0</td>\n",
              "    </tr>\n",
              "    <tr>\n",
              "      <th>3</th>\n",
              "      <td>9045019</td>\n",
              "      <td>교도소 이야기구먼 ..솔직히 재미는 없다..평점 조정</td>\n",
              "      <td>0</td>\n",
              "    </tr>\n",
              "    <tr>\n",
              "      <th>4</th>\n",
              "      <td>6483659</td>\n",
              "      <td>사이몬페그의 익살스런 연기가 돋보였던 영화!스파이더맨에서 늙어보이기만 했던 커스틴 ...</td>\n",
              "      <td>1</td>\n",
              "    </tr>\n",
              "  </tbody>\n",
              "</table>\n",
              "</div>\n",
              "      <button class=\"colab-df-convert\" onclick=\"convertToInteractive('df-805fdf9e-f6a6-46e6-9281-ca6107913199')\"\n",
              "              title=\"Convert this dataframe to an interactive table.\"\n",
              "              style=\"display:none;\">\n",
              "        \n",
              "  <svg xmlns=\"http://www.w3.org/2000/svg\" height=\"24px\"viewBox=\"0 0 24 24\"\n",
              "       width=\"24px\">\n",
              "    <path d=\"M0 0h24v24H0V0z\" fill=\"none\"/>\n",
              "    <path d=\"M18.56 5.44l.94 2.06.94-2.06 2.06-.94-2.06-.94-.94-2.06-.94 2.06-2.06.94zm-11 1L8.5 8.5l.94-2.06 2.06-.94-2.06-.94L8.5 2.5l-.94 2.06-2.06.94zm10 10l.94 2.06.94-2.06 2.06-.94-2.06-.94-.94-2.06-.94 2.06-2.06.94z\"/><path d=\"M17.41 7.96l-1.37-1.37c-.4-.4-.92-.59-1.43-.59-.52 0-1.04.2-1.43.59L10.3 9.45l-7.72 7.72c-.78.78-.78 2.05 0 2.83L4 21.41c.39.39.9.59 1.41.59.51 0 1.02-.2 1.41-.59l7.78-7.78 2.81-2.81c.8-.78.8-2.07 0-2.86zM5.41 20L4 18.59l7.72-7.72 1.47 1.35L5.41 20z\"/>\n",
              "  </svg>\n",
              "      </button>\n",
              "      \n",
              "  <style>\n",
              "    .colab-df-container {\n",
              "      display:flex;\n",
              "      flex-wrap:wrap;\n",
              "      gap: 12px;\n",
              "    }\n",
              "\n",
              "    .colab-df-convert {\n",
              "      background-color: #E8F0FE;\n",
              "      border: none;\n",
              "      border-radius: 50%;\n",
              "      cursor: pointer;\n",
              "      display: none;\n",
              "      fill: #1967D2;\n",
              "      height: 32px;\n",
              "      padding: 0 0 0 0;\n",
              "      width: 32px;\n",
              "    }\n",
              "\n",
              "    .colab-df-convert:hover {\n",
              "      background-color: #E2EBFA;\n",
              "      box-shadow: 0px 1px 2px rgba(60, 64, 67, 0.3), 0px 1px 3px 1px rgba(60, 64, 67, 0.15);\n",
              "      fill: #174EA6;\n",
              "    }\n",
              "\n",
              "    [theme=dark] .colab-df-convert {\n",
              "      background-color: #3B4455;\n",
              "      fill: #D2E3FC;\n",
              "    }\n",
              "\n",
              "    [theme=dark] .colab-df-convert:hover {\n",
              "      background-color: #434B5C;\n",
              "      box-shadow: 0px 1px 3px 1px rgba(0, 0, 0, 0.15);\n",
              "      filter: drop-shadow(0px 1px 2px rgba(0, 0, 0, 0.3));\n",
              "      fill: #FFFFFF;\n",
              "    }\n",
              "  </style>\n",
              "\n",
              "      <script>\n",
              "        const buttonEl =\n",
              "          document.querySelector('#df-805fdf9e-f6a6-46e6-9281-ca6107913199 button.colab-df-convert');\n",
              "        buttonEl.style.display =\n",
              "          google.colab.kernel.accessAllowed ? 'block' : 'none';\n",
              "\n",
              "        async function convertToInteractive(key) {\n",
              "          const element = document.querySelector('#df-805fdf9e-f6a6-46e6-9281-ca6107913199');\n",
              "          const dataTable =\n",
              "            await google.colab.kernel.invokeFunction('convertToInteractive',\n",
              "                                                     [key], {});\n",
              "          if (!dataTable) return;\n",
              "\n",
              "          const docLinkHtml = 'Like what you see? Visit the ' +\n",
              "            '<a target=\"_blank\" href=https://colab.research.google.com/notebooks/data_table.ipynb>data table notebook</a>'\n",
              "            + ' to learn more about interactive tables.';\n",
              "          element.innerHTML = '';\n",
              "          dataTable['output_type'] = 'display_data';\n",
              "          await google.colab.output.renderOutput(dataTable, element);\n",
              "          const docLink = document.createElement('div');\n",
              "          docLink.innerHTML = docLinkHtml;\n",
              "          element.appendChild(docLink);\n",
              "        }\n",
              "      </script>\n",
              "    </div>\n",
              "  </div>\n",
              "  "
            ]
          },
          "metadata": {},
          "execution_count": 6
        }
      ]
    },
    {
      "cell_type": "code",
      "source": [
        "print('데이터 개수 :', len(train_data))"
      ],
      "metadata": {
        "colab": {
          "base_uri": "https://localhost:8080/"
        },
        "id": "JLzQnkEifMQM",
        "outputId": "a0dcdad5-6299-46af-82df-8b44c771744f"
      },
      "execution_count": 7,
      "outputs": [
        {
          "output_type": "stream",
          "name": "stdout",
          "text": [
            "데이터 개수 : 150000\n"
          ]
        }
      ]
    },
    {
      "cell_type": "markdown",
      "source": [
        "15만개의 데이터,,"
      ],
      "metadata": {
        "id": "SOg5tcMY3ggA"
      }
    },
    {
      "cell_type": "markdown",
      "source": [
        "결측치는 제거하자"
      ],
      "metadata": {
        "id": "YE0uaM1F3jx-"
      }
    },
    {
      "cell_type": "code",
      "source": [
        "train_data.isnull().sum()"
      ],
      "metadata": {
        "colab": {
          "base_uri": "https://localhost:8080/"
        },
        "id": "EcwCXRXUfaz2",
        "outputId": "86f77c53-cdc9-4a17-ad4c-693e17f47d3f"
      },
      "execution_count": 8,
      "outputs": [
        {
          "output_type": "execute_result",
          "data": {
            "text/plain": [
              "id          0\n",
              "document    5\n",
              "label       0\n",
              "dtype: int64"
            ]
          },
          "metadata": {},
          "execution_count": 8
        }
      ]
    },
    {
      "cell_type": "code",
      "source": [
        "train_data = train_data.dropna(how='any')\n",
        "test_data = test_data.dropna(how='any')\n",
        "print(train_data.isnull().sum)"
      ],
      "metadata": {
        "colab": {
          "base_uri": "https://localhost:8080/"
        },
        "id": "AsabCX2yfleC",
        "outputId": "084d5b6b-240a-4902-fcb0-d2023edba9f2"
      },
      "execution_count": 9,
      "outputs": [
        {
          "output_type": "stream",
          "name": "stdout",
          "text": [
            "<bound method NDFrame._add_numeric_operations.<locals>.sum of            id  document  label\n",
            "0       False     False  False\n",
            "1       False     False  False\n",
            "2       False     False  False\n",
            "3       False     False  False\n",
            "4       False     False  False\n",
            "...       ...       ...    ...\n",
            "149995  False     False  False\n",
            "149996  False     False  False\n",
            "149997  False     False  False\n",
            "149998  False     False  False\n",
            "149999  False     False  False\n",
            "\n",
            "[149995 rows x 3 columns]>\n"
          ]
        }
      ]
    },
    {
      "cell_type": "markdown",
      "source": [
        "중복도 제거해주자"
      ],
      "metadata": {
        "id": "EA3irPeu3rtK"
      }
    },
    {
      "cell_type": "code",
      "source": [
        "cleaned_corpus = train_data.drop_duplicates(['document'])  \n",
        "test_data = test_data.drop_duplicates(['document'])  "
      ],
      "metadata": {
        "id": "rd37STzSte1v"
      },
      "execution_count": 10,
      "outputs": []
    },
    {
      "cell_type": "code",
      "source": [
        "cleaned_corpus.shape"
      ],
      "metadata": {
        "colab": {
          "base_uri": "https://localhost:8080/"
        },
        "id": "bMywlF-2tl78",
        "outputId": "841df099-ad6c-405c-f7f5-ddafe21ed286"
      },
      "execution_count": 11,
      "outputs": [
        {
          "output_type": "execute_result",
          "data": {
            "text/plain": [
              "(146182, 3)"
            ]
          },
          "metadata": {},
          "execution_count": 11
        }
      ]
    },
    {
      "cell_type": "markdown",
      "source": [
        "14만6천개 데이터가 남는다.  \n",
        "남은 데이터 중에 문장 길이에 따른 분포를 확인해보자."
      ],
      "metadata": {
        "id": "SJztYeGz3uP1"
      }
    },
    {
      "cell_type": "code",
      "source": [
        "min_len = 999\n",
        "max_len = 0\n",
        "sum_len = 0\n",
        "\n",
        "for row in cleaned_corpus['document']:\n",
        "    length = len(row)\n",
        "    if min_len > length: min_len = length\n",
        "    if max_len < length: max_len = length\n",
        "    sum_len += length\n",
        "\n",
        "print(\"문장의 최단 길이:\", min_len)\n",
        "print(\"문장의 최장 길이:\", max_len)\n",
        "print(\"문장의 평균 길이:\", sum_len // len(cleaned_corpus['document']))\n",
        "\n",
        "sentence_length = np.zeros((max_len), dtype=np.int)\n",
        "\n",
        "for row in cleaned_corpus['document']:\n",
        "    sentence_length[len(row)-1] += 1\n",
        "\n",
        "plt.bar(range(max_len), sentence_length, width=1.0)\n",
        "plt.title(\"Sentence Length Distribution\")\n",
        "plt.show()"
      ],
      "metadata": {
        "colab": {
          "base_uri": "https://localhost:8080/",
          "height": 411
        },
        "id": "Y3RvF81-WvG5",
        "outputId": "f515adf6-aec7-442e-bd14-86a202853b13"
      },
      "execution_count": 12,
      "outputs": [
        {
          "output_type": "stream",
          "name": "stdout",
          "text": [
            "문장의 최단 길이: 1\n",
            "문장의 최장 길이: 146\n",
            "문장의 평균 길이: 35\n"
          ]
        },
        {
          "output_type": "stream",
          "name": "stderr",
          "text": [
            "/usr/local/lib/python3.7/dist-packages/ipykernel_launcher.py:15: DeprecationWarning: `np.int` is a deprecated alias for the builtin `int`. To silence this warning, use `int` by itself. Doing this will not modify any behavior and is safe. When replacing `np.int`, you may wish to use e.g. `np.int64` or `np.int32` to specify the precision. If you wish to review your current use, check the release note link for additional information.\n",
            "Deprecated in NumPy 1.20; for more details and guidance: https://numpy.org/devdocs/release/1.20.0-notes.html#deprecations\n",
            "  from ipykernel import kernelapp as app\n"
          ]
        },
        {
          "output_type": "display_data",
          "data": {
            "text/plain": [
              "<Figure size 432x288 with 1 Axes>"
            ],
            "image/png": "[encoded data removed]"
          },
          "metadata": {
            "needs_background": "light"
          }
        }
      ]
    },
    {
      "cell_type": "markdown",
      "source": [
        "1~146까지 길이가 다양하다.  \n",
        "문장 길이에 따른 내용을 확인할 수 있는 함수를 만들어서 길이가1 인 데이터를 확인해보자."
      ],
      "metadata": {
        "id": "TUzZfwa0315B"
      }
    },
    {
      "cell_type": "code",
      "source": [
        "def check_sentence_with_length(raw, length):\n",
        "    count = 0\n",
        "    \n",
        "    for sen in raw:\n",
        "        if len(sen) == length:\n",
        "            print(sen)\n",
        "            count += 1\n",
        "            if count > 100: return\n",
        "\n",
        "check_sentence_with_length(cleaned_corpus['document'], 1)"
      ],
      "metadata": {
        "colab": {
          "base_uri": "https://localhost:8080/"
        },
        "id": "XG3mhyqnXCvh",
        "outputId": "a21b02c0-85d3-492d-f1a2-58eb47fc65cb"
      },
      "execution_count": 13,
      "outputs": [
        {
          "output_type": "stream",
          "name": "stdout",
          "text": [
            "아\n",
            "잼\n",
            "1\n",
            "4\n",
            "굿\n",
            "짱\n",
            "휴\n",
            ".\n",
            "음\n",
            "?\n",
            "ㅎ\n",
            "ㅋ\n",
            "즐\n",
            "♥\n",
            "굳\n",
            "네\n",
            "ㅇ\n",
            "k\n",
            "ㅠ\n",
            "쒯\n",
            "♬\n",
            "토\n",
            "O\n",
            "똥\n",
            "z\n",
            "헐\n",
            "삼\n",
            "꽝\n",
            "!\n",
            "풉\n",
            "ㅅ\n",
            "왜\n",
            "ㄴ\n",
            "쉣\n",
            "봐\n",
            "뿌\n",
            "ㅜ\n",
            "♡\n",
            "ㅁ\n",
            "0\n",
            "ㅉ\n",
            "d\n",
            "흥\n",
            "乃\n",
            "찜\n",
            "귯\n",
            "린\n",
            "시\n",
            "ㅗ\n",
            "a\n",
            "c\n",
            "흠\n",
            "웅\n",
            "ㅣ\n",
            "오\n",
            "9\n",
            "쩜\n",
            "애\n",
            "헝\n",
            "쨩\n",
            "f\n",
            "움\n",
            "ㄳ\n",
            "업\n",
            "헉\n",
            "군\n",
            "b\n",
            ";\n",
            "g\n",
            "올\n",
            "걍\n",
            "허\n",
            "-\n",
            "쀍\n",
            "로\n",
            "ㄹ\n",
            "ㅂ\n",
            "갑\n",
            "즛\n",
            "킥\n",
            "함\n",
            "진\n",
            "ㅡ\n",
            "잠\n",
            "곧\n",
            "ㅍ\n",
            "h\n",
            "·\n",
            "캬\n",
            "ㅆ\n",
            ",\n",
            "풋\n",
            "ㄱ\n",
            "파\n",
            "ㄷ\n",
            "웩\n",
            "꺅\n",
            "욜\n",
            "ㅄ\n",
            "2\n",
            "핡\n"
          ]
        }
      ]
    },
    {
      "cell_type": "markdown",
      "source": [
        "대체적으로 쓸모없어보인다.  \n",
        "1500개 이상의 데이터를 가지는 문장길이를 확인해보자."
      ],
      "metadata": {
        "id": "A3DKjvhk38vi"
      }
    },
    {
      "cell_type": "code",
      "source": [
        "for idx, _sum in enumerate(sentence_length):\n",
        "    # 문장의 수가 1500을 초과하는 문장 길이를 추출합니다.\n",
        "    if _sum > 1500:\n",
        "        print(\"Outlier Index:\", idx+1)"
      ],
      "metadata": {
        "colab": {
          "base_uri": "https://localhost:8080/"
        },
        "id": "swiIwcYNXEVu",
        "outputId": "7390c6fc-5d8e-4e4e-cef8-24b8c3f01d69"
      },
      "execution_count": 14,
      "outputs": [
        {
          "output_type": "stream",
          "name": "stdout",
          "text": [
            "Outlier Index: 7\n",
            "Outlier Index: 8\n",
            "Outlier Index: 9\n",
            "Outlier Index: 10\n",
            "Outlier Index: 11\n",
            "Outlier Index: 12\n",
            "Outlier Index: 13\n",
            "Outlier Index: 14\n",
            "Outlier Index: 15\n",
            "Outlier Index: 16\n",
            "Outlier Index: 17\n",
            "Outlier Index: 18\n",
            "Outlier Index: 19\n",
            "Outlier Index: 20\n",
            "Outlier Index: 21\n",
            "Outlier Index: 22\n",
            "Outlier Index: 23\n",
            "Outlier Index: 24\n",
            "Outlier Index: 25\n",
            "Outlier Index: 26\n",
            "Outlier Index: 27\n",
            "Outlier Index: 28\n",
            "Outlier Index: 29\n",
            "Outlier Index: 30\n",
            "Outlier Index: 31\n",
            "Outlier Index: 32\n",
            "Outlier Index: 33\n",
            "Outlier Index: 34\n",
            "Outlier Index: 35\n",
            "Outlier Index: 36\n",
            "Outlier Index: 37\n",
            "Outlier Index: 38\n",
            "Outlier Index: 39\n",
            "Outlier Index: 40\n",
            "Outlier Index: 41\n",
            "Outlier Index: 42\n",
            "Outlier Index: 43\n",
            "Outlier Index: 44\n",
            "Outlier Index: 45\n",
            "Outlier Index: 46\n"
          ]
        }
      ]
    },
    {
      "cell_type": "markdown",
      "source": [
        "7~46일 때 1500개 이상의 데이터를 가진다.  \n",
        "다른 문장길이의 데이터도 확인해보자."
      ],
      "metadata": {
        "id": "y4EmVZEi4DYc"
      }
    },
    {
      "cell_type": "code",
      "source": [
        "check_sentence_with_length(cleaned_corpus['document'], 11)"
      ],
      "metadata": {
        "colab": {
          "base_uri": "https://localhost:8080/"
        },
        "id": "Pyb3ZZD5XFgf",
        "outputId": "4714844e-41ec-422d-ade5-fe431ae349ba"
      },
      "execution_count": 15,
      "outputs": [
        {
          "output_type": "stream",
          "name": "stdout",
          "text": [
            "백봉기 언제나오나요?\n",
            "아주 모자라진 않다.\n",
            "공유 존잘!!!ㅎㅎㅎ\n",
            "4대2라니....최악\n",
            "내 생의 최고의 영화\n",
            "이딴게 한국 영화라니\n",
            "번지수 잃고 갈팡질팡\n",
            "너무나 감동적인 영화\n",
            "내 인생 최고의 영화\n",
            "참 재밌는 영화 ㅎㅎ\n",
            "2.2고고하자 ㅋㅋㅋ\n",
            "난 별로던데 -_ -\n",
            "커스틴 때문에 좋겠다\n",
            "재미있게봄 감동적이고\n",
            "딱 90년대코미디영화\n",
            "이건좀 아니잖아...\n",
            "최고의 드라마....\n",
            "야경꾼보다 엉망지루함\n",
            "딱말해준다잉 안나온다\n",
            "장선우 여전히 쓰레기\n",
            "한국영화흥행의 시작점\n",
            "이런게 영화라는거죠.\n",
            "억지...억지....\n",
            "세련되고 재밌었어요.\n",
            "시대착오적 애니메이션\n",
            "이건 또 뭔가요;;;\n",
            "망작 중의 망작...\n",
            "노답이다 진짜....\n",
            "무의미한 애니메이션.\n",
            "거 참 재밌는 영화균\n",
            "상영관좀 늘려주세요.\n",
            "픽션이지만 재미뚬ㅎㅎ\n",
            "한지민은 여신이다..\n",
            "또 번개냐 ㅋㅋㅋㅋㅋ\n",
            "뷰우우우우티이이이이풀\n",
            "막장드라됨급도 안됨.\n",
            "2탄에 비하면 뭐..\n",
            "개꿀잼ㅋ개꿀잼ㅋ10자\n",
            "재밌어요 나름 괜찮음\n",
            "너무 감동적이에욧><\n",
            "그지같다고!!!!!!\n",
            "별로에요 재미없네요호\n",
            "짜리몽땅 파이팅!!!\n",
            "구관이 명관이다...\n",
            "진짜볼만함!!@!@!\n",
            "하 시방ㅡㅡ:@!?.\n",
            "이제보니까 장백기였네\n",
            "쓰레기..10자 채움\n",
            "하나님살려주시지...\n",
            "대략 재미 없음...\n",
            "굿굿 잘봤습니다~~ㅅ\n",
            "나도 다큐나 찍어볼까\n",
            "마지막에어이없네왜죽어\n",
            "아바타같은소리하네..\n",
            "이건 정말 명작이네요\n",
            "별덤높이기다디다디도러\n",
            "재밌다........\n",
            "쓰레기다 솔직히...\n",
            "정말 현실성없는 영화\n",
            "재밌게 잘봣습니다!!\n",
            "어린아이들만 재미있고\n",
            "그렇게 대단하지 않다\n",
            "로코좋아하는분께추천!\n",
            "린제리 로한 사랑함.\n",
            "내용을말로표현못하게씀\n",
            "잼있습니다 야호호호호\n",
            "정말 훈훈한방송입니다\n",
            "박준형?이 나온다;;\n",
            "병만옹 짱짜아악앙맨앤\n",
            "재미있네요.훌륭합니다\n",
            "정말 소름끼친다!!!\n",
            "오겡끼데쓰까 부시맨!\n",
            "좋다.,/,./,./\n",
            "말할것도없다 최고ㅇㅇ\n",
            "일하기싫었나봐여ㅎㅅㅎ\n",
            "인생을 느끼다....\n",
            "기억이 가물가물하네요\n",
            "꿀잼 다시보고싶은영화\n",
            "표절?표절?표절?표절\n",
            "이거 우리나라꺼 아님\n",
            "개연성은 개나 줘버려\n",
            "엉망진창 로맨틱드라마\n",
            "가슴이 바운OO운스~\n",
            "노잼 ㅡㅡ보지마세요!\n",
            "최고ㅘ하하하하ㅏㅏㅏ핳\n",
            "심심할때 보면 재밋지\n",
            "지루하고 재미가 없음\n",
            "못생긴사람들의 이야기\n",
            "강아지가 주인공임??\n",
            "최고의영화! ..,,\n",
            "그냥 웃어주자 하하하\n",
            "별로야..,,,,..\n",
            "디카프리오...bbb\n",
            "개인적 공감이 글쎄?\n",
            "쿠바로 떠나고 싶다.\n",
            "그냥 좀비판 B급영화\n",
            "레고 홍보영화 인듯.\n",
            "소블리~♥ 공블리~♥\n",
            "참다 결국 포기하다.\n",
            "시간낭비. 괜히봤다.\n",
            "성룡이 왠 로맨스??\n"
          ]
        }
      ]
    },
    {
      "cell_type": "markdown",
      "source": [
        "문장은 7~60의 길이를 가지는 데이터만 사용하도록 하자."
      ],
      "metadata": {
        "id": "2MePAIoM4RCz"
      }
    },
    {
      "cell_type": "code",
      "source": [
        "max_len = 60\n",
        "min_len = 0\n",
        "\n",
        "train = cleaned_corpus[(cleaned_corpus['document'].str.len() <= max_len) & (cleaned_corpus['document'].str.len() >= min_len)]\n",
        "test = test_data[(test_data['document'].str.len() <= max_len) & (test_data['document'].str.len() >= min_len)]\n",
        "\n",
        "print(train.shape)\n",
        "\n",
        "# 분포도를 다시 그려봅니다.\n",
        "sentence_length = np.zeros((max_len), dtype=np.int)\n",
        "\n",
        "for sen in train['document']:\n",
        "    sentence_length[len(sen)-1] += 1\n",
        "\n",
        "plt.bar(range(max_len), sentence_length, width=1.0)\n",
        "plt.title(\"Sentence Length Distribution\")\n",
        "plt.show()\n"
      ],
      "metadata": {
        "colab": {
          "base_uri": "https://localhost:8080/",
          "height": 374
        },
        "id": "XHH_-eheXJHl",
        "outputId": "0de51e1e-d837-47bb-86aa-41438d8e63a2"
      },
      "execution_count": 16,
      "outputs": [
        {
          "output_type": "stream",
          "name": "stdout",
          "text": [
            "(125612, 3)\n"
          ]
        },
        {
          "output_type": "stream",
          "name": "stderr",
          "text": [
            "/usr/local/lib/python3.7/dist-packages/ipykernel_launcher.py:10: DeprecationWarning: `np.int` is a deprecated alias for the builtin `int`. To silence this warning, use `int` by itself. Doing this will not modify any behavior and is safe. When replacing `np.int`, you may wish to use e.g. `np.int64` or `np.int32` to specify the precision. If you wish to review your current use, check the release note link for additional information.\n",
            "Deprecated in NumPy 1.20; for more details and guidance: https://numpy.org/devdocs/release/1.20.0-notes.html#deprecations\n",
            "  # Remove the CWD from sys.path while we load stuff.\n"
          ]
        },
        {
          "output_type": "display_data",
          "data": {
            "text/plain": [
              "<Figure size 432x288 with 1 Axes>"
            ],
            "image/png": "[encoded data removed]"
          },
          "metadata": {
            "needs_background": "light"
          }
        }
      ]
    },
    {
      "cell_type": "markdown",
      "source": [
        "최종으로 사용할 훈련에 사용할 데이터는 12만8천개이다.  \n",
        "\n",
        "## 2. SentencePiece Model 학습하기\n",
        "SentencePiece Model 을 통해 학습해보자."
      ],
      "metadata": {
        "id": "2-t2oj8o4V7n"
      }
    },
    {
      "cell_type": "code",
      "source": [
        "import sentencepiece as spm\n",
        "import os\n",
        "temp_file = '/content/drive/MyDrive/Colab/Datasets/kor_eng_park/korean-english-park.train.ko.temp'\n",
        "\n",
        "vocab_size = 8000\n",
        "\n",
        "with open(temp_file, 'w') as f:\n",
        "    for row in train['document']:   # 이전 스텝에서 정제했던 corpus를 활용합니다.\n",
        "        f.write(str(row) + '\\n')\n",
        "\n",
        "spm.SentencePieceTrainer.Train(\n",
        "    '--input={} --model_prefix=korean_spm --vocab_size={}'.format(temp_file, vocab_size)    \n",
        ")\n",
        "#위 Train에서  --model_type = 'unigram'이 디폴트 적용되어 있습니다. --model_type = 'bpe' 로 옵션을 주어 변경할 수 있습니다.\n",
        "\n",
        "!ls -l korean_spm*"
      ],
      "metadata": {
        "colab": {
          "base_uri": "https://localhost:8080/"
        },
        "id": "OEZXuiX6EDnQ",
        "outputId": "a1267641-1cbd-4ab4-ea6d-2bccf18c215b"
      },
      "execution_count": 17,
      "outputs": [
        {
          "output_type": "stream",
          "name": "stdout",
          "text": [
            "-rw-r--r-- 1 root root 375037 Sep 27 08:01 korean_spm.model\n",
            "-rw-r--r-- 1 root root 535555 Sep 27 06:10 korean_spm_unigram_16k.model\n",
            "-rw-r--r-- 1 root root 311989 Sep 27 06:10 korean_spm_unigram_16k.vocab\n",
            "-rw-r--r-- 1 root root 144457 Sep 27 08:01 korean_spm.vocab\n"
          ]
        }
      ]
    },
    {
      "cell_type": "code",
      "source": [
        "s = spm.SentencePieceProcessor()\n",
        "s.Load('korean_spm.model')\n",
        "\n",
        "# SentencePiece를 활용한 sentence -> encoding\n",
        "tokensIDs = s.EncodeAsIds('아버지가방에들어가신다.')\n",
        "print(tokensIDs)\n",
        "\n",
        "# SentencePiece를 활용한 sentence -> encoded pieces\n",
        "print(s.SampleEncodeAsPieces('아버지가방에들어가신다.',1, 0.0))\n",
        "\n",
        "# SentencePiece를 활용한 encoding -> sentence 복원\n",
        "print(s.DecodeIds(tokensIDs))"
      ],
      "metadata": {
        "colab": {
          "base_uri": "https://localhost:8080/"
        },
        "id": "jK6HmHZDXe5k",
        "outputId": "0054c044-5238-4c68-ceac-a987b8e1d776"
      },
      "execution_count": 18,
      "outputs": [
        {
          "output_type": "stream",
          "name": "stdout",
          "text": [
            "[1709, 10, 419, 15, 1379, 10, 152, 16, 4]\n",
            "['▁아버지', '가', '방', '에', '들어', '가', '신', '다', '.']\n",
            "아버지가방에들어가신다.\n"
          ]
        }
      ]
    },
    {
      "cell_type": "markdown",
      "source": [
        "완벽한 구분을 하지는 못하는 것으로 보인다.  \n",
        "훈련시킨 SentencePiece Model을 토큰화 시켜주는 함수를 만들어보자."
      ],
      "metadata": {
        "id": "x4Ckn9cX5Dek"
      }
    },
    {
      "cell_type": "markdown",
      "source": [
        "1. 매개변수로 토큰화된 문장의 list를 전달하는 대신 온전한 문장의 list 를 전달합니다.\n",
        "\n",
        "2. 생성된 vocab 파일을 읽어와 { <word> : <idx> } 형태를 가지는 word_index 사전과 { <idx> : <word>} 형태를 가지는 index_word 사전을 생성하고 함께 반환합니다.\n",
        "\n",
        "3. 리턴값인 tensor 는 앞의 함수와 동일하게 토큰화한 후 Encoding된 문장입니다. 바로 학습에 사용할 수 있게 Padding은 당연히 해야겠죠?"
      ],
      "metadata": {
        "id": "_Mq6XHO_52Sm"
      }
    },
    {
      "cell_type": "code",
      "source": [
        "def sp_tokenize(s, corpus):\n",
        "\n",
        "    tensor = []\n",
        "\n",
        "    for sen in corpus:\n",
        "        tensor.append(s.EncodeAsIds(sen))\n",
        "\n",
        "    with open(\"./korean_spm.vocab\", 'r') as f:\n",
        "        vocab = f.readlines()\n",
        "\n",
        "    word_index = {}\n",
        "    index_word = {}\n",
        "\n",
        "    for idx, line in enumerate(vocab):\n",
        "        word = line.split(\"\\t\")[0]\n",
        "\n",
        "        word_index.update({word:idx})\n",
        "        index_word.update({idx:word})\n",
        "\n",
        "    tensor = tf.keras.preprocessing.sequence.pad_sequences(tensor, padding='pre')\n",
        "\n",
        "    return tensor, word_index, index_word"
      ],
      "metadata": {
        "id": "U4S4VGvKZLjM"
      },
      "execution_count": 19,
      "outputs": []
    },
    {
      "cell_type": "code",
      "source": [
        "my_corpus = ['나는 밥을 먹었습니다.', '그러나 여전히 ㅠㅠ 배가 고픕니다...']\n",
        "tensor, word_index, index_word = sp_tokenize(s, my_corpus)\n",
        "print(tensor)"
      ],
      "metadata": {
        "colab": {
          "base_uri": "https://localhost:8080/"
        },
        "id": "pePWoKbxZOsq",
        "outputId": "9fc5d24d-8d4c-42fb-a86f-e314df273b25"
      },
      "execution_count": 20,
      "outputs": [
        {
          "output_type": "stream",
          "name": "stdout",
          "text": [
            "[[   0    0    0    0  511 3047   14 1255 1808    4]\n",
            " [1491 2103  248  519   10    3   17 7915  815    8]]\n"
          ]
        }
      ]
    },
    {
      "cell_type": "markdown",
      "source": [
        "### 3. LSTM 모델로 학습"
      ],
      "metadata": {
        "id": "0--OkmVB9ubG"
      }
    },
    {
      "cell_type": "code",
      "source": [
        "tensor_train, word_index, index_word = sp_tokenize(s, train['document'])\n",
        "tensor_test, word_index, index_word = sp_tokenize(s, test['document'])"
      ],
      "metadata": {
        "id": "D03FhEY297eT"
      },
      "execution_count": 21,
      "outputs": []
    },
    {
      "cell_type": "code",
      "source": [
        "from sklearn.model_selection import train_test_split\n",
        "\n",
        "filtered_label = np.array(train['label'])\n",
        "x_train, x_val, y_train, y_val = train_test_split(tensor_train, filtered_label, test_size=0.3, random_state=124)\n",
        "x_test = tensor_test\n",
        "y_test = test['label']"
      ],
      "metadata": {
        "id": "F8yk3O4894zy"
      },
      "execution_count": 22,
      "outputs": []
    },
    {
      "cell_type": "code",
      "source": [
        "from tensorflow.keras.initializers import Constant\n",
        "import keras\n",
        "\n",
        "vocab_size = vocab_size\n",
        "word_vector_dim = 64 \n",
        "\n",
        "model_LSTM = keras.Sequential()\n",
        "model_LSTM.add(keras.layers.Embedding(vocab_size, word_vector_dim, ))\n",
        "            \n",
        "model_LSTM.add(keras.layers.LSTM(20))\n",
        "model_LSTM.add(tf.keras.layers.Dense(vocab_size, activation='relu'))\n",
        "model_LSTM.add(keras.layers.Dense(1, activation='sigmoid'))  # 최종 출력은 긍정/부정을 나타내는 1dim 입니다.\n",
        "\n",
        "model_LSTM.summary()"
      ],
      "metadata": {
        "colab": {
          "base_uri": "https://localhost:8080/"
        },
        "id": "MjMpmF5v-zQp",
        "outputId": "49bc43eb-8ad1-4ec2-c43c-7079cf6fbcbe"
      },
      "execution_count": 23,
      "outputs": [
        {
          "output_type": "stream",
          "name": "stdout",
          "text": [
            "Model: \"sequential\"\n",
            "_________________________________________________________________\n",
            " Layer (type)                Output Shape              Param #   \n",
            "=================================================================\n",
            " embedding (Embedding)       (None, None, 64)          512000    \n",
            "                                                                 \n",
            " lstm (LSTM)                 (None, 20)                6800      \n",
            "                                                                 \n",
            " dense (Dense)               (None, 8000)              168000    \n",
            "                                                                 \n",
            " dense_1 (Dense)             (None, 1)                 8001      \n",
            "                                                                 \n",
            "=================================================================\n",
            "Total params: 694,801\n",
            "Trainable params: 694,801\n",
            "Non-trainable params: 0\n",
            "_________________________________________________________________\n"
          ]
        }
      ]
    },
    {
      "cell_type": "code",
      "source": [
        "model_LSTM.compile(optimizer='adam',\n",
        "              loss='binary_crossentropy',\n",
        "              metrics=['accuracy'])\n",
        "              \n",
        "epochs=5\n",
        "batch_size=64\n",
        "\n",
        "history_LSTM = model_LSTM.fit(x_train,\n",
        "                    y_train,\n",
        "                    epochs=epochs,\n",
        "                    batch_size=batch_size,\n",
        "                    validation_data=(x_val,y_val),\n",
        "                    verbose=1)"
      ],
      "metadata": {
        "colab": {
          "base_uri": "https://localhost:8080/"
        },
        "id": "msGKOsf8_Bv0",
        "outputId": "8dbebc2f-66b7-4d05-995f-07e01e46bf68"
      },
      "execution_count": 24,
      "outputs": [
        {
          "output_type": "stream",
          "name": "stdout",
          "text": [
            "Epoch 1/5\n",
            "1374/1374 [==============================] - 10s 6ms/step - loss: 0.4033 - accuracy: 0.8138 - val_loss: 0.3550 - val_accuracy: 0.8419\n",
            "Epoch 2/5\n",
            "1374/1374 [==============================] - 8s 6ms/step - loss: 0.3079 - accuracy: 0.8644 - val_loss: 0.3419 - val_accuracy: 0.8497\n",
            "Epoch 3/5\n",
            "1374/1374 [==============================] - 8s 6ms/step - loss: 0.2606 - accuracy: 0.8858 - val_loss: 0.3609 - val_accuracy: 0.8442\n",
            "Epoch 4/5\n",
            "1374/1374 [==============================] - 8s 6ms/step - loss: 0.2188 - accuracy: 0.9028 - val_loss: 0.3903 - val_accuracy: 0.8410\n",
            "Epoch 5/5\n",
            "1374/1374 [==============================] - 8s 6ms/step - loss: 0.1779 - accuracy: 0.9229 - val_loss: 0.4855 - val_accuracy: 0.8337\n"
          ]
        }
      ]
    },
    {
      "cell_type": "code",
      "source": [
        "results = model_LSTM.evaluate(x_test,  y_test, verbose=2)"
      ],
      "metadata": {
        "colab": {
          "base_uri": "https://localhost:8080/"
        },
        "id": "HnciXC0QXqIL",
        "outputId": "0c9bb529-9ef8-4118-f137-bf3130c436e4"
      },
      "execution_count": 25,
      "outputs": [
        {
          "output_type": "stream",
          "name": "stdout",
          "text": [
            "1320/1320 - 4s - loss: 0.4919 - accuracy: 0.8281 - 4s/epoch - 3ms/step\n"
          ]
        }
      ]
    },
    {
      "cell_type": "markdown",
      "source": [
        "정확도 82.81% 가 나왔다."
      ],
      "metadata": {
        "id": "cT3yfm65c1YI"
      }
    },
    {
      "cell_type": "markdown",
      "source": [
        "## 4. Sentence Piece 옵션간 성능 비교"
      ],
      "metadata": {
        "id": "t0hi8_UAc6av"
      }
    },
    {
      "cell_type": "markdown",
      "source": [],
      "metadata": {
        "id": "UA_6mC6YdDRQ"
      }
    },
    {
      "cell_type": "code",
      "source": [
        "temp_file = '/content/drive/MyDrive/Colab/Datasets/kor_eng_park/korean-english-park.train.ko.temp'\n",
        "\n",
        "vocab_size = 8000\n",
        "\n",
        "with open(temp_file, 'w') as f:\n",
        "    for row in train['document']:   # 이전 스텝에서 정제했던 corpus를 활용합니다.\n",
        "        f.write(str(row) + '\\n')\n",
        "\n",
        "spm.SentencePieceTrainer.Train(\n",
        "    '--input={} --model_prefix=korean_spm_unigram_16k --vocab_size={}'.format(temp_file, vocab_size*2)    \n",
        ")\n",
        "\n",
        "spm.SentencePieceTrainer.Train(\n",
        "    '--input={} --model_prefix=kor_spm_bpe_8k --model_type=bpe --vocab_size={}'.format(temp_file, vocab_size)    \n",
        ")\n",
        "\n",
        "spm.SentencePieceTrainer.Train(\n",
        "    '--input={} --model_prefix=kor_spm_bpe_16k --model_type=bpe --vocab_size={}'.format(temp_file, vocab_size*2)    \n",
        ")\n",
        "\n",
        "#위 Train에서  --model_type = 'unigram'이 디폴트 적용되어 있습니다. --model_type = 'bpe' 로 옵션을 주어 변경할 수 있습니다."
      ],
      "metadata": {
        "id": "PWfBX5GCdCrw"
      },
      "execution_count": 26,
      "outputs": []
    },
    {
      "cell_type": "code",
      "source": [
        "def sp_tokenize2(s, corpus, spm_path):\n",
        "\n",
        "    tensor = []\n",
        "\n",
        "    for sen in corpus:\n",
        "        tensor.append(s.EncodeAsIds(sen))\n",
        "\n",
        "    with open(spm_path, 'r') as f:\n",
        "        vocab = f.readlines()\n",
        "\n",
        "    word_index = {}\n",
        "    index_word = {}\n",
        "\n",
        "    for idx, line in enumerate(vocab):\n",
        "        word = line.split(\"\\t\")[0]\n",
        "\n",
        "        word_index.update({word:idx})\n",
        "        index_word.update({idx:word})\n",
        "\n",
        "    tensor = tf.keras.preprocessing.sequence.pad_sequences(tensor, padding='pre')\n",
        "\n",
        "    return tensor, word_index, index_word"
      ],
      "metadata": {
        "id": "zW21wI03kxJG"
      },
      "execution_count": 27,
      "outputs": []
    },
    {
      "cell_type": "code",
      "source": [
        "def sp_test(sp_model):\n",
        "  s = spm.SentencePieceProcessor()\n",
        "  s.Load(sp_model)\n",
        "\n",
        "  # SentencePiece를 활용한 sentence -> encoding\n",
        "  tokensIDs = s.EncodeAsIds('아버지가방에들어가신다.')\n",
        "  print(tokensIDs)\n",
        "\n",
        "  # SentencePiece를 활용한 sentence -> encoded pieces\n",
        "  print(s.SampleEncodeAsPieces('아버지가방에들어가신다.',1, 0.0))\n",
        "\n",
        "  # SentencePiece를 활용한 encoding -> sentence 복원\n",
        "  print(s.DecodeIds(tokensIDs))"
      ],
      "metadata": {
        "id": "eG7XFXqz0DvF"
      },
      "execution_count": 28,
      "outputs": []
    },
    {
      "cell_type": "code",
      "source": [
        "print('kor_spm_unigram_16k')\n",
        "sp_test('/content/korean_spm_unigram_16k.model')\n",
        "\n",
        "print('kor_spm_bpe_8k')\n",
        "sp_test('/content/kor_spm_bpe_8k.model')\n",
        "\n",
        "print('kor_spm_bpe_16k')\n",
        "sp_test('/content/kor_spm_bpe_16k.model')"
      ],
      "metadata": {
        "colab": {
          "base_uri": "https://localhost:8080/"
        },
        "id": "uE3O-VWq1yEv",
        "outputId": "8c1d8aeb-8ac1-4d88-f705-0e84a7dbf608"
      },
      "execution_count": 29,
      "outputs": [
        {
          "output_type": "stream",
          "name": "stdout",
          "text": [
            "kor_spm_unigram_16k\n",
            "[9310, 553, 17, 1629, 10, 204, 18, 3]\n",
            "['▁아버지가', '방', '에', '들어', '가', '신', '다', '.']\n",
            "아버지가방에들어가신다.\n",
            "kor_spm_bpe_8k\n",
            "[8, 6436, 985, 6536, 6258, 1527, 6253, 6364, 6247, 6245]\n",
            "['▁아', '버', '지가', '방', '에', '들어', '가', '신', '다', '.']\n",
            "아버지가방에들어가신다.\n",
            "kor_spm_bpe_16k\n",
            "[9419, 13858, 1527, 14253, 13093, 14245]\n",
            "['▁아버지가', '방에', '들어', '가', '신다', '.']\n",
            "아버지가방에들어가신다.\n"
          ]
        }
      ]
    },
    {
      "cell_type": "markdown",
      "source": [
        "일단 아버지 가방에 들어가신다는 bpe 16k가 제일 잘 분류하는 것 같다."
      ],
      "metadata": {
        "id": "tWSUaD0F2NZF"
      }
    },
    {
      "cell_type": "markdown",
      "source": [
        "#### 16k-unigram"
      ],
      "metadata": {
        "id": "mqgSwlHB3Maa"
      }
    },
    {
      "cell_type": "code",
      "source": [
        "tensor_train, word_index, index_word = sp_tokenize2(s, train['document'], '/content/korean_spm_unigram_16k.vocab')\n",
        "tensor_test, word_index, index_word = sp_tokenize2(s, test['document'], '/content/korean_spm_unigram_16k.vocab')\n",
        "\n",
        "filtered_label = np.array(train['label'])\n",
        "x_train, x_val, y_train, y_val = train_test_split(tensor_train, filtered_label, test_size=0.3, random_state=124)\n",
        "x_test = tensor_test\n",
        "y_test = test['label']"
      ],
      "metadata": {
        "id": "x0v8iSf03AM8"
      },
      "execution_count": 30,
      "outputs": []
    },
    {
      "cell_type": "code",
      "source": [
        "vocab_size = vocab_size * 2\n",
        "word_vector_dim = 64 \n",
        "\n",
        "model_LSTM = keras.Sequential()\n",
        "model_LSTM.add(keras.layers.Embedding(vocab_size, word_vector_dim, ))\n",
        "            \n",
        "model_LSTM.add(keras.layers.LSTM(20))\n",
        "model_LSTM.add(tf.keras.layers.Dense(vocab_size, activation='relu'))\n",
        "model_LSTM.add(keras.layers.Dense(1, activation='sigmoid'))  # 최종 출력은 긍정/부정을 나타내는 1dim 입니다.\n",
        "\n",
        "model_LSTM.summary()"
      ],
      "metadata": {
        "colab": {
          "base_uri": "https://localhost:8080/"
        },
        "id": "-yVQCrU53TcJ",
        "outputId": "df6bce95-177b-4784-8581-f4601f6a646a"
      },
      "execution_count": 31,
      "outputs": [
        {
          "output_type": "stream",
          "name": "stdout",
          "text": [
            "Model: \"sequential_1\"\n",
            "_________________________________________________________________\n",
            " Layer (type)                Output Shape              Param #   \n",
            "=================================================================\n",
            " embedding_1 (Embedding)     (None, None, 64)          1024000   \n",
            "                                                                 \n",
            " lstm_1 (LSTM)               (None, 20)                6800      \n",
            "                                                                 \n",
            " dense_2 (Dense)             (None, 16000)             336000    \n",
            "                                                                 \n",
            " dense_3 (Dense)             (None, 1)                 16001     \n",
            "                                                                 \n",
            "=================================================================\n",
            "Total params: 1,382,801\n",
            "Trainable params: 1,382,801\n",
            "Non-trainable params: 0\n",
            "_________________________________________________________________\n"
          ]
        }
      ]
    },
    {
      "cell_type": "code",
      "source": [
        "model_LSTM.compile(optimizer='adam',\n",
        "              loss='binary_crossentropy',\n",
        "              metrics=['accuracy'])\n",
        "              \n",
        "epochs=5\n",
        "batch_size=64\n",
        "\n",
        "history_LSTM = model_LSTM.fit(x_train,\n",
        "                    y_train,\n",
        "                    epochs=epochs,\n",
        "                    batch_size=batch_size,\n",
        "                    validation_data=(x_val,y_val),\n",
        "                    verbose=1)"
      ],
      "metadata": {
        "colab": {
          "base_uri": "https://localhost:8080/"
        },
        "id": "gwZfjm_G3f_u",
        "outputId": "deb53942-6742-4e12-d1c5-6786630102c5"
      },
      "execution_count": 32,
      "outputs": [
        {
          "output_type": "stream",
          "name": "stdout",
          "text": [
            "Epoch 1/5\n",
            "1374/1374 [==============================] - 10s 6ms/step - loss: 0.4027 - accuracy: 0.8129 - val_loss: 0.3562 - val_accuracy: 0.8391\n",
            "Epoch 2/5\n",
            "1374/1374 [==============================] - 8s 6ms/step - loss: 0.3108 - accuracy: 0.8629 - val_loss: 0.3463 - val_accuracy: 0.8467\n",
            "Epoch 3/5\n",
            "1374/1374 [==============================] - 8s 6ms/step - loss: 0.2659 - accuracy: 0.8812 - val_loss: 0.3785 - val_accuracy: 0.8472\n",
            "Epoch 4/5\n",
            "1374/1374 [==============================] - 8s 6ms/step - loss: 0.2245 - accuracy: 0.8997 - val_loss: 0.3935 - val_accuracy: 0.8416\n",
            "Epoch 5/5\n",
            "1374/1374 [==============================] - 8s 6ms/step - loss: 0.1845 - accuracy: 0.9179 - val_loss: 0.4710 - val_accuracy: 0.8316\n"
          ]
        }
      ]
    },
    {
      "cell_type": "code",
      "source": [
        "results = model_LSTM.evaluate(x_test,  y_test, verbose=2)"
      ],
      "metadata": {
        "colab": {
          "base_uri": "https://localhost:8080/"
        },
        "id": "BDUQhSu63iDe",
        "outputId": "6709778a-a6a8-47fa-c2ff-16c129c09e57"
      },
      "execution_count": 33,
      "outputs": [
        {
          "output_type": "stream",
          "name": "stdout",
          "text": [
            "1320/1320 - 4s - loss: 0.4803 - accuracy: 0.8267 - 4s/epoch - 3ms/step\n"
          ]
        }
      ]
    },
    {
      "cell_type": "markdown",
      "source": [
        "#### 8k-bpe"
      ],
      "metadata": {
        "id": "di4uX-ce3raJ"
      }
    },
    {
      "cell_type": "code",
      "source": [
        "tensor_train, word_index, index_word = sp_tokenize2(s, train['document'], '/content/kor_spm_bpe_8k.vocab')\n",
        "tensor_test, word_index, index_word = sp_tokenize2(s, test['document'], '/content/kor_spm_bpe_8k.vocab')\n",
        "\n",
        "filtered_label = np.array(train['label'])\n",
        "x_train, x_val, y_train, y_val = train_test_split(tensor_train, filtered_label, test_size=0.3, random_state=124)\n",
        "x_test = tensor_test\n",
        "y_test = test['label']"
      ],
      "metadata": {
        "id": "xJiusbV93raJ"
      },
      "execution_count": 34,
      "outputs": []
    },
    {
      "cell_type": "code",
      "source": [
        "vocab_size = vocab_size * 2\n",
        "word_vector_dim = 64 \n",
        "\n",
        "model_LSTM = keras.Sequential()\n",
        "model_LSTM.add(keras.layers.Embedding(vocab_size, word_vector_dim, ))\n",
        "            \n",
        "model_LSTM.add(keras.layers.LSTM(20))\n",
        "model_LSTM.add(tf.keras.layers.Dense(vocab_size, activation='relu'))\n",
        "model_LSTM.add(keras.layers.Dense(1, activation='sigmoid'))  # 최종 출력은 긍정/부정을 나타내는 1dim 입니다.\n",
        "\n",
        "model_LSTM.summary()"
      ],
      "metadata": {
        "colab": {
          "base_uri": "https://localhost:8080/"
        },
        "outputId": "35347c09-f085-477f-d47c-6ba90fa017d7",
        "id": "iHVP-Yor3raK"
      },
      "execution_count": 35,
      "outputs": [
        {
          "output_type": "stream",
          "name": "stdout",
          "text": [
            "Model: \"sequential_2\"\n",
            "_________________________________________________________________\n",
            " Layer (type)                Output Shape              Param #   \n",
            "=================================================================\n",
            " embedding_2 (Embedding)     (None, None, 64)          2048000   \n",
            "                                                                 \n",
            " lstm_2 (LSTM)               (None, 20)                6800      \n",
            "                                                                 \n",
            " dense_4 (Dense)             (None, 32000)             672000    \n",
            "                                                                 \n",
            " dense_5 (Dense)             (None, 1)                 32001     \n",
            "                                                                 \n",
            "=================================================================\n",
            "Total params: 2,758,801\n",
            "Trainable params: 2,758,801\n",
            "Non-trainable params: 0\n",
            "_________________________________________________________________\n"
          ]
        }
      ]
    },
    {
      "cell_type": "code",
      "source": [
        "model_LSTM.compile(optimizer='adam',\n",
        "              loss='binary_crossentropy',\n",
        "              metrics=['accuracy'])\n",
        "              \n",
        "epochs=5\n",
        "batch_size=64\n",
        "\n",
        "history_LSTM = model_LSTM.fit(x_train,\n",
        "                    y_train,\n",
        "                    epochs=epochs,\n",
        "                    batch_size=batch_size,\n",
        "                    validation_data=(x_val,y_val),\n",
        "                    verbose=1)"
      ],
      "metadata": {
        "colab": {
          "base_uri": "https://localhost:8080/"
        },
        "outputId": "951be7c9-cd70-4e8e-9680-e2c1ef6f2ec1",
        "id": "Bniy8B9A3raK"
      },
      "execution_count": 36,
      "outputs": [
        {
          "output_type": "stream",
          "name": "stdout",
          "text": [
            "Epoch 1/5\n",
            "1374/1374 [==============================] - 10s 6ms/step - loss: 0.4041 - accuracy: 0.8139 - val_loss: 0.3467 - val_accuracy: 0.8447\n",
            "Epoch 2/5\n",
            "1374/1374 [==============================] - 8s 6ms/step - loss: 0.3083 - accuracy: 0.8649 - val_loss: 0.3457 - val_accuracy: 0.8493\n",
            "Epoch 3/5\n",
            "1374/1374 [==============================] - 8s 6ms/step - loss: 0.2605 - accuracy: 0.8852 - val_loss: 0.3550 - val_accuracy: 0.8470\n",
            "Epoch 4/5\n",
            "1374/1374 [==============================] - 8s 6ms/step - loss: 0.2161 - accuracy: 0.9046 - val_loss: 0.3893 - val_accuracy: 0.8446\n",
            "Epoch 5/5\n",
            "1374/1374 [==============================] - 9s 6ms/step - loss: 0.1748 - accuracy: 0.9234 - val_loss: 0.4792 - val_accuracy: 0.8348\n"
          ]
        }
      ]
    },
    {
      "cell_type": "code",
      "source": [
        "results = model_LSTM.evaluate(x_test,  y_test, verbose=2)"
      ],
      "metadata": {
        "colab": {
          "base_uri": "https://localhost:8080/"
        },
        "id": "gtk5QXvV3raK",
        "outputId": "11e16c79-5f01-4e24-e581-23748fd8d7f0"
      },
      "execution_count": 37,
      "outputs": [
        {
          "output_type": "stream",
          "name": "stdout",
          "text": [
            "1320/1320 - 4s - loss: 0.4958 - accuracy: 0.8295 - 4s/epoch - 3ms/step\n"
          ]
        }
      ]
    },
    {
      "cell_type": "markdown",
      "source": [
        "#### 16k-bpe"
      ],
      "metadata": {
        "id": "d0fOud4i3sfN"
      }
    },
    {
      "cell_type": "code",
      "source": [
        "tensor_train, word_index, index_word = sp_tokenize2(s, train['document'], '/content/kor_spm_bpe_16k.vocab')\n",
        "tensor_test, word_index, index_word = sp_tokenize2(s, test['document'], '/content/kor_spm_bpe_16k.vocab')\n",
        "\n",
        "filtered_label = np.array(train['label'])\n",
        "x_train, x_val, y_train, y_val = train_test_split(tensor_train, filtered_label, test_size=0.3, random_state=124)\n",
        "x_test = tensor_test\n",
        "y_test = test['label']"
      ],
      "metadata": {
        "id": "kPlLzFXD3sfN"
      },
      "execution_count": 38,
      "outputs": []
    },
    {
      "cell_type": "code",
      "source": [
        "vocab_size = vocab_size * 2\n",
        "word_vector_dim = 64 \n",
        "\n",
        "model_LSTM = keras.Sequential()\n",
        "model_LSTM.add(keras.layers.Embedding(vocab_size, word_vector_dim, ))\n",
        "            \n",
        "model_LSTM.add(keras.layers.LSTM(20))\n",
        "model_LSTM.add(tf.keras.layers.Dense(vocab_size, activation='relu'))\n",
        "model_LSTM.add(keras.layers.Dense(1, activation='sigmoid'))  # 최종 출력은 긍정/부정을 나타내는 1dim 입니다.\n",
        "\n",
        "model_LSTM.summary()"
      ],
      "metadata": {
        "colab": {
          "base_uri": "https://localhost:8080/"
        },
        "outputId": "2bd0437a-577e-4f27-e82a-8e5c71797204",
        "id": "Lp0TnH313sfN"
      },
      "execution_count": 39,
      "outputs": [
        {
          "output_type": "stream",
          "name": "stdout",
          "text": [
            "Model: \"sequential_3\"\n",
            "_________________________________________________________________\n",
            " Layer (type)                Output Shape              Param #   \n",
            "=================================================================\n",
            " embedding_3 (Embedding)     (None, None, 64)          4096000   \n",
            "                                                                 \n",
            " lstm_3 (LSTM)               (None, 20)                6800      \n",
            "                                                                 \n",
            " dense_6 (Dense)             (None, 64000)             1344000   \n",
            "                                                                 \n",
            " dense_7 (Dense)             (None, 1)                 64001     \n",
            "                                                                 \n",
            "=================================================================\n",
            "Total params: 5,510,801\n",
            "Trainable params: 5,510,801\n",
            "Non-trainable params: 0\n",
            "_________________________________________________________________\n"
          ]
        }
      ]
    },
    {
      "cell_type": "code",
      "source": [
        "model_LSTM.compile(optimizer='adam',\n",
        "              loss='binary_crossentropy',\n",
        "              metrics=['accuracy'])\n",
        "              \n",
        "epochs=5\n",
        "batch_size=64\n",
        "\n",
        "history_LSTM = model_LSTM.fit(x_train,\n",
        "                    y_train,\n",
        "                    epochs=epochs,\n",
        "                    batch_size=batch_size,\n",
        "                    validation_data=(x_val,y_val),\n",
        "                    verbose=1)"
      ],
      "metadata": {
        "colab": {
          "base_uri": "https://localhost:8080/"
        },
        "outputId": "443a33e9-dbcf-424a-c801-230f7eded4b8",
        "id": "CHnMERUM3sfN"
      },
      "execution_count": 40,
      "outputs": [
        {
          "output_type": "stream",
          "name": "stdout",
          "text": [
            "Epoch 1/5\n",
            "1374/1374 [==============================] - 12s 7ms/step - loss: 0.4032 - accuracy: 0.8135 - val_loss: 0.3490 - val_accuracy: 0.8441\n",
            "Epoch 2/5\n",
            "1374/1374 [==============================] - 10s 7ms/step - loss: 0.3065 - accuracy: 0.8651 - val_loss: 0.3427 - val_accuracy: 0.8487\n",
            "Epoch 3/5\n",
            "1374/1374 [==============================] - 10s 7ms/step - loss: 0.2577 - accuracy: 0.8887 - val_loss: 0.3702 - val_accuracy: 0.8481\n",
            "Epoch 4/5\n",
            "1374/1374 [==============================] - 10s 7ms/step - loss: 0.2129 - accuracy: 0.9079 - val_loss: 0.4155 - val_accuracy: 0.8449\n",
            "Epoch 5/5\n",
            "1374/1374 [==============================] - 10s 7ms/step - loss: 0.1737 - accuracy: 0.9264 - val_loss: 0.4648 - val_accuracy: 0.8410\n"
          ]
        }
      ]
    },
    {
      "cell_type": "code",
      "source": [
        "results = model_LSTM.evaluate(x_test,  y_test, verbose=2)"
      ],
      "metadata": {
        "colab": {
          "base_uri": "https://localhost:8080/"
        },
        "id": "tf8s65fx3sfO",
        "outputId": "ceb91fbd-c73e-46bc-a05f-dc43228f0506"
      },
      "execution_count": 41,
      "outputs": [
        {
          "output_type": "stream",
          "name": "stdout",
          "text": [
            "1320/1320 - 4s - loss: 0.4758 - accuracy: 0.8371 - 4s/epoch - 3ms/step\n"
          ]
        }
      ]
    },
    {
      "cell_type": "markdown",
      "source": [
        "| sp-model    | accuracy |\n",
        "|-------------|----------|\n",
        "| 8k-unigram  | 0.8281   |\n",
        "| 16k-unigram | 0.8267   |\n",
        "| 8k-bpe      | 0.8295   |\n",
        "| 16k-bpe     | 0.8371   |"
      ],
      "metadata": {
        "id": "nVrFq9hD39nG"
      }
    },
    {
      "cell_type": "markdown",
      "source": [
        "unigram보단 bpe가 근소하지만 더 좋은 성능을 보이고 16k-bpe가 가장 높은 정확도가 나왔다."
      ],
      "metadata": {
        "id": "0oLHmj_Q47Gh"
      }
    },
    {
      "cell_type": "markdown",
      "source": [
        "## 5. Mecab 사용하여 학습"
      ],
      "metadata": {
        "id": "ODhLpTkk5yD8"
      }
    },
    {
      "cell_type": "code",
      "source": [
        "def mecab_split(sentence):\n",
        "    return mecab.morphs(sentence)\n",
        "\n",
        "train['document_mecab'] = train['document'].apply(lambda x: mecab_split(x))\n",
        "test['document_mecab'] = test['document'].apply(lambda x: mecab_split(x))"
      ],
      "metadata": {
        "colab": {
          "base_uri": "https://localhost:8080/"
        },
        "id": "oC05BPQR53cm",
        "outputId": "9a1fa1b3-9013-4fa1-b213-e313166fafdd"
      },
      "execution_count": 42,
      "outputs": [
        {
          "output_type": "stream",
          "name": "stderr",
          "text": [
            "/usr/local/lib/python3.7/dist-packages/ipykernel_launcher.py:4: SettingWithCopyWarning: \n",
            "A value is trying to be set on a copy of a slice from a DataFrame.\n",
            "Try using .loc[row_indexer,col_indexer] = value instead\n",
            "\n",
            "See the caveats in the documentation: https://pandas.pydata.org/pandas-docs/stable/user_guide/indexing.html#returning-a-view-versus-a-copy\n",
            "  after removing the cwd from sys.path.\n",
            "/usr/local/lib/python3.7/dist-packages/ipykernel_launcher.py:5: SettingWithCopyWarning: \n",
            "A value is trying to be set on a copy of a slice from a DataFrame.\n",
            "Try using .loc[row_indexer,col_indexer] = value instead\n",
            "\n",
            "See the caveats in the documentation: https://pandas.pydata.org/pandas-docs/stable/user_guide/indexing.html#returning-a-view-versus-a-copy\n",
            "  \"\"\"\n"
          ]
        }
      ]
    },
    {
      "cell_type": "code",
      "source": [
        "train['document_mecab'].head()"
      ],
      "metadata": {
        "colab": {
          "base_uri": "https://localhost:8080/"
        },
        "id": "-XgIS_L7678Z",
        "outputId": "983cd3b0-0814-46a3-e793-5599964e7247"
      },
      "execution_count": 43,
      "outputs": [
        {
          "output_type": "execute_result",
          "data": {
            "text/plain": [
              "0                  [아, 더, 빙, ., ., 진짜, 짜증, 나, 네요, 목소리]\n",
              "1    [흠, ., .., 포스터, 보고, 초딩, 영화, 줄, ., ..., 오버, 연기,...\n",
              "2                              [너무, 재, 밓었다그래서보는것을추천한다]\n",
              "3    [교도소, 이야기, 구먼, ., ., 솔직히, 재미, 는, 없, 다, ., ., 평...\n",
              "5    [막, 걸음마, 뗀, 3, 세, 부터, 초등, 학교, 1, 학년, 생, 인, 8, ...\n",
              "Name: document_mecab, dtype: object"
            ]
          },
          "metadata": {},
          "execution_count": 43
        }
      ]
    },
    {
      "cell_type": "code",
      "source": [
        "def tokenize(corpus):\n",
        "    tokenizer = tf.keras.preprocessing.text.Tokenizer(filters='')\n",
        "    tokenizer.fit_on_texts(corpus)\n",
        "\n",
        "    tensor = tokenizer.texts_to_sequences(corpus)\n",
        "\n",
        "    tensor = tf.keras.preprocessing.sequence.pad_sequences(tensor, padding='pre')\n",
        "\n",
        "    return tensor, tokenizer"
      ],
      "metadata": {
        "id": "4glntfU17Kza"
      },
      "execution_count": 44,
      "outputs": []
    },
    {
      "cell_type": "code",
      "source": [
        "train_tensor, train_tokenizer = tokenize(train['document_mecab'])\n",
        "test_tensor = train_tokenizer.texts_to_sequences(test['document_mecab'])\n",
        "test_tensor = tf.keras.preprocessing.sequence.pad_sequences(test_tensor, padding='pre')"
      ],
      "metadata": {
        "id": "pPmj1kXi7NZ0"
      },
      "execution_count": 45,
      "outputs": []
    },
    {
      "cell_type": "code",
      "source": [
        "filtered_label = np.array(train['label'])\n",
        "x_train, x_val, y_train, y_val = train_test_split(train_tensor, filtered_label, test_size=0.3, random_state=124)\n",
        "x_test = test_tensor\n",
        "y_test = test['label']"
      ],
      "metadata": {
        "id": "T_3I7tJB8QnW"
      },
      "execution_count": 46,
      "outputs": []
    },
    {
      "cell_type": "code",
      "source": [
        "vocab_size = vocab_size * 2\n",
        "word_vector_dim = 64 \n",
        "\n",
        "model_LSTM = keras.Sequential()\n",
        "model_LSTM.add(keras.layers.Embedding(vocab_size, word_vector_dim, ))\n",
        "            \n",
        "model_LSTM.add(keras.layers.LSTM(20))\n",
        "model_LSTM.add(tf.keras.layers.Dense(vocab_size, activation='relu'))\n",
        "model_LSTM.add(keras.layers.Dense(1, activation='sigmoid'))  # 최종 출력은 긍정/부정을 나타내는 1dim 입니다.\n",
        "\n",
        "model_LSTM.summary()"
      ],
      "metadata": {
        "colab": {
          "base_uri": "https://localhost:8080/"
        },
        "id": "3fquGVW68VSD",
        "outputId": "f50eb036-57b3-4dd3-b955-31c9089bb280"
      },
      "execution_count": 47,
      "outputs": [
        {
          "output_type": "stream",
          "name": "stdout",
          "text": [
            "Model: \"sequential_4\"\n",
            "_________________________________________________________________\n",
            " Layer (type)                Output Shape              Param #   \n",
            "=================================================================\n",
            " embedding_4 (Embedding)     (None, None, 64)          8192000   \n",
            "                                                                 \n",
            " lstm_4 (LSTM)               (None, 20)                6800      \n",
            "                                                                 \n",
            " dense_8 (Dense)             (None, 128000)            2688000   \n",
            "                                                                 \n",
            " dense_9 (Dense)             (None, 1)                 128001    \n",
            "                                                                 \n",
            "=================================================================\n",
            "Total params: 11,014,801\n",
            "Trainable params: 11,014,801\n",
            "Non-trainable params: 0\n",
            "_________________________________________________________________\n"
          ]
        }
      ]
    },
    {
      "cell_type": "code",
      "source": [
        "model_LSTM.compile(optimizer='adam',\n",
        "              loss='binary_crossentropy',\n",
        "              metrics=['accuracy'])\n",
        "              \n",
        "epochs=5\n",
        "batch_size=64\n",
        "\n",
        "history_LSTM = model_LSTM.fit(x_train,\n",
        "                    y_train,\n",
        "                    epochs=epochs,\n",
        "                    batch_size=batch_size,\n",
        "                    validation_data=(x_val,y_val),\n",
        "                    verbose=1)"
      ],
      "metadata": {
        "colab": {
          "base_uri": "https://localhost:8080/"
        },
        "id": "O3P1rAyV8W2m",
        "outputId": "df020aba-84a2-4bfe-e0c7-4ee2750b0919"
      },
      "execution_count": 48,
      "outputs": [
        {
          "output_type": "stream",
          "name": "stdout",
          "text": [
            "Epoch 1/5\n",
            "1374/1374 [==============================] - 14s 9ms/step - loss: 0.3930 - accuracy: 0.8212 - val_loss: 0.3407 - val_accuracy: 0.8505\n",
            "Epoch 2/5\n",
            "1374/1374 [==============================] - 12s 9ms/step - loss: 0.2707 - accuracy: 0.8873 - val_loss: 0.3445 - val_accuracy: 0.8525\n",
            "Epoch 3/5\n",
            "1374/1374 [==============================] - 12s 9ms/step - loss: 0.1995 - accuracy: 0.9205 - val_loss: 0.3940 - val_accuracy: 0.8519\n",
            "Epoch 4/5\n",
            "1374/1374 [==============================] - 12s 9ms/step - loss: 0.1521 - accuracy: 0.9416 - val_loss: 0.4741 - val_accuracy: 0.8474\n",
            "Epoch 5/5\n",
            "1374/1374 [==============================] - 12s 9ms/step - loss: 0.1169 - accuracy: 0.9554 - val_loss: 0.5140 - val_accuracy: 0.8457\n"
          ]
        }
      ]
    },
    {
      "cell_type": "code",
      "source": [
        "results = model_LSTM.evaluate(x_test,  y_test, verbose=2)"
      ],
      "metadata": {
        "colab": {
          "base_uri": "https://localhost:8080/"
        },
        "id": "C_e9p_or8l9C",
        "outputId": "26cc9db7-3706-47c0-f52b-8e3649d0b408"
      },
      "execution_count": 49,
      "outputs": [
        {
          "output_type": "stream",
          "name": "stdout",
          "text": [
            "1320/1320 - 4s - loss: 0.5401 - accuracy: 0.8407 - 4s/epoch - 3ms/step\n"
          ]
        }
      ]
    },
    {
      "cell_type": "markdown",
      "source": [
        "SentencePiece 모델들보다 Mecab 형태소 분석기로 가공한 데이터가 이 분류 모델에서 더 좋은 성능을 보이는 것 같습니다."
      ],
      "metadata": {
        "id": "l8FNdfOc8pK_"
      }
    },
    {
      "cell_type": "markdown",
      "source": [
        "## 6. 회고\n",
        "1. SentencePiece나 형태소 분석기를 사용하니 그동안 NLP 처리에 사용했던 귀찮은 전처리 과정을 건너뛸 수 있어서 좋았다.\n",
        "2. 여러가지 방법을 사용해서 학습시키려고 소스를 짜다보니 전처리나 데이터를 관리하는 방법에 조금 더 익숙해졌다."
      ],
      "metadata": {
        "id": "_1u8QKet9BLK"
      }
    }
  ]
}