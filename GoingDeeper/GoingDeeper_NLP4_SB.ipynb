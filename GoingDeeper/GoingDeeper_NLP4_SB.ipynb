{
  "nbformat": 4,
  "nbformat_minor": 0,
  "metadata": {
    "colab": {
      "provenance": [],
      "collapsed_sections": [],
      "mount_file_id": "1pVtV-MgcDbxo_IE-E4w9T4Hk67dFt1k6",
      "authorship_tag": "ABX9TyNdKvirAiKWsjRsYhilwiZr",
      "include_colab_link": true
    },
    "kernelspec": {
      "name": "python3",
      "display_name": "Python 3"
    },
    "language_info": {
      "name": "python"
    },
    "accelerator": "GPU",
    "gpuClass": "standard"
  },
  "cells": [
    {
      "cell_type": "markdown",
      "metadata": {
        "id": "view-in-github",
        "colab_type": "text"
      },
      "source": [
        "<a href=\"https://colab.research.google.com/github/SBShimm/Aiffel/blob/master/GoingDeeper/GoingDeeper_NLP4_SB.ipynb\" target=\"_parent\"><img src=\"https://colab.research.google.com/assets/colab-badge.svg\" alt=\"Open In Colab\"/></a>"
      ]
    },
    {
      "cell_type": "markdown",
      "source": [
        "# Vocabulary Size를 변경해서 뉴스 카테고리 분류"
      ],
      "metadata": {
        "id": "Us2BjW3MBjAJ"
      }
    },
    {
      "cell_type": "markdown",
      "source": [
        "앞서 사용했던 로이터 뉴스 데이터의 Vocabulary Size에 따라 학습 결과가 어떻게 바뀌는지 알아보자."
      ],
      "metadata": {
        "id": "9PwZhYljCNkl"
      }
    },
    {
      "cell_type": "markdown",
      "source": [
        "## 1. 데이터 불러오기  \n",
        "일단 필요한 패키지를 불러온다."
      ],
      "metadata": {
        "id": "E_9Y12InBI6J"
      }
    },
    {
      "cell_type": "code",
      "execution_count": 1,
      "metadata": {
        "colab": {
          "base_uri": "https://localhost:8080/"
        },
        "id": "iOE9mgexABk3",
        "outputId": "b12d8e14-5d48-4828-a855-6e6a1d46dae9"
      },
      "outputs": [
        {
          "output_type": "stream",
          "name": "stderr",
          "text": [
            "[nltk_data] Downloading package punkt to /root/nltk_data...\n",
            "[nltk_data]   Package punkt is already up-to-date!\n",
            "[nltk_data] Downloading package wordnet to /root/nltk_data...\n",
            "[nltk_data]   Package wordnet is already up-to-date!\n",
            "[nltk_data] Downloading package stopwords to /root/nltk_data...\n",
            "[nltk_data]   Package stopwords is already up-to-date!\n"
          ]
        }
      ],
      "source": [
        "import pandas as pd\n",
        "import numpy as np\n",
        "import urllib.request\n",
        "from sklearn.feature_extraction.text import CountVectorizer\n",
        "from sklearn.feature_extraction.text import TfidfVectorizer\n",
        "from sklearn.feature_extraction.text import TfidfTransformer\n",
        "import nltk\n",
        "from nltk.corpus import stopwords\n",
        "from nltk.stem import WordNetLemmatizer\n",
        "nltk.download('punkt')\n",
        "nltk.download('wordnet')\n",
        "nltk.download('stopwords')\n",
        "from tensorflow.keras.datasets import reuters\n",
        "import matplotlib.pyplot as plt\n",
        "import seaborn as sns"
      ]
    },
    {
      "cell_type": "markdown",
      "source": [
        "노드에서 사용했던 대로 일단 만개의 단어를 사용해 불러온다.  \n",
        "num_words에 따라 빈도수가 많은 단어를 사용하는 데이터만 가져온다."
      ],
      "metadata": {
        "id": "XdUEYyACBQpi"
      }
    },
    {
      "cell_type": "code",
      "source": [
        "(x_train, y_train), (x_test, y_test) = reuters.load_data(num_words=10000, test_split=0.2)\n"
      ],
      "metadata": {
        "id": "vblXwglnHuRc"
      },
      "execution_count": 2,
      "outputs": []
    },
    {
      "cell_type": "code",
      "source": [
        "print('훈련 샘플의 수: {}'.format(len(x_train)))\n",
        "print('테스트 샘플의 수: {}'.format(len(x_test)))"
      ],
      "metadata": {
        "colab": {
          "base_uri": "https://localhost:8080/"
        },
        "id": "vG8sCCOc4RJo",
        "outputId": "aece6508-d818-4169-b739-8d34afa38b5f"
      },
      "execution_count": 3,
      "outputs": [
        {
          "output_type": "stream",
          "name": "stdout",
          "text": [
            "훈련 샘플의 수: 8982\n",
            "테스트 샘플의 수: 2246\n"
          ]
        }
      ]
    },
    {
      "cell_type": "code",
      "source": [
        "print(x_train[0])\n",
        "print(x_test[0])"
      ],
      "metadata": {
        "colab": {
          "base_uri": "https://localhost:8080/"
        },
        "id": "SMB4TF3p-1f_",
        "outputId": "115068a3-9152-4a49-a6ca-f707e9c82a45"
      },
      "execution_count": 4,
      "outputs": [
        {
          "output_type": "stream",
          "name": "stdout",
          "text": [
            "[1, 2, 2, 8, 43, 10, 447, 5, 25, 207, 270, 5, 3095, 111, 16, 369, 186, 90, 67, 7, 89, 5, 19, 102, 6, 19, 124, 15, 90, 67, 84, 22, 482, 26, 7, 48, 4, 49, 8, 864, 39, 209, 154, 6, 151, 6, 83, 11, 15, 22, 155, 11, 15, 7, 48, 9, 4579, 1005, 504, 6, 258, 6, 272, 11, 15, 22, 134, 44, 11, 15, 16, 8, 197, 1245, 90, 67, 52, 29, 209, 30, 32, 132, 6, 109, 15, 17, 12]\n",
            "[1, 4, 1378, 2025, 9, 697, 4622, 111, 8, 25, 109, 29, 3650, 11, 150, 244, 364, 33, 30, 30, 1398, 333, 6, 2, 159, 9, 1084, 363, 13, 2, 71, 9, 2, 71, 117, 4, 225, 78, 206, 10, 9, 1214, 8, 4, 270, 5, 2, 7, 748, 48, 9, 2, 7, 207, 1451, 966, 1864, 793, 97, 133, 336, 7, 4, 493, 98, 273, 104, 284, 25, 39, 338, 22, 905, 220, 3465, 644, 59, 20, 6, 119, 61, 11, 15, 58, 579, 26, 10, 67, 7, 4, 738, 98, 43, 88, 333, 722, 12, 20, 6, 19, 746, 35, 15, 10, 9, 1214, 855, 129, 783, 21, 4, 2280, 244, 364, 51, 16, 299, 452, 16, 515, 4, 99, 29, 5, 4, 364, 281, 48, 10, 9, 1214, 23, 644, 47, 20, 324, 27, 56, 2, 2, 5, 192, 510, 17, 12]\n"
          ]
        }
      ]
    },
    {
      "cell_type": "code",
      "source": [
        "num_classes = max(y_train) + 1\n",
        "print('클래스의 수 : {}'.format(num_classes))"
      ],
      "metadata": {
        "colab": {
          "base_uri": "https://localhost:8080/"
        },
        "id": "YjyldxmkAG_h",
        "outputId": "4abc81a6-6adc-4f4f-9b78-7e85224576f6"
      },
      "execution_count": 5,
      "outputs": [
        {
          "output_type": "stream",
          "name": "stdout",
          "text": [
            "클래스의 수 : 46\n"
          ]
        }
      ]
    },
    {
      "cell_type": "markdown",
      "source": [
        "상위 만개 단어를 사용하는 데이터는 훈련 8982, 테스트 2246개의 데이터로 구성되고 46개의 클래스로 분류된다."
      ],
      "metadata": {
        "id": "t-uZIbRlC3i0"
      }
    },
    {
      "cell_type": "code",
      "source": [
        "print('훈련용 뉴스의 최대 길이 :{}'.format(max(len(l) for l in x_train)))\n",
        "print('훈련용 뉴스의 평균 길이 :{}'.format(sum(map(len, x_train))/len(x_train)))\n",
        "\n",
        "plt.hist([len(s) for s in x_train], bins=50)\n",
        "plt.xlabel('length of samples')\n",
        "plt.ylabel('number of samples')\n",
        "plt.show()"
      ],
      "metadata": {
        "colab": {
          "base_uri": "https://localhost:8080/",
          "height": 316
        },
        "id": "7p2Y6lc-AIlg",
        "outputId": "47d87659-2e70-4e6f-b78c-623765b351d0"
      },
      "execution_count": 6,
      "outputs": [
        {
          "output_type": "stream",
          "name": "stdout",
          "text": [
            "훈련용 뉴스의 최대 길이 :2376\n",
            "훈련용 뉴스의 평균 길이 :145.5398574927633\n"
          ]
        },
        {
          "output_type": "display_data",
          "data": {
            "text/plain": [
              "<Figure size 432x288 with 1 Axes>"
            ],
            "image/png": "[encoded data removed]"
          },
          "metadata": {
            "needs_background": "light"
          }
        }
      ]
    },
    {
      "cell_type": "markdown",
      "source": [
        "뉴스 길이 분포를 살펴보면 대부분은 0~200정도의 길이이고 500부터는 낮은 분포를 보입니다. 최대 길이 2376은 유독 길어보입니다."
      ],
      "metadata": {
        "id": "NwWXlgiDDGU5"
      }
    },
    {
      "cell_type": "code",
      "source": [
        "fig, axe = plt.subplots(ncols=1)\n",
        "fig.set_size_inches(11,5)\n",
        "sns.countplot(x=y_train)\n",
        "plt.show()"
      ],
      "metadata": {
        "colab": {
          "base_uri": "https://localhost:8080/",
          "height": 320
        },
        "id": "5tbGxWewAsIh",
        "outputId": "34dade14-ed68-414c-e10d-656eddaa7b1d"
      },
      "execution_count": 7,
      "outputs": [
        {
          "output_type": "display_data",
          "data": {
            "text/plain": [
              "<Figure size 792x360 with 1 Axes>"
            ],
            "image/png": "[encoded data removed]"
          },
          "metadata": {
            "needs_background": "light"
          }
        }
      ]
    },
    {
      "cell_type": "markdown",
      "source": [
        "클래스 분포를 살펴보면 3, 4번 클래스가 대부분을 차지하고 그 뒤로 1, 11, 16, 19번 등의 데이터에 높은 분포를 가집니다.  \n",
        "아래는 클래스 빈도수를 수치로 나타냅니다."
      ],
      "metadata": {
        "id": "7ycfCJhQDXBF"
      }
    },
    {
      "cell_type": "code",
      "source": [
        "unique_elements, counts_elements = np.unique(y_train, return_counts=True)\n",
        "print(\"각 클래스 빈도수:\")\n",
        "print(np.asarray((unique_elements, counts_elements)))"
      ],
      "metadata": {
        "colab": {
          "base_uri": "https://localhost:8080/"
        },
        "id": "6_d3S6djAtct",
        "outputId": "97eb00e1-31a2-4acc-b054-2f2646294b3f"
      },
      "execution_count": 8,
      "outputs": [
        {
          "output_type": "stream",
          "name": "stdout",
          "text": [
            "각 클래스 빈도수:\n",
            "[[   0    1    2    3    4    5    6    7    8    9   10   11   12   13\n",
            "    14   15   16   17   18   19   20   21   22   23   24   25   26   27\n",
            "    28   29   30   31   32   33   34   35   36   37   38   39   40   41\n",
            "    42   43   44   45]\n",
            " [  55  432   74 3159 1949   17   48   16  139  101  124  390   49  172\n",
            "    26   20  444   39   66  549  269  100   15   41   62   92   24   15\n",
            "    48   19   45   39   32   11   50   10   49   19   19   24   36   30\n",
            "    13   21   12   18]]\n"
          ]
        }
      ]
    },
    {
      "cell_type": "markdown",
      "source": [
        "이제 특별한 벡터화를 사용하기 위해서 인덱스로 구성된 뉴스 데이터를 단어로 변환해 줍니다."
      ],
      "metadata": {
        "id": "W3X-YmMMEWhA"
      }
    },
    {
      "cell_type": "code",
      "source": [
        "word_index = reuters.get_word_index(path=\"reuters_word_index.json\")\n",
        "index_to_word = { index+3 : word for word, index in word_index.items() }\n",
        "for index, token in enumerate((\"<pad>\", \"<sos>\", \"<unk>\")):\n",
        "  index_to_word[index]=token"
      ],
      "metadata": {
        "id": "DnF0g0mFCkyE"
      },
      "execution_count": 9,
      "outputs": []
    },
    {
      "cell_type": "code",
      "source": [
        "decoded = []\n",
        "for i in range(len(x_train)):\n",
        "    t = ' '.join([index_to_word[index] for index in x_train[i]])\n",
        "    decoded.append(t)\n",
        "\n",
        "x_train = decoded\n",
        "print(len(x_train))"
      ],
      "metadata": {
        "colab": {
          "base_uri": "https://localhost:8080/"
        },
        "id": "_DlrWJ2gCsos",
        "outputId": "0a3baa8e-99b6-4595-c107-c508708c86fc"
      },
      "execution_count": 10,
      "outputs": [
        {
          "output_type": "stream",
          "name": "stdout",
          "text": [
            "8982\n"
          ]
        }
      ]
    },
    {
      "cell_type": "code",
      "source": [
        "decoded = []\n",
        "for i in range(len(x_test)):\n",
        "    t = ' '.join([index_to_word[index] for index in x_test[i]])\n",
        "    decoded.append(t)\n",
        "\n",
        "x_test = decoded\n",
        "print(len(x_test))"
      ],
      "metadata": {
        "colab": {
          "base_uri": "https://localhost:8080/"
        },
        "id": "thYjlMUHCuiA",
        "outputId": "939ee0f2-89bf-42ae-c41e-a4c9b9e728e1"
      },
      "execution_count": 11,
      "outputs": [
        {
          "output_type": "stream",
          "name": "stdout",
          "text": [
            "2246\n"
          ]
        }
      ]
    },
    {
      "cell_type": "markdown",
      "source": [
        "성공적으로 변환된 데이터를 각각 DTM, TF-IDF 벡터화 시켜줍니다.  \n",
        "각각 행렬은 데이터 수 x 단어 수로 구성됩니다."
      ],
      "metadata": {
        "id": "usfwlw5uE1tA"
      }
    },
    {
      "cell_type": "code",
      "source": [
        "dtmvector = CountVectorizer()\n",
        "x_train_dtm = dtmvector.fit_transform(x_train)\n",
        "print(x_train_dtm.shape)"
      ],
      "metadata": {
        "colab": {
          "base_uri": "https://localhost:8080/"
        },
        "id": "UjQa3E9IRkKH",
        "outputId": "8458ad6b-ec66-45fa-8f78-44c5c1f8f4dc"
      },
      "execution_count": 12,
      "outputs": [
        {
          "output_type": "stream",
          "name": "stdout",
          "text": [
            "(8982, 9670)\n"
          ]
        }
      ]
    },
    {
      "cell_type": "code",
      "source": [
        "tfidf_transformer = TfidfTransformer()\n",
        "tfidfv = tfidf_transformer.fit_transform(x_train_dtm)\n",
        "print(tfidfv.shape)"
      ],
      "metadata": {
        "colab": {
          "base_uri": "https://localhost:8080/"
        },
        "id": "h5qqIRBTRnGv",
        "outputId": "63d1067a-8063-435f-867e-69f34d579d1f"
      },
      "execution_count": 13,
      "outputs": [
        {
          "output_type": "stream",
          "name": "stdout",
          "text": [
            "(8982, 9670)\n"
          ]
        }
      ]
    },
    {
      "cell_type": "code",
      "source": [
        "x_test_dtm = dtmvector.transform(x_test) #테스트 데이터를 DTM으로 변환\n",
        "tfidfv_test = tfidf_transformer.transform(x_test_dtm) #DTM을 TF-IDF 행렬로 변환"
      ],
      "metadata": {
        "id": "bXtAzx6gXAQx"
      },
      "execution_count": 14,
      "outputs": []
    },
    {
      "cell_type": "markdown",
      "source": [
        "## 2. 다양한 머신러닝 모델 학습"
      ],
      "metadata": {
        "id": "le6LhIWBKbke"
      }
    },
    {
      "cell_type": "code",
      "source": [
        "from sklearn.naive_bayes import MultinomialNB #다항분포 나이브 베이즈 모델\n",
        "from sklearn.linear_model import LogisticRegression, SGDClassifier\n",
        "from sklearn.naive_bayes import ComplementNB\n",
        "from sklearn.tree import DecisionTreeClassifier\n",
        "from sklearn.ensemble import RandomForestClassifier\n",
        "from sklearn.ensemble import GradientBoostingClassifier\n",
        "from sklearn.ensemble import VotingClassifier\n",
        "from sklearn.svm import LinearSVC\n",
        "from sklearn.metrics import accuracy_score #정확도 계산\n",
        "from sklearn.metrics import classification_report\n",
        "from sklearn.metrics import confusion_matrix"
      ],
      "metadata": {
        "id": "qN1PejB4SGqf"
      },
      "execution_count": 14,
      "outputs": []
    },
    {
      "cell_type": "markdown",
      "source": [
        "### 2.1 Multinomial Naive Bayes"
      ],
      "metadata": {
        "id": "14kQcXUMKfig"
      }
    },
    {
      "cell_type": "code",
      "source": [
        "model_NB = MultinomialNB()\n",
        "model_NB.fit(tfidfv, y_train)"
      ],
      "metadata": {
        "colab": {
          "base_uri": "https://localhost:8080/"
        },
        "id": "sKErY8LrUoyb",
        "outputId": "36a2d289-eec5-49d0-f22e-c71c787321d9"
      },
      "execution_count": 15,
      "outputs": [
        {
          "output_type": "execute_result",
          "data": {
            "text/plain": [
              "MultinomialNB()"
            ]
          },
          "metadata": {},
          "execution_count": 15
        }
      ]
    },
    {
      "cell_type": "code",
      "source": [
        "predicted = model_NB.predict(tfidfv_test) #테스트 데이터에 대한 예측\n",
        "print(\"정확도:\", accuracy_score(y_test, predicted)) #예측값과 실제값 비교"
      ],
      "metadata": {
        "colab": {
          "base_uri": "https://localhost:8080/"
        },
        "id": "r9tw8qaJUshI",
        "outputId": "37a235af-9c90-419b-c600-6169f4ccc9ba"
      },
      "execution_count": 16,
      "outputs": [
        {
          "output_type": "stream",
          "name": "stdout",
          "text": [
            "정확도: 0.6567230632235085\n"
          ]
        }
      ]
    },
    {
      "cell_type": "markdown",
      "source": [
        "정확도 65%가 나왔습니다.  \n"
      ],
      "metadata": {
        "id": "p5xXYanRNShl"
      }
    },
    {
      "cell_type": "markdown",
      "source": [
        "### 2.2 Complement Naive Bayes  \n",
        "Complement Naive Bayes는 데이터의 불균형을 고려하여 가중치를 부여하기 때문에 3번과 4번 클래스에 분포가 몰려있는 뉴스 데이터에서 더 좋은 성능을 기대할 수 있겠습니다. (일반적으로 성능이 더 좋음)"
      ],
      "metadata": {
        "id": "VwlNKwGjNt8Y"
      }
    },
    {
      "cell_type": "code",
      "source": [
        "cb = ComplementNB()\n",
        "cb.fit(tfidfv, y_train)"
      ],
      "metadata": {
        "colab": {
          "base_uri": "https://localhost:8080/"
        },
        "id": "91NIGKosb6dW",
        "outputId": "0b60f49b-fa63-455b-ce4c-6b1f921a03d1"
      },
      "execution_count": 17,
      "outputs": [
        {
          "output_type": "execute_result",
          "data": {
            "text/plain": [
              "ComplementNB()"
            ]
          },
          "metadata": {},
          "execution_count": 17
        }
      ]
    },
    {
      "cell_type": "code",
      "source": [
        "predicted = cb.predict(tfidfv_test) #테스트 데이터에 대한 예측\n",
        "print(\"정확도:\", accuracy_score(y_test, predicted)) #예측값과 실제값 비교"
      ],
      "metadata": {
        "colab": {
          "base_uri": "https://localhost:8080/"
        },
        "id": "zVr3ILjdb72_",
        "outputId": "a1975052-8a27-4465-e6d0-57f89b9f7891"
      },
      "execution_count": 18,
      "outputs": [
        {
          "output_type": "stream",
          "name": "stdout",
          "text": [
            "정확도: 0.7707034728406055\n"
          ]
        }
      ]
    },
    {
      "cell_type": "markdown",
      "source": [
        "65%보다 높은 77%가 나왔습니다."
      ],
      "metadata": {
        "id": "9uNkOza2PT5s"
      }
    },
    {
      "cell_type": "markdown",
      "source": [
        "### 2.3 Logistic Regression"
      ],
      "metadata": {
        "id": "AP6aonhyPWky"
      }
    },
    {
      "cell_type": "code",
      "source": [
        "lr = LogisticRegression(C=10000, penalty='l2', max_iter=3000)\n",
        "lr.fit(tfidfv, y_train)"
      ],
      "metadata": {
        "colab": {
          "base_uri": "https://localhost:8080/"
        },
        "id": "bGW4MPn3cBGg",
        "outputId": "4d02d153-f4fb-4c32-fbba-93a92fd557d7"
      },
      "execution_count": 19,
      "outputs": [
        {
          "output_type": "execute_result",
          "data": {
            "text/plain": [
              "LogisticRegression(C=10000, max_iter=3000)"
            ]
          },
          "metadata": {},
          "execution_count": 19
        }
      ]
    },
    {
      "cell_type": "code",
      "source": [
        "predicted = lr.predict(tfidfv_test) #테스트 데이터에 대한 예측\n",
        "print(\"정확도:\", accuracy_score(y_test, predicted)) #예측값과 실제값 비교"
      ],
      "metadata": {
        "colab": {
          "base_uri": "https://localhost:8080/"
        },
        "id": "GVfrfhPwcCXK",
        "outputId": "535fc7fd-454c-44d6-f8ff-be8d73451683"
      },
      "execution_count": 20,
      "outputs": [
        {
          "output_type": "stream",
          "name": "stdout",
          "text": [
            "정확도: 0.8107747105966162\n"
          ]
        }
      ]
    },
    {
      "cell_type": "markdown",
      "source": [
        "현재까지 가장 높은 81%가 나왔습니다."
      ],
      "metadata": {
        "id": "wIQvdmoSPajy"
      }
    },
    {
      "cell_type": "markdown",
      "source": [
        "### 2.4 Linear Support Vector Machine"
      ],
      "metadata": {
        "id": "KeEFZqiFPeBS"
      }
    },
    {
      "cell_type": "code",
      "source": [
        "lsvc = LinearSVC(C=1000, penalty='l1', max_iter=3000, dual=False)\n",
        "lsvc.fit(tfidfv, y_train)"
      ],
      "metadata": {
        "colab": {
          "base_uri": "https://localhost:8080/"
        },
        "id": "atTXOnO4dZtT",
        "outputId": "93260dbb-3df8-49a0-e7ed-5c836b4b04b6"
      },
      "execution_count": 21,
      "outputs": [
        {
          "output_type": "stream",
          "name": "stderr",
          "text": [
            "/usr/local/lib/python3.7/dist-packages/sklearn/svm/_base.py:1208: ConvergenceWarning: Liblinear failed to converge, increase the number of iterations.\n",
            "  ConvergenceWarning,\n"
          ]
        },
        {
          "output_type": "execute_result",
          "data": {
            "text/plain": [
              "LinearSVC(C=1000, dual=False, max_iter=3000, penalty='l1')"
            ]
          },
          "metadata": {},
          "execution_count": 21
        }
      ]
    },
    {
      "cell_type": "code",
      "source": [
        "predicted = lsvc.predict(tfidfv_test) #테스트 데이터에 대한 예측\n",
        "print(\"정확도:\", accuracy_score(y_test, predicted)) #예측값과 실제값 비교"
      ],
      "metadata": {
        "colab": {
          "base_uri": "https://localhost:8080/"
        },
        "id": "kz1efIGgdafq",
        "outputId": "381ea120-3f20-4799-cde6-6e60e815ab19"
      },
      "execution_count": 22,
      "outputs": [
        {
          "output_type": "stream",
          "name": "stdout",
          "text": [
            "정확도: 0.786286731967943\n"
          ]
        }
      ]
    },
    {
      "cell_type": "markdown",
      "source": [
        "78%입니다."
      ],
      "metadata": {
        "id": "6ECt5u4uPhqY"
      }
    },
    {
      "cell_type": "markdown",
      "source": [
        "### 2.5 Deicision Tree"
      ],
      "metadata": {
        "id": "ja1sY6M8Pi3W"
      }
    },
    {
      "cell_type": "code",
      "source": [
        "tree = DecisionTreeClassifier(max_depth=10, random_state=0)\n",
        "tree.fit(tfidfv, y_train)"
      ],
      "metadata": {
        "colab": {
          "base_uri": "https://localhost:8080/"
        },
        "id": "1WBqgNbndcRN",
        "outputId": "b4a97c41-b8a6-488c-a37c-8cb33d7da691"
      },
      "execution_count": 23,
      "outputs": [
        {
          "output_type": "execute_result",
          "data": {
            "text/plain": [
              "DecisionTreeClassifier(max_depth=10, random_state=0)"
            ]
          },
          "metadata": {},
          "execution_count": 23
        }
      ]
    },
    {
      "cell_type": "code",
      "source": [
        "predicted = tree.predict(tfidfv_test) #테스트 데이터에 대한 예측\n",
        "print(\"정확도:\", accuracy_score(y_test, predicted)) #예측값과 실제값 비교"
      ],
      "metadata": {
        "colab": {
          "base_uri": "https://localhost:8080/"
        },
        "id": "dNTcQ1xLdc_B",
        "outputId": "f02ad4be-25fd-4bf1-bbb1-9ba782c0b1a3"
      },
      "execution_count": 24,
      "outputs": [
        {
          "output_type": "stream",
          "name": "stdout",
          "text": [
            "정확도: 0.6202137132680321\n"
          ]
        }
      ]
    },
    {
      "cell_type": "markdown",
      "source": [
        "62%"
      ],
      "metadata": {
        "id": "Me0no0VXPmxM"
      }
    },
    {
      "cell_type": "markdown",
      "source": [
        "### 2.6 Random Forest"
      ],
      "metadata": {
        "id": "bJVcvvnZPoXz"
      }
    },
    {
      "cell_type": "code",
      "source": [
        "forest = RandomForestClassifier(n_estimators=5, random_state=0)\n",
        "forest.fit(tfidfv, y_train)"
      ],
      "metadata": {
        "colab": {
          "base_uri": "https://localhost:8080/"
        },
        "id": "urFwQskndexm",
        "outputId": "91d5ec41-3180-41fa-98cf-1aa5c3312b23"
      },
      "execution_count": 25,
      "outputs": [
        {
          "output_type": "execute_result",
          "data": {
            "text/plain": [
              "RandomForestClassifier(n_estimators=5, random_state=0)"
            ]
          },
          "metadata": {},
          "execution_count": 25
        }
      ]
    },
    {
      "cell_type": "code",
      "source": [
        "predicted = forest.predict(tfidfv_test) #테스트 데이터에 대한 예측\n",
        "print(\"정확도:\", accuracy_score(y_test, predicted)) #예측값과 실제값 비교"
      ],
      "metadata": {
        "colab": {
          "base_uri": "https://localhost:8080/"
        },
        "id": "XaF3_siBdfwO",
        "outputId": "a651e72c-e718-4b1e-f682-9cd754ef9bb9"
      },
      "execution_count": 26,
      "outputs": [
        {
          "output_type": "stream",
          "name": "stdout",
          "text": [
            "정확도: 0.674087266251113\n"
          ]
        }
      ]
    },
    {
      "cell_type": "markdown",
      "source": [
        "67%"
      ],
      "metadata": {
        "id": "JF3xOynTPreD"
      }
    },
    {
      "cell_type": "markdown",
      "source": [
        "### 2.7 Gradient Boosting Classifier  \n"
      ],
      "metadata": {
        "id": "rt_UGPerPsf5"
      }
    },
    {
      "cell_type": "code",
      "source": [
        "grbt = GradientBoostingClassifier(random_state=0) # verbose=3\n",
        "grbt.fit(tfidfv, y_train)"
      ],
      "metadata": {
        "colab": {
          "base_uri": "https://localhost:8080/"
        },
        "id": "-XzJyHwGdh1a",
        "outputId": "80be8f05-4dab-4717-eb32-d784d3a58b07"
      },
      "execution_count": 27,
      "outputs": [
        {
          "output_type": "execute_result",
          "data": {
            "text/plain": [
              "GradientBoostingClassifier(random_state=0)"
            ]
          },
          "metadata": {},
          "execution_count": 27
        }
      ]
    },
    {
      "cell_type": "code",
      "source": [
        "predicted = grbt.predict(tfidfv_test) #테스트 데이터에 대한 예측\n",
        "print(\"정확도:\", accuracy_score(y_test, predicted)) #예측값과 실제값 비교"
      ],
      "metadata": {
        "colab": {
          "base_uri": "https://localhost:8080/"
        },
        "id": "WTZ4TZtEdiie",
        "outputId": "6e888091-1ee5-427c-acb0-0f5690cc691e"
      },
      "execution_count": 28,
      "outputs": [
        {
          "output_type": "stream",
          "name": "stdout",
          "text": [
            "정확도: 0.7662511130899377\n"
          ]
        }
      ]
    },
    {
      "cell_type": "markdown",
      "source": [
        "76%"
      ],
      "metadata": {
        "id": "K8SBxF5nPx7I"
      }
    },
    {
      "cell_type": "markdown",
      "source": [
        "### 2.8 Voting  \n",
        "앞서 했던 머신러닝 모델중 효과가 좋았던 모델들을 Voting 기법으로 앙상블하여 사용해 봅시다."
      ],
      "metadata": {
        "id": "eIbJ8TvYPzUm"
      }
    },
    {
      "cell_type": "code",
      "source": [
        "voting_classifier = VotingClassifier(estimators=[\n",
        "         ('lr', LogisticRegression(C=10000, max_iter=3000, penalty='l2')),\n",
        "        ('cb', ComplementNB()),\n",
        "        ('grbt', GradientBoostingClassifier(random_state=0))\n",
        "], voting='soft')\n",
        "voting_classifier.fit(tfidfv, y_train)"
      ],
      "metadata": {
        "colab": {
          "base_uri": "https://localhost:8080/"
        },
        "id": "_BTKdUWLdo77",
        "outputId": "8e1a7683-0653-462b-8a71-9e1ea9478681"
      },
      "execution_count": 29,
      "outputs": [
        {
          "output_type": "execute_result",
          "data": {
            "text/plain": [
              "VotingClassifier(estimators=[('lr', LogisticRegression(C=10000, max_iter=3000)),\n",
              "                             ('cb', ComplementNB()),\n",
              "                             ('grbt',\n",
              "                              GradientBoostingClassifier(random_state=0))],\n",
              "                 voting='soft')"
            ]
          },
          "metadata": {},
          "execution_count": 29
        }
      ]
    },
    {
      "cell_type": "code",
      "source": [
        "predicted = voting_classifier.predict(tfidfv_test) #테스트 데이터에 대한 예측\n",
        "print(\"정확도:\", accuracy_score(y_test, predicted)) #예측값과 실제값 비교"
      ],
      "metadata": {
        "colab": {
          "base_uri": "https://localhost:8080/"
        },
        "id": "eZriTyRndpzt",
        "outputId": "99faae5b-ce27-4ee2-acce-27ca4f5bb6c5"
      },
      "execution_count": 30,
      "outputs": [
        {
          "output_type": "stream",
          "name": "stdout",
          "text": [
            "정확도: 0.8165627782724845\n"
          ]
        }
      ]
    },
    {
      "cell_type": "markdown",
      "source": [
        "가장 좋았던 로지스틱 회귀보다 0.6%정도 더 높게 나왔습니다."
      ],
      "metadata": {
        "id": "wEgmeel4QAUQ"
      }
    },
    {
      "cell_type": "markdown",
      "source": [
        "## 3. Vocabulary Size 변경"
      ],
      "metadata": {
        "id": "-Aj29zjfBGOP"
      }
    },
    {
      "cell_type": "markdown",
      "source": [
        "일단 단어장 크기만 바꿔서 쉽게 테스트하기 위해 다양한 머신러닝 모델로 테스트하는 과정을 클래스로 묶어주겠습니다."
      ],
      "metadata": {
        "id": "Hb0qy30nQnCI"
      }
    },
    {
      "cell_type": "code",
      "source": [
        "class TestSet:\n",
        "  def __init__(self, num_words=10000):\n",
        "\n",
        "    # Get Data\n",
        "    (self.x_train, self.y_train), (self.x_test, self.y_test) = reuters.load_data(num_words=num_words, test_split=0.2)\n",
        "\n",
        "    self.word_index = reuters.get_word_index(path=\"reuters_word_index.json\")\n",
        "    self.index_to_word = { index+3 : word for word, index in self.word_index.items() }\n",
        "    for index, token in enumerate((\"<pad>\", \"<sos>\", \"<unk>\")):\n",
        "      self.index_to_word[index]=token\n",
        "\n",
        "    decoded = []\n",
        "    for i in range(len(self.x_train)):\n",
        "      t = ' '.join([self.index_to_word[index] for index in self.x_train[i]])\n",
        "      decoded.append(t)\n",
        "\n",
        "    self.x_train = decoded\n",
        "\n",
        "    decoded = []\n",
        "    for i in range(len(self.x_test)):\n",
        "      t = ' '.join([self.index_to_word[index] for index in self.x_test[i]])\n",
        "      decoded.append(t)\n",
        "\n",
        "    self.x_test = decoded\n",
        "\n",
        "    dtmvector = CountVectorizer()\n",
        "    x_train_dtm = dtmvector.fit_transform(self.x_train)\n",
        "\n",
        "    tfidf_transformer = TfidfTransformer()\n",
        "    self.tfidfv = tfidf_transformer.fit_transform(x_train_dtm)\n",
        "    \n",
        "    x_test_dtm = dtmvector.transform(self.x_test)\n",
        "    self.tfidfv_test = tfidf_transformer.transform(x_test_dtm)\n",
        "\n",
        "    print('Train 데이터 크기 :', len(self.x_train))\n",
        "    print('Test 데이터 크기 :', len(self.x_test))\n",
        "    print('Train TF-IDF 크기 :', self.tfidfv.shape)\n",
        "    print('Test TF-IDF 크기 :', self.tfidfv_test.shape)\n",
        "\n",
        "  def nb(self):\n",
        "    model_NB = MultinomialNB()\n",
        "    model_NB.fit(self.tfidfv, self.y_train)\n",
        "\n",
        "    predicted = model_NB.predict(self.tfidfv_test)\n",
        "    print(\"Naive Bayes 정확도:\", accuracy_score(self.y_test, predicted))\n",
        "\n",
        "  def cnb(self):\n",
        "    model_CNB = ComplementNB()\n",
        "    model_CNB.fit(self.tfidfv, self.y_train)\n",
        "\n",
        "    predicted = model_CNB.predict(self.tfidfv_test)\n",
        "    print(\"Complement Naive Bayes 정확도:\", accuracy_score(self.y_test, predicted))\n",
        "\n",
        "  def lr(self):\n",
        "    model_LR = LogisticRegression(C=10000, penalty='l2', max_iter=3000)\n",
        "    model_LR.fit(self.tfidfv, self.y_train)\n",
        "\n",
        "    predicted = model_LR.predict(self.tfidfv_test)\n",
        "    print(\"Logsitc Regression 정확도:\", accuracy_score(self.y_test, predicted))\n",
        "\n",
        "  def lsvc(self):\n",
        "    model_LSVC = LinearSVC(C=1000, penalty='l1', max_iter=3000, dual=False)\n",
        "    model_LSVC.fit(self.tfidfv, self.y_train)\n",
        "\n",
        "    predicted = model_LSVC.predict(self.tfidfv_test)\n",
        "    print(\"Linear Support Vector Machine 정확도:\", accuracy_score(self.y_test, predicted))\n",
        "\n",
        "  def dt(self):\n",
        "    model_DT = DecisionTreeClassifier(max_depth=10, random_state=0)\n",
        "    model_DT.fit(self.tfidfv, self.y_train) \n",
        "    \n",
        "    predicted = model_DT.predict(self.tfidfv_test)\n",
        "    print(\"Decision Tree 정확도:\", accuracy_score(self.y_test, predicted))\n",
        "\n",
        "  def rf(self):\n",
        "    model_RF = RandomForestClassifier(n_estimators=5, random_state=0)\n",
        "    model_RF.fit(self.tfidfv, self.y_train)\n",
        "\n",
        "    predicted = model_RF.predict(self.tfidfv_test)\n",
        "    print(\"Random Forest 정확도:\", accuracy_score(self.y_test, predicted))\n",
        "\n",
        "  def grbt(self):\n",
        "    model_GRBT = GradientBoostingClassifier(random_state=0)\n",
        "    model_GRBT.fit(self.tfidfv, self.y_train)\n",
        "\n",
        "    predicted = model_GRBT.predict(self.tfidfv_test)\n",
        "    print(\"Gradient Boosting 정확도:\", accuracy_score(self.y_test, predicted))\n",
        "\n",
        "  def voting(self):\n",
        "    voting_classifier = VotingClassifier(estimators=[\n",
        "        ('lr', LogisticRegression(C=10000, max_iter=3000, penalty='l2')),\n",
        "        ('cb', ComplementNB()),\n",
        "        ('grbt', GradientBoostingClassifier(random_state=0))], voting='soft')\n",
        "    voting_classifier.fit(self.tfidfv, self.y_train)\n",
        "\n",
        "    predicted = voting_classifier.predict(self.tfidfv_test)\n",
        "    print(\"voting 정확도:\", accuracy_score(self.y_test, predicted))\n",
        "\n",
        "  def test_all(self, with_voting=False):\n",
        "    self.nb()\n",
        "    self.cnb()\n",
        "    self.lr()\n",
        "    self.lsvc()\n",
        "    self.dt()\n",
        "    self.rf()\n",
        "    self.grbt()\n",
        "    if with_voting == True: self.voting()"
      ],
      "metadata": {
        "id": "TM8Qz7qOwBD9"
      },
      "execution_count": 31,
      "outputs": []
    },
    {
      "cell_type": "markdown",
      "source": [
        "### 3.1 모든 단어 사용"
      ],
      "metadata": {
        "id": "b_RAbOxtQaH2"
      }
    },
    {
      "cell_type": "code",
      "source": [
        "voca_all = TestSet(None)"
      ],
      "metadata": {
        "colab": {
          "base_uri": "https://localhost:8080/"
        },
        "id": "8TqYsw76JdD_",
        "outputId": "4e07f8fb-5225-4bdb-c6cd-3ab960604c1b"
      },
      "execution_count": 32,
      "outputs": [
        {
          "output_type": "stream",
          "name": "stdout",
          "text": [
            "Train 데이터 크기 : 8982\n",
            "Test 데이터 크기 : 2246\n",
            "Train TF-IDF 크기 : (8982, 26506)\n",
            "Test TF-IDF 크기 : (2246, 26506)\n"
          ]
        }
      ]
    },
    {
      "cell_type": "code",
      "source": [
        "voca_all.test_all(True)"
      ],
      "metadata": {
        "colab": {
          "base_uri": "https://localhost:8080/"
        },
        "id": "gK9e1IArJmVP",
        "outputId": "95315ed9-7e29-4346-ab09-aa23a2161df2"
      },
      "execution_count": 33,
      "outputs": [
        {
          "output_type": "stream",
          "name": "stdout",
          "text": [
            "Naive Bayes 정확도: 0.5997328584149599\n",
            "Complement Naive Bayes 정확도: 0.7649154051647373\n",
            "Logsitc Regression 정확도: 0.8170080142475512\n"
          ]
        },
        {
          "output_type": "stream",
          "name": "stderr",
          "text": [
            "/usr/local/lib/python3.7/dist-packages/sklearn/svm/_base.py:1208: ConvergenceWarning: Liblinear failed to converge, increase the number of iterations.\n",
            "  ConvergenceWarning,\n"
          ]
        },
        {
          "output_type": "stream",
          "name": "stdout",
          "text": [
            "Linear Support Vector Machine 정확도: 0.794746215494212\n",
            "Decision Tree 정확도: 0.6211041852181657\n",
            "Random Forest 정확도: 0.6544968833481746\n",
            "Gradient Boosting 정확도: 0.7702582368655387\n",
            "voting 정확도: 0.8156723063223509\n"
          ]
        }
      ]
    },
    {
      "cell_type": "markdown",
      "source": [
        "### 3.2 5000개 단어 사용"
      ],
      "metadata": {
        "id": "R3aE51_vJx4X"
      }
    },
    {
      "cell_type": "code",
      "source": [
        "voca_5000 = TestSet(5000)"
      ],
      "metadata": {
        "colab": {
          "base_uri": "https://localhost:8080/"
        },
        "id": "GC88u0yYJ5rV",
        "outputId": "76d1abf9-2a96-4669-8b1e-a875d150e0a3"
      },
      "execution_count": 34,
      "outputs": [
        {
          "output_type": "stream",
          "name": "stdout",
          "text": [
            "Train 데이터 크기 : 8982\n",
            "Test 데이터 크기 : 2246\n",
            "Train TF-IDF 크기 : (8982, 4867)\n",
            "Test TF-IDF 크기 : (2246, 4867)\n"
          ]
        }
      ]
    },
    {
      "cell_type": "code",
      "source": [
        "voca_5000.test_all(True)"
      ],
      "metadata": {
        "colab": {
          "base_uri": "https://localhost:8080/"
        },
        "id": "Bl8oJZenJ8bJ",
        "outputId": "4adad8bc-ab07-40f9-e566-f21d0e10263c"
      },
      "execution_count": 35,
      "outputs": [
        {
          "output_type": "stream",
          "name": "stdout",
          "text": [
            "Naive Bayes 정확도: 0.6731967943009796\n",
            "Complement Naive Bayes 정확도: 0.7707034728406055\n",
            "Logsitc Regression 정확도: 0.8036509349955476\n"
          ]
        },
        {
          "output_type": "stream",
          "name": "stderr",
          "text": [
            "/usr/local/lib/python3.7/dist-packages/sklearn/svm/_base.py:1208: ConvergenceWarning: Liblinear failed to converge, increase the number of iterations.\n",
            "  ConvergenceWarning,\n"
          ]
        },
        {
          "output_type": "stream",
          "name": "stdout",
          "text": [
            "Linear Support Vector Machine 정확도: 0.7782724844167409\n",
            "Decision Tree 정확도: 0.6179875333926982\n",
            "Random Forest 정확도: 0.701246660730187\n",
            "Gradient Boosting 정확도: 0.767586821015138\n",
            "voting 정확도: 0.8103294746215495\n"
          ]
        }
      ]
    },
    {
      "cell_type": "markdown",
      "source": [
        "| **Model**                         | **5000** | **10000** | **ALL** |\n",
        "|-----------------------------------|----------|-----------|---------|\n",
        "| **Naive Bayes**                   | 67.31%   | 65.67%    | 59.97%  |\n",
        "| **Complement Naive Bayes**        | 77.07%   | 77.07%    | 76.49%  |\n",
        "| **Logistic Regression**           | 80.36%   | 81.07%    | 81.70%  |\n",
        "| **Linear Support Vector Machine** | 77.82%   | 78.62%    | 79.20%  |\n",
        "| **Decision Tree**                 | 61.79%   | 62.02%    | 62.11%  |\n",
        "| **Random Forest**                 | 70.12%   | 67.40%    | 65.44%  |\n",
        "| **Gradient Boosting**             | 76.75%   | 76.62%    | 77.02%  |\n",
        "| **Soft Voting**                   | 81.03%   | 81.65%    | 81.56%  |"
      ],
      "metadata": {
        "id": "IlBJVIxGw3LF"
      }
    },
    {
      "cell_type": "markdown",
      "source": [
        "전체적으로 봤을때 Logstic Regression, Linear SVM, Decision Tree는 단어 수가 많을수록 정확도가 높아지지만 그렇지 않은 모델들도 보입니다.  \n",
        "성능이 좋아진 두 모델의 특징은 선형 모델이라는 점인데 선형 모델은 특성이 많은 데이터셋을 분류할 때 더 좋은 성능을 보인다는 것인데 단어 수가 늘어난 것이 그 부분에서 좋게 작용된 것이 아닌가 생각됩니다."
      ],
      "metadata": {
        "id": "5kHYBnNO6KNL"
      }
    },
    {
      "cell_type": "markdown",
      "source": [
        "## 4. 딥러닝 모델 테스트  \n",
        "이번에는 딥러닝 모델을 적용했을 떄 잘 동작하는지 확인해 보겠습니다.\n",
        "간단한 RNN 모델과 1-CNN 모델을 테스트해보겠습니다."
      ],
      "metadata": {
        "id": "TQJwehMC8Kkb"
      }
    },
    {
      "cell_type": "markdown",
      "source": [
        "### 4.1 RNN 모델"
      ],
      "metadata": {
        "id": "6IEYDDpiLEQl"
      }
    },
    {
      "cell_type": "code",
      "source": [
        "import tensorflow as tf\n",
        "from tensorflow.keras.initializers import Constant\n",
        "\n",
        "vocab_size = 10000\n",
        "word_vector_dim = 128\n",
        "embedding_matrix = np.random.rand(vocab_size, word_vector_dim)\n",
        "\n",
        "model = tf.keras.Sequential()\n",
        "model.add(tf.keras.layers.Embedding(vocab_size, \n",
        "                                 word_vector_dim))\n",
        "model.add(tf.keras.layers.LSTM(32))\n",
        "model.add(tf.keras.layers.Dense(46, activation='softmax'))\n",
        "\n",
        "model.summary()"
      ],
      "metadata": {
        "colab": {
          "base_uri": "https://localhost:8080/"
        },
        "id": "gWx7tP4Q-PeY",
        "outputId": "ad18e529-373d-4bab-87e5-105f5037940b"
      },
      "execution_count": 15,
      "outputs": [
        {
          "output_type": "stream",
          "name": "stdout",
          "text": [
            "Model: \"sequential\"\n",
            "_________________________________________________________________\n",
            " Layer (type)                Output Shape              Param #   \n",
            "=================================================================\n",
            " embedding (Embedding)       (None, None, 128)         1280000   \n",
            "                                                                 \n",
            " lstm (LSTM)                 (None, 32)                20608     \n",
            "                                                                 \n",
            " dense (Dense)               (None, 46)                1518      \n",
            "                                                                 \n",
            "=================================================================\n",
            "Total params: 1,302,126\n",
            "Trainable params: 1,302,126\n",
            "Non-trainable params: 0\n",
            "_________________________________________________________________\n"
          ]
        }
      ]
    },
    {
      "cell_type": "code",
      "source": [
        "tfidfv_arr = tfidfv.toarray()\n",
        "tfidfv_test_arr = tfidfv_test.toarray()"
      ],
      "metadata": {
        "id": "KCHF-5CHAhBy"
      },
      "execution_count": 18,
      "outputs": []
    },
    {
      "cell_type": "code",
      "source": [
        "model.compile(optimizer='adam',\n",
        "              loss='sparse_categorical_crossentropy',\n",
        "              metrics=['accuracy'])\n",
        "              \n",
        "epochs=10\n",
        "\n",
        "history1 = model.fit(tfidfv_arr,\n",
        "                      y_train,\n",
        "                      epochs=epochs,\n",
        "                      batch_size=256,\n",
        "                      validation_split=0.2,\n",
        "                      verbose=1)"
      ],
      "metadata": {
        "colab": {
          "base_uri": "https://localhost:8080/"
        },
        "id": "PPUstEz0-zRS",
        "outputId": "76614cf5-2b1b-4084-cc79-e6ae8ae2cbcd"
      },
      "execution_count": 19,
      "outputs": [
        {
          "output_type": "stream",
          "name": "stdout",
          "text": [
            "Epoch 1/10\n",
            "29/29 [==============================] - 17s 445ms/step - loss: 3.3477 - accuracy: 0.3113 - val_loss: 2.6986 - val_accuracy: 0.3450\n",
            "Epoch 2/10\n",
            "29/29 [==============================] - 12s 428ms/step - loss: 2.5095 - accuracy: 0.3534 - val_loss: 2.4210 - val_accuracy: 0.3450\n",
            "Epoch 3/10\n",
            "29/29 [==============================] - 12s 432ms/step - loss: 2.4176 - accuracy: 0.3534 - val_loss: 2.4101 - val_accuracy: 0.3450\n",
            "Epoch 4/10\n",
            "29/29 [==============================] - 13s 436ms/step - loss: 2.4072 - accuracy: 0.3534 - val_loss: 2.4061 - val_accuracy: 0.3450\n",
            "Epoch 5/10\n",
            "29/29 [==============================] - 13s 436ms/step - loss: 2.4049 - accuracy: 0.3534 - val_loss: 2.4059 - val_accuracy: 0.3450\n",
            "Epoch 6/10\n",
            "29/29 [==============================] - 13s 440ms/step - loss: 2.4038 - accuracy: 0.3534 - val_loss: 2.4052 - val_accuracy: 0.3450\n",
            "Epoch 7/10\n",
            "29/29 [==============================] - 13s 442ms/step - loss: 2.4042 - accuracy: 0.3534 - val_loss: 2.4066 - val_accuracy: 0.3450\n",
            "Epoch 8/10\n",
            "29/29 [==============================] - 13s 461ms/step - loss: 2.4043 - accuracy: 0.3534 - val_loss: 2.4073 - val_accuracy: 0.3450\n",
            "Epoch 9/10\n",
            "29/29 [==============================] - 13s 443ms/step - loss: 2.4040 - accuracy: 0.3534 - val_loss: 2.4071 - val_accuracy: 0.3450\n",
            "Epoch 10/10\n",
            "29/29 [==============================] - 13s 443ms/step - loss: 2.4039 - accuracy: 0.3534 - val_loss: 2.4059 - val_accuracy: 0.3450\n"
          ]
        }
      ]
    },
    {
      "cell_type": "markdown",
      "source": [
        "### 4.2 1-D CNN 모델"
      ],
      "metadata": {
        "id": "lyZuIPSeLIaa"
      }
    },
    {
      "cell_type": "code",
      "source": [
        "model2 = tf.keras.Sequential()\n",
        "model2.add(tf.keras.layers.Embedding(vocab_size, word_vector_dim, input_shape=(None,)))\n",
        "model2.add(tf.keras.layers.Conv1D(16, 7, activation='relu'))\n",
        "model2.add(tf.keras.layers.MaxPooling1D(5))\n",
        "model2.add(tf.keras.layers.Conv1D(16, 7, activation='relu'))\n",
        "model2.add(tf.keras.layers.GlobalMaxPooling1D())\n",
        "model2.add(tf.keras.layers.Dense(8, activation='relu'))\n",
        "model2.add(tf.keras.layers.Dense(46, activation='sigmoid'))\n",
        "\n",
        "model2.summary()"
      ],
      "metadata": {
        "colab": {
          "base_uri": "https://localhost:8080/"
        },
        "id": "FqnML8BjFsbD",
        "outputId": "7fab15ce-5cf7-49a9-aad8-5acef4bd1baa"
      },
      "execution_count": 20,
      "outputs": [
        {
          "output_type": "stream",
          "name": "stdout",
          "text": [
            "Model: \"sequential_1\"\n",
            "_________________________________________________________________\n",
            " Layer (type)                Output Shape              Param #   \n",
            "=================================================================\n",
            " embedding_1 (Embedding)     (None, None, 128)         1237760   \n",
            "                                                                 \n",
            " conv1d (Conv1D)             (None, None, 16)          14352     \n",
            "                                                                 \n",
            " max_pooling1d (MaxPooling1D  (None, None, 16)         0         \n",
            " )                                                               \n",
            "                                                                 \n",
            " conv1d_1 (Conv1D)           (None, None, 16)          1808      \n",
            "                                                                 \n",
            " global_max_pooling1d (Globa  (None, 16)               0         \n",
            " lMaxPooling1D)                                                  \n",
            "                                                                 \n",
            " dense_1 (Dense)             (None, 8)                 136       \n",
            "                                                                 \n",
            " dense_2 (Dense)             (None, 46)                414       \n",
            "                                                                 \n",
            "=================================================================\n",
            "Total params: 1,254,470\n",
            "Trainable params: 1,254,470\n",
            "Non-trainable params: 0\n",
            "_________________________________________________________________\n"
          ]
        }
      ]
    },
    {
      "cell_type": "code",
      "source": [
        "model2.compile(optimizer='adam',\n",
        "              loss='sparse_categorical_crossentropy',\n",
        "              metrics=['accuracy'])\n",
        "              \n",
        "epochs=30\n",
        "\n",
        "history2 = model2.fit(tfidfv_arr,\n",
        "                      y_train,\n",
        "                      epochs=epochs,\n",
        "                      batch_size=256,\n",
        "                      validation_split=0.2,\n",
        "                      verbose=1)"
      ],
      "metadata": {
        "colab": {
          "base_uri": "https://localhost:8080/"
        },
        "id": "B5fRrLChGFY6",
        "outputId": "75a92bb7-87c1-4ef1-be3c-548435206be3"
      },
      "execution_count": 21,
      "outputs": [
        {
          "output_type": "stream",
          "name": "stdout",
          "text": [
            "Epoch 1/30\n",
            "29/29 [==============================] - 18s 219ms/step - loss: 3.8080 - accuracy: 0.3276 - val_loss: 3.7819 - val_accuracy: 0.3450\n",
            "Epoch 2/30\n",
            "29/29 [==============================] - 6s 204ms/step - loss: 3.7542 - accuracy: 0.3534 - val_loss: 3.7175 - val_accuracy: 0.3450\n",
            "Epoch 3/30\n",
            "29/29 [==============================] - 6s 211ms/step - loss: 3.6760 - accuracy: 0.3534 - val_loss: 3.6218 - val_accuracy: 0.3450\n",
            "Epoch 4/30\n",
            "29/29 [==============================] - 6s 205ms/step - loss: 3.5602 - accuracy: 0.3534 - val_loss: 3.4779 - val_accuracy: 0.3450\n",
            "Epoch 5/30\n",
            "29/29 [==============================] - 6s 205ms/step - loss: 3.3911 - accuracy: 0.3534 - val_loss: 3.2786 - val_accuracy: 0.3450\n",
            "Epoch 6/30\n",
            "29/29 [==============================] - 6s 207ms/step - loss: 3.1734 - accuracy: 0.3534 - val_loss: 3.0399 - val_accuracy: 0.3450\n",
            "Epoch 7/30\n",
            "29/29 [==============================] - 6s 207ms/step - loss: 2.9309 - accuracy: 0.3534 - val_loss: 2.7985 - val_accuracy: 0.3450\n",
            "Epoch 8/30\n",
            "29/29 [==============================] - 6s 208ms/step - loss: 2.7081 - accuracy: 0.3534 - val_loss: 2.6030 - val_accuracy: 0.3450\n",
            "Epoch 9/30\n",
            "29/29 [==============================] - 6s 208ms/step - loss: 2.5457 - accuracy: 0.3534 - val_loss: 2.4841 - val_accuracy: 0.3450\n",
            "Epoch 10/30\n",
            "29/29 [==============================] - 6s 209ms/step - loss: 2.4619 - accuracy: 0.3534 - val_loss: 2.4358 - val_accuracy: 0.3450\n",
            "Epoch 11/30\n",
            "29/29 [==============================] - 6s 210ms/step - loss: 2.4298 - accuracy: 0.3534 - val_loss: 2.4207 - val_accuracy: 0.3450\n",
            "Epoch 12/30\n",
            "29/29 [==============================] - 6s 211ms/step - loss: 2.4198 - accuracy: 0.3534 - val_loss: 2.4152 - val_accuracy: 0.3450\n",
            "Epoch 13/30\n",
            "29/29 [==============================] - 6s 213ms/step - loss: 2.4148 - accuracy: 0.3534 - val_loss: 2.4122 - val_accuracy: 0.3450\n",
            "Epoch 14/30\n",
            "29/29 [==============================] - 6s 213ms/step - loss: 2.4119 - accuracy: 0.3534 - val_loss: 2.4101 - val_accuracy: 0.3450\n",
            "Epoch 15/30\n",
            "29/29 [==============================] - 6s 214ms/step - loss: 2.4096 - accuracy: 0.3534 - val_loss: 2.4087 - val_accuracy: 0.3450\n",
            "Epoch 16/30\n",
            "29/29 [==============================] - 6s 214ms/step - loss: 2.4078 - accuracy: 0.3534 - val_loss: 2.4074 - val_accuracy: 0.3450\n",
            "Epoch 17/30\n",
            "29/29 [==============================] - 6s 215ms/step - loss: 2.4067 - accuracy: 0.3534 - val_loss: 2.4070 - val_accuracy: 0.3450\n",
            "Epoch 18/30\n",
            "29/29 [==============================] - 6s 216ms/step - loss: 2.4056 - accuracy: 0.3534 - val_loss: 2.4061 - val_accuracy: 0.3450\n",
            "Epoch 19/30\n",
            "29/29 [==============================] - 6s 219ms/step - loss: 2.4049 - accuracy: 0.3534 - val_loss: 2.4061 - val_accuracy: 0.3450\n",
            "Epoch 20/30\n",
            "29/29 [==============================] - 6s 218ms/step - loss: 2.4044 - accuracy: 0.3534 - val_loss: 2.4059 - val_accuracy: 0.3450\n",
            "Epoch 21/30\n",
            "29/29 [==============================] - 6s 220ms/step - loss: 2.4039 - accuracy: 0.3534 - val_loss: 2.4053 - val_accuracy: 0.3450\n",
            "Epoch 22/30\n",
            "29/29 [==============================] - 6s 220ms/step - loss: 2.4036 - accuracy: 0.3534 - val_loss: 2.4049 - val_accuracy: 0.3450\n",
            "Epoch 23/30\n",
            "29/29 [==============================] - 6s 221ms/step - loss: 2.4031 - accuracy: 0.3534 - val_loss: 2.4050 - val_accuracy: 0.3450\n",
            "Epoch 24/30\n",
            "29/29 [==============================] - 6s 221ms/step - loss: 2.4028 - accuracy: 0.3534 - val_loss: 2.4050 - val_accuracy: 0.3450\n",
            "Epoch 25/30\n",
            "29/29 [==============================] - 7s 227ms/step - loss: 2.4027 - accuracy: 0.3534 - val_loss: 2.4051 - val_accuracy: 0.3450\n",
            "Epoch 26/30\n",
            "29/29 [==============================] - 6s 221ms/step - loss: 2.4026 - accuracy: 0.3534 - val_loss: 2.4050 - val_accuracy: 0.3450\n",
            "Epoch 27/30\n",
            "29/29 [==============================] - 6s 221ms/step - loss: 2.4024 - accuracy: 0.3534 - val_loss: 2.4049 - val_accuracy: 0.3450\n",
            "Epoch 28/30\n",
            "29/29 [==============================] - 6s 221ms/step - loss: 2.4022 - accuracy: 0.3534 - val_loss: 2.4054 - val_accuracy: 0.3450\n",
            "Epoch 29/30\n",
            "29/29 [==============================] - 6s 221ms/step - loss: 2.4021 - accuracy: 0.3534 - val_loss: 2.4054 - val_accuracy: 0.3450\n",
            "Epoch 30/30\n",
            "29/29 [==============================] - 6s 221ms/step - loss: 2.4020 - accuracy: 0.3534 - val_loss: 2.4056 - val_accuracy: 0.3450\n"
          ]
        }
      ]
    },
    {
      "cell_type": "markdown",
      "source": [
        "LSTM을 사용한 RNN 모델과 1-D CNN 모델을 모두 사용해본 결과 val_loss가 2.4에 수렴해서 더이상 줄어들지 않는다.  \n",
        "왜그럴까 생각해봤는데 기존에 학습시키던 일정 길이의 단어장 데이터가 아닌 tf-idf vector를 그대로 학습시켜서 그런게 아닌가 싶다.  \n",
        "그때문인지 일반적인 Dense Layer만 쌓은 모델이 더 좋은 성능을 보인다."
      ],
      "metadata": {
        "id": "w6rOJzawYzZ8"
      }
    },
    {
      "cell_type": "code",
      "source": [
        "model3 = tf.keras.Sequential()\n",
        "model3.add(tf.keras.layers.Dense(32, activation='relu', input_shape=(tfidfv_arr.shape[1],)))  \n",
        "model3.add(tf.keras.layers.Dense(32, activation='relu')) \n",
        "model3.add(tf.keras.layers.Dense(64, activation='relu')) \n",
        "model3.add(tf.keras.layers.Dense(128, activation='relu'))  \n",
        "model3.add(tf.keras.layers.Dense(46, activation='softmax'))  \n",
        "\n",
        "model3.summary()"
      ],
      "metadata": {
        "colab": {
          "base_uri": "https://localhost:8080/"
        },
        "id": "_v5WFFTqHqfD",
        "outputId": "296c3160-dafe-45d0-ca39-4af3f99d518c"
      },
      "execution_count": 22,
      "outputs": [
        {
          "output_type": "stream",
          "name": "stdout",
          "text": [
            "Model: \"sequential_5\"\n",
            "_________________________________________________________________\n",
            " Layer (type)                Output Shape              Param #   \n",
            "=================================================================\n",
            " dense_6 (Dense)             (None, 32)                309472    \n",
            "                                                                 \n",
            " dense_7 (Dense)             (None, 32)                1056      \n",
            "                                                                 \n",
            " dense_8 (Dense)             (None, 64)                2112      \n",
            "                                                                 \n",
            " dense_9 (Dense)             (None, 128)               8320      \n",
            "                                                                 \n",
            " dense_10 (Dense)            (None, 46)                5934      \n",
            "                                                                 \n",
            "=================================================================\n",
            "Total params: 326,894\n",
            "Trainable params: 326,894\n",
            "Non-trainable params: 0\n",
            "_________________________________________________________________\n"
          ]
        }
      ]
    },
    {
      "cell_type": "code",
      "source": [
        "model3.compile(optimizer='adam',\n",
        "              loss='sparse_categorical_crossentropy',\n",
        "              metrics=['accuracy'])\n",
        "              \n",
        "epochs=10\n",
        "\n",
        "history3 = model3.fit(tfidfv_arr,\n",
        "                      y_train,\n",
        "                      epochs=epochs,\n",
        "                      batch_size=64,\n",
        "                      validation_split=0.2,\n",
        "                      verbose=1)"
      ],
      "metadata": {
        "colab": {
          "base_uri": "https://localhost:8080/"
        },
        "id": "0-H8uSd_H3lD",
        "outputId": "20efd41b-960b-4750-c4c5-35e82a349f51"
      },
      "execution_count": 23,
      "outputs": [
        {
          "output_type": "stream",
          "name": "stdout",
          "text": [
            "Epoch 1/10\n",
            "113/113 [==============================] - 1s 6ms/step - loss: 2.4690 - accuracy: 0.3960 - val_loss: 1.7189 - val_accuracy: 0.5259\n",
            "Epoch 2/10\n",
            "113/113 [==============================] - 1s 5ms/step - loss: 1.4742 - accuracy: 0.6113 - val_loss: 1.3072 - val_accuracy: 0.6895\n",
            "Epoch 3/10\n",
            "113/113 [==============================] - 1s 5ms/step - loss: 0.9883 - accuracy: 0.7588 - val_loss: 1.1240 - val_accuracy: 0.7318\n",
            "Epoch 4/10\n",
            "113/113 [==============================] - 1s 5ms/step - loss: 0.6745 - accuracy: 0.8312 - val_loss: 1.1032 - val_accuracy: 0.7518\n",
            "Epoch 5/10\n",
            "113/113 [==============================] - 1s 5ms/step - loss: 0.4802 - accuracy: 0.8743 - val_loss: 1.1642 - val_accuracy: 0.7440\n",
            "Epoch 6/10\n",
            "113/113 [==============================] - 1s 5ms/step - loss: 0.3662 - accuracy: 0.9055 - val_loss: 1.2528 - val_accuracy: 0.7535\n",
            "Epoch 7/10\n",
            "113/113 [==============================] - 1s 5ms/step - loss: 0.2856 - accuracy: 0.9294 - val_loss: 1.2880 - val_accuracy: 0.7635\n",
            "Epoch 8/10\n",
            "113/113 [==============================] - 1s 5ms/step - loss: 0.2261 - accuracy: 0.9471 - val_loss: 1.4017 - val_accuracy: 0.7479\n",
            "Epoch 9/10\n",
            "113/113 [==============================] - 1s 5ms/step - loss: 0.1964 - accuracy: 0.9499 - val_loss: 1.3972 - val_accuracy: 0.7568\n",
            "Epoch 10/10\n",
            "113/113 [==============================] - 1s 5ms/step - loss: 0.1713 - accuracy: 0.9553 - val_loss: 1.4999 - val_accuracy: 0.7496\n"
          ]
        }
      ]
    },
    {
      "cell_type": "markdown",
      "source": [
        "## 5. 회고\n",
        "- 코랩 계속 런타임이 끊겨서 처음부터 계속 실행했었는데 너무 오래걸리고 짜증나서 그냥 필요한 부분만 돌리면서 했다. 하... 스트레스...\n",
        "- 같은 전처리를 사용하라고 해서 tf-idf vector 그대로 학습시켰는데 다른 형태로 가공해서 사용하면 rnn이나 1-d cnn도 좋은 성능을 보이지 않을까 싶다"
      ],
      "metadata": {
        "id": "vDKZyo9vaukv"
      }
    }
  ]
}